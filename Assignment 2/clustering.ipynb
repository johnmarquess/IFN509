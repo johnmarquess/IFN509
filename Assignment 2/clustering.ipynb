{
 "cells": [
  {
   "cell_type": "code",
   "id": "initial_id",
   "metadata": {
    "collapsed": true,
    "ExecuteTime": {
     "end_time": "2024-09-26T03:52:27.862443Z",
     "start_time": "2024-09-26T03:52:27.858324Z"
    }
   },
   "source": [
    "import pandas as pd\n",
    "import seaborn as sns\n",
    "import numpy as np\n",
    "import matplotlib.pyplot as plt"
   ],
   "outputs": [],
   "execution_count": 60
  },
  {
   "metadata": {
    "ExecuteTime": {
     "end_time": "2024-09-26T03:52:28.222613Z",
     "start_time": "2024-09-26T03:52:28.169794Z"
    }
   },
   "cell_type": "code",
   "source": "d2 = pd.read_csv('data/D2.csv')",
   "id": "6e4b219e831c8f7a",
   "outputs": [],
   "execution_count": 61
  },
  {
   "metadata": {
    "ExecuteTime": {
     "end_time": "2024-09-26T03:52:28.595413Z",
     "start_time": "2024-09-26T03:52:28.581777Z"
    }
   },
   "cell_type": "code",
   "source": "d2.head()",
   "id": "bf9fe4e9150c25a3",
   "outputs": [
    {
     "data": {
      "text/plain": [
       "              race  gender      age  admission_type_id  \\\n",
       "0  AfricanAmerican  Female  [80-90)                  1   \n",
       "1        Caucasian  Female  [70-80)                  1   \n",
       "2        Caucasian  Female  [50-60)                  3   \n",
       "3  AfricanAmerican  Female  [50-60)                  1   \n",
       "4  AfricanAmerican    Male  [80-90)                  1   \n",
       "\n",
       "   discharge_disposition_id  admission_source_id  time_in_hospital  \\\n",
       "0                         3                    7                 1   \n",
       "1                         3                    5                 3   \n",
       "2                         1                    1                 3   \n",
       "3                         1                    7                 6   \n",
       "4                         3                    7                 4   \n",
       "\n",
       "  medical_specialty  num_lab_procedures  num_procedures  ...  chlorpropamide  \\\n",
       "0           Invalid                  33               0  ...              No   \n",
       "1           Invalid                  48               2  ...              No   \n",
       "2       Orthopedics                  25               1  ...              No   \n",
       "3           Invalid                  41               0  ...              No   \n",
       "4           Invalid                  22               0  ...              No   \n",
       "\n",
       "   glimepiride  acetohexamide  glipizide  glyburide tolbutamide insulin  \\\n",
       "0           No             No         No         No          No  Steady   \n",
       "1           No             No         No         No          No  Steady   \n",
       "2           No             No         No         No          No  Steady   \n",
       "3           No             No         No         No          No  Steady   \n",
       "4           No             No         No         No          No  Steady   \n",
       "\n",
       "  change diabetesMed readmitted  \n",
       "0  False        True          1  \n",
       "1  False        True          1  \n",
       "2  False        True          0  \n",
       "3  False        True          1  \n",
       "4  False        True          1  \n",
       "\n",
       "[5 rows x 30 columns]"
      ],
      "text/html": [
       "<div>\n",
       "<style scoped>\n",
       "    .dataframe tbody tr th:only-of-type {\n",
       "        vertical-align: middle;\n",
       "    }\n",
       "\n",
       "    .dataframe tbody tr th {\n",
       "        vertical-align: top;\n",
       "    }\n",
       "\n",
       "    .dataframe thead th {\n",
       "        text-align: right;\n",
       "    }\n",
       "</style>\n",
       "<table border=\"1\" class=\"dataframe\">\n",
       "  <thead>\n",
       "    <tr style=\"text-align: right;\">\n",
       "      <th></th>\n",
       "      <th>race</th>\n",
       "      <th>gender</th>\n",
       "      <th>age</th>\n",
       "      <th>admission_type_id</th>\n",
       "      <th>discharge_disposition_id</th>\n",
       "      <th>admission_source_id</th>\n",
       "      <th>time_in_hospital</th>\n",
       "      <th>medical_specialty</th>\n",
       "      <th>num_lab_procedures</th>\n",
       "      <th>num_procedures</th>\n",
       "      <th>...</th>\n",
       "      <th>chlorpropamide</th>\n",
       "      <th>glimepiride</th>\n",
       "      <th>acetohexamide</th>\n",
       "      <th>glipizide</th>\n",
       "      <th>glyburide</th>\n",
       "      <th>tolbutamide</th>\n",
       "      <th>insulin</th>\n",
       "      <th>change</th>\n",
       "      <th>diabetesMed</th>\n",
       "      <th>readmitted</th>\n",
       "    </tr>\n",
       "  </thead>\n",
       "  <tbody>\n",
       "    <tr>\n",
       "      <th>0</th>\n",
       "      <td>AfricanAmerican</td>\n",
       "      <td>Female</td>\n",
       "      <td>[80-90)</td>\n",
       "      <td>1</td>\n",
       "      <td>3</td>\n",
       "      <td>7</td>\n",
       "      <td>1</td>\n",
       "      <td>Invalid</td>\n",
       "      <td>33</td>\n",
       "      <td>0</td>\n",
       "      <td>...</td>\n",
       "      <td>No</td>\n",
       "      <td>No</td>\n",
       "      <td>No</td>\n",
       "      <td>No</td>\n",
       "      <td>No</td>\n",
       "      <td>No</td>\n",
       "      <td>Steady</td>\n",
       "      <td>False</td>\n",
       "      <td>True</td>\n",
       "      <td>1</td>\n",
       "    </tr>\n",
       "    <tr>\n",
       "      <th>1</th>\n",
       "      <td>Caucasian</td>\n",
       "      <td>Female</td>\n",
       "      <td>[70-80)</td>\n",
       "      <td>1</td>\n",
       "      <td>3</td>\n",
       "      <td>5</td>\n",
       "      <td>3</td>\n",
       "      <td>Invalid</td>\n",
       "      <td>48</td>\n",
       "      <td>2</td>\n",
       "      <td>...</td>\n",
       "      <td>No</td>\n",
       "      <td>No</td>\n",
       "      <td>No</td>\n",
       "      <td>No</td>\n",
       "      <td>No</td>\n",
       "      <td>No</td>\n",
       "      <td>Steady</td>\n",
       "      <td>False</td>\n",
       "      <td>True</td>\n",
       "      <td>1</td>\n",
       "    </tr>\n",
       "    <tr>\n",
       "      <th>2</th>\n",
       "      <td>Caucasian</td>\n",
       "      <td>Female</td>\n",
       "      <td>[50-60)</td>\n",
       "      <td>3</td>\n",
       "      <td>1</td>\n",
       "      <td>1</td>\n",
       "      <td>3</td>\n",
       "      <td>Orthopedics</td>\n",
       "      <td>25</td>\n",
       "      <td>1</td>\n",
       "      <td>...</td>\n",
       "      <td>No</td>\n",
       "      <td>No</td>\n",
       "      <td>No</td>\n",
       "      <td>No</td>\n",
       "      <td>No</td>\n",
       "      <td>No</td>\n",
       "      <td>Steady</td>\n",
       "      <td>False</td>\n",
       "      <td>True</td>\n",
       "      <td>0</td>\n",
       "    </tr>\n",
       "    <tr>\n",
       "      <th>3</th>\n",
       "      <td>AfricanAmerican</td>\n",
       "      <td>Female</td>\n",
       "      <td>[50-60)</td>\n",
       "      <td>1</td>\n",
       "      <td>1</td>\n",
       "      <td>7</td>\n",
       "      <td>6</td>\n",
       "      <td>Invalid</td>\n",
       "      <td>41</td>\n",
       "      <td>0</td>\n",
       "      <td>...</td>\n",
       "      <td>No</td>\n",
       "      <td>No</td>\n",
       "      <td>No</td>\n",
       "      <td>No</td>\n",
       "      <td>No</td>\n",
       "      <td>No</td>\n",
       "      <td>Steady</td>\n",
       "      <td>False</td>\n",
       "      <td>True</td>\n",
       "      <td>1</td>\n",
       "    </tr>\n",
       "    <tr>\n",
       "      <th>4</th>\n",
       "      <td>AfricanAmerican</td>\n",
       "      <td>Male</td>\n",
       "      <td>[80-90)</td>\n",
       "      <td>1</td>\n",
       "      <td>3</td>\n",
       "      <td>7</td>\n",
       "      <td>4</td>\n",
       "      <td>Invalid</td>\n",
       "      <td>22</td>\n",
       "      <td>0</td>\n",
       "      <td>...</td>\n",
       "      <td>No</td>\n",
       "      <td>No</td>\n",
       "      <td>No</td>\n",
       "      <td>No</td>\n",
       "      <td>No</td>\n",
       "      <td>No</td>\n",
       "      <td>Steady</td>\n",
       "      <td>False</td>\n",
       "      <td>True</td>\n",
       "      <td>1</td>\n",
       "    </tr>\n",
       "  </tbody>\n",
       "</table>\n",
       "<p>5 rows × 30 columns</p>\n",
       "</div>"
      ]
     },
     "execution_count": 62,
     "metadata": {},
     "output_type": "execute_result"
    }
   ],
   "execution_count": 62
  },
  {
   "metadata": {
    "ExecuteTime": {
     "end_time": "2024-09-26T03:52:29.051632Z",
     "start_time": "2024-09-26T03:52:29.036112Z"
    }
   },
   "cell_type": "code",
   "source": "d2.info()",
   "id": "58a366536dae3943",
   "outputs": [
    {
     "name": "stdout",
     "output_type": "stream",
     "text": [
      "<class 'pandas.core.frame.DataFrame'>\n",
      "RangeIndex: 20000 entries, 0 to 19999\n",
      "Data columns (total 30 columns):\n",
      " #   Column                    Non-Null Count  Dtype \n",
      "---  ------                    --------------  ----- \n",
      " 0   race                      20000 non-null  object\n",
      " 1   gender                    20000 non-null  object\n",
      " 2   age                       20000 non-null  object\n",
      " 3   admission_type_id         20000 non-null  int64 \n",
      " 4   discharge_disposition_id  20000 non-null  int64 \n",
      " 5   admission_source_id       20000 non-null  int64 \n",
      " 6   time_in_hospital          20000 non-null  int64 \n",
      " 7   medical_specialty         20000 non-null  object\n",
      " 8   num_lab_procedures        20000 non-null  int64 \n",
      " 9   num_procedures            20000 non-null  int64 \n",
      " 10  num_medications           20000 non-null  int64 \n",
      " 11  number_outpatient         20000 non-null  int64 \n",
      " 12  number_emergency          20000 non-null  int64 \n",
      " 13  number_inpatient          20000 non-null  int64 \n",
      " 14  number_diagnoses          20000 non-null  int64 \n",
      " 15  max_glu_serum             252 non-null    object\n",
      " 16  A1Cresult                 3567 non-null   object\n",
      " 17  metformin                 20000 non-null  object\n",
      " 18  repaglinide               20000 non-null  object\n",
      " 19  nateglinide               20000 non-null  object\n",
      " 20  chlorpropamide            20000 non-null  object\n",
      " 21  glimepiride               20000 non-null  object\n",
      " 22  acetohexamide             20000 non-null  object\n",
      " 23  glipizide                 20000 non-null  object\n",
      " 24  glyburide                 20000 non-null  object\n",
      " 25  tolbutamide               20000 non-null  object\n",
      " 26  insulin                   20000 non-null  object\n",
      " 27  change                    20000 non-null  bool  \n",
      " 28  diabetesMed               20000 non-null  bool  \n",
      " 29  readmitted                20000 non-null  int64 \n",
      "dtypes: bool(2), int64(12), object(16)\n",
      "memory usage: 4.3+ MB\n"
     ]
    }
   ],
   "execution_count": 63
  },
  {
   "metadata": {
    "ExecuteTime": {
     "end_time": "2024-09-26T03:52:29.680862Z",
     "start_time": "2024-09-26T03:52:29.675849Z"
    }
   },
   "cell_type": "code",
   "source": "d2_cluster = d2[['num_lab_procedures', 'number_outpatient', 'number_inpatient', 'num_medications', 'time_in_hospital']]",
   "id": "ff04b603ddb99557",
   "outputs": [],
   "execution_count": 64
  },
  {
   "metadata": {
    "ExecuteTime": {
     "end_time": "2024-09-26T03:52:30.252437Z",
     "start_time": "2024-09-26T03:52:30.244612Z"
    }
   },
   "cell_type": "code",
   "source": "d2_cluster.info()",
   "id": "dab16235280455e",
   "outputs": [
    {
     "name": "stdout",
     "output_type": "stream",
     "text": [
      "<class 'pandas.core.frame.DataFrame'>\n",
      "RangeIndex: 20000 entries, 0 to 19999\n",
      "Data columns (total 5 columns):\n",
      " #   Column              Non-Null Count  Dtype\n",
      "---  ------              --------------  -----\n",
      " 0   num_lab_procedures  20000 non-null  int64\n",
      " 1   number_outpatient   20000 non-null  int64\n",
      " 2   number_inpatient    20000 non-null  int64\n",
      " 3   num_medications     20000 non-null  int64\n",
      " 4   time_in_hospital    20000 non-null  int64\n",
      "dtypes: int64(5)\n",
      "memory usage: 781.4 KB\n"
     ]
    }
   ],
   "execution_count": 65
  },
  {
   "metadata": {
    "ExecuteTime": {
     "end_time": "2024-09-26T03:53:09.040078Z",
     "start_time": "2024-09-26T03:53:09.035131Z"
    }
   },
   "cell_type": "code",
   "source": "d2_cluster.loc[:,'num_lab_procedures_log'] = np.log1p(d2_cluster['num_lab_procedures'])",
   "id": "7e83bacb38b2ee3e",
   "outputs": [],
   "execution_count": 67
  },
  {
   "metadata": {
    "ExecuteTime": {
     "end_time": "2024-09-26T04:01:32.223194Z",
     "start_time": "2024-09-26T04:01:32.012698Z"
    }
   },
   "cell_type": "code",
   "source": [
    "\n",
    "out_pat_dist = sns.displot(d2_cluster.num_medications_capped)\n",
    "plt.show()"
   ],
   "id": "dbf61fc56a99a381",
   "outputs": [
    {
     "data": {
      "text/plain": [
       "<Figure size 500x500 with 1 Axes>"
      ],
      "image/png": "[encoded data removed]"
     },
     "metadata": {},
     "output_type": "display_data"
    }
   ],
   "execution_count": 81
  },
  {
   "metadata": {},
   "cell_type": "code",
   "outputs": [],
   "execution_count": null,
   "source": "",
   "id": "4b30f73a1d34fa1e"
  },
  {
   "metadata": {
    "ExecuteTime": {
     "end_time": "2024-09-26T04:01:22.013198Z",
     "start_time": "2024-09-26T04:01:22.007064Z"
    }
   },
   "cell_type": "code",
   "source": [
    "cap_value = d2_cluster['num_medications'].quantile(0.99)\n",
    "d2_cluster.loc[:,'num_medications_capped'] = np.minimum(d2_cluster.loc[:,'num_medications'], cap_value)\n"
   ],
   "id": "f128080a50708056",
   "outputs": [],
   "execution_count": 80
  },
  {
   "metadata": {
    "ExecuteTime": {
     "end_time": "2024-09-26T03:59:13.296679Z",
     "start_time": "2024-09-26T03:59:12.806876Z"
    }
   },
   "cell_type": "code",
   "source": [
    "in_pat_dist = sns.displot(d2_cluster.number_inpatient, kde=True)\n",
    "plt.show()"
   ],
   "id": "5b2cb049b7fc308a",
   "outputs": [
    {
     "data": {
      "text/plain": [
       "<Figure size 500x500 with 1 Axes>"
      ],
      "image/png": "[encoded data removed]"
     },
     "metadata": {},
     "output_type": "display_data"
    }
   ],
   "execution_count": 75
  },
  {
   "metadata": {
    "ExecuteTime": {
     "end_time": "2024-09-26T04:02:24.068539Z",
     "start_time": "2024-09-26T04:02:24.059254Z"
    }
   },
   "cell_type": "code",
   "source": "d2_cluster.number_inpatient.value_counts(normalize=True)",
   "id": "1d7d992b08e338bc",
   "outputs": [
    {
     "data": {
      "text/plain": [
       "number_inpatient\n",
       "0     0.64125\n",
       "1     0.19895\n",
       "2     0.08135\n",
       "3     0.03795\n",
       "4     0.01690\n",
       "5     0.00925\n",
       "6     0.00510\n",
       "7     0.00325\n",
       "8     0.00200\n",
       "9     0.00140\n",
       "11    0.00090\n",
       "10    0.00080\n",
       "12    0.00050\n",
       "14    0.00010\n",
       "15    0.00010\n",
       "13    0.00010\n",
       "19    0.00005\n",
       "16    0.00005\n",
       "Name: proportion, dtype: float64"
      ]
     },
     "execution_count": 82,
     "metadata": {},
     "output_type": "execute_result"
    }
   ],
   "execution_count": 82
  },
  {
   "metadata": {
    "ExecuteTime": {
     "end_time": "2024-09-26T03:56:34.017949Z",
     "start_time": "2024-09-26T03:56:34.012610Z"
    }
   },
   "cell_type": "code",
   "source": "d2_cluster.loc[:,'prior_outpatients'] = (d2_cluster['number_outpatient'] > 0).astype(int)\n",
   "id": "187314b7ed877a1d",
   "outputs": [],
   "execution_count": 74
  },
  {
   "metadata": {
    "ExecuteTime": {
     "end_time": "2024-09-26T04:03:10.121593Z",
     "start_time": "2024-09-26T04:03:10.115632Z"
    }
   },
   "cell_type": "code",
   "source": "d2_cluster.loc[:,'prior_inpatients'] = (d2_cluster.loc[:,'number_inpatient'] > 0).astype(int)",
   "id": "5c63688881dfa781",
   "outputs": [],
   "execution_count": 84
  },
  {
   "metadata": {
    "ExecuteTime": {
     "end_time": "2024-09-26T04:15:30.459818Z",
     "start_time": "2024-09-26T04:15:30.452802Z"
    }
   },
   "cell_type": "code",
   "source": "d2_cluster.time_in_hospital.value_counts(normalize=True)",
   "id": "6081d3063af06fd",
   "outputs": [
    {
     "data": {
      "text/plain": [
       "time_in_hospital\n",
       "3     0.18525\n",
       "2     0.17245\n",
       "1     0.14480\n",
       "4     0.13980\n",
       "5     0.09790\n",
       "6     0.07230\n",
       "7     0.05785\n",
       "8     0.03840\n",
       "9     0.02605\n",
       "10    0.01940\n",
       "11    0.01685\n",
       "12    0.01090\n",
       "13    0.01065\n",
       "14    0.00740\n",
       "Name: proportion, dtype: float64"
      ]
     },
     "execution_count": 143,
     "metadata": {},
     "output_type": "execute_result"
    }
   ],
   "execution_count": 143
  },
  {
   "metadata": {},
   "cell_type": "code",
   "outputs": [],
   "execution_count": null,
   "source": "",
   "id": "dd134a2e96b2fb44"
  },
  {
   "metadata": {},
   "cell_type": "code",
   "outputs": [],
   "execution_count": null,
   "source": "",
   "id": "d71519937039300b"
  },
  {
   "metadata": {
    "ExecuteTime": {
     "end_time": "2024-09-26T04:03:40.190366Z",
     "start_time": "2024-09-26T04:03:40.185233Z"
    }
   },
   "cell_type": "code",
   "source": "d2_kmeans = d2_cluster[['num_lab_procedures_log', 'num_medications_capped', 'time_in_hospital', 'prior_outpatients', 'prior_inpatients']]",
   "id": "99f08b0f156dceca",
   "outputs": [],
   "execution_count": 86
  },
  {
   "metadata": {
    "ExecuteTime": {
     "end_time": "2024-09-26T04:03:46.559637Z",
     "start_time": "2024-09-26T04:03:46.349299Z"
    }
   },
   "cell_type": "code",
   "source": [
    "# plot a correlation matrix for d2_cluster\n",
    "corr = d2_kmeans.corr()\n",
    "sns.heatmap(corr, annot=True)\n",
    "plt.show()"
   ],
   "id": "fa6958f7ffbcc947",
   "outputs": [
    {
     "data": {
      "text/plain": [
       "<Figure size 640x480 with 2 Axes>"
      ],
      "image/png": "[encoded data removed]"
     },
     "metadata": {},
     "output_type": "display_data"
    }
   ],
   "execution_count": 87
  },
  {
   "metadata": {
    "ExecuteTime": {
     "end_time": "2024-09-26T04:04:10.714932Z",
     "start_time": "2024-09-26T04:04:10.711423Z"
    }
   },
   "cell_type": "code",
   "source": "from sklearn.cluster import KMeans",
   "id": "6d21a963348c1f22",
   "outputs": [],
   "execution_count": 94
  },
  {
   "metadata": {
    "ExecuteTime": {
     "end_time": "2024-09-26T04:18:16.887582Z",
     "start_time": "2024-09-26T04:18:16.884859Z"
    }
   },
   "cell_type": "code",
   "source": "",
   "id": "6914812784c2e1cd",
   "outputs": [],
   "execution_count": null
  },
  {
   "metadata": {
    "ExecuteTime": {
     "end_time": "2024-09-26T04:18:17.296590Z",
     "start_time": "2024-09-26T04:18:17.293086Z"
    }
   },
   "cell_type": "code",
   "source": "",
   "id": "5669066e17b9c583",
   "outputs": [],
   "execution_count": null
  },
  {
   "metadata": {
    "ExecuteTime": {
     "end_time": "2024-09-26T04:12:47.008779Z",
     "start_time": "2024-09-26T04:12:47.005775Z"
    }
   },
   "cell_type": "code",
   "source": [
    "from sklearn.preprocessing import MinMaxScaler, StandardScaler\n",
    "\n",
    "min_max_scaler = MinMaxScaler()\n",
    "standard_scaler = StandardScaler()"
   ],
   "id": "50165a22e1ec4c9a",
   "outputs": [],
   "execution_count": 140
  },
  {
   "metadata": {
    "ExecuteTime": {
     "end_time": "2024-09-26T04:17:28.984449Z",
     "start_time": "2024-09-26T04:17:28.974421Z"
    }
   },
   "cell_type": "code",
   "source": "d2_kmeans",
   "id": "126c7c3eaaccd59f",
   "outputs": [
    {
     "data": {
      "text/plain": [
       "       num_lab_procedures_log  num_medications_capped  time_in_hospital  \\\n",
       "0                    3.526361                    14.0                 1   \n",
       "1                    3.891820                     7.0                 3   \n",
       "2                    3.258097                    15.0                 3   \n",
       "3                    3.737670                    19.0                 6   \n",
       "4                    3.135494                    12.0                 4   \n",
       "...                       ...                     ...               ...   \n",
       "19995                3.951244                    12.0                 4   \n",
       "19996                4.060443                    28.0                 9   \n",
       "19997                3.737670                    18.0                 3   \n",
       "19998                3.912023                    15.0                 3   \n",
       "19999                4.007333                    14.0                 8   \n",
       "\n",
       "       prior_outpatients  prior_inpatients  \n",
       "0                      0                 1  \n",
       "1                      0                 1  \n",
       "2                      0                 0  \n",
       "3                      0                 0  \n",
       "4                      0                 1  \n",
       "...                  ...               ...  \n",
       "19995                  1                 1  \n",
       "19996                  1                 1  \n",
       "19997                  0                 0  \n",
       "19998                  0                 1  \n",
       "19999                  1                 0  \n",
       "\n",
       "[20000 rows x 5 columns]"
      ],
      "text/html": [
       "<div>\n",
       "<style scoped>\n",
       "    .dataframe tbody tr th:only-of-type {\n",
       "        vertical-align: middle;\n",
       "    }\n",
       "\n",
       "    .dataframe tbody tr th {\n",
       "        vertical-align: top;\n",
       "    }\n",
       "\n",
       "    .dataframe thead th {\n",
       "        text-align: right;\n",
       "    }\n",
       "</style>\n",
       "<table border=\"1\" class=\"dataframe\">\n",
       "  <thead>\n",
       "    <tr style=\"text-align: right;\">\n",
       "      <th></th>\n",
       "      <th>num_lab_procedures_log</th>\n",
       "      <th>num_medications_capped</th>\n",
       "      <th>time_in_hospital</th>\n",
       "      <th>prior_outpatients</th>\n",
       "      <th>prior_inpatients</th>\n",
       "    </tr>\n",
       "  </thead>\n",
       "  <tbody>\n",
       "    <tr>\n",
       "      <th>0</th>\n",
       "      <td>3.526361</td>\n",
       "      <td>14.0</td>\n",
       "      <td>1</td>\n",
       "      <td>0</td>\n",
       "      <td>1</td>\n",
       "    </tr>\n",
       "    <tr>\n",
       "      <th>1</th>\n",
       "      <td>3.891820</td>\n",
       "      <td>7.0</td>\n",
       "      <td>3</td>\n",
       "      <td>0</td>\n",
       "      <td>1</td>\n",
       "    </tr>\n",
       "    <tr>\n",
       "      <th>2</th>\n",
       "      <td>3.258097</td>\n",
       "      <td>15.0</td>\n",
       "      <td>3</td>\n",
       "      <td>0</td>\n",
       "      <td>0</td>\n",
       "    </tr>\n",
       "    <tr>\n",
       "      <th>3</th>\n",
       "      <td>3.737670</td>\n",
       "      <td>19.0</td>\n",
       "      <td>6</td>\n",
       "      <td>0</td>\n",
       "      <td>0</td>\n",
       "    </tr>\n",
       "    <tr>\n",
       "      <th>4</th>\n",
       "      <td>3.135494</td>\n",
       "      <td>12.0</td>\n",
       "      <td>4</td>\n",
       "      <td>0</td>\n",
       "      <td>1</td>\n",
       "    </tr>\n",
       "    <tr>\n",
       "      <th>...</th>\n",
       "      <td>...</td>\n",
       "      <td>...</td>\n",
       "      <td>...</td>\n",
       "      <td>...</td>\n",
       "      <td>...</td>\n",
       "    </tr>\n",
       "    <tr>\n",
       "      <th>19995</th>\n",
       "      <td>3.951244</td>\n",
       "      <td>12.0</td>\n",
       "      <td>4</td>\n",
       "      <td>1</td>\n",
       "      <td>1</td>\n",
       "    </tr>\n",
       "    <tr>\n",
       "      <th>19996</th>\n",
       "      <td>4.060443</td>\n",
       "      <td>28.0</td>\n",
       "      <td>9</td>\n",
       "      <td>1</td>\n",
       "      <td>1</td>\n",
       "    </tr>\n",
       "    <tr>\n",
       "      <th>19997</th>\n",
       "      <td>3.737670</td>\n",
       "      <td>18.0</td>\n",
       "      <td>3</td>\n",
       "      <td>0</td>\n",
       "      <td>0</td>\n",
       "    </tr>\n",
       "    <tr>\n",
       "      <th>19998</th>\n",
       "      <td>3.912023</td>\n",
       "      <td>15.0</td>\n",
       "      <td>3</td>\n",
       "      <td>0</td>\n",
       "      <td>1</td>\n",
       "    </tr>\n",
       "    <tr>\n",
       "      <th>19999</th>\n",
       "      <td>4.007333</td>\n",
       "      <td>14.0</td>\n",
       "      <td>8</td>\n",
       "      <td>1</td>\n",
       "      <td>0</td>\n",
       "    </tr>\n",
       "  </tbody>\n",
       "</table>\n",
       "<p>20000 rows × 5 columns</p>\n",
       "</div>"
      ]
     },
     "execution_count": 146,
     "metadata": {},
     "output_type": "execute_result"
    }
   ],
   "execution_count": 146
  },
  {
   "metadata": {
    "ExecuteTime": {
     "end_time": "2024-09-26T04:17:14.437674Z",
     "start_time": "2024-09-26T04:17:14.427056Z"
    }
   },
   "cell_type": "code",
   "source": [
    "log_lab_proc_scaled = standard_scaler.fit_transform(d2_kmeans[['num_lab_procedures_log']])\n",
    "meds_scaled = min_max_scaler.fit_transform(d2_kmeans[['num_medications_capped']])\n",
    "time_in_hosp_scaled = standard_scaler.fit_transform(d2_kmeans[['time_in_hospital']])"
   ],
   "id": "d1476d4b5850fc8f",
   "outputs": [],
   "execution_count": 145
  },
  {
   "metadata": {
    "ExecuteTime": {
     "end_time": "2024-09-26T04:17:44.783366Z",
     "start_time": "2024-09-26T04:17:44.778858Z"
    }
   },
   "cell_type": "code",
   "source": [
    "# create a new dataframe with the scaled values\n",
    "d2_kmeans_scaled = pd.DataFrame({'num_lab_procedures_log': log_lab_proc_scaled.flatten(),\n",
    "                                 'num_medications_capped': meds_scaled.flatten(),\n",
    "                                 'time_in_hospital': time_in_hosp_scaled.flatten(),\n",
    "                                 'prior_outpatients': d2_kmeans['prior_outpatients'],\n",
    "                                 'prior_inpatients': d2_kmeans['prior_inpatients']})"
   ],
   "id": "7d31f36aeb39d084",
   "outputs": [],
   "execution_count": 147
  },
  {
   "metadata": {
    "ExecuteTime": {
     "end_time": "2024-09-26T04:17:49.576488Z",
     "start_time": "2024-09-26T04:17:49.568824Z"
    }
   },
   "cell_type": "code",
   "source": "d2_kmeans_scaled",
   "id": "13446b0c11d761bb",
   "outputs": [
    {
     "data": {
      "text/plain": [
       "       num_lab_procedures_log  num_medications_capped  time_in_hospital  \\\n",
       "0                   -0.083348                0.317073         -1.132051   \n",
       "1                    0.358469                0.146341         -0.430385   \n",
       "2                   -0.407662                0.341463         -0.430385   \n",
       "3                    0.172111                0.439024          0.622115   \n",
       "4                   -0.555880                0.268293         -0.079551   \n",
       "...                       ...                     ...               ...   \n",
       "19995                0.430308                0.268293         -0.079551   \n",
       "19996                0.562323                0.658537          1.674615   \n",
       "19997                0.172111                0.414634         -0.430385   \n",
       "19998                0.382893                0.341463         -0.430385   \n",
       "19999                0.498117                0.317073          1.323782   \n",
       "\n",
       "       prior_outpatients  prior_inpatients  \n",
       "0                      0                 1  \n",
       "1                      0                 1  \n",
       "2                      0                 0  \n",
       "3                      0                 0  \n",
       "4                      0                 1  \n",
       "...                  ...               ...  \n",
       "19995                  1                 1  \n",
       "19996                  1                 1  \n",
       "19997                  0                 0  \n",
       "19998                  0                 1  \n",
       "19999                  1                 0  \n",
       "\n",
       "[20000 rows x 5 columns]"
      ],
      "text/html": [
       "<div>\n",
       "<style scoped>\n",
       "    .dataframe tbody tr th:only-of-type {\n",
       "        vertical-align: middle;\n",
       "    }\n",
       "\n",
       "    .dataframe tbody tr th {\n",
       "        vertical-align: top;\n",
       "    }\n",
       "\n",
       "    .dataframe thead th {\n",
       "        text-align: right;\n",
       "    }\n",
       "</style>\n",
       "<table border=\"1\" class=\"dataframe\">\n",
       "  <thead>\n",
       "    <tr style=\"text-align: right;\">\n",
       "      <th></th>\n",
       "      <th>num_lab_procedures_log</th>\n",
       "      <th>num_medications_capped</th>\n",
       "      <th>time_in_hospital</th>\n",
       "      <th>prior_outpatients</th>\n",
       "      <th>prior_inpatients</th>\n",
       "    </tr>\n",
       "  </thead>\n",
       "  <tbody>\n",
       "    <tr>\n",
       "      <th>0</th>\n",
       "      <td>-0.083348</td>\n",
       "      <td>0.317073</td>\n",
       "      <td>-1.132051</td>\n",
       "      <td>0</td>\n",
       "      <td>1</td>\n",
       "    </tr>\n",
       "    <tr>\n",
       "      <th>1</th>\n",
       "      <td>0.358469</td>\n",
       "      <td>0.146341</td>\n",
       "      <td>-0.430385</td>\n",
       "      <td>0</td>\n",
       "      <td>1</td>\n",
       "    </tr>\n",
       "    <tr>\n",
       "      <th>2</th>\n",
       "      <td>-0.407662</td>\n",
       "      <td>0.341463</td>\n",
       "      <td>-0.430385</td>\n",
       "      <td>0</td>\n",
       "      <td>0</td>\n",
       "    </tr>\n",
       "    <tr>\n",
       "      <th>3</th>\n",
       "      <td>0.172111</td>\n",
       "      <td>0.439024</td>\n",
       "      <td>0.622115</td>\n",
       "      <td>0</td>\n",
       "      <td>0</td>\n",
       "    </tr>\n",
       "    <tr>\n",
       "      <th>4</th>\n",
       "      <td>-0.555880</td>\n",
       "      <td>0.268293</td>\n",
       "      <td>-0.079551</td>\n",
       "      <td>0</td>\n",
       "      <td>1</td>\n",
       "    </tr>\n",
       "    <tr>\n",
       "      <th>...</th>\n",
       "      <td>...</td>\n",
       "      <td>...</td>\n",
       "      <td>...</td>\n",
       "      <td>...</td>\n",
       "      <td>...</td>\n",
       "    </tr>\n",
       "    <tr>\n",
       "      <th>19995</th>\n",
       "      <td>0.430308</td>\n",
       "      <td>0.268293</td>\n",
       "      <td>-0.079551</td>\n",
       "      <td>1</td>\n",
       "      <td>1</td>\n",
       "    </tr>\n",
       "    <tr>\n",
       "      <th>19996</th>\n",
       "      <td>0.562323</td>\n",
       "      <td>0.658537</td>\n",
       "      <td>1.674615</td>\n",
       "      <td>1</td>\n",
       "      <td>1</td>\n",
       "    </tr>\n",
       "    <tr>\n",
       "      <th>19997</th>\n",
       "      <td>0.172111</td>\n",
       "      <td>0.414634</td>\n",
       "      <td>-0.430385</td>\n",
       "      <td>0</td>\n",
       "      <td>0</td>\n",
       "    </tr>\n",
       "    <tr>\n",
       "      <th>19998</th>\n",
       "      <td>0.382893</td>\n",
       "      <td>0.341463</td>\n",
       "      <td>-0.430385</td>\n",
       "      <td>0</td>\n",
       "      <td>1</td>\n",
       "    </tr>\n",
       "    <tr>\n",
       "      <th>19999</th>\n",
       "      <td>0.498117</td>\n",
       "      <td>0.317073</td>\n",
       "      <td>1.323782</td>\n",
       "      <td>1</td>\n",
       "      <td>0</td>\n",
       "    </tr>\n",
       "  </tbody>\n",
       "</table>\n",
       "<p>20000 rows × 5 columns</p>\n",
       "</div>"
      ]
     },
     "execution_count": 148,
     "metadata": {},
     "output_type": "execute_result"
    }
   ],
   "execution_count": 148
  },
  {
   "metadata": {
    "ExecuteTime": {
     "end_time": "2024-09-26T04:18:34.144127Z",
     "start_time": "2024-09-26T04:18:34.140711Z"
    }
   },
   "cell_type": "code",
   "source": "X = d2_kmeans_scaled.values",
   "id": "42b93b16579dd3d0",
   "outputs": [],
   "execution_count": 149
  },
  {
   "metadata": {
    "ExecuteTime": {
     "end_time": "2024-09-26T04:18:56.780252Z",
     "start_time": "2024-09-26T04:18:56.495457Z"
    }
   },
   "cell_type": "code",
   "source": [
    "clusters = []\n",
    "inertia_vals = []\n",
    "\n",
    "for k in range(1, 10):\n",
    "    model = KMeans(n_clusters=k, random_state=42)\n",
    "    model.fit(X)\n",
    "    \n",
    "    clusters.append(model)\n",
    "    inertia_vals.append(model.inertia_)\n",
    "    \n",
    "plt.plot(range(1, 10), inertia_vals, marker='x')"
   ],
   "id": "73bb7ab943bf6705",
   "outputs": [
    {
     "data": {
      "text/plain": [
       "[<matplotlib.lines.Line2D at 0x27920d77b10>]"
      ]
     },
     "execution_count": 154,
     "metadata": {},
     "output_type": "execute_result"
    },
    {
     "data": {
      "text/plain": [
       "<Figure size 640x480 with 1 Axes>"
      ],
      "image/png": "[encoded data removed]"
     },
     "metadata": {},
     "output_type": "display_data"
    }
   ],
   "execution_count": 154
  },
  {
   "metadata": {},
   "cell_type": "code",
   "outputs": [],
   "execution_count": null,
   "source": "",
   "id": "ab60248b85a04402"
  }
 ],
 "metadata": {
  "kernelspec": {
   "display_name": "Python 3",
   "language": "python",
   "name": "python3"
  },
  "language_info": {
   "codemirror_mode": {
    "name": "ipython",
    "version": 2
   },
   "file_extension": ".py",
   "mimetype": "text/x-python",
   "name": "python",
   "nbconvert_exporter": "python",
   "pygments_lexer": "ipython2",
   "version": "2.7.6"
  }
 },
 "nbformat": 4,
 "nbformat_minor": 5
}
