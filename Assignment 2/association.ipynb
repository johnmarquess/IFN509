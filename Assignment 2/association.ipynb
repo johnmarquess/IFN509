{
 "cells": [
  {
   "cell_type": "markdown",
   "id": "6c6fe0bb-5676-4b77-9278-d091e67c15dd",
   "metadata": {},
   "source": [
    "# "
   ]
  },
  {
   "cell_type": "markdown",
   "id": "419b126825492a6b",
   "metadata": {},
   "source": [
    "# Test"
   ]
  },
  {
   "cell_type": "code",
   "execution_count": 12,
   "id": "initial_id",
   "metadata": {
    "ExecuteTime": {
     "end_time": "2024-10-06T00:27:17.609717Z",
     "start_time": "2024-10-06T00:27:17.606657Z"
    }
   },
   "outputs": [],
   "source": [
    "import pandas as pd\n",
    "from apyori import apriori"
   ]
  },
  {
   "cell_type": "code",
   "execution_count": 13,
   "id": "cbc1947f4a63e918",
   "metadata": {
    "ExecuteTime": {
     "end_time": "2024-10-06T00:27:18.199424Z",
     "start_time": "2024-10-06T00:27:18.054988Z"
    }
   },
   "outputs": [
    {
     "name": "stdout",
     "output_type": "stream",
     "text": [
      "<class 'pandas.core.frame.DataFrame'>\n",
      "RangeIndex: 131706 entries, 0 to 131705\n",
      "Data columns (total 7 columns):\n",
      " #   Column        Non-Null Count   Dtype  \n",
      "---  ------        --------------   -----  \n",
      " 0   Date          131706 non-null  object \n",
      " 1   Customer_ID   131706 non-null  int64  \n",
      " 2   Sales_ID      131706 non-null  int64  \n",
      " 3   SKU_Category  131706 non-null  object \n",
      " 4   SKU           131706 non-null  object \n",
      " 5   Quantity      131706 non-null  float64\n",
      " 6   Sales_Amount  131706 non-null  float64\n",
      "dtypes: float64(2), int64(2), object(3)\n",
      "memory usage: 7.0+ MB\n"
     ]
    }
   ],
   "source": [
    "data = pd.read_csv('data/D1.csv')\n",
    "data.info()"
   ]
  },
  {
   "cell_type": "code",
   "execution_count": 14,
   "id": "224da6d6cc873089",
   "metadata": {
    "ExecuteTime": {
     "end_time": "2024-10-06T00:27:19.275801Z",
     "start_time": "2024-10-06T00:27:19.272249Z"
    }
   },
   "outputs": [],
   "source": [
    "# convert all columns to lower case\n",
    "data.columns = data.columns.str.lower()"
   ]
  },
  {
   "cell_type": "code",
   "id": "6077804e8e961751",
   "metadata": {
    "ExecuteTime": {
     "end_time": "2024-10-06T01:56:19.471731Z",
     "start_time": "2024-10-06T01:56:19.459135Z"
    }
   },
   "source": "data",
   "outputs": [
    {
     "data": {
      "text/plain": [
       "             date  customer_id  sales_id sku_category    sku  quantity  \\\n",
       "0      2016-01-02         2547         1          X52  0EM7L       1.0   \n",
       "1      2016-01-02          822         2          2ML  68BRQ       1.0   \n",
       "2      2016-01-02         3686         3          0H2  CZUZX       1.0   \n",
       "3      2016-01-02         3719         4          0H2  549KK       1.0   \n",
       "4      2016-01-02         9200         5          0H2  K8EHH       1.0   \n",
       "...           ...          ...       ...          ...    ...       ...   \n",
       "131701 2016-07-04        20203     32900          IEV  FO112       3.0   \n",
       "131702 2016-07-04        20203     32900          N8U  I36F2       1.0   \n",
       "131703 2016-07-04        20203     32900          U5F  4X8P4       1.0   \n",
       "131704 2016-07-04        20203     32900          0H2  ZVTO4       1.0   \n",
       "131705 2016-07-04        20203     32900          Q4N  QM9BP       1.0   \n",
       "\n",
       "        sales_amount  \n",
       "0               3.13  \n",
       "1               5.46  \n",
       "2               6.35  \n",
       "3               5.59  \n",
       "4               6.88  \n",
       "...              ...  \n",
       "131701          6.46  \n",
       "131702          4.50  \n",
       "131703          5.19  \n",
       "131704          4.57  \n",
       "131705         13.68  \n",
       "\n",
       "[131706 rows x 7 columns]"
      ],
      "text/html": [
       "<div>\n",
       "<style scoped>\n",
       "    .dataframe tbody tr th:only-of-type {\n",
       "        vertical-align: middle;\n",
       "    }\n",
       "\n",
       "    .dataframe tbody tr th {\n",
       "        vertical-align: top;\n",
       "    }\n",
       "\n",
       "    .dataframe thead th {\n",
       "        text-align: right;\n",
       "    }\n",
       "</style>\n",
       "<table border=\"1\" class=\"dataframe\">\n",
       "  <thead>\n",
       "    <tr style=\"text-align: right;\">\n",
       "      <th></th>\n",
       "      <th>date</th>\n",
       "      <th>customer_id</th>\n",
       "      <th>sales_id</th>\n",
       "      <th>sku_category</th>\n",
       "      <th>sku</th>\n",
       "      <th>quantity</th>\n",
       "      <th>sales_amount</th>\n",
       "    </tr>\n",
       "  </thead>\n",
       "  <tbody>\n",
       "    <tr>\n",
       "      <th>0</th>\n",
       "      <td>2016-01-02</td>\n",
       "      <td>2547</td>\n",
       "      <td>1</td>\n",
       "      <td>X52</td>\n",
       "      <td>0EM7L</td>\n",
       "      <td>1.0</td>\n",
       "      <td>3.13</td>\n",
       "    </tr>\n",
       "    <tr>\n",
       "      <th>1</th>\n",
       "      <td>2016-01-02</td>\n",
       "      <td>822</td>\n",
       "      <td>2</td>\n",
       "      <td>2ML</td>\n",
       "      <td>68BRQ</td>\n",
       "      <td>1.0</td>\n",
       "      <td>5.46</td>\n",
       "    </tr>\n",
       "    <tr>\n",
       "      <th>2</th>\n",
       "      <td>2016-01-02</td>\n",
       "      <td>3686</td>\n",
       "      <td>3</td>\n",
       "      <td>0H2</td>\n",
       "      <td>CZUZX</td>\n",
       "      <td>1.0</td>\n",
       "      <td>6.35</td>\n",
       "    </tr>\n",
       "    <tr>\n",
       "      <th>3</th>\n",
       "      <td>2016-01-02</td>\n",
       "      <td>3719</td>\n",
       "      <td>4</td>\n",
       "      <td>0H2</td>\n",
       "      <td>549KK</td>\n",
       "      <td>1.0</td>\n",
       "      <td>5.59</td>\n",
       "    </tr>\n",
       "    <tr>\n",
       "      <th>4</th>\n",
       "      <td>2016-01-02</td>\n",
       "      <td>9200</td>\n",
       "      <td>5</td>\n",
       "      <td>0H2</td>\n",
       "      <td>K8EHH</td>\n",
       "      <td>1.0</td>\n",
       "      <td>6.88</td>\n",
       "    </tr>\n",
       "    <tr>\n",
       "      <th>...</th>\n",
       "      <td>...</td>\n",
       "      <td>...</td>\n",
       "      <td>...</td>\n",
       "      <td>...</td>\n",
       "      <td>...</td>\n",
       "      <td>...</td>\n",
       "      <td>...</td>\n",
       "    </tr>\n",
       "    <tr>\n",
       "      <th>131701</th>\n",
       "      <td>2016-07-04</td>\n",
       "      <td>20203</td>\n",
       "      <td>32900</td>\n",
       "      <td>IEV</td>\n",
       "      <td>FO112</td>\n",
       "      <td>3.0</td>\n",
       "      <td>6.46</td>\n",
       "    </tr>\n",
       "    <tr>\n",
       "      <th>131702</th>\n",
       "      <td>2016-07-04</td>\n",
       "      <td>20203</td>\n",
       "      <td>32900</td>\n",
       "      <td>N8U</td>\n",
       "      <td>I36F2</td>\n",
       "      <td>1.0</td>\n",
       "      <td>4.50</td>\n",
       "    </tr>\n",
       "    <tr>\n",
       "      <th>131703</th>\n",
       "      <td>2016-07-04</td>\n",
       "      <td>20203</td>\n",
       "      <td>32900</td>\n",
       "      <td>U5F</td>\n",
       "      <td>4X8P4</td>\n",
       "      <td>1.0</td>\n",
       "      <td>5.19</td>\n",
       "    </tr>\n",
       "    <tr>\n",
       "      <th>131704</th>\n",
       "      <td>2016-07-04</td>\n",
       "      <td>20203</td>\n",
       "      <td>32900</td>\n",
       "      <td>0H2</td>\n",
       "      <td>ZVTO4</td>\n",
       "      <td>1.0</td>\n",
       "      <td>4.57</td>\n",
       "    </tr>\n",
       "    <tr>\n",
       "      <th>131705</th>\n",
       "      <td>2016-07-04</td>\n",
       "      <td>20203</td>\n",
       "      <td>32900</td>\n",
       "      <td>Q4N</td>\n",
       "      <td>QM9BP</td>\n",
       "      <td>1.0</td>\n",
       "      <td>13.68</td>\n",
       "    </tr>\n",
       "  </tbody>\n",
       "</table>\n",
       "<p>131706 rows × 7 columns</p>\n",
       "</div>"
      ]
     },
     "execution_count": 104,
     "metadata": {},
     "output_type": "execute_result"
    }
   ],
   "execution_count": 104
  },
  {
   "cell_type": "code",
   "execution_count": 16,
   "id": "c33284f9f1cfd8e9",
   "metadata": {
    "ExecuteTime": {
     "end_time": "2024-10-06T00:27:30.272126Z",
     "start_time": "2024-10-06T00:27:30.252063Z"
    }
   },
   "outputs": [],
   "source": [
    "# convert Date to a date object\n",
    "data['date'] = pd.to_datetime(data['date'], format='%d/%m/%Y')"
   ]
  },
  {
   "cell_type": "code",
   "execution_count": 6,
   "id": "84285b4002e29b01",
   "metadata": {
    "ExecuteTime": {
     "end_time": "2024-09-26T02:12:01.582339Z",
     "start_time": "2024-09-26T02:12:01.525702Z"
    }
   },
   "outputs": [],
   "source": [
    "# Convert Sales_ID, and Customer_ID to a string type\n",
    "data['sales_id'] = data['sales_id'].astype(str)\n",
    "data['customer_id'] = data['customer_id'].astype(str)"
   ]
  },
  {
   "cell_type": "code",
   "execution_count": 19,
   "id": "9d31fc6abe056dfe",
   "metadata": {
    "ExecuteTime": {
     "end_time": "2024-10-06T00:29:09.425080Z",
     "start_time": "2024-10-06T00:29:09.410517Z"
    }
   },
   "outputs": [
    {
     "name": "stdout",
     "output_type": "stream",
     "text": [
      "<class 'pandas.core.frame.DataFrame'>\n",
      "RangeIndex: 131706 entries, 0 to 131705\n",
      "Data columns (total 7 columns):\n",
      " #   Column        Non-Null Count   Dtype         \n",
      "---  ------        --------------   -----         \n",
      " 0   date          131706 non-null  datetime64[ns]\n",
      " 1   customer_id   131706 non-null  int64         \n",
      " 2   sales_id      131706 non-null  int64         \n",
      " 3   sku_category  131706 non-null  object        \n",
      " 4   sku           131706 non-null  object        \n",
      " 5   quantity      131706 non-null  float64       \n",
      " 6   sales_amount  131706 non-null  float64       \n",
      "dtypes: datetime64[ns](1), float64(2), int64(2), object(2)\n",
      "memory usage: 7.0+ MB\n"
     ]
    }
   ],
   "source": [
    "data.info()"
   ]
  },
  {
   "cell_type": "code",
   "execution_count": 20,
   "id": "ee4485865529b502",
   "metadata": {
    "ExecuteTime": {
     "end_time": "2024-10-06T00:32:14.075696Z",
     "start_time": "2024-10-06T00:32:13.046288Z"
    }
   },
   "outputs": [],
   "source": [
    "# Define the Transactional Data\n",
    "transactions = data.groupby('sales_id')['sku_category'].apply(list)\n",
    "transactions_list = list(transactions)"
   ]
  },
  {
   "cell_type": "code",
   "execution_count": 23,
   "id": "f47e4e1897bd7c4f",
   "metadata": {
    "ExecuteTime": {
     "end_time": "2024-10-06T00:40:14.194430Z",
     "start_time": "2024-10-06T00:40:14.165331Z"
    }
   },
   "outputs": [
    {
     "data": {
      "text/plain": [
       "customer_id  date      \n",
       "1            2016-01-22    2\n",
       "2            2016-03-24    1\n",
       "             2016-06-19    1\n",
       "3            2016-01-02    3\n",
       "4            2016-07-11    1\n",
       "                          ..\n",
       "22624        2016-12-02    2\n",
       "22625        2016-12-02    4\n",
       "             2016-12-14    3\n",
       "             2016-12-19    1\n",
       "             2016-12-31    1\n",
       "Name: sales_id, Length: 62727, dtype: int64"
      ]
     },
     "execution_count": 23,
     "metadata": {},
     "output_type": "execute_result"
    }
   ],
   "source": [
    "data.groupby(['customer_id','date'])['sales_id'].count()"
   ]
  },
  {
   "cell_type": "code",
   "execution_count": 25,
   "id": "5925c3c9f6cc4a4c",
   "metadata": {
    "ExecuteTime": {
     "end_time": "2024-10-06T00:47:46.498315Z",
     "start_time": "2024-10-06T00:47:46.489113Z"
    }
   },
   "outputs": [
    {
     "data": {
      "text/plain": [
       "0.0053475935828877"
      ]
     },
     "execution_count": 25,
     "metadata": {},
     "output_type": "execute_result"
    }
   ],
   "source": [
    "1 / len(data['sku_category'].value_counts())"
   ]
  },
  {
   "cell_type": "code",
   "id": "ef53ae8427d594e6",
   "metadata": {
    "ExecuteTime": {
     "end_time": "2024-10-06T02:55:05.571171Z",
     "start_time": "2024-10-06T02:55:05.437252Z"
    }
   },
   "source": "results = list(apriori(transactions_list, min_support=0.005, min_confidence=0.2))",
   "outputs": [],
   "execution_count": 203
  },
  {
   "metadata": {
    "ExecuteTime": {
     "end_time": "2024-10-06T02:55:05.918167Z",
     "start_time": "2024-10-06T02:55:05.913388Z"
    }
   },
   "cell_type": "code",
   "source": [
    "def convert_apriori_results_to_pandas_df(results):\n",
    "    rules = []\n",
    "    for rule_set in results:\n",
    "        for rule in rule_set.ordered_statistics:\n",
    "            # items_base = Left side of rules, items_add = Right side\n",
    "            # support, confidence and lift for respoective rules\n",
    "            rules.append([','.join(rule.items_base), ','.join(rule.items_add),\n",
    "                          rule_set.support, rule.confidence, rule.lift])\n",
    "            \n",
    "            # Typecast it to pandas df\n",
    "    return pd.DataFrame(rules, columns=['Left_rule', 'Right_rule', 'Support', 'Confidence', 'Lift'])\n"
   ],
   "id": "8b8e2af75c729abb",
   "outputs": [],
   "execution_count": 204
  },
  {
   "cell_type": "code",
   "id": "35f14aa6150219fd",
   "metadata": {
    "ExecuteTime": {
     "end_time": "2024-10-06T02:55:06.331883Z",
     "start_time": "2024-10-06T02:55:06.328161Z"
    }
   },
   "source": [
    "results_df = convert_apriori_results_to_pandas_df(results)"
   ],
   "outputs": [],
   "execution_count": 205
  },
  {
   "cell_type": "code",
   "id": "4fc55afc587a467c",
   "metadata": {
    "ExecuteTime": {
     "end_time": "2024-10-06T02:55:06.572040Z",
     "start_time": "2024-10-06T02:55:06.563403Z"
    }
   },
   "source": "results_df.sort_values(by='Lift', ascending=False)",
   "outputs": [
    {
     "data": {
      "text/plain": [
       "   Left_rule Right_rule   Support  Confidence      Lift\n",
       "77   N8U,LPF        OXH  0.006973    0.413761  9.919540\n",
       "74   IEV,N8U        OXH  0.006076    0.396569  9.507370\n",
       "15       9ZX        FU5  0.007220    0.380293  9.100304\n",
       "64   OXH,LPF        FU5  0.007313    0.364407  8.720148\n",
       "79   N8U,OXH        LPF  0.006973    0.626389  8.715011\n",
       "..       ...        ...       ...         ...       ...\n",
       "45       OXH        N8U  0.011131    0.266864  1.742160\n",
       "28       FU5        N8U  0.010173    0.243433  1.589195\n",
       "33       IEV        N8U  0.015321    0.240476  1.569887\n",
       "39       LPF        N8U  0.016852    0.234459  1.530609\n",
       "46       QCG        N8U  0.005643    0.209409  1.367077\n",
       "\n",
       "[80 rows x 5 columns]"
      ],
      "text/html": [
       "<div>\n",
       "<style scoped>\n",
       "    .dataframe tbody tr th:only-of-type {\n",
       "        vertical-align: middle;\n",
       "    }\n",
       "\n",
       "    .dataframe tbody tr th {\n",
       "        vertical-align: top;\n",
       "    }\n",
       "\n",
       "    .dataframe thead th {\n",
       "        text-align: right;\n",
       "    }\n",
       "</style>\n",
       "<table border=\"1\" class=\"dataframe\">\n",
       "  <thead>\n",
       "    <tr style=\"text-align: right;\">\n",
       "      <th></th>\n",
       "      <th>Left_rule</th>\n",
       "      <th>Right_rule</th>\n",
       "      <th>Support</th>\n",
       "      <th>Confidence</th>\n",
       "      <th>Lift</th>\n",
       "    </tr>\n",
       "  </thead>\n",
       "  <tbody>\n",
       "    <tr>\n",
       "      <th>77</th>\n",
       "      <td>N8U,LPF</td>\n",
       "      <td>OXH</td>\n",
       "      <td>0.006973</td>\n",
       "      <td>0.413761</td>\n",
       "      <td>9.919540</td>\n",
       "    </tr>\n",
       "    <tr>\n",
       "      <th>74</th>\n",
       "      <td>IEV,N8U</td>\n",
       "      <td>OXH</td>\n",
       "      <td>0.006076</td>\n",
       "      <td>0.396569</td>\n",
       "      <td>9.507370</td>\n",
       "    </tr>\n",
       "    <tr>\n",
       "      <th>15</th>\n",
       "      <td>9ZX</td>\n",
       "      <td>FU5</td>\n",
       "      <td>0.007220</td>\n",
       "      <td>0.380293</td>\n",
       "      <td>9.100304</td>\n",
       "    </tr>\n",
       "    <tr>\n",
       "      <th>64</th>\n",
       "      <td>OXH,LPF</td>\n",
       "      <td>FU5</td>\n",
       "      <td>0.007313</td>\n",
       "      <td>0.364407</td>\n",
       "      <td>8.720148</td>\n",
       "    </tr>\n",
       "    <tr>\n",
       "      <th>79</th>\n",
       "      <td>N8U,OXH</td>\n",
       "      <td>LPF</td>\n",
       "      <td>0.006973</td>\n",
       "      <td>0.626389</td>\n",
       "      <td>8.715011</td>\n",
       "    </tr>\n",
       "    <tr>\n",
       "      <th>...</th>\n",
       "      <td>...</td>\n",
       "      <td>...</td>\n",
       "      <td>...</td>\n",
       "      <td>...</td>\n",
       "      <td>...</td>\n",
       "    </tr>\n",
       "    <tr>\n",
       "      <th>45</th>\n",
       "      <td>OXH</td>\n",
       "      <td>N8U</td>\n",
       "      <td>0.011131</td>\n",
       "      <td>0.266864</td>\n",
       "      <td>1.742160</td>\n",
       "    </tr>\n",
       "    <tr>\n",
       "      <th>28</th>\n",
       "      <td>FU5</td>\n",
       "      <td>N8U</td>\n",
       "      <td>0.010173</td>\n",
       "      <td>0.243433</td>\n",
       "      <td>1.589195</td>\n",
       "    </tr>\n",
       "    <tr>\n",
       "      <th>33</th>\n",
       "      <td>IEV</td>\n",
       "      <td>N8U</td>\n",
       "      <td>0.015321</td>\n",
       "      <td>0.240476</td>\n",
       "      <td>1.569887</td>\n",
       "    </tr>\n",
       "    <tr>\n",
       "      <th>39</th>\n",
       "      <td>LPF</td>\n",
       "      <td>N8U</td>\n",
       "      <td>0.016852</td>\n",
       "      <td>0.234459</td>\n",
       "      <td>1.530609</td>\n",
       "    </tr>\n",
       "    <tr>\n",
       "      <th>46</th>\n",
       "      <td>QCG</td>\n",
       "      <td>N8U</td>\n",
       "      <td>0.005643</td>\n",
       "      <td>0.209409</td>\n",
       "      <td>1.367077</td>\n",
       "    </tr>\n",
       "  </tbody>\n",
       "</table>\n",
       "<p>80 rows × 5 columns</p>\n",
       "</div>"
      ]
     },
     "execution_count": 206,
     "metadata": {},
     "output_type": "execute_result"
    }
   ],
   "execution_count": 206
  },
  {
   "metadata": {
    "ExecuteTime": {
     "end_time": "2024-10-06T02:55:48.778609Z",
     "start_time": "2024-10-06T02:55:48.773695Z"
    }
   },
   "cell_type": "code",
   "source": [
    "# filter results_df for rules with 01F in the left_rule or the right rule\n",
    "filtered_results = results_df[results_df['Left_rule'].str.contains('01F') | results_df['Right_rule'].str.contains('01F')]"
   ],
   "id": "e23b5d312f85d11a",
   "outputs": [],
   "execution_count": 211
  },
  {
   "metadata": {
    "ExecuteTime": {
     "end_time": "2024-10-06T02:56:18.910319Z",
     "start_time": "2024-10-06T02:56:18.901718Z"
    }
   },
   "cell_type": "code",
   "source": "filtered_results.sort_values(by='Support', ascending=False)",
   "id": "1fa0aa40bb1b41fd",
   "outputs": [
    {
     "data": {
      "text/plain": [
       "   Left_rule Right_rule   Support  Confidence      Lift\n",
       "3        01F        IEV  0.012909    0.481268  7.553841\n",
       "4        IEV        01F  0.012909    0.202621  7.553841\n",
       "5        01F        LPF  0.012198    0.454755  6.327052\n",
       "7        01F        OXH  0.008163    0.304323  7.295851\n",
       "2        01F        FU5  0.007498    0.279539  6.689284\n",
       "6        01F        N8U  0.007421    0.276657  1.806089\n",
       "48       01F    IEV,LPF  0.006447    0.240346  7.715161\n",
       "49   IEV,01F        LPF  0.006447    0.499401  6.948219\n",
       "50   LPF,01F        IEV  0.006447    0.528517  8.295449\n",
       "51   IEV,LPF        01F  0.006447    0.206948  7.715161\n",
       "8        01F        U5F  0.005859    0.218444  3.918298\n",
       "0        01F        6BZ  0.005612    0.209222  7.460249\n",
       "1        6BZ        01F  0.005612    0.200110  7.460249"
      ],
      "text/html": [
       "<div>\n",
       "<style scoped>\n",
       "    .dataframe tbody tr th:only-of-type {\n",
       "        vertical-align: middle;\n",
       "    }\n",
       "\n",
       "    .dataframe tbody tr th {\n",
       "        vertical-align: top;\n",
       "    }\n",
       "\n",
       "    .dataframe thead th {\n",
       "        text-align: right;\n",
       "    }\n",
       "</style>\n",
       "<table border=\"1\" class=\"dataframe\">\n",
       "  <thead>\n",
       "    <tr style=\"text-align: right;\">\n",
       "      <th></th>\n",
       "      <th>Left_rule</th>\n",
       "      <th>Right_rule</th>\n",
       "      <th>Support</th>\n",
       "      <th>Confidence</th>\n",
       "      <th>Lift</th>\n",
       "    </tr>\n",
       "  </thead>\n",
       "  <tbody>\n",
       "    <tr>\n",
       "      <th>3</th>\n",
       "      <td>01F</td>\n",
       "      <td>IEV</td>\n",
       "      <td>0.012909</td>\n",
       "      <td>0.481268</td>\n",
       "      <td>7.553841</td>\n",
       "    </tr>\n",
       "    <tr>\n",
       "      <th>4</th>\n",
       "      <td>IEV</td>\n",
       "      <td>01F</td>\n",
       "      <td>0.012909</td>\n",
       "      <td>0.202621</td>\n",
       "      <td>7.553841</td>\n",
       "    </tr>\n",
       "    <tr>\n",
       "      <th>5</th>\n",
       "      <td>01F</td>\n",
       "      <td>LPF</td>\n",
       "      <td>0.012198</td>\n",
       "      <td>0.454755</td>\n",
       "      <td>6.327052</td>\n",
       "    </tr>\n",
       "    <tr>\n",
       "      <th>7</th>\n",
       "      <td>01F</td>\n",
       "      <td>OXH</td>\n",
       "      <td>0.008163</td>\n",
       "      <td>0.304323</td>\n",
       "      <td>7.295851</td>\n",
       "    </tr>\n",
       "    <tr>\n",
       "      <th>2</th>\n",
       "      <td>01F</td>\n",
       "      <td>FU5</td>\n",
       "      <td>0.007498</td>\n",
       "      <td>0.279539</td>\n",
       "      <td>6.689284</td>\n",
       "    </tr>\n",
       "    <tr>\n",
       "      <th>6</th>\n",
       "      <td>01F</td>\n",
       "      <td>N8U</td>\n",
       "      <td>0.007421</td>\n",
       "      <td>0.276657</td>\n",
       "      <td>1.806089</td>\n",
       "    </tr>\n",
       "    <tr>\n",
       "      <th>48</th>\n",
       "      <td>01F</td>\n",
       "      <td>IEV,LPF</td>\n",
       "      <td>0.006447</td>\n",
       "      <td>0.240346</td>\n",
       "      <td>7.715161</td>\n",
       "    </tr>\n",
       "    <tr>\n",
       "      <th>49</th>\n",
       "      <td>IEV,01F</td>\n",
       "      <td>LPF</td>\n",
       "      <td>0.006447</td>\n",
       "      <td>0.499401</td>\n",
       "      <td>6.948219</td>\n",
       "    </tr>\n",
       "    <tr>\n",
       "      <th>50</th>\n",
       "      <td>LPF,01F</td>\n",
       "      <td>IEV</td>\n",
       "      <td>0.006447</td>\n",
       "      <td>0.528517</td>\n",
       "      <td>8.295449</td>\n",
       "    </tr>\n",
       "    <tr>\n",
       "      <th>51</th>\n",
       "      <td>IEV,LPF</td>\n",
       "      <td>01F</td>\n",
       "      <td>0.006447</td>\n",
       "      <td>0.206948</td>\n",
       "      <td>7.715161</td>\n",
       "    </tr>\n",
       "    <tr>\n",
       "      <th>8</th>\n",
       "      <td>01F</td>\n",
       "      <td>U5F</td>\n",
       "      <td>0.005859</td>\n",
       "      <td>0.218444</td>\n",
       "      <td>3.918298</td>\n",
       "    </tr>\n",
       "    <tr>\n",
       "      <th>0</th>\n",
       "      <td>01F</td>\n",
       "      <td>6BZ</td>\n",
       "      <td>0.005612</td>\n",
       "      <td>0.209222</td>\n",
       "      <td>7.460249</td>\n",
       "    </tr>\n",
       "    <tr>\n",
       "      <th>1</th>\n",
       "      <td>6BZ</td>\n",
       "      <td>01F</td>\n",
       "      <td>0.005612</td>\n",
       "      <td>0.200110</td>\n",
       "      <td>7.460249</td>\n",
       "    </tr>\n",
       "  </tbody>\n",
       "</table>\n",
       "</div>"
      ]
     },
     "execution_count": 218,
     "metadata": {},
     "output_type": "execute_result"
    }
   ],
   "execution_count": 218
  },
  {
   "metadata": {
    "ExecuteTime": {
     "end_time": "2024-10-06T02:55:49.251456Z",
     "start_time": "2024-10-06T02:55:49.246370Z"
    }
   },
   "cell_type": "code",
   "source": "0.013*100",
   "id": "a46afb1656547082",
   "outputs": [
    {
     "data": {
      "text/plain": [
       "1.3"
      ]
     },
     "execution_count": 213,
     "metadata": {},
     "output_type": "execute_result"
    }
   ],
   "execution_count": 213
  },
  {
   "metadata": {
    "ExecuteTime": {
     "end_time": "2024-10-06T02:12:29.324929Z",
     "start_time": "2024-10-06T02:12:29.320906Z"
    }
   },
   "cell_type": "code",
   "source": "",
   "id": "52270bced6587b46",
   "outputs": [],
   "execution_count": 151
  },
  {
   "metadata": {
    "ExecuteTime": {
     "end_time": "2024-10-06T02:12:29.331726Z",
     "start_time": "2024-10-06T02:12:29.326449Z"
    }
   },
   "cell_type": "code",
   "source": "",
   "id": "e23815a375afcbe9",
   "outputs": [],
   "execution_count": 152
  },
  {
   "metadata": {},
   "cell_type": "code",
   "outputs": [],
   "execution_count": null,
   "source": "",
   "id": "3d12cd6916a32a0d"
  },
  {
   "metadata": {},
   "cell_type": "code",
   "outputs": [],
   "execution_count": null,
   "source": "",
   "id": "e72159de6d56280e"
  },
  {
   "cell_type": "code",
   "execution_count": 50,
   "id": "661d08853754c6d4",
   "metadata": {
    "ExecuteTime": {
     "end_time": "2024-10-06T00:54:40.748765Z",
     "start_time": "2024-10-06T00:54:40.729441Z"
    }
   },
   "outputs": [
    {
     "ename": "KeyError",
     "evalue": "'Customer_ID'",
     "output_type": "error",
     "traceback": [
      "\u001B[1;31m---------------------------------------------------------------------------\u001B[0m",
      "\u001B[1;31mKeyError\u001B[0m                                  Traceback (most recent call last)",
      "\u001B[1;32m~\\AppData\\Local\\Temp\\ipykernel_39384\\861010998.py\u001B[0m in \u001B[0;36m?\u001B[1;34m()\u001B[0m\n\u001B[1;32m----> 1\u001B[1;33m \u001B[0mdata\u001B[0m \u001B[1;33m=\u001B[0m \u001B[0mdata\u001B[0m\u001B[1;33m.\u001B[0m\u001B[0msort_values\u001B[0m\u001B[1;33m(\u001B[0m\u001B[0mby\u001B[0m\u001B[1;33m=\u001B[0m\u001B[1;33m[\u001B[0m\u001B[1;34m'Customer_ID'\u001B[0m\u001B[1;33m,\u001B[0m \u001B[1;34m'Date'\u001B[0m\u001B[1;33m]\u001B[0m\u001B[1;33m)\u001B[0m\u001B[1;33m\u001B[0m\u001B[1;33m\u001B[0m\u001B[0m\n\u001B[0m",
      "\u001B[1;32m~\\miniconda3\\envs\\IFN509\\Lib\\site-packages\\pandas\\core\\frame.py\u001B[0m in \u001B[0;36m?\u001B[1;34m(self, by, axis, ascending, inplace, kind, na_position, ignore_index, key)\u001B[0m\n\u001B[0;32m   7168\u001B[0m                 \u001B[1;34mf\"Length of ascending ({len(ascending)})\"\u001B[0m  \u001B[1;31m# type: ignore[arg-type]\u001B[0m\u001B[1;33m\u001B[0m\u001B[1;33m\u001B[0m\u001B[0m\n\u001B[0;32m   7169\u001B[0m                 \u001B[1;34mf\" != length of by ({len(by)})\"\u001B[0m\u001B[1;33m\u001B[0m\u001B[1;33m\u001B[0m\u001B[0m\n\u001B[0;32m   7170\u001B[0m             )\n\u001B[0;32m   7171\u001B[0m         \u001B[1;32mif\u001B[0m \u001B[0mlen\u001B[0m\u001B[1;33m(\u001B[0m\u001B[0mby\u001B[0m\u001B[1;33m)\u001B[0m \u001B[1;33m>\u001B[0m \u001B[1;36m1\u001B[0m\u001B[1;33m:\u001B[0m\u001B[1;33m\u001B[0m\u001B[1;33m\u001B[0m\u001B[0m\n\u001B[1;32m-> 7172\u001B[1;33m             \u001B[0mkeys\u001B[0m \u001B[1;33m=\u001B[0m \u001B[1;33m[\u001B[0m\u001B[0mself\u001B[0m\u001B[1;33m.\u001B[0m\u001B[0m_get_label_or_level_values\u001B[0m\u001B[1;33m(\u001B[0m\u001B[0mx\u001B[0m\u001B[1;33m,\u001B[0m \u001B[0maxis\u001B[0m\u001B[1;33m=\u001B[0m\u001B[0maxis\u001B[0m\u001B[1;33m)\u001B[0m \u001B[1;32mfor\u001B[0m \u001B[0mx\u001B[0m \u001B[1;32min\u001B[0m \u001B[0mby\u001B[0m\u001B[1;33m]\u001B[0m\u001B[1;33m\u001B[0m\u001B[1;33m\u001B[0m\u001B[0m\n\u001B[0m\u001B[0;32m   7173\u001B[0m \u001B[1;33m\u001B[0m\u001B[0m\n\u001B[0;32m   7174\u001B[0m             \u001B[1;31m# need to rewrap columns in Series to apply key function\u001B[0m\u001B[1;33m\u001B[0m\u001B[1;33m\u001B[0m\u001B[0m\n\u001B[0;32m   7175\u001B[0m             \u001B[1;32mif\u001B[0m \u001B[0mkey\u001B[0m \u001B[1;32mis\u001B[0m \u001B[1;32mnot\u001B[0m \u001B[1;32mNone\u001B[0m\u001B[1;33m:\u001B[0m\u001B[1;33m\u001B[0m\u001B[1;33m\u001B[0m\u001B[0m\n",
      "\u001B[1;32m~\\miniconda3\\envs\\IFN509\\Lib\\site-packages\\pandas\\core\\frame.py\u001B[0m in \u001B[0;36m?\u001B[1;34m(.0)\u001B[0m\n\u001B[1;32m-> 7172\u001B[1;33m         \u001B[1;33m...\u001B[0m     \u001B[0mkey\u001B[0m\u001B[1;33m=\u001B[0m\u001B[1;32mlambda\u001B[0m \u001B[0mx\u001B[0m\u001B[1;33m:\u001B[0m \u001B[0mnp\u001B[0m\u001B[1;33m.\u001B[0m\u001B[0margsort\u001B[0m\u001B[1;33m(\u001B[0m\u001B[0mindex_natsorted\u001B[0m\u001B[1;33m(\u001B[0m\u001B[0mdf\u001B[0m\u001B[1;33m[\u001B[0m\u001B[1;34m\"time\"\u001B[0m\u001B[1;33m]\u001B[0m\u001B[1;33m)\u001B[0m\u001B[1;33m)\u001B[0m\u001B[1;33m\u001B[0m\u001B[1;33m\u001B[0m\u001B[0m\n\u001B[0m",
      "\u001B[1;32m~\\miniconda3\\envs\\IFN509\\Lib\\site-packages\\pandas\\core\\generic.py\u001B[0m in \u001B[0;36m?\u001B[1;34m(self, key, axis)\u001B[0m\n\u001B[0;32m   1907\u001B[0m             \u001B[0mvalues\u001B[0m \u001B[1;33m=\u001B[0m \u001B[0mself\u001B[0m\u001B[1;33m.\u001B[0m\u001B[0mxs\u001B[0m\u001B[1;33m(\u001B[0m\u001B[0mkey\u001B[0m\u001B[1;33m,\u001B[0m \u001B[0maxis\u001B[0m\u001B[1;33m=\u001B[0m\u001B[0mother_axes\u001B[0m\u001B[1;33m[\u001B[0m\u001B[1;36m0\u001B[0m\u001B[1;33m]\u001B[0m\u001B[1;33m)\u001B[0m\u001B[1;33m.\u001B[0m\u001B[0m_values\u001B[0m\u001B[1;33m\u001B[0m\u001B[1;33m\u001B[0m\u001B[0m\n\u001B[0;32m   1908\u001B[0m         \u001B[1;32melif\u001B[0m \u001B[0mself\u001B[0m\u001B[1;33m.\u001B[0m\u001B[0m_is_level_reference\u001B[0m\u001B[1;33m(\u001B[0m\u001B[0mkey\u001B[0m\u001B[1;33m,\u001B[0m \u001B[0maxis\u001B[0m\u001B[1;33m=\u001B[0m\u001B[0maxis\u001B[0m\u001B[1;33m)\u001B[0m\u001B[1;33m:\u001B[0m\u001B[1;33m\u001B[0m\u001B[1;33m\u001B[0m\u001B[0m\n\u001B[0;32m   1909\u001B[0m             \u001B[0mvalues\u001B[0m \u001B[1;33m=\u001B[0m \u001B[0mself\u001B[0m\u001B[1;33m.\u001B[0m\u001B[0maxes\u001B[0m\u001B[1;33m[\u001B[0m\u001B[0maxis\u001B[0m\u001B[1;33m]\u001B[0m\u001B[1;33m.\u001B[0m\u001B[0mget_level_values\u001B[0m\u001B[1;33m(\u001B[0m\u001B[0mkey\u001B[0m\u001B[1;33m)\u001B[0m\u001B[1;33m.\u001B[0m\u001B[0m_values\u001B[0m\u001B[1;33m\u001B[0m\u001B[1;33m\u001B[0m\u001B[0m\n\u001B[0;32m   1910\u001B[0m         \u001B[1;32melse\u001B[0m\u001B[1;33m:\u001B[0m\u001B[1;33m\u001B[0m\u001B[1;33m\u001B[0m\u001B[0m\n\u001B[1;32m-> 1911\u001B[1;33m             \u001B[1;32mraise\u001B[0m \u001B[0mKeyError\u001B[0m\u001B[1;33m(\u001B[0m\u001B[0mkey\u001B[0m\u001B[1;33m)\u001B[0m\u001B[1;33m\u001B[0m\u001B[1;33m\u001B[0m\u001B[0m\n\u001B[0m\u001B[0;32m   1912\u001B[0m \u001B[1;33m\u001B[0m\u001B[0m\n\u001B[0;32m   1913\u001B[0m         \u001B[1;31m# Check for duplicates\u001B[0m\u001B[1;33m\u001B[0m\u001B[1;33m\u001B[0m\u001B[0m\n\u001B[0;32m   1914\u001B[0m         \u001B[1;32mif\u001B[0m \u001B[0mvalues\u001B[0m\u001B[1;33m.\u001B[0m\u001B[0mndim\u001B[0m \u001B[1;33m>\u001B[0m \u001B[1;36m1\u001B[0m\u001B[1;33m:\u001B[0m\u001B[1;33m\u001B[0m\u001B[1;33m\u001B[0m\u001B[0m\n",
      "\u001B[1;31mKeyError\u001B[0m: 'Customer_ID'"
     ]
    }
   ],
   "source": [
    "data = data.sort_values(by=['Customer_ID', 'Date'])"
   ]
  },
  {
   "metadata": {},
   "cell_type": "code",
   "outputs": [],
   "execution_count": null,
   "source": "",
   "id": "6ec3a6bcef74d02a"
  },
  {
   "cell_type": "code",
   "execution_count": 14,
   "id": "2be21769d6f3b43c",
   "metadata": {
    "ExecuteTime": {
     "end_time": "2024-09-26T02:12:03.506399Z",
     "start_time": "2024-09-26T02:12:03.496697Z"
    }
   },
   "outputs": [
    {
     "data": {
      "text/html": [
       "<div>\n",
       "<style scoped>\n",
       "    .dataframe tbody tr th:only-of-type {\n",
       "        vertical-align: middle;\n",
       "    }\n",
       "\n",
       "    .dataframe tbody tr th {\n",
       "        vertical-align: top;\n",
       "    }\n",
       "\n",
       "    .dataframe thead th {\n",
       "        text-align: right;\n",
       "    }\n",
       "</style>\n",
       "<table border=\"1\" class=\"dataframe\">\n",
       "  <thead>\n",
       "    <tr style=\"text-align: right;\">\n",
       "      <th></th>\n",
       "      <th>Date</th>\n",
       "      <th>Customer_ID</th>\n",
       "      <th>Sales_ID</th>\n",
       "      <th>SKU_Category</th>\n",
       "      <th>SKU</th>\n",
       "      <th>Quantity</th>\n",
       "      <th>Sales_Amount</th>\n",
       "    </tr>\n",
       "  </thead>\n",
       "  <tbody>\n",
       "    <tr>\n",
       "      <th>7284</th>\n",
       "      <td>2016-01-22</td>\n",
       "      <td>1</td>\n",
       "      <td>3442</td>\n",
       "      <td>0H2</td>\n",
       "      <td>6OUVC</td>\n",
       "      <td>1.0</td>\n",
       "      <td>10.50</td>\n",
       "    </tr>\n",
       "    <tr>\n",
       "      <th>7285</th>\n",
       "      <td>2016-01-22</td>\n",
       "      <td>1</td>\n",
       "      <td>3442</td>\n",
       "      <td>N8U</td>\n",
       "      <td>CEBU8</td>\n",
       "      <td>1.0</td>\n",
       "      <td>5.79</td>\n",
       "    </tr>\n",
       "    <tr>\n",
       "      <th>14355</th>\n",
       "      <td>2016-02-12</td>\n",
       "      <td>10</td>\n",
       "      <td>6893</td>\n",
       "      <td>SJS</td>\n",
       "      <td>UTE9R</td>\n",
       "      <td>1.0</td>\n",
       "      <td>110.31</td>\n",
       "    </tr>\n",
       "    <tr>\n",
       "      <th>312</th>\n",
       "      <td>2016-01-03</td>\n",
       "      <td>100</td>\n",
       "      <td>181</td>\n",
       "      <td>FEW</td>\n",
       "      <td>3QNEE</td>\n",
       "      <td>1.0</td>\n",
       "      <td>8.32</td>\n",
       "    </tr>\n",
       "    <tr>\n",
       "      <th>313</th>\n",
       "      <td>2016-01-03</td>\n",
       "      <td>100</td>\n",
       "      <td>181</td>\n",
       "      <td>MU3</td>\n",
       "      <td>O9LF5</td>\n",
       "      <td>1.0</td>\n",
       "      <td>4.81</td>\n",
       "    </tr>\n",
       "  </tbody>\n",
       "</table>\n",
       "</div>"
      ],
      "text/plain": [
       "            Date Customer_ID Sales_ID SKU_Category    SKU  Quantity  \\\n",
       "7284  2016-01-22           1     3442          0H2  6OUVC       1.0   \n",
       "7285  2016-01-22           1     3442          N8U  CEBU8       1.0   \n",
       "14355 2016-02-12          10     6893          SJS  UTE9R       1.0   \n",
       "312   2016-01-03         100      181          FEW  3QNEE       1.0   \n",
       "313   2016-01-03         100      181          MU3  O9LF5       1.0   \n",
       "\n",
       "       Sales_Amount  \n",
       "7284          10.50  \n",
       "7285           5.79  \n",
       "14355        110.31  \n",
       "312            8.32  \n",
       "313            4.81  "
      ]
     },
     "execution_count": 14,
     "metadata": {},
     "output_type": "execute_result"
    }
   ],
   "source": [
    "data.head()"
   ]
  },
  {
   "cell_type": "code",
   "execution_count": 15,
   "id": "bc7482c1d6c2f7b7",
   "metadata": {
    "ExecuteTime": {
     "end_time": "2024-09-26T02:12:04.315139Z",
     "start_time": "2024-09-26T02:12:03.625015Z"
    }
   },
   "outputs": [],
   "source": [
    "transactions= data.groupby('Customer_ID')['SKU_Category'].apply(list)"
   ]
  },
  {
   "cell_type": "code",
   "execution_count": 16,
   "id": "8bd9b3fbb636676b",
   "metadata": {
    "ExecuteTime": {
     "end_time": "2024-09-26T02:12:04.348612Z",
     "start_time": "2024-09-26T02:12:04.345526Z"
    }
   },
   "outputs": [],
   "source": [
    "# transactions2 = transactions['SKU_Category'].apply(list)"
   ]
  },
  {
   "cell_type": "code",
   "execution_count": 17,
   "id": "b5870ba7a183bf78",
   "metadata": {
    "ExecuteTime": {
     "end_time": "2024-09-26T02:12:04.366498Z",
     "start_time": "2024-09-26T02:12:04.362620Z"
    }
   },
   "outputs": [],
   "source": [
    "sequences = transactions.values.tolist()"
   ]
  },
  {
   "cell_type": "code",
   "execution_count": 18,
   "id": "a6112f535adfa535",
   "metadata": {
    "ExecuteTime": {
     "end_time": "2024-09-26T02:12:04.386003Z",
     "start_time": "2024-09-26T02:12:04.379952Z"
    }
   },
   "outputs": [
    {
     "data": {
      "text/plain": [
       "[['0H2', 'N8U'], ['SJS'], ['FEW', 'MU3'], ['LSD'], ['1VL', 'J4R', 'P42']]"
      ]
     },
     "execution_count": 18,
     "metadata": {},
     "output_type": "execute_result"
    }
   ],
   "source": [
    "sequences[0:5]"
   ]
  },
  {
   "cell_type": "code",
   "execution_count": 19,
   "id": "61db0e3112a62e84",
   "metadata": {
    "ExecuteTime": {
     "end_time": "2024-09-26T02:12:04.458503Z",
     "start_time": "2024-09-26T02:12:04.455089Z"
    }
   },
   "outputs": [],
   "source": [
    "from collections import defaultdict\n",
    "import subprocess\n",
    "import re\n",
    "    "
   ]
  },
  {
   "cell_type": "code",
   "execution_count": 20,
   "id": "cecfe3aaea297108",
   "metadata": {
    "ExecuteTime": {
     "end_time": "2024-09-26T02:12:04.506299Z",
     "start_time": "2024-09-26T02:12:04.495263Z"
    }
   },
   "outputs": [],
   "source": [
    "\n",
    "''' Uses SPMF to find association rules in supplied transactions '''\n",
    "def get_association_rules(sequences, min_sup, min_conf):\n",
    "    # step 1: create required input for SPMF\n",
    "    \n",
    "    # prepare a dict to uniquely assign each item in the transactions to an int ID\n",
    "    item_dict = defaultdict(int)\n",
    "    output_dict = defaultdict(str)\n",
    "    item_id = 1\n",
    "    \n",
    "    # write your sequences in SPMF format\n",
    "    with open('seq_rule_input.txt', 'w+') as f:\n",
    "        for sequence in sequences:\n",
    "            z = []\n",
    "            for itemset in sequence:\n",
    "                # if there are multiple items in one itemset\n",
    "                if isinstance(itemset, list):\n",
    "                    for item in itemset:\n",
    "                        if item not in item_dict:\n",
    "                            item_dict[item] = item_id\n",
    "                            item_id += 1\n",
    "\n",
    "                        z.append(item_dict[item])\n",
    "                else:\n",
    "                    if itemset not in item_dict:\n",
    "                        item_dict[itemset] = item_id\n",
    "                        output_dict[str(item_id)] = itemset\n",
    "                        item_id += 1\n",
    "                    z.append(item_dict[itemset])\n",
    "                    \n",
    "                # end of itemset\n",
    "                z.append(-1)\n",
    "            \n",
    "            # end of a sequence\n",
    "            z.append(-2)\n",
    "            f.write(' '.join([str(x) for x in z]))\n",
    "            f.write('\\n')\n",
    "    \n",
    "    # run SPMF with supplied parameters\n",
    "    supp_param = '{}%'.format(int(min_sup * 100))\n",
    "    conf_param = '{}%'.format(int(min_conf * 100))\n",
    "    subprocess.call(['java', '-jar', 'spmf.jar', 'run', 'RuleGrowth', \n",
    "                     'seq_rule_input.txt', 'seq_rule_output.txt', \n",
    "                     supp_param, conf_param], shell=True)\n",
    "    \n",
    "    # read back the output rules\n",
    "    outputs = open('seq_rule_output.txt', 'r').read().strip().split('\\n')\n",
    "    output_rules = []\n",
    "    for rule in outputs:\n",
    "        left, right, sup, conf = re.search(pattern=r'([0-9\\,]+) ==> ([0-9\\,]+) #SUP: ([0-9]+) #CONF: ([0-9\\.]+)', string=rule).groups()\n",
    "        sup = int(sup) / len(sequences)\n",
    "        conf = float(conf)\n",
    "        output_rules.append([[output_dict[x] for x in left.split(',')], [output_dict[x] for x in right.split(',')], sup, conf])\n",
    "    \n",
    "    # return pandas DataFrame\n",
    "    return pd.DataFrame(output_rules, columns = ['Left_rule', 'Right_rule', 'Support', 'Confidence'])"
   ]
  },
  {
   "cell_type": "code",
   "execution_count": 21,
   "id": "29a9c9934b8a1bf",
   "metadata": {
    "ExecuteTime": {
     "end_time": "2024-09-26T02:12:05.806928Z",
     "start_time": "2024-09-26T02:12:04.522637Z"
    }
   },
   "outputs": [
    {
     "data": {
      "text/html": [
       "<div>\n",
       "<style scoped>\n",
       "    .dataframe tbody tr th:only-of-type {\n",
       "        vertical-align: middle;\n",
       "    }\n",
       "\n",
       "    .dataframe tbody tr th {\n",
       "        vertical-align: top;\n",
       "    }\n",
       "\n",
       "    .dataframe thead th {\n",
       "        text-align: right;\n",
       "    }\n",
       "</style>\n",
       "<table border=\"1\" class=\"dataframe\">\n",
       "  <thead>\n",
       "    <tr style=\"text-align: right;\">\n",
       "      <th></th>\n",
       "      <th>Left_rule</th>\n",
       "      <th>Right_rule</th>\n",
       "      <th>Support</th>\n",
       "      <th>Confidence</th>\n",
       "    </tr>\n",
       "  </thead>\n",
       "  <tbody>\n",
       "    <tr>\n",
       "      <th>0</th>\n",
       "      <td>[N8U, OXH]</td>\n",
       "      <td>[LPF]</td>\n",
       "      <td>0.021790</td>\n",
       "      <td>0.542354</td>\n",
       "    </tr>\n",
       "    <tr>\n",
       "      <th>1</th>\n",
       "      <td>[N8U, OXH, IEV]</td>\n",
       "      <td>[LPF]</td>\n",
       "      <td>0.014453</td>\n",
       "      <td>0.560892</td>\n",
       "    </tr>\n",
       "    <tr>\n",
       "      <th>2</th>\n",
       "      <td>[N8U, OXH, FU5]</td>\n",
       "      <td>[LPF]</td>\n",
       "      <td>0.010166</td>\n",
       "      <td>0.580808</td>\n",
       "    </tr>\n",
       "    <tr>\n",
       "      <th>3</th>\n",
       "      <td>[N8U, IEV, FU5]</td>\n",
       "      <td>[LPF]</td>\n",
       "      <td>0.010564</td>\n",
       "      <td>0.537079</td>\n",
       "    </tr>\n",
       "    <tr>\n",
       "      <th>4</th>\n",
       "      <td>[N8U, FU5]</td>\n",
       "      <td>[LPF]</td>\n",
       "      <td>0.017282</td>\n",
       "      <td>0.506477</td>\n",
       "    </tr>\n",
       "    <tr>\n",
       "      <th>5</th>\n",
       "      <td>[N8U, 01F]</td>\n",
       "      <td>[IEV]</td>\n",
       "      <td>0.011536</td>\n",
       "      <td>0.509766</td>\n",
       "    </tr>\n",
       "    <tr>\n",
       "      <th>6</th>\n",
       "      <td>[OXH]</td>\n",
       "      <td>[LPF]</td>\n",
       "      <td>0.039425</td>\n",
       "      <td>0.522248</td>\n",
       "    </tr>\n",
       "    <tr>\n",
       "      <th>7</th>\n",
       "      <td>[OXH, U5F]</td>\n",
       "      <td>[LPF]</td>\n",
       "      <td>0.011624</td>\n",
       "      <td>0.513672</td>\n",
       "    </tr>\n",
       "    <tr>\n",
       "      <th>8</th>\n",
       "      <td>[OXH, 01F]</td>\n",
       "      <td>[LPF]</td>\n",
       "      <td>0.010696</td>\n",
       "      <td>0.564103</td>\n",
       "    </tr>\n",
       "    <tr>\n",
       "      <th>9</th>\n",
       "      <td>[OXH, IEV]</td>\n",
       "      <td>[LPF]</td>\n",
       "      <td>0.022055</td>\n",
       "      <td>0.519251</td>\n",
       "    </tr>\n",
       "    <tr>\n",
       "      <th>10</th>\n",
       "      <td>[OXH, IEV, FU5]</td>\n",
       "      <td>[LPF]</td>\n",
       "      <td>0.010210</td>\n",
       "      <td>0.592308</td>\n",
       "    </tr>\n",
       "    <tr>\n",
       "      <th>11</th>\n",
       "      <td>[OXH, 6BZ]</td>\n",
       "      <td>[LPF]</td>\n",
       "      <td>0.011315</td>\n",
       "      <td>0.579186</td>\n",
       "    </tr>\n",
       "    <tr>\n",
       "      <th>12</th>\n",
       "      <td>[OXH, FU5]</td>\n",
       "      <td>[LPF]</td>\n",
       "      <td>0.016840</td>\n",
       "      <td>0.585253</td>\n",
       "    </tr>\n",
       "    <tr>\n",
       "      <th>13</th>\n",
       "      <td>[8HU, LPF]</td>\n",
       "      <td>[IEV]</td>\n",
       "      <td>0.010254</td>\n",
       "      <td>0.508772</td>\n",
       "    </tr>\n",
       "    <tr>\n",
       "      <th>14</th>\n",
       "      <td>[IEV, FU5]</td>\n",
       "      <td>[LPF]</td>\n",
       "      <td>0.017901</td>\n",
       "      <td>0.506884</td>\n",
       "    </tr>\n",
       "    <tr>\n",
       "      <th>15</th>\n",
       "      <td>[FU5]</td>\n",
       "      <td>[LPF]</td>\n",
       "      <td>0.035315</td>\n",
       "      <td>0.509892</td>\n",
       "    </tr>\n",
       "    <tr>\n",
       "      <th>16</th>\n",
       "      <td>[NTA]</td>\n",
       "      <td>[LPF]</td>\n",
       "      <td>0.014320</td>\n",
       "      <td>0.607880</td>\n",
       "    </tr>\n",
       "    <tr>\n",
       "      <th>17</th>\n",
       "      <td>[9ZX]</td>\n",
       "      <td>[LPF]</td>\n",
       "      <td>0.016751</td>\n",
       "      <td>0.517053</td>\n",
       "    </tr>\n",
       "    <tr>\n",
       "      <th>18</th>\n",
       "      <td>[NTA]</td>\n",
       "      <td>[IEV]</td>\n",
       "      <td>0.014674</td>\n",
       "      <td>0.622889</td>\n",
       "    </tr>\n",
       "  </tbody>\n",
       "</table>\n",
       "</div>"
      ],
      "text/plain": [
       "          Left_rule Right_rule   Support  Confidence\n",
       "0        [N8U, OXH]      [LPF]  0.021790    0.542354\n",
       "1   [N8U, OXH, IEV]      [LPF]  0.014453    0.560892\n",
       "2   [N8U, OXH, FU5]      [LPF]  0.010166    0.580808\n",
       "3   [N8U, IEV, FU5]      [LPF]  0.010564    0.537079\n",
       "4        [N8U, FU5]      [LPF]  0.017282    0.506477\n",
       "5        [N8U, 01F]      [IEV]  0.011536    0.509766\n",
       "6             [OXH]      [LPF]  0.039425    0.522248\n",
       "7        [OXH, U5F]      [LPF]  0.011624    0.513672\n",
       "8        [OXH, 01F]      [LPF]  0.010696    0.564103\n",
       "9        [OXH, IEV]      [LPF]  0.022055    0.519251\n",
       "10  [OXH, IEV, FU5]      [LPF]  0.010210    0.592308\n",
       "11       [OXH, 6BZ]      [LPF]  0.011315    0.579186\n",
       "12       [OXH, FU5]      [LPF]  0.016840    0.585253\n",
       "13       [8HU, LPF]      [IEV]  0.010254    0.508772\n",
       "14       [IEV, FU5]      [LPF]  0.017901    0.506884\n",
       "15            [FU5]      [LPF]  0.035315    0.509892\n",
       "16            [NTA]      [LPF]  0.014320    0.607880\n",
       "17            [9ZX]      [LPF]  0.016751    0.517053\n",
       "18            [NTA]      [IEV]  0.014674    0.622889"
      ]
     },
     "execution_count": 21,
     "metadata": {},
     "output_type": "execute_result"
    }
   ],
   "source": [
    "get_association_rules(sequences, 0.01, 0.5)"
   ]
  },
  {
   "cell_type": "code",
   "execution_count": null,
   "id": "b057308729205c79",
   "metadata": {
    "ExecuteTime": {
     "end_time": "2024-09-26T02:12:05.851869Z",
     "start_time": "2024-09-26T02:12:05.850037Z"
    }
   },
   "outputs": [],
   "source": []
  },
  {
   "cell_type": "code",
   "execution_count": null,
   "id": "4e15dc71d9316a91",
   "metadata": {
    "ExecuteTime": {
     "end_time": "2024-09-26T02:12:05.904469Z",
     "start_time": "2024-09-26T02:12:05.901940Z"
    }
   },
   "outputs": [],
   "source": []
  }
 ],
 "metadata": {
  "kernelspec": {
   "display_name": "Python 3 (ipykernel)",
   "language": "python",
   "name": "python3"
  },
  "language_info": {
   "codemirror_mode": {
    "name": "ipython",
    "version": 3
   },
   "file_extension": ".py",
   "mimetype": "text/x-python",
   "name": "python",
   "nbconvert_exporter": "python",
   "pygments_lexer": "ipython3",
   "version": "3.11.9"
  }
 },
 "nbformat": 4,
 "nbformat_minor": 5
}
