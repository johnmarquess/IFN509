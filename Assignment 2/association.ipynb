{
 "cells": [
  {
   "cell_type": "markdown",
   "id": "6c6fe0bb-5676-4b77-9278-d091e67c15dd",
   "metadata": {},
   "source": [
    "# "
   ]
  },
  {
   "cell_type": "markdown",
   "id": "419b126825492a6b",
   "metadata": {},
   "source": "## Task 1 - association mining "
  },
  {
   "cell_type": "code",
   "id": "initial_id",
   "metadata": {
    "ExecuteTime": {
     "end_time": "2024-10-06T23:04:46.353218Z",
     "start_time": "2024-10-06T23:04:45.801791Z"
    }
   },
   "source": [
    "import pandas as pd\n",
    "from apyori import apriori"
   ],
   "outputs": [],
   "execution_count": 1
  },
  {
   "cell_type": "code",
   "id": "cbc1947f4a63e918",
   "metadata": {
    "ExecuteTime": {
     "end_time": "2024-10-06T23:04:46.462314Z",
     "start_time": "2024-10-06T23:04:46.355224Z"
    }
   },
   "source": [
    "data = pd.read_csv('data/D1.csv')\n",
    "data.info()"
   ],
   "outputs": [
    {
     "name": "stdout",
     "output_type": "stream",
     "text": [
      "<class 'pandas.core.frame.DataFrame'>\n",
      "RangeIndex: 131706 entries, 0 to 131705\n",
      "Data columns (total 7 columns):\n",
      " #   Column        Non-Null Count   Dtype  \n",
      "---  ------        --------------   -----  \n",
      " 0   Date          131706 non-null  object \n",
      " 1   Customer_ID   131706 non-null  int64  \n",
      " 2   Sales_ID      131706 non-null  int64  \n",
      " 3   SKU_Category  131706 non-null  object \n",
      " 4   SKU           131706 non-null  object \n",
      " 5   Quantity      131706 non-null  float64\n",
      " 6   Sales_Amount  131706 non-null  float64\n",
      "dtypes: float64(2), int64(2), object(3)\n",
      "memory usage: 7.0+ MB\n"
     ]
    }
   ],
   "execution_count": 2
  },
  {
   "cell_type": "code",
   "id": "224da6d6cc873089",
   "metadata": {
    "ExecuteTime": {
     "end_time": "2024-10-06T23:04:46.467351Z",
     "start_time": "2024-10-06T23:04:46.463323Z"
    }
   },
   "source": [
    "# convert all columns to lower case\n",
    "data.columns = data.columns.str.lower()"
   ],
   "outputs": [],
   "execution_count": 3
  },
  {
   "cell_type": "code",
   "id": "6077804e8e961751",
   "metadata": {
    "ExecuteTime": {
     "end_time": "2024-10-06T23:04:46.484025Z",
     "start_time": "2024-10-06T23:04:46.468423Z"
    }
   },
   "source": "data",
   "outputs": [
    {
     "data": {
      "text/plain": [
       "             date  customer_id  sales_id sku_category    sku  quantity  \\\n",
       "0       2/01/2016         2547         1          X52  0EM7L       1.0   \n",
       "1       2/01/2016          822         2          2ML  68BRQ       1.0   \n",
       "2       2/01/2016         3686         3          0H2  CZUZX       1.0   \n",
       "3       2/01/2016         3719         4          0H2  549KK       1.0   \n",
       "4       2/01/2016         9200         5          0H2  K8EHH       1.0   \n",
       "...           ...          ...       ...          ...    ...       ...   \n",
       "131701  4/07/2016        20203     32900          IEV  FO112       3.0   \n",
       "131702  4/07/2016        20203     32900          N8U  I36F2       1.0   \n",
       "131703  4/07/2016        20203     32900          U5F  4X8P4       1.0   \n",
       "131704  4/07/2016        20203     32900          0H2  ZVTO4       1.0   \n",
       "131705  4/07/2016        20203     32900          Q4N  QM9BP       1.0   \n",
       "\n",
       "        sales_amount  \n",
       "0               3.13  \n",
       "1               5.46  \n",
       "2               6.35  \n",
       "3               5.59  \n",
       "4               6.88  \n",
       "...              ...  \n",
       "131701          6.46  \n",
       "131702          4.50  \n",
       "131703          5.19  \n",
       "131704          4.57  \n",
       "131705         13.68  \n",
       "\n",
       "[131706 rows x 7 columns]"
      ],
      "text/html": [
       "<div>\n",
       "<style scoped>\n",
       "    .dataframe tbody tr th:only-of-type {\n",
       "        vertical-align: middle;\n",
       "    }\n",
       "\n",
       "    .dataframe tbody tr th {\n",
       "        vertical-align: top;\n",
       "    }\n",
       "\n",
       "    .dataframe thead th {\n",
       "        text-align: right;\n",
       "    }\n",
       "</style>\n",
       "<table border=\"1\" class=\"dataframe\">\n",
       "  <thead>\n",
       "    <tr style=\"text-align: right;\">\n",
       "      <th></th>\n",
       "      <th>date</th>\n",
       "      <th>customer_id</th>\n",
       "      <th>sales_id</th>\n",
       "      <th>sku_category</th>\n",
       "      <th>sku</th>\n",
       "      <th>quantity</th>\n",
       "      <th>sales_amount</th>\n",
       "    </tr>\n",
       "  </thead>\n",
       "  <tbody>\n",
       "    <tr>\n",
       "      <th>0</th>\n",
       "      <td>2/01/2016</td>\n",
       "      <td>2547</td>\n",
       "      <td>1</td>\n",
       "      <td>X52</td>\n",
       "      <td>0EM7L</td>\n",
       "      <td>1.0</td>\n",
       "      <td>3.13</td>\n",
       "    </tr>\n",
       "    <tr>\n",
       "      <th>1</th>\n",
       "      <td>2/01/2016</td>\n",
       "      <td>822</td>\n",
       "      <td>2</td>\n",
       "      <td>2ML</td>\n",
       "      <td>68BRQ</td>\n",
       "      <td>1.0</td>\n",
       "      <td>5.46</td>\n",
       "    </tr>\n",
       "    <tr>\n",
       "      <th>2</th>\n",
       "      <td>2/01/2016</td>\n",
       "      <td>3686</td>\n",
       "      <td>3</td>\n",
       "      <td>0H2</td>\n",
       "      <td>CZUZX</td>\n",
       "      <td>1.0</td>\n",
       "      <td>6.35</td>\n",
       "    </tr>\n",
       "    <tr>\n",
       "      <th>3</th>\n",
       "      <td>2/01/2016</td>\n",
       "      <td>3719</td>\n",
       "      <td>4</td>\n",
       "      <td>0H2</td>\n",
       "      <td>549KK</td>\n",
       "      <td>1.0</td>\n",
       "      <td>5.59</td>\n",
       "    </tr>\n",
       "    <tr>\n",
       "      <th>4</th>\n",
       "      <td>2/01/2016</td>\n",
       "      <td>9200</td>\n",
       "      <td>5</td>\n",
       "      <td>0H2</td>\n",
       "      <td>K8EHH</td>\n",
       "      <td>1.0</td>\n",
       "      <td>6.88</td>\n",
       "    </tr>\n",
       "    <tr>\n",
       "      <th>...</th>\n",
       "      <td>...</td>\n",
       "      <td>...</td>\n",
       "      <td>...</td>\n",
       "      <td>...</td>\n",
       "      <td>...</td>\n",
       "      <td>...</td>\n",
       "      <td>...</td>\n",
       "    </tr>\n",
       "    <tr>\n",
       "      <th>131701</th>\n",
       "      <td>4/07/2016</td>\n",
       "      <td>20203</td>\n",
       "      <td>32900</td>\n",
       "      <td>IEV</td>\n",
       "      <td>FO112</td>\n",
       "      <td>3.0</td>\n",
       "      <td>6.46</td>\n",
       "    </tr>\n",
       "    <tr>\n",
       "      <th>131702</th>\n",
       "      <td>4/07/2016</td>\n",
       "      <td>20203</td>\n",
       "      <td>32900</td>\n",
       "      <td>N8U</td>\n",
       "      <td>I36F2</td>\n",
       "      <td>1.0</td>\n",
       "      <td>4.50</td>\n",
       "    </tr>\n",
       "    <tr>\n",
       "      <th>131703</th>\n",
       "      <td>4/07/2016</td>\n",
       "      <td>20203</td>\n",
       "      <td>32900</td>\n",
       "      <td>U5F</td>\n",
       "      <td>4X8P4</td>\n",
       "      <td>1.0</td>\n",
       "      <td>5.19</td>\n",
       "    </tr>\n",
       "    <tr>\n",
       "      <th>131704</th>\n",
       "      <td>4/07/2016</td>\n",
       "      <td>20203</td>\n",
       "      <td>32900</td>\n",
       "      <td>0H2</td>\n",
       "      <td>ZVTO4</td>\n",
       "      <td>1.0</td>\n",
       "      <td>4.57</td>\n",
       "    </tr>\n",
       "    <tr>\n",
       "      <th>131705</th>\n",
       "      <td>4/07/2016</td>\n",
       "      <td>20203</td>\n",
       "      <td>32900</td>\n",
       "      <td>Q4N</td>\n",
       "      <td>QM9BP</td>\n",
       "      <td>1.0</td>\n",
       "      <td>13.68</td>\n",
       "    </tr>\n",
       "  </tbody>\n",
       "</table>\n",
       "<p>131706 rows × 7 columns</p>\n",
       "</div>"
      ]
     },
     "execution_count": 4,
     "metadata": {},
     "output_type": "execute_result"
    }
   ],
   "execution_count": 4
  },
  {
   "cell_type": "code",
   "id": "c33284f9f1cfd8e9",
   "metadata": {
    "ExecuteTime": {
     "end_time": "2024-10-06T23:04:46.502610Z",
     "start_time": "2024-10-06T23:04:46.486031Z"
    }
   },
   "source": [
    "# convert Date to a date object\n",
    "data['date'] = pd.to_datetime(data['date'], format='%d/%m/%Y')"
   ],
   "outputs": [],
   "execution_count": 5
  },
  {
   "cell_type": "code",
   "id": "84285b4002e29b01",
   "metadata": {
    "ExecuteTime": {
     "end_time": "2024-10-06T23:04:46.565348Z",
     "start_time": "2024-10-06T23:04:46.503621Z"
    }
   },
   "source": [
    "# Convert Sales_ID, and Customer_ID to a string type\n",
    "data['sales_id'] = data['sales_id'].astype(str)\n",
    "data['customer_id'] = data['customer_id'].astype(str)"
   ],
   "outputs": [],
   "execution_count": 6
  },
  {
   "cell_type": "code",
   "id": "9d31fc6abe056dfe",
   "metadata": {
    "ExecuteTime": {
     "end_time": "2024-10-06T23:04:46.574684Z",
     "start_time": "2024-10-06T23:04:46.565859Z"
    }
   },
   "source": "data.head()",
   "outputs": [
    {
     "data": {
      "text/plain": [
       "        date customer_id sales_id sku_category    sku  quantity  sales_amount\n",
       "0 2016-01-02        2547        1          X52  0EM7L       1.0          3.13\n",
       "1 2016-01-02         822        2          2ML  68BRQ       1.0          5.46\n",
       "2 2016-01-02        3686        3          0H2  CZUZX       1.0          6.35\n",
       "3 2016-01-02        3719        4          0H2  549KK       1.0          5.59\n",
       "4 2016-01-02        9200        5          0H2  K8EHH       1.0          6.88"
      ],
      "text/html": [
       "<div>\n",
       "<style scoped>\n",
       "    .dataframe tbody tr th:only-of-type {\n",
       "        vertical-align: middle;\n",
       "    }\n",
       "\n",
       "    .dataframe tbody tr th {\n",
       "        vertical-align: top;\n",
       "    }\n",
       "\n",
       "    .dataframe thead th {\n",
       "        text-align: right;\n",
       "    }\n",
       "</style>\n",
       "<table border=\"1\" class=\"dataframe\">\n",
       "  <thead>\n",
       "    <tr style=\"text-align: right;\">\n",
       "      <th></th>\n",
       "      <th>date</th>\n",
       "      <th>customer_id</th>\n",
       "      <th>sales_id</th>\n",
       "      <th>sku_category</th>\n",
       "      <th>sku</th>\n",
       "      <th>quantity</th>\n",
       "      <th>sales_amount</th>\n",
       "    </tr>\n",
       "  </thead>\n",
       "  <tbody>\n",
       "    <tr>\n",
       "      <th>0</th>\n",
       "      <td>2016-01-02</td>\n",
       "      <td>2547</td>\n",
       "      <td>1</td>\n",
       "      <td>X52</td>\n",
       "      <td>0EM7L</td>\n",
       "      <td>1.0</td>\n",
       "      <td>3.13</td>\n",
       "    </tr>\n",
       "    <tr>\n",
       "      <th>1</th>\n",
       "      <td>2016-01-02</td>\n",
       "      <td>822</td>\n",
       "      <td>2</td>\n",
       "      <td>2ML</td>\n",
       "      <td>68BRQ</td>\n",
       "      <td>1.0</td>\n",
       "      <td>5.46</td>\n",
       "    </tr>\n",
       "    <tr>\n",
       "      <th>2</th>\n",
       "      <td>2016-01-02</td>\n",
       "      <td>3686</td>\n",
       "      <td>3</td>\n",
       "      <td>0H2</td>\n",
       "      <td>CZUZX</td>\n",
       "      <td>1.0</td>\n",
       "      <td>6.35</td>\n",
       "    </tr>\n",
       "    <tr>\n",
       "      <th>3</th>\n",
       "      <td>2016-01-02</td>\n",
       "      <td>3719</td>\n",
       "      <td>4</td>\n",
       "      <td>0H2</td>\n",
       "      <td>549KK</td>\n",
       "      <td>1.0</td>\n",
       "      <td>5.59</td>\n",
       "    </tr>\n",
       "    <tr>\n",
       "      <th>4</th>\n",
       "      <td>2016-01-02</td>\n",
       "      <td>9200</td>\n",
       "      <td>5</td>\n",
       "      <td>0H2</td>\n",
       "      <td>K8EHH</td>\n",
       "      <td>1.0</td>\n",
       "      <td>6.88</td>\n",
       "    </tr>\n",
       "  </tbody>\n",
       "</table>\n",
       "</div>"
      ]
     },
     "execution_count": 7,
     "metadata": {},
     "output_type": "execute_result"
    }
   ],
   "execution_count": 7
  },
  {
   "cell_type": "code",
   "id": "ee4485865529b502",
   "metadata": {
    "ExecuteTime": {
     "end_time": "2024-10-06T23:04:47.904171Z",
     "start_time": "2024-10-06T23:04:46.576205Z"
    }
   },
   "source": [
    "# Define the Transactional Data\n",
    "transactions = data.groupby('sales_id')['sku_category'].apply(list)\n",
    "transactions_list = list(transactions)"
   ],
   "outputs": [],
   "execution_count": 8
  },
  {
   "cell_type": "code",
   "id": "f47e4e1897bd7c4f",
   "metadata": {
    "ExecuteTime": {
     "end_time": "2024-10-06T23:04:47.971568Z",
     "start_time": "2024-10-06T23:04:47.905176Z"
    }
   },
   "source": [
    "data.groupby(['customer_id','date'])['sales_id'].count()"
   ],
   "outputs": [
    {
     "data": {
      "text/plain": [
       "customer_id  date      \n",
       "1            2016-01-22    2\n",
       "10           2016-02-12    1\n",
       "100          2016-01-03    2\n",
       "1000         2016-02-15    1\n",
       "10000        2016-05-11    2\n",
       "                          ..\n",
       "9996         2016-09-18    2\n",
       "             2016-10-16    3\n",
       "9997         2016-09-02    1\n",
       "9998         2016-07-13    2\n",
       "9999         2016-05-06    3\n",
       "Name: sales_id, Length: 62727, dtype: int64"
      ]
     },
     "execution_count": 9,
     "metadata": {},
     "output_type": "execute_result"
    }
   ],
   "execution_count": 9
  },
  {
   "cell_type": "code",
   "id": "5925c3c9f6cc4a4c",
   "metadata": {
    "ExecuteTime": {
     "end_time": "2024-10-06T23:04:47.982178Z",
     "start_time": "2024-10-06T23:04:47.972573Z"
    }
   },
   "source": [
    "1 / len(data['sku_category'].value_counts())"
   ],
   "outputs": [
    {
     "data": {
      "text/plain": [
       "0.0053475935828877"
      ]
     },
     "execution_count": 10,
     "metadata": {},
     "output_type": "execute_result"
    }
   ],
   "execution_count": 10
  },
  {
   "cell_type": "code",
   "id": "ef53ae8427d594e6",
   "metadata": {
    "ExecuteTime": {
     "end_time": "2024-10-06T23:04:48.119016Z",
     "start_time": "2024-10-06T23:04:47.983186Z"
    }
   },
   "source": "results = list(apriori(transactions_list, min_support=0.005, min_confidence=0.4))",
   "outputs": [],
   "execution_count": 11
  },
  {
   "metadata": {
    "ExecuteTime": {
     "end_time": "2024-10-06T23:04:48.124375Z",
     "start_time": "2024-10-06T23:04:48.120051Z"
    }
   },
   "cell_type": "code",
   "source": [
    "def convert_apriori_results_to_pandas_df(results):\n",
    "    rules = []\n",
    "    for rule_set in results:\n",
    "        for rule in rule_set.ordered_statistics:\n",
    "            # items_base = Left side of rules, items_add = Right side\n",
    "            # support, confidence and lift for respoective rules\n",
    "            rules.append([','.join(rule.items_base), ','.join(rule.items_add),\n",
    "                          rule_set.support, rule.confidence, rule.lift])\n",
    "            \n",
    "            # Typecast it to pandas df\n",
    "    return pd.DataFrame(rules, columns=['Left_rule', 'Right_rule', 'Support', 'Confidence', 'Lift'])\n"
   ],
   "id": "8b8e2af75c729abb",
   "outputs": [],
   "execution_count": 12
  },
  {
   "cell_type": "code",
   "id": "35f14aa6150219fd",
   "metadata": {
    "ExecuteTime": {
     "end_time": "2024-10-06T23:04:48.133248Z",
     "start_time": "2024-10-06T23:04:48.125894Z"
    }
   },
   "source": "results_df = convert_apriori_results_to_pandas_df(results)",
   "outputs": [],
   "execution_count": 13
  },
  {
   "cell_type": "code",
   "id": "4fc55afc587a467c",
   "metadata": {
    "ExecuteTime": {
     "end_time": "2024-10-06T23:04:48.149561Z",
     "start_time": "2024-10-06T23:04:48.134262Z"
    }
   },
   "source": "results_df.sort_values(by='Lift', ascending=False)",
   "outputs": [
    {
     "data": {
      "text/plain": [
       "   Left_rule Right_rule   Support  Confidence      Lift\n",
       "28   N8U,LPF        OXH  0.006973    0.413761  9.919540\n",
       "29   OXH,N8U        LPF  0.006973    0.626389  8.715011\n",
       "22   N8U,LPF        IEV  0.009338    0.554128  8.697436\n",
       "23   OXH,IEV        LPF  0.010930    0.619089  8.613451\n",
       "27   OXH,N8U        IEV  0.006076    0.545833  8.567239\n",
       "24   OXH,LPF        IEV  0.010930    0.544684  8.549201\n",
       "20   FU5,OXH        LPF  0.007313    0.610323  8.491479\n",
       "21   N8U,IEV        LPF  0.009338    0.609485  8.479831\n",
       "15   01F,LPF        IEV  0.006447    0.528517  8.295449\n",
       "26   U5F,LPF        IEV  0.005581    0.517934  8.129339\n",
       "19   FU5,N8U        LPF  0.005844    0.574468  7.992632\n",
       "10       NTA        IEV  0.006076    0.505792  7.938754\n",
       "5        EKM        IEV  0.008148    0.495767  7.781408\n",
       "16   FU5,IEV        LPF  0.009292    0.557514  7.756747\n",
       "2        8HU        U5F  0.015476    0.431466  7.739338\n",
       "0        01F        IEV  0.012909    0.481268  7.553841\n",
       "18   FU5,OXH        IEV  0.005628    0.469677  7.371918\n",
       "6        EKM        LPF  0.008534    0.519285  7.224865\n",
       "17   FU5,LPF        IEV  0.009292    0.449514  7.055437\n",
       "14   01F,IEV        LPF  0.006447    0.499401  6.948219\n",
       "4        9ZX        LPF  0.009462    0.498371  6.933890\n",
       "7        FU5        LPF  0.020670    0.494636  6.881914\n",
       "12       NTA        LPF  0.005921    0.492921  6.858066\n",
       "25   U5F,IEV        LPF  0.005581    0.491826  6.842819\n",
       "8        IEV        LPF  0.031152    0.488959  6.802935\n",
       "9        LPF        IEV  0.031152    0.433427  6.802935\n",
       "13       OXH        LPF  0.020067    0.481097  6.693552\n",
       "11       OXH        IEV  0.017656    0.423277  6.643623\n",
       "3        9ZX        IEV  0.007900    0.416124  6.531356\n",
       "1        01F        LPF  0.012198    0.454755  6.327052"
      ],
      "text/html": [
       "<div>\n",
       "<style scoped>\n",
       "    .dataframe tbody tr th:only-of-type {\n",
       "        vertical-align: middle;\n",
       "    }\n",
       "\n",
       "    .dataframe tbody tr th {\n",
       "        vertical-align: top;\n",
       "    }\n",
       "\n",
       "    .dataframe thead th {\n",
       "        text-align: right;\n",
       "    }\n",
       "</style>\n",
       "<table border=\"1\" class=\"dataframe\">\n",
       "  <thead>\n",
       "    <tr style=\"text-align: right;\">\n",
       "      <th></th>\n",
       "      <th>Left_rule</th>\n",
       "      <th>Right_rule</th>\n",
       "      <th>Support</th>\n",
       "      <th>Confidence</th>\n",
       "      <th>Lift</th>\n",
       "    </tr>\n",
       "  </thead>\n",
       "  <tbody>\n",
       "    <tr>\n",
       "      <th>28</th>\n",
       "      <td>N8U,LPF</td>\n",
       "      <td>OXH</td>\n",
       "      <td>0.006973</td>\n",
       "      <td>0.413761</td>\n",
       "      <td>9.919540</td>\n",
       "    </tr>\n",
       "    <tr>\n",
       "      <th>29</th>\n",
       "      <td>OXH,N8U</td>\n",
       "      <td>LPF</td>\n",
       "      <td>0.006973</td>\n",
       "      <td>0.626389</td>\n",
       "      <td>8.715011</td>\n",
       "    </tr>\n",
       "    <tr>\n",
       "      <th>22</th>\n",
       "      <td>N8U,LPF</td>\n",
       "      <td>IEV</td>\n",
       "      <td>0.009338</td>\n",
       "      <td>0.554128</td>\n",
       "      <td>8.697436</td>\n",
       "    </tr>\n",
       "    <tr>\n",
       "      <th>23</th>\n",
       "      <td>OXH,IEV</td>\n",
       "      <td>LPF</td>\n",
       "      <td>0.010930</td>\n",
       "      <td>0.619089</td>\n",
       "      <td>8.613451</td>\n",
       "    </tr>\n",
       "    <tr>\n",
       "      <th>27</th>\n",
       "      <td>OXH,N8U</td>\n",
       "      <td>IEV</td>\n",
       "      <td>0.006076</td>\n",
       "      <td>0.545833</td>\n",
       "      <td>8.567239</td>\n",
       "    </tr>\n",
       "    <tr>\n",
       "      <th>24</th>\n",
       "      <td>OXH,LPF</td>\n",
       "      <td>IEV</td>\n",
       "      <td>0.010930</td>\n",
       "      <td>0.544684</td>\n",
       "      <td>8.549201</td>\n",
       "    </tr>\n",
       "    <tr>\n",
       "      <th>20</th>\n",
       "      <td>FU5,OXH</td>\n",
       "      <td>LPF</td>\n",
       "      <td>0.007313</td>\n",
       "      <td>0.610323</td>\n",
       "      <td>8.491479</td>\n",
       "    </tr>\n",
       "    <tr>\n",
       "      <th>21</th>\n",
       "      <td>N8U,IEV</td>\n",
       "      <td>LPF</td>\n",
       "      <td>0.009338</td>\n",
       "      <td>0.609485</td>\n",
       "      <td>8.479831</td>\n",
       "    </tr>\n",
       "    <tr>\n",
       "      <th>15</th>\n",
       "      <td>01F,LPF</td>\n",
       "      <td>IEV</td>\n",
       "      <td>0.006447</td>\n",
       "      <td>0.528517</td>\n",
       "      <td>8.295449</td>\n",
       "    </tr>\n",
       "    <tr>\n",
       "      <th>26</th>\n",
       "      <td>U5F,LPF</td>\n",
       "      <td>IEV</td>\n",
       "      <td>0.005581</td>\n",
       "      <td>0.517934</td>\n",
       "      <td>8.129339</td>\n",
       "    </tr>\n",
       "    <tr>\n",
       "      <th>19</th>\n",
       "      <td>FU5,N8U</td>\n",
       "      <td>LPF</td>\n",
       "      <td>0.005844</td>\n",
       "      <td>0.574468</td>\n",
       "      <td>7.992632</td>\n",
       "    </tr>\n",
       "    <tr>\n",
       "      <th>10</th>\n",
       "      <td>NTA</td>\n",
       "      <td>IEV</td>\n",
       "      <td>0.006076</td>\n",
       "      <td>0.505792</td>\n",
       "      <td>7.938754</td>\n",
       "    </tr>\n",
       "    <tr>\n",
       "      <th>5</th>\n",
       "      <td>EKM</td>\n",
       "      <td>IEV</td>\n",
       "      <td>0.008148</td>\n",
       "      <td>0.495767</td>\n",
       "      <td>7.781408</td>\n",
       "    </tr>\n",
       "    <tr>\n",
       "      <th>16</th>\n",
       "      <td>FU5,IEV</td>\n",
       "      <td>LPF</td>\n",
       "      <td>0.009292</td>\n",
       "      <td>0.557514</td>\n",
       "      <td>7.756747</td>\n",
       "    </tr>\n",
       "    <tr>\n",
       "      <th>2</th>\n",
       "      <td>8HU</td>\n",
       "      <td>U5F</td>\n",
       "      <td>0.015476</td>\n",
       "      <td>0.431466</td>\n",
       "      <td>7.739338</td>\n",
       "    </tr>\n",
       "    <tr>\n",
       "      <th>0</th>\n",
       "      <td>01F</td>\n",
       "      <td>IEV</td>\n",
       "      <td>0.012909</td>\n",
       "      <td>0.481268</td>\n",
       "      <td>7.553841</td>\n",
       "    </tr>\n",
       "    <tr>\n",
       "      <th>18</th>\n",
       "      <td>FU5,OXH</td>\n",
       "      <td>IEV</td>\n",
       "      <td>0.005628</td>\n",
       "      <td>0.469677</td>\n",
       "      <td>7.371918</td>\n",
       "    </tr>\n",
       "    <tr>\n",
       "      <th>6</th>\n",
       "      <td>EKM</td>\n",
       "      <td>LPF</td>\n",
       "      <td>0.008534</td>\n",
       "      <td>0.519285</td>\n",
       "      <td>7.224865</td>\n",
       "    </tr>\n",
       "    <tr>\n",
       "      <th>17</th>\n",
       "      <td>FU5,LPF</td>\n",
       "      <td>IEV</td>\n",
       "      <td>0.009292</td>\n",
       "      <td>0.449514</td>\n",
       "      <td>7.055437</td>\n",
       "    </tr>\n",
       "    <tr>\n",
       "      <th>14</th>\n",
       "      <td>01F,IEV</td>\n",
       "      <td>LPF</td>\n",
       "      <td>0.006447</td>\n",
       "      <td>0.499401</td>\n",
       "      <td>6.948219</td>\n",
       "    </tr>\n",
       "    <tr>\n",
       "      <th>4</th>\n",
       "      <td>9ZX</td>\n",
       "      <td>LPF</td>\n",
       "      <td>0.009462</td>\n",
       "      <td>0.498371</td>\n",
       "      <td>6.933890</td>\n",
       "    </tr>\n",
       "    <tr>\n",
       "      <th>7</th>\n",
       "      <td>FU5</td>\n",
       "      <td>LPF</td>\n",
       "      <td>0.020670</td>\n",
       "      <td>0.494636</td>\n",
       "      <td>6.881914</td>\n",
       "    </tr>\n",
       "    <tr>\n",
       "      <th>12</th>\n",
       "      <td>NTA</td>\n",
       "      <td>LPF</td>\n",
       "      <td>0.005921</td>\n",
       "      <td>0.492921</td>\n",
       "      <td>6.858066</td>\n",
       "    </tr>\n",
       "    <tr>\n",
       "      <th>25</th>\n",
       "      <td>U5F,IEV</td>\n",
       "      <td>LPF</td>\n",
       "      <td>0.005581</td>\n",
       "      <td>0.491826</td>\n",
       "      <td>6.842819</td>\n",
       "    </tr>\n",
       "    <tr>\n",
       "      <th>8</th>\n",
       "      <td>IEV</td>\n",
       "      <td>LPF</td>\n",
       "      <td>0.031152</td>\n",
       "      <td>0.488959</td>\n",
       "      <td>6.802935</td>\n",
       "    </tr>\n",
       "    <tr>\n",
       "      <th>9</th>\n",
       "      <td>LPF</td>\n",
       "      <td>IEV</td>\n",
       "      <td>0.031152</td>\n",
       "      <td>0.433427</td>\n",
       "      <td>6.802935</td>\n",
       "    </tr>\n",
       "    <tr>\n",
       "      <th>13</th>\n",
       "      <td>OXH</td>\n",
       "      <td>LPF</td>\n",
       "      <td>0.020067</td>\n",
       "      <td>0.481097</td>\n",
       "      <td>6.693552</td>\n",
       "    </tr>\n",
       "    <tr>\n",
       "      <th>11</th>\n",
       "      <td>OXH</td>\n",
       "      <td>IEV</td>\n",
       "      <td>0.017656</td>\n",
       "      <td>0.423277</td>\n",
       "      <td>6.643623</td>\n",
       "    </tr>\n",
       "    <tr>\n",
       "      <th>3</th>\n",
       "      <td>9ZX</td>\n",
       "      <td>IEV</td>\n",
       "      <td>0.007900</td>\n",
       "      <td>0.416124</td>\n",
       "      <td>6.531356</td>\n",
       "    </tr>\n",
       "    <tr>\n",
       "      <th>1</th>\n",
       "      <td>01F</td>\n",
       "      <td>LPF</td>\n",
       "      <td>0.012198</td>\n",
       "      <td>0.454755</td>\n",
       "      <td>6.327052</td>\n",
       "    </tr>\n",
       "  </tbody>\n",
       "</table>\n",
       "</div>"
      ]
     },
     "execution_count": 14,
     "metadata": {},
     "output_type": "execute_result"
    }
   ],
   "execution_count": 14
  },
  {
   "metadata": {},
   "cell_type": "markdown",
   "source": "### Part 3 - top 5 for 01F specifc categories",
   "id": "5c05e24d9d9fdf26"
  },
  {
   "metadata": {
    "ExecuteTime": {
     "end_time": "2024-10-06T23:04:48.303074Z",
     "start_time": "2024-10-06T23:04:48.152569Z"
    }
   },
   "cell_type": "code",
   "source": "results_01F = list(apriori(transactions_list, min_support=0.005, min_confidence=0.25))",
   "id": "bea26a360786d09",
   "outputs": [],
   "execution_count": 15
  },
  {
   "metadata": {
    "ExecuteTime": {
     "end_time": "2024-10-06T23:04:48.308785Z",
     "start_time": "2024-10-06T23:04:48.304079Z"
    }
   },
   "cell_type": "code",
   "source": "results_df_01F = convert_apriori_results_to_pandas_df(results_01F)",
   "id": "3617c20019dae857",
   "outputs": [],
   "execution_count": 16
  },
  {
   "metadata": {
    "ExecuteTime": {
     "end_time": "2024-10-06T23:04:48.318179Z",
     "start_time": "2024-10-06T23:04:48.309792Z"
    }
   },
   "cell_type": "code",
   "source": [
    "# filter results_df for rules with 01F in the left_rule or the right rule\n",
    "filtered_results = results_df_01F[results_df_01F['Left_rule'].str.contains('01F') | results_df_01F['Right_rule'].str.contains('01F')]"
   ],
   "id": "e23b5d312f85d11a",
   "outputs": [],
   "execution_count": 17
  },
  {
   "metadata": {
    "ExecuteTime": {
     "end_time": "2024-10-06T23:04:48.330336Z",
     "start_time": "2024-10-06T23:04:48.319183Z"
    }
   },
   "cell_type": "code",
   "source": "filtered_results.sort_values(by='Support', ascending=False)",
   "id": "1fa0aa40bb1b41fd",
   "outputs": [
    {
     "data": {
      "text/plain": [
       "   Left_rule Right_rule   Support  Confidence      Lift\n",
       "1        01F        IEV  0.012909    0.481268  7.553841\n",
       "2        01F        LPF  0.012198    0.454755  6.327052\n",
       "4        01F        OXH  0.008163    0.304323  7.295851\n",
       "0        01F        FU5  0.007498    0.279539  6.689284\n",
       "3        01F        N8U  0.007421    0.276657  1.806089\n",
       "36   01F,IEV        LPF  0.006447    0.499401  6.948219\n",
       "37   01F,LPF        IEV  0.006447    0.528517  8.295449"
      ],
      "text/html": [
       "<div>\n",
       "<style scoped>\n",
       "    .dataframe tbody tr th:only-of-type {\n",
       "        vertical-align: middle;\n",
       "    }\n",
       "\n",
       "    .dataframe tbody tr th {\n",
       "        vertical-align: top;\n",
       "    }\n",
       "\n",
       "    .dataframe thead th {\n",
       "        text-align: right;\n",
       "    }\n",
       "</style>\n",
       "<table border=\"1\" class=\"dataframe\">\n",
       "  <thead>\n",
       "    <tr style=\"text-align: right;\">\n",
       "      <th></th>\n",
       "      <th>Left_rule</th>\n",
       "      <th>Right_rule</th>\n",
       "      <th>Support</th>\n",
       "      <th>Confidence</th>\n",
       "      <th>Lift</th>\n",
       "    </tr>\n",
       "  </thead>\n",
       "  <tbody>\n",
       "    <tr>\n",
       "      <th>1</th>\n",
       "      <td>01F</td>\n",
       "      <td>IEV</td>\n",
       "      <td>0.012909</td>\n",
       "      <td>0.481268</td>\n",
       "      <td>7.553841</td>\n",
       "    </tr>\n",
       "    <tr>\n",
       "      <th>2</th>\n",
       "      <td>01F</td>\n",
       "      <td>LPF</td>\n",
       "      <td>0.012198</td>\n",
       "      <td>0.454755</td>\n",
       "      <td>6.327052</td>\n",
       "    </tr>\n",
       "    <tr>\n",
       "      <th>4</th>\n",
       "      <td>01F</td>\n",
       "      <td>OXH</td>\n",
       "      <td>0.008163</td>\n",
       "      <td>0.304323</td>\n",
       "      <td>7.295851</td>\n",
       "    </tr>\n",
       "    <tr>\n",
       "      <th>0</th>\n",
       "      <td>01F</td>\n",
       "      <td>FU5</td>\n",
       "      <td>0.007498</td>\n",
       "      <td>0.279539</td>\n",
       "      <td>6.689284</td>\n",
       "    </tr>\n",
       "    <tr>\n",
       "      <th>3</th>\n",
       "      <td>01F</td>\n",
       "      <td>N8U</td>\n",
       "      <td>0.007421</td>\n",
       "      <td>0.276657</td>\n",
       "      <td>1.806089</td>\n",
       "    </tr>\n",
       "    <tr>\n",
       "      <th>36</th>\n",
       "      <td>01F,IEV</td>\n",
       "      <td>LPF</td>\n",
       "      <td>0.006447</td>\n",
       "      <td>0.499401</td>\n",
       "      <td>6.948219</td>\n",
       "    </tr>\n",
       "    <tr>\n",
       "      <th>37</th>\n",
       "      <td>01F,LPF</td>\n",
       "      <td>IEV</td>\n",
       "      <td>0.006447</td>\n",
       "      <td>0.528517</td>\n",
       "      <td>8.295449</td>\n",
       "    </tr>\n",
       "  </tbody>\n",
       "</table>\n",
       "</div>"
      ]
     },
     "execution_count": 18,
     "metadata": {},
     "output_type": "execute_result"
    }
   ],
   "execution_count": 18
  },
  {
   "metadata": {},
   "cell_type": "markdown",
   "source": "#### Part 4 - Association Rules using SPMF",
   "id": "af925d2567fd9729"
  },
  {
   "cell_type": "code",
   "id": "661d08853754c6d4",
   "metadata": {
    "ExecuteTime": {
     "end_time": "2024-10-06T23:09:27.360058Z",
     "start_time": "2024-10-06T23:09:27.300192Z"
    }
   },
   "source": "data = data.sort_values(by=['customer_id', 'date'], ascending=True)",
   "outputs": [],
   "execution_count": 30
  },
  {
   "cell_type": "code",
   "id": "bc7482c1d6c2f7b7",
   "metadata": {
    "ExecuteTime": {
     "end_time": "2024-10-06T23:04:49.004725Z",
     "start_time": "2024-10-06T23:04:48.409697Z"
    }
   },
   "source": "transactions= data.groupby('customer_id')['sku_category'].apply(list)",
   "outputs": [],
   "execution_count": 21
  },
  {
   "metadata": {
    "ExecuteTime": {
     "end_time": "2024-10-06T23:08:52.826656Z",
     "start_time": "2024-10-06T23:08:52.816096Z"
    }
   },
   "cell_type": "code",
   "source": "transactions.head()",
   "id": "ccd0e66f6d42328f",
   "outputs": [
    {
     "data": {
      "text/plain": [
       "customer_id\n",
       "1                                           [0H2, N8U]\n",
       "10                                               [SJS]\n",
       "100                                         [FEW, MU3]\n",
       "1000                                             [LSD]\n",
       "10000                                  [1VL, J4R, P42]\n",
       "                             ...                      \n",
       "9995          [Q4N, N5F, JPI, 29A, Q4N, P42, 1TS, JKC]\n",
       "9996     [F9B, H8O, I4Y, N8U, NVL, LGI, XG4, A0G, P42]\n",
       "9997                                             [FZT]\n",
       "9998                                        [N8U, 29A]\n",
       "9999                                   [A38, U5F, H8O]\n",
       "Name: sku_category, Length: 22625, dtype: object"
      ]
     },
     "execution_count": 29,
     "metadata": {},
     "output_type": "execute_result"
    }
   ],
   "execution_count": 29
  },
  {
   "cell_type": "code",
   "id": "b5870ba7a183bf78",
   "metadata": {
    "ExecuteTime": {
     "end_time": "2024-10-06T23:04:49.009902Z",
     "start_time": "2024-10-06T23:04:49.004725Z"
    }
   },
   "source": [
    "sequences = transactions.values.tolist()"
   ],
   "outputs": [],
   "execution_count": 22
  },
  {
   "cell_type": "code",
   "id": "a6112f535adfa535",
   "metadata": {
    "ExecuteTime": {
     "end_time": "2024-10-06T23:04:49.019Z",
     "start_time": "2024-10-06T23:04:49.011910Z"
    }
   },
   "source": [
    "sequences[0:5]"
   ],
   "outputs": [
    {
     "data": {
      "text/plain": [
       "[['0H2', 'N8U'], ['SJS'], ['FEW', 'MU3'], ['LSD'], ['1VL', 'J4R', 'P42']]"
      ]
     },
     "execution_count": 23,
     "metadata": {},
     "output_type": "execute_result"
    }
   ],
   "execution_count": 23
  },
  {
   "cell_type": "code",
   "id": "61db0e3112a62e84",
   "metadata": {
    "ExecuteTime": {
     "end_time": "2024-10-06T23:04:49.026006Z",
     "start_time": "2024-10-06T23:04:49.020004Z"
    }
   },
   "source": [
    "from collections import defaultdict\n",
    "import subprocess\n",
    "import re\n",
    "    "
   ],
   "outputs": [],
   "execution_count": 24
  },
  {
   "cell_type": "code",
   "id": "cecfe3aaea297108",
   "metadata": {
    "ExecuteTime": {
     "end_time": "2024-10-06T23:04:49.038026Z",
     "start_time": "2024-10-06T23:04:49.027030Z"
    }
   },
   "source": [
    "\n",
    "''' Uses SPMF to find association rules in supplied transactions '''\n",
    "def get_association_rules(sequences, min_sup, min_conf):\n",
    "    # step 1: create required input for SPMF\n",
    "    \n",
    "    # prepare a dict to uniquely assign each item in the transactions to an int ID\n",
    "    item_dict = defaultdict(int)\n",
    "    output_dict = defaultdict(str)\n",
    "    item_id = 1\n",
    "    \n",
    "    # write your sequences in SPMF format\n",
    "    with open('seq_rule_input.txt', 'w+') as f:\n",
    "        for sequence in sequences:\n",
    "            z = []\n",
    "            for itemset in sequence:\n",
    "                # if there are multiple items in one itemset\n",
    "                if isinstance(itemset, list):\n",
    "                    for item in itemset:\n",
    "                        if item not in item_dict:\n",
    "                            item_dict[item] = item_id\n",
    "                            item_id += 1\n",
    "\n",
    "                        z.append(item_dict[item])\n",
    "                else:\n",
    "                    if itemset not in item_dict:\n",
    "                        item_dict[itemset] = item_id\n",
    "                        output_dict[str(item_id)] = itemset\n",
    "                        item_id += 1\n",
    "                    z.append(item_dict[itemset])\n",
    "                    \n",
    "                # end of itemset\n",
    "                z.append(-1)\n",
    "            \n",
    "            # end of a sequence\n",
    "            z.append(-2)\n",
    "            f.write(' '.join([str(x) for x in z]))\n",
    "            f.write('\\n')\n",
    "    \n",
    "    # run SPMF with supplied parameters\n",
    "    supp_param = '{}%'.format(int(min_sup * 100))\n",
    "    conf_param = '{}%'.format(int(min_conf * 100))\n",
    "    subprocess.call(['java', '-jar', 'spmf.jar', 'run', 'RuleGrowth', \n",
    "                     'seq_rule_input.txt', 'seq_rule_output.txt', \n",
    "                     supp_param, conf_param], shell=True)\n",
    "    \n",
    "    # read back the output rules\n",
    "    outputs = open('seq_rule_output.txt', 'r').read().strip().split('\\n')\n",
    "    output_rules = []\n",
    "    for rule in outputs:\n",
    "        left, right, sup, conf = re.search(pattern=r'([0-9\\,]+) ==> ([0-9\\,]+) #SUP: ([0-9]+) #CONF: ([0-9\\.]+)', string=rule).groups()\n",
    "        sup = int(sup) / len(sequences)\n",
    "        conf = float(conf)\n",
    "        output_rules.append([[output_dict[x] for x in left.split(',')], [output_dict[x] for x in right.split(',')], sup, conf])\n",
    "    \n",
    "    # return pandas DataFrame\n",
    "    return pd.DataFrame(output_rules, columns = ['Left_rule', 'Right_rule', 'Support', 'Confidence'])"
   ],
   "outputs": [],
   "execution_count": 25
  },
  {
   "cell_type": "code",
   "id": "29a9c9934b8a1bf",
   "metadata": {
    "ExecuteTime": {
     "end_time": "2024-10-06T23:04:50.820223Z",
     "start_time": "2024-10-06T23:04:49.039031Z"
    }
   },
   "source": "seq_association_rules = get_association_rules(sequences, 0.01, 0.5)",
   "outputs": [],
   "execution_count": 26
  },
  {
   "cell_type": "code",
   "id": "b057308729205c79",
   "metadata": {
    "ExecuteTime": {
     "end_time": "2024-10-06T23:04:50.842254Z",
     "start_time": "2024-10-06T23:04:50.821227Z"
    }
   },
   "source": "seq_association_rules.sort_values(by='Confidence', ascending=False)",
   "outputs": [
    {
     "data": {
      "text/plain": [
       "          Left_rule Right_rule   Support  Confidence\n",
       "18            [NTA]      [IEV]  0.014674    0.622889\n",
       "16            [NTA]      [LPF]  0.014320    0.607880\n",
       "10  [OXH, IEV, FU5]      [LPF]  0.010210    0.592308\n",
       "12       [OXH, FU5]      [LPF]  0.016840    0.585253\n",
       "2   [N8U, OXH, FU5]      [LPF]  0.010166    0.580808\n",
       "11       [OXH, 6BZ]      [LPF]  0.011315    0.579186\n",
       "8        [OXH, 01F]      [LPF]  0.010696    0.564103\n",
       "1   [N8U, OXH, IEV]      [LPF]  0.014453    0.560892\n",
       "0        [N8U, OXH]      [LPF]  0.021790    0.542354\n",
       "3   [N8U, IEV, FU5]      [LPF]  0.010564    0.537079\n",
       "6             [OXH]      [LPF]  0.039425    0.522248\n",
       "9        [OXH, IEV]      [LPF]  0.022055    0.519251\n",
       "17            [9ZX]      [LPF]  0.016751    0.517053\n",
       "7        [OXH, U5F]      [LPF]  0.011624    0.513672\n",
       "15            [FU5]      [LPF]  0.035315    0.509892\n",
       "5        [N8U, 01F]      [IEV]  0.011536    0.509766\n",
       "13       [8HU, LPF]      [IEV]  0.010254    0.508772\n",
       "14       [IEV, FU5]      [LPF]  0.017901    0.506884\n",
       "4        [N8U, FU5]      [LPF]  0.017282    0.506477"
      ],
      "text/html": [
       "<div>\n",
       "<style scoped>\n",
       "    .dataframe tbody tr th:only-of-type {\n",
       "        vertical-align: middle;\n",
       "    }\n",
       "\n",
       "    .dataframe tbody tr th {\n",
       "        vertical-align: top;\n",
       "    }\n",
       "\n",
       "    .dataframe thead th {\n",
       "        text-align: right;\n",
       "    }\n",
       "</style>\n",
       "<table border=\"1\" class=\"dataframe\">\n",
       "  <thead>\n",
       "    <tr style=\"text-align: right;\">\n",
       "      <th></th>\n",
       "      <th>Left_rule</th>\n",
       "      <th>Right_rule</th>\n",
       "      <th>Support</th>\n",
       "      <th>Confidence</th>\n",
       "    </tr>\n",
       "  </thead>\n",
       "  <tbody>\n",
       "    <tr>\n",
       "      <th>18</th>\n",
       "      <td>[NTA]</td>\n",
       "      <td>[IEV]</td>\n",
       "      <td>0.014674</td>\n",
       "      <td>0.622889</td>\n",
       "    </tr>\n",
       "    <tr>\n",
       "      <th>16</th>\n",
       "      <td>[NTA]</td>\n",
       "      <td>[LPF]</td>\n",
       "      <td>0.014320</td>\n",
       "      <td>0.607880</td>\n",
       "    </tr>\n",
       "    <tr>\n",
       "      <th>10</th>\n",
       "      <td>[OXH, IEV, FU5]</td>\n",
       "      <td>[LPF]</td>\n",
       "      <td>0.010210</td>\n",
       "      <td>0.592308</td>\n",
       "    </tr>\n",
       "    <tr>\n",
       "      <th>12</th>\n",
       "      <td>[OXH, FU5]</td>\n",
       "      <td>[LPF]</td>\n",
       "      <td>0.016840</td>\n",
       "      <td>0.585253</td>\n",
       "    </tr>\n",
       "    <tr>\n",
       "      <th>2</th>\n",
       "      <td>[N8U, OXH, FU5]</td>\n",
       "      <td>[LPF]</td>\n",
       "      <td>0.010166</td>\n",
       "      <td>0.580808</td>\n",
       "    </tr>\n",
       "    <tr>\n",
       "      <th>11</th>\n",
       "      <td>[OXH, 6BZ]</td>\n",
       "      <td>[LPF]</td>\n",
       "      <td>0.011315</td>\n",
       "      <td>0.579186</td>\n",
       "    </tr>\n",
       "    <tr>\n",
       "      <th>8</th>\n",
       "      <td>[OXH, 01F]</td>\n",
       "      <td>[LPF]</td>\n",
       "      <td>0.010696</td>\n",
       "      <td>0.564103</td>\n",
       "    </tr>\n",
       "    <tr>\n",
       "      <th>1</th>\n",
       "      <td>[N8U, OXH, IEV]</td>\n",
       "      <td>[LPF]</td>\n",
       "      <td>0.014453</td>\n",
       "      <td>0.560892</td>\n",
       "    </tr>\n",
       "    <tr>\n",
       "      <th>0</th>\n",
       "      <td>[N8U, OXH]</td>\n",
       "      <td>[LPF]</td>\n",
       "      <td>0.021790</td>\n",
       "      <td>0.542354</td>\n",
       "    </tr>\n",
       "    <tr>\n",
       "      <th>3</th>\n",
       "      <td>[N8U, IEV, FU5]</td>\n",
       "      <td>[LPF]</td>\n",
       "      <td>0.010564</td>\n",
       "      <td>0.537079</td>\n",
       "    </tr>\n",
       "    <tr>\n",
       "      <th>6</th>\n",
       "      <td>[OXH]</td>\n",
       "      <td>[LPF]</td>\n",
       "      <td>0.039425</td>\n",
       "      <td>0.522248</td>\n",
       "    </tr>\n",
       "    <tr>\n",
       "      <th>9</th>\n",
       "      <td>[OXH, IEV]</td>\n",
       "      <td>[LPF]</td>\n",
       "      <td>0.022055</td>\n",
       "      <td>0.519251</td>\n",
       "    </tr>\n",
       "    <tr>\n",
       "      <th>17</th>\n",
       "      <td>[9ZX]</td>\n",
       "      <td>[LPF]</td>\n",
       "      <td>0.016751</td>\n",
       "      <td>0.517053</td>\n",
       "    </tr>\n",
       "    <tr>\n",
       "      <th>7</th>\n",
       "      <td>[OXH, U5F]</td>\n",
       "      <td>[LPF]</td>\n",
       "      <td>0.011624</td>\n",
       "      <td>0.513672</td>\n",
       "    </tr>\n",
       "    <tr>\n",
       "      <th>15</th>\n",
       "      <td>[FU5]</td>\n",
       "      <td>[LPF]</td>\n",
       "      <td>0.035315</td>\n",
       "      <td>0.509892</td>\n",
       "    </tr>\n",
       "    <tr>\n",
       "      <th>5</th>\n",
       "      <td>[N8U, 01F]</td>\n",
       "      <td>[IEV]</td>\n",
       "      <td>0.011536</td>\n",
       "      <td>0.509766</td>\n",
       "    </tr>\n",
       "    <tr>\n",
       "      <th>13</th>\n",
       "      <td>[8HU, LPF]</td>\n",
       "      <td>[IEV]</td>\n",
       "      <td>0.010254</td>\n",
       "      <td>0.508772</td>\n",
       "    </tr>\n",
       "    <tr>\n",
       "      <th>14</th>\n",
       "      <td>[IEV, FU5]</td>\n",
       "      <td>[LPF]</td>\n",
       "      <td>0.017901</td>\n",
       "      <td>0.506884</td>\n",
       "    </tr>\n",
       "    <tr>\n",
       "      <th>4</th>\n",
       "      <td>[N8U, FU5]</td>\n",
       "      <td>[LPF]</td>\n",
       "      <td>0.017282</td>\n",
       "      <td>0.506477</td>\n",
       "    </tr>\n",
       "  </tbody>\n",
       "</table>\n",
       "</div>"
      ]
     },
     "execution_count": 27,
     "metadata": {},
     "output_type": "execute_result"
    }
   ],
   "execution_count": 27
  },
  {
   "metadata": {},
   "cell_type": "code",
   "outputs": [],
   "execution_count": null,
   "source": "",
   "id": "53541976fc6340e2"
  }
 ],
 "metadata": {
  "kernelspec": {
   "display_name": "Python 3 (ipykernel)",
   "language": "python",
   "name": "python3"
  },
  "language_info": {
   "codemirror_mode": {
    "name": "ipython",
    "version": 3
   },
   "file_extension": ".py",
   "mimetype": "text/x-python",
   "name": "python",
   "nbconvert_exporter": "python",
   "pygments_lexer": "ipython3",
   "version": "3.11.9"
  }
 },
 "nbformat": 4,
 "nbformat_minor": 5
}
