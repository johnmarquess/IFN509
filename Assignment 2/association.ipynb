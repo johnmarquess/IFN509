{
 "cells": [
  {
   "metadata": {},
   "cell_type": "markdown",
   "source": "# Test",
   "id": "419b126825492a6b"
  },
  {
   "cell_type": "code",
   "id": "initial_id",
   "metadata": {
    "collapsed": true,
    "ExecuteTime": {
     "end_time": "2024-09-26T02:12:01.097186Z",
     "start_time": "2024-09-26T02:12:00.450682Z"
    }
   },
   "source": [
    "import pandas as pd\n",
    "from apyori import apriori"
   ],
   "outputs": [],
   "execution_count": 1
  },
  {
   "metadata": {
    "ExecuteTime": {
     "end_time": "2024-09-26T02:12:01.190151Z",
     "start_time": "2024-09-26T02:12:01.102694Z"
    }
   },
   "cell_type": "code",
   "source": [
    "# Load the data\n",
    "data = pd.read_csv('data/D1.csv')"
   ],
   "id": "cbc1947f4a63e918",
   "outputs": [],
   "execution_count": 2
  },
  {
   "metadata": {
    "ExecuteTime": {
     "end_time": "2024-09-26T02:12:01.296493Z",
     "start_time": "2024-09-26T02:12:01.284989Z"
    }
   },
   "cell_type": "code",
   "source": [
    "# Display the first few rows\n",
    "data.head()"
   ],
   "id": "54c200d2871bffe8",
   "outputs": [
    {
     "data": {
      "text/plain": [
       "        Date  Customer_ID  Sales_ID SKU_Category    SKU  Quantity  \\\n",
       "0  2/01/2016         2547         1          X52  0EM7L       1.0   \n",
       "1  2/01/2016          822         2          2ML  68BRQ       1.0   \n",
       "2  2/01/2016         3686         3          0H2  CZUZX       1.0   \n",
       "3  2/01/2016         3719         4          0H2  549KK       1.0   \n",
       "4  2/01/2016         9200         5          0H2  K8EHH       1.0   \n",
       "\n",
       "   Sales_Amount  \n",
       "0          3.13  \n",
       "1          5.46  \n",
       "2          6.35  \n",
       "3          5.59  \n",
       "4          6.88  "
      ],
      "text/html": [
       "<div>\n",
       "<style scoped>\n",
       "    .dataframe tbody tr th:only-of-type {\n",
       "        vertical-align: middle;\n",
       "    }\n",
       "\n",
       "    .dataframe tbody tr th {\n",
       "        vertical-align: top;\n",
       "    }\n",
       "\n",
       "    .dataframe thead th {\n",
       "        text-align: right;\n",
       "    }\n",
       "</style>\n",
       "<table border=\"1\" class=\"dataframe\">\n",
       "  <thead>\n",
       "    <tr style=\"text-align: right;\">\n",
       "      <th></th>\n",
       "      <th>Date</th>\n",
       "      <th>Customer_ID</th>\n",
       "      <th>Sales_ID</th>\n",
       "      <th>SKU_Category</th>\n",
       "      <th>SKU</th>\n",
       "      <th>Quantity</th>\n",
       "      <th>Sales_Amount</th>\n",
       "    </tr>\n",
       "  </thead>\n",
       "  <tbody>\n",
       "    <tr>\n",
       "      <th>0</th>\n",
       "      <td>2/01/2016</td>\n",
       "      <td>2547</td>\n",
       "      <td>1</td>\n",
       "      <td>X52</td>\n",
       "      <td>0EM7L</td>\n",
       "      <td>1.0</td>\n",
       "      <td>3.13</td>\n",
       "    </tr>\n",
       "    <tr>\n",
       "      <th>1</th>\n",
       "      <td>2/01/2016</td>\n",
       "      <td>822</td>\n",
       "      <td>2</td>\n",
       "      <td>2ML</td>\n",
       "      <td>68BRQ</td>\n",
       "      <td>1.0</td>\n",
       "      <td>5.46</td>\n",
       "    </tr>\n",
       "    <tr>\n",
       "      <th>2</th>\n",
       "      <td>2/01/2016</td>\n",
       "      <td>3686</td>\n",
       "      <td>3</td>\n",
       "      <td>0H2</td>\n",
       "      <td>CZUZX</td>\n",
       "      <td>1.0</td>\n",
       "      <td>6.35</td>\n",
       "    </tr>\n",
       "    <tr>\n",
       "      <th>3</th>\n",
       "      <td>2/01/2016</td>\n",
       "      <td>3719</td>\n",
       "      <td>4</td>\n",
       "      <td>0H2</td>\n",
       "      <td>549KK</td>\n",
       "      <td>1.0</td>\n",
       "      <td>5.59</td>\n",
       "    </tr>\n",
       "    <tr>\n",
       "      <th>4</th>\n",
       "      <td>2/01/2016</td>\n",
       "      <td>9200</td>\n",
       "      <td>5</td>\n",
       "      <td>0H2</td>\n",
       "      <td>K8EHH</td>\n",
       "      <td>1.0</td>\n",
       "      <td>6.88</td>\n",
       "    </tr>\n",
       "  </tbody>\n",
       "</table>\n",
       "</div>"
      ]
     },
     "execution_count": 3,
     "metadata": {},
     "output_type": "execute_result"
    }
   ],
   "execution_count": 3
  },
  {
   "metadata": {
    "ExecuteTime": {
     "end_time": "2024-09-26T02:12:01.358190Z",
     "start_time": "2024-09-26T02:12:01.338813Z"
    }
   },
   "cell_type": "code",
   "source": [
    "# Check for missing data\n",
    "data.info()"
   ],
   "id": "4261be8158dea7c2",
   "outputs": [
    {
     "name": "stdout",
     "output_type": "stream",
     "text": [
      "<class 'pandas.core.frame.DataFrame'>\n",
      "RangeIndex: 131706 entries, 0 to 131705\n",
      "Data columns (total 7 columns):\n",
      " #   Column        Non-Null Count   Dtype  \n",
      "---  ------        --------------   -----  \n",
      " 0   Date          131706 non-null  object \n",
      " 1   Customer_ID   131706 non-null  int64  \n",
      " 2   Sales_ID      131706 non-null  int64  \n",
      " 3   SKU_Category  131706 non-null  object \n",
      " 4   SKU           131706 non-null  object \n",
      " 5   Quantity      131706 non-null  float64\n",
      " 6   Sales_Amount  131706 non-null  float64\n",
      "dtypes: float64(2), int64(2), object(3)\n",
      "memory usage: 7.0+ MB\n"
     ]
    }
   ],
   "execution_count": 4
  },
  {
   "metadata": {
    "ExecuteTime": {
     "end_time": "2024-09-26T02:12:01.449169Z",
     "start_time": "2024-09-26T02:12:01.433191Z"
    }
   },
   "cell_type": "code",
   "source": [
    "# convert Date to a date object\n",
    "data['Date'] = pd.to_datetime(data['Date'], format='%d/%m/%Y')"
   ],
   "id": "c33284f9f1cfd8e9",
   "outputs": [],
   "execution_count": 5
  },
  {
   "metadata": {
    "ExecuteTime": {
     "end_time": "2024-09-26T02:12:01.582339Z",
     "start_time": "2024-09-26T02:12:01.525702Z"
    }
   },
   "cell_type": "code",
   "source": [
    "# Convert Sales_ID, and Customer_ID to a string type\n",
    "data['Sales_ID'] = data['Sales_ID'].astype(str)\n",
    "data['Customer_ID'] = data['Customer_ID'].astype(str)"
   ],
   "id": "84285b4002e29b01",
   "outputs": [],
   "execution_count": 6
  },
  {
   "metadata": {
    "ExecuteTime": {
     "end_time": "2024-09-26T02:12:02.941750Z",
     "start_time": "2024-09-26T02:12:01.599782Z"
    }
   },
   "cell_type": "code",
   "source": [
    "# Define the Transactional Data\n",
    "transactions = data.groupby('Sales_ID')['SKU_Category'].apply(list)\n",
    "transactions_list = list(transactions)"
   ],
   "id": "ee4485865529b502",
   "outputs": [],
   "execution_count": 7
  },
  {
   "metadata": {
    "ExecuteTime": {
     "end_time": "2024-09-26T02:12:02.964263Z",
     "start_time": "2024-09-26T02:12:02.954349Z"
    }
   },
   "cell_type": "code",
   "source": "data.SKU_Category.value_counts()",
   "id": "5925c3c9f6cc4a4c",
   "outputs": [
    {
     "data": {
      "text/plain": [
       "SKU_Category\n",
       "N8U    10913\n",
       "R6E     5099\n",
       "LPF     5062\n",
       "P42     4836\n",
       "U5F     4570\n",
       "       ...  \n",
       "M8H        3\n",
       "U3N        2\n",
       "QON        1\n",
       "2JO        1\n",
       "OTK        1\n",
       "Name: count, Length: 187, dtype: int64"
      ]
     },
     "execution_count": 8,
     "metadata": {},
     "output_type": "execute_result"
    }
   ],
   "execution_count": 8
  },
  {
   "metadata": {
    "ExecuteTime": {
     "end_time": "2024-09-26T02:12:03.149043Z",
     "start_time": "2024-09-26T02:12:03.007360Z"
    }
   },
   "cell_type": "code",
   "source": "results = list(apriori(transactions_list, min_support=0.00534759))",
   "id": "ef53ae8427d594e6",
   "outputs": [],
   "execution_count": 9
  },
  {
   "metadata": {
    "ExecuteTime": {
     "end_time": "2024-09-26T02:12:03.194236Z",
     "start_time": "2024-09-26T02:12:03.189400Z"
    }
   },
   "cell_type": "code",
   "source": [
    "def convert_apriori_results_to_pandas_df(results):\n",
    "    # Initialize an empty list to store rule details\n",
    "    rules_list = []\n",
    "    \n",
    "    # Iterate through each result in the results list\n",
    "    for result in results:\n",
    "        # Iterate through each ordered statistic (association rule) within the result\n",
    "        for ordered_stat in result.ordered_statistics:\n",
    "            # Extract the rule's antecedent (left-hand side) and consequent (right-hand side)\n",
    "            antecedent = tuple(ordered_stat.items_base)\n",
    "            consequent = tuple(ordered_stat.items_add)\n",
    "            \n",
    "            # Append the rule's details to the rules list\n",
    "            rules_list.append({\n",
    "                'Antecedent': ', '.join(antecedent),\n",
    "                'Consequent': ', '.join(consequent),\n",
    "                'Support': result.support,\n",
    "                'Confidence': ordered_stat.confidence,\n",
    "                'Lift': ordered_stat.lift\n",
    "            })\n",
    "    \n",
    "    # Convert the list of rules to a pandas DataFrame\n",
    "    rules_df = pd.DataFrame(rules_list)\n",
    "    \n",
    "    # Reorder columns to a more intuitive order (optional)\n",
    "    rules_df = rules_df[['Antecedent', 'Consequent', 'Support', 'Confidence', 'Lift']]\n",
    "    \n",
    "    return rules_df\n",
    "\n"
   ],
   "id": "c2d79a74ffef692e",
   "outputs": [],
   "execution_count": 10
  },
  {
   "metadata": {
    "ExecuteTime": {
     "end_time": "2024-09-26T02:12:03.241683Z",
     "start_time": "2024-09-26T02:12:03.235614Z"
    }
   },
   "cell_type": "code",
   "source": "results_df = convert_apriori_results_to_pandas_df(results)",
   "id": "35f14aa6150219fd",
   "outputs": [],
   "execution_count": 11
  },
  {
   "metadata": {
    "ExecuteTime": {
     "end_time": "2024-09-26T02:12:03.323734Z",
     "start_time": "2024-09-26T02:12:03.313376Z"
    }
   },
   "cell_type": "code",
   "source": "results_df.sort_values(by='Lift', ascending=False)",
   "id": "4fc55afc587a467c",
   "outputs": [
    {
     "data": {
      "text/plain": [
       "    Antecedent Consequent   Support  Confidence      Lift\n",
       "305   LPF, N8U        OXH  0.006973    0.413761  9.919540\n",
       "304        OXH   LPF, N8U  0.006973    0.167161  9.919540\n",
       "298   IEV, N8U        OXH  0.006076    0.396569  9.507370\n",
       "297        OXH   IEV, N8U  0.006076    0.145663  9.507370\n",
       "137        9ZX        FU5  0.007220    0.380293  9.100304\n",
       "..         ...        ...       ...         ...       ...\n",
       "104        0H2        N8U  0.009230    0.143544  0.937093\n",
       "233        N8U        U5F  0.007838    0.051171  0.917867\n",
       "234        U5F        N8U  0.007838    0.140599  0.917867\n",
       "231        R6E        N8U  0.008874    0.124620  0.813552\n",
       "230        N8U        R6E  0.008874    0.057933  0.813552\n",
       "\n",
       "[308 rows x 5 columns]"
      ],
      "text/html": [
       "<div>\n",
       "<style scoped>\n",
       "    .dataframe tbody tr th:only-of-type {\n",
       "        vertical-align: middle;\n",
       "    }\n",
       "\n",
       "    .dataframe tbody tr th {\n",
       "        vertical-align: top;\n",
       "    }\n",
       "\n",
       "    .dataframe thead th {\n",
       "        text-align: right;\n",
       "    }\n",
       "</style>\n",
       "<table border=\"1\" class=\"dataframe\">\n",
       "  <thead>\n",
       "    <tr style=\"text-align: right;\">\n",
       "      <th></th>\n",
       "      <th>Antecedent</th>\n",
       "      <th>Consequent</th>\n",
       "      <th>Support</th>\n",
       "      <th>Confidence</th>\n",
       "      <th>Lift</th>\n",
       "    </tr>\n",
       "  </thead>\n",
       "  <tbody>\n",
       "    <tr>\n",
       "      <th>305</th>\n",
       "      <td>LPF, N8U</td>\n",
       "      <td>OXH</td>\n",
       "      <td>0.006973</td>\n",
       "      <td>0.413761</td>\n",
       "      <td>9.919540</td>\n",
       "    </tr>\n",
       "    <tr>\n",
       "      <th>304</th>\n",
       "      <td>OXH</td>\n",
       "      <td>LPF, N8U</td>\n",
       "      <td>0.006973</td>\n",
       "      <td>0.167161</td>\n",
       "      <td>9.919540</td>\n",
       "    </tr>\n",
       "    <tr>\n",
       "      <th>298</th>\n",
       "      <td>IEV, N8U</td>\n",
       "      <td>OXH</td>\n",
       "      <td>0.006076</td>\n",
       "      <td>0.396569</td>\n",
       "      <td>9.507370</td>\n",
       "    </tr>\n",
       "    <tr>\n",
       "      <th>297</th>\n",
       "      <td>OXH</td>\n",
       "      <td>IEV, N8U</td>\n",
       "      <td>0.006076</td>\n",
       "      <td>0.145663</td>\n",
       "      <td>9.507370</td>\n",
       "    </tr>\n",
       "    <tr>\n",
       "      <th>137</th>\n",
       "      <td>9ZX</td>\n",
       "      <td>FU5</td>\n",
       "      <td>0.007220</td>\n",
       "      <td>0.380293</td>\n",
       "      <td>9.100304</td>\n",
       "    </tr>\n",
       "    <tr>\n",
       "      <th>...</th>\n",
       "      <td>...</td>\n",
       "      <td>...</td>\n",
       "      <td>...</td>\n",
       "      <td>...</td>\n",
       "      <td>...</td>\n",
       "    </tr>\n",
       "    <tr>\n",
       "      <th>104</th>\n",
       "      <td>0H2</td>\n",
       "      <td>N8U</td>\n",
       "      <td>0.009230</td>\n",
       "      <td>0.143544</td>\n",
       "      <td>0.937093</td>\n",
       "    </tr>\n",
       "    <tr>\n",
       "      <th>233</th>\n",
       "      <td>N8U</td>\n",
       "      <td>U5F</td>\n",
       "      <td>0.007838</td>\n",
       "      <td>0.051171</td>\n",
       "      <td>0.917867</td>\n",
       "    </tr>\n",
       "    <tr>\n",
       "      <th>234</th>\n",
       "      <td>U5F</td>\n",
       "      <td>N8U</td>\n",
       "      <td>0.007838</td>\n",
       "      <td>0.140599</td>\n",
       "      <td>0.917867</td>\n",
       "    </tr>\n",
       "    <tr>\n",
       "      <th>231</th>\n",
       "      <td>R6E</td>\n",
       "      <td>N8U</td>\n",
       "      <td>0.008874</td>\n",
       "      <td>0.124620</td>\n",
       "      <td>0.813552</td>\n",
       "    </tr>\n",
       "    <tr>\n",
       "      <th>230</th>\n",
       "      <td>N8U</td>\n",
       "      <td>R6E</td>\n",
       "      <td>0.008874</td>\n",
       "      <td>0.057933</td>\n",
       "      <td>0.813552</td>\n",
       "    </tr>\n",
       "  </tbody>\n",
       "</table>\n",
       "<p>308 rows × 5 columns</p>\n",
       "</div>"
      ]
     },
     "execution_count": 12,
     "metadata": {},
     "output_type": "execute_result"
    }
   ],
   "execution_count": 12
  },
  {
   "metadata": {
    "ExecuteTime": {
     "end_time": "2024-09-26T02:12:03.442402Z",
     "start_time": "2024-09-26T02:12:03.376694Z"
    }
   },
   "cell_type": "code",
   "source": "data = data.sort_values(by=['Customer_ID', 'Date'])",
   "id": "661d08853754c6d4",
   "outputs": [],
   "execution_count": 13
  },
  {
   "metadata": {
    "ExecuteTime": {
     "end_time": "2024-09-26T02:12:03.506399Z",
     "start_time": "2024-09-26T02:12:03.496697Z"
    }
   },
   "cell_type": "code",
   "source": "data.head()",
   "id": "2be21769d6f3b43c",
   "outputs": [
    {
     "data": {
      "text/plain": [
       "            Date Customer_ID Sales_ID SKU_Category    SKU  Quantity  \\\n",
       "7284  2016-01-22           1     3442          0H2  6OUVC       1.0   \n",
       "7285  2016-01-22           1     3442          N8U  CEBU8       1.0   \n",
       "14355 2016-02-12          10     6893          SJS  UTE9R       1.0   \n",
       "312   2016-01-03         100      181          FEW  3QNEE       1.0   \n",
       "313   2016-01-03         100      181          MU3  O9LF5       1.0   \n",
       "\n",
       "       Sales_Amount  \n",
       "7284          10.50  \n",
       "7285           5.79  \n",
       "14355        110.31  \n",
       "312            8.32  \n",
       "313            4.81  "
      ],
      "text/html": [
       "<div>\n",
       "<style scoped>\n",
       "    .dataframe tbody tr th:only-of-type {\n",
       "        vertical-align: middle;\n",
       "    }\n",
       "\n",
       "    .dataframe tbody tr th {\n",
       "        vertical-align: top;\n",
       "    }\n",
       "\n",
       "    .dataframe thead th {\n",
       "        text-align: right;\n",
       "    }\n",
       "</style>\n",
       "<table border=\"1\" class=\"dataframe\">\n",
       "  <thead>\n",
       "    <tr style=\"text-align: right;\">\n",
       "      <th></th>\n",
       "      <th>Date</th>\n",
       "      <th>Customer_ID</th>\n",
       "      <th>Sales_ID</th>\n",
       "      <th>SKU_Category</th>\n",
       "      <th>SKU</th>\n",
       "      <th>Quantity</th>\n",
       "      <th>Sales_Amount</th>\n",
       "    </tr>\n",
       "  </thead>\n",
       "  <tbody>\n",
       "    <tr>\n",
       "      <th>7284</th>\n",
       "      <td>2016-01-22</td>\n",
       "      <td>1</td>\n",
       "      <td>3442</td>\n",
       "      <td>0H2</td>\n",
       "      <td>6OUVC</td>\n",
       "      <td>1.0</td>\n",
       "      <td>10.50</td>\n",
       "    </tr>\n",
       "    <tr>\n",
       "      <th>7285</th>\n",
       "      <td>2016-01-22</td>\n",
       "      <td>1</td>\n",
       "      <td>3442</td>\n",
       "      <td>N8U</td>\n",
       "      <td>CEBU8</td>\n",
       "      <td>1.0</td>\n",
       "      <td>5.79</td>\n",
       "    </tr>\n",
       "    <tr>\n",
       "      <th>14355</th>\n",
       "      <td>2016-02-12</td>\n",
       "      <td>10</td>\n",
       "      <td>6893</td>\n",
       "      <td>SJS</td>\n",
       "      <td>UTE9R</td>\n",
       "      <td>1.0</td>\n",
       "      <td>110.31</td>\n",
       "    </tr>\n",
       "    <tr>\n",
       "      <th>312</th>\n",
       "      <td>2016-01-03</td>\n",
       "      <td>100</td>\n",
       "      <td>181</td>\n",
       "      <td>FEW</td>\n",
       "      <td>3QNEE</td>\n",
       "      <td>1.0</td>\n",
       "      <td>8.32</td>\n",
       "    </tr>\n",
       "    <tr>\n",
       "      <th>313</th>\n",
       "      <td>2016-01-03</td>\n",
       "      <td>100</td>\n",
       "      <td>181</td>\n",
       "      <td>MU3</td>\n",
       "      <td>O9LF5</td>\n",
       "      <td>1.0</td>\n",
       "      <td>4.81</td>\n",
       "    </tr>\n",
       "  </tbody>\n",
       "</table>\n",
       "</div>"
      ]
     },
     "execution_count": 14,
     "metadata": {},
     "output_type": "execute_result"
    }
   ],
   "execution_count": 14
  },
  {
   "metadata": {
    "ExecuteTime": {
     "end_time": "2024-09-26T02:12:04.315139Z",
     "start_time": "2024-09-26T02:12:03.625015Z"
    }
   },
   "cell_type": "code",
   "source": "transactions= data.groupby('Customer_ID')['SKU_Category'].apply(list)",
   "id": "bc7482c1d6c2f7b7",
   "outputs": [],
   "execution_count": 15
  },
  {
   "metadata": {
    "ExecuteTime": {
     "end_time": "2024-09-26T02:12:04.348612Z",
     "start_time": "2024-09-26T02:12:04.345526Z"
    }
   },
   "cell_type": "code",
   "source": "# transactions2 = transactions['SKU_Category'].apply(list)",
   "id": "8bd9b3fbb636676b",
   "outputs": [],
   "execution_count": 16
  },
  {
   "metadata": {
    "ExecuteTime": {
     "end_time": "2024-09-26T02:12:04.366498Z",
     "start_time": "2024-09-26T02:12:04.362620Z"
    }
   },
   "cell_type": "code",
   "source": "sequences = transactions.values.tolist()",
   "id": "b5870ba7a183bf78",
   "outputs": [],
   "execution_count": 17
  },
  {
   "metadata": {
    "ExecuteTime": {
     "end_time": "2024-09-26T02:12:04.386003Z",
     "start_time": "2024-09-26T02:12:04.379952Z"
    }
   },
   "cell_type": "code",
   "source": "sequences[0:5]",
   "id": "a6112f535adfa535",
   "outputs": [
    {
     "data": {
      "text/plain": [
       "[['0H2', 'N8U'], ['SJS'], ['FEW', 'MU3'], ['LSD'], ['1VL', 'J4R', 'P42']]"
      ]
     },
     "execution_count": 18,
     "metadata": {},
     "output_type": "execute_result"
    }
   ],
   "execution_count": 18
  },
  {
   "metadata": {
    "ExecuteTime": {
     "end_time": "2024-09-26T02:12:04.458503Z",
     "start_time": "2024-09-26T02:12:04.455089Z"
    }
   },
   "cell_type": "code",
   "source": [
    "from collections import defaultdict\n",
    "import subprocess\n",
    "import re\n",
    "    "
   ],
   "id": "61db0e3112a62e84",
   "outputs": [],
   "execution_count": 19
  },
  {
   "metadata": {
    "ExecuteTime": {
     "end_time": "2024-09-26T02:12:04.506299Z",
     "start_time": "2024-09-26T02:12:04.495263Z"
    }
   },
   "cell_type": "code",
   "source": [
    "\n",
    "''' Uses SPMF to find association rules in supplied transactions '''\n",
    "def get_association_rules(sequences, min_sup, min_conf):\n",
    "    # step 1: create required input for SPMF\n",
    "    \n",
    "    # prepare a dict to uniquely assign each item in the transactions to an int ID\n",
    "    item_dict = defaultdict(int)\n",
    "    output_dict = defaultdict(str)\n",
    "    item_id = 1\n",
    "    \n",
    "    # write your sequences in SPMF format\n",
    "    with open('seq_rule_input.txt', 'w+') as f:\n",
    "        for sequence in sequences:\n",
    "            z = []\n",
    "            for itemset in sequence:\n",
    "                # if there are multiple items in one itemset\n",
    "                if isinstance(itemset, list):\n",
    "                    for item in itemset:\n",
    "                        if item not in item_dict:\n",
    "                            item_dict[item] = item_id\n",
    "                            item_id += 1\n",
    "\n",
    "                        z.append(item_dict[item])\n",
    "                else:\n",
    "                    if itemset not in item_dict:\n",
    "                        item_dict[itemset] = item_id\n",
    "                        output_dict[str(item_id)] = itemset\n",
    "                        item_id += 1\n",
    "                    z.append(item_dict[itemset])\n",
    "                    \n",
    "                # end of itemset\n",
    "                z.append(-1)\n",
    "            \n",
    "            # end of a sequence\n",
    "            z.append(-2)\n",
    "            f.write(' '.join([str(x) for x in z]))\n",
    "            f.write('\\n')\n",
    "    \n",
    "    # run SPMF with supplied parameters\n",
    "    supp_param = '{}%'.format(int(min_sup * 100))\n",
    "    conf_param = '{}%'.format(int(min_conf * 100))\n",
    "    subprocess.call(['java', '-jar', 'spmf.jar', 'run', 'RuleGrowth', \n",
    "                     'seq_rule_input.txt', 'seq_rule_output.txt', \n",
    "                     supp_param, conf_param], shell=True)\n",
    "    \n",
    "    # read back the output rules\n",
    "    outputs = open('seq_rule_output.txt', 'r').read().strip().split('\\n')\n",
    "    output_rules = []\n",
    "    for rule in outputs:\n",
    "        left, right, sup, conf = re.search(pattern=r'([0-9\\,]+) ==> ([0-9\\,]+) #SUP: ([0-9]+) #CONF: ([0-9\\.]+)', string=rule).groups()\n",
    "        sup = int(sup) / len(sequences)\n",
    "        conf = float(conf)\n",
    "        output_rules.append([[output_dict[x] for x in left.split(',')], [output_dict[x] for x in right.split(',')], sup, conf])\n",
    "    \n",
    "    # return pandas DataFrame\n",
    "    return pd.DataFrame(output_rules, columns = ['Left_rule', 'Right_rule', 'Support', 'Confidence'])"
   ],
   "id": "cecfe3aaea297108",
   "outputs": [],
   "execution_count": 20
  },
  {
   "metadata": {
    "ExecuteTime": {
     "end_time": "2024-09-26T02:12:05.806928Z",
     "start_time": "2024-09-26T02:12:04.522637Z"
    }
   },
   "cell_type": "code",
   "source": "get_association_rules(sequences, 0.01, 0.5)",
   "id": "29a9c9934b8a1bf",
   "outputs": [
    {
     "data": {
      "text/plain": [
       "          Left_rule Right_rule   Support  Confidence\n",
       "0        [N8U, OXH]      [LPF]  0.021790    0.542354\n",
       "1   [N8U, OXH, IEV]      [LPF]  0.014453    0.560892\n",
       "2   [N8U, OXH, FU5]      [LPF]  0.010166    0.580808\n",
       "3   [N8U, IEV, FU5]      [LPF]  0.010564    0.537079\n",
       "4        [N8U, FU5]      [LPF]  0.017282    0.506477\n",
       "5        [N8U, 01F]      [IEV]  0.011536    0.509766\n",
       "6             [OXH]      [LPF]  0.039425    0.522248\n",
       "7        [OXH, U5F]      [LPF]  0.011624    0.513672\n",
       "8        [OXH, 01F]      [LPF]  0.010696    0.564103\n",
       "9        [OXH, IEV]      [LPF]  0.022055    0.519251\n",
       "10  [OXH, IEV, FU5]      [LPF]  0.010210    0.592308\n",
       "11       [OXH, 6BZ]      [LPF]  0.011315    0.579186\n",
       "12       [OXH, FU5]      [LPF]  0.016840    0.585253\n",
       "13       [8HU, LPF]      [IEV]  0.010254    0.508772\n",
       "14       [IEV, FU5]      [LPF]  0.017901    0.506884\n",
       "15            [FU5]      [LPF]  0.035315    0.509892\n",
       "16            [NTA]      [LPF]  0.014320    0.607880\n",
       "17            [9ZX]      [LPF]  0.016751    0.517053\n",
       "18            [NTA]      [IEV]  0.014674    0.622889"
      ],
      "text/html": [
       "<div>\n",
       "<style scoped>\n",
       "    .dataframe tbody tr th:only-of-type {\n",
       "        vertical-align: middle;\n",
       "    }\n",
       "\n",
       "    .dataframe tbody tr th {\n",
       "        vertical-align: top;\n",
       "    }\n",
       "\n",
       "    .dataframe thead th {\n",
       "        text-align: right;\n",
       "    }\n",
       "</style>\n",
       "<table border=\"1\" class=\"dataframe\">\n",
       "  <thead>\n",
       "    <tr style=\"text-align: right;\">\n",
       "      <th></th>\n",
       "      <th>Left_rule</th>\n",
       "      <th>Right_rule</th>\n",
       "      <th>Support</th>\n",
       "      <th>Confidence</th>\n",
       "    </tr>\n",
       "  </thead>\n",
       "  <tbody>\n",
       "    <tr>\n",
       "      <th>0</th>\n",
       "      <td>[N8U, OXH]</td>\n",
       "      <td>[LPF]</td>\n",
       "      <td>0.021790</td>\n",
       "      <td>0.542354</td>\n",
       "    </tr>\n",
       "    <tr>\n",
       "      <th>1</th>\n",
       "      <td>[N8U, OXH, IEV]</td>\n",
       "      <td>[LPF]</td>\n",
       "      <td>0.014453</td>\n",
       "      <td>0.560892</td>\n",
       "    </tr>\n",
       "    <tr>\n",
       "      <th>2</th>\n",
       "      <td>[N8U, OXH, FU5]</td>\n",
       "      <td>[LPF]</td>\n",
       "      <td>0.010166</td>\n",
       "      <td>0.580808</td>\n",
       "    </tr>\n",
       "    <tr>\n",
       "      <th>3</th>\n",
       "      <td>[N8U, IEV, FU5]</td>\n",
       "      <td>[LPF]</td>\n",
       "      <td>0.010564</td>\n",
       "      <td>0.537079</td>\n",
       "    </tr>\n",
       "    <tr>\n",
       "      <th>4</th>\n",
       "      <td>[N8U, FU5]</td>\n",
       "      <td>[LPF]</td>\n",
       "      <td>0.017282</td>\n",
       "      <td>0.506477</td>\n",
       "    </tr>\n",
       "    <tr>\n",
       "      <th>5</th>\n",
       "      <td>[N8U, 01F]</td>\n",
       "      <td>[IEV]</td>\n",
       "      <td>0.011536</td>\n",
       "      <td>0.509766</td>\n",
       "    </tr>\n",
       "    <tr>\n",
       "      <th>6</th>\n",
       "      <td>[OXH]</td>\n",
       "      <td>[LPF]</td>\n",
       "      <td>0.039425</td>\n",
       "      <td>0.522248</td>\n",
       "    </tr>\n",
       "    <tr>\n",
       "      <th>7</th>\n",
       "      <td>[OXH, U5F]</td>\n",
       "      <td>[LPF]</td>\n",
       "      <td>0.011624</td>\n",
       "      <td>0.513672</td>\n",
       "    </tr>\n",
       "    <tr>\n",
       "      <th>8</th>\n",
       "      <td>[OXH, 01F]</td>\n",
       "      <td>[LPF]</td>\n",
       "      <td>0.010696</td>\n",
       "      <td>0.564103</td>\n",
       "    </tr>\n",
       "    <tr>\n",
       "      <th>9</th>\n",
       "      <td>[OXH, IEV]</td>\n",
       "      <td>[LPF]</td>\n",
       "      <td>0.022055</td>\n",
       "      <td>0.519251</td>\n",
       "    </tr>\n",
       "    <tr>\n",
       "      <th>10</th>\n",
       "      <td>[OXH, IEV, FU5]</td>\n",
       "      <td>[LPF]</td>\n",
       "      <td>0.010210</td>\n",
       "      <td>0.592308</td>\n",
       "    </tr>\n",
       "    <tr>\n",
       "      <th>11</th>\n",
       "      <td>[OXH, 6BZ]</td>\n",
       "      <td>[LPF]</td>\n",
       "      <td>0.011315</td>\n",
       "      <td>0.579186</td>\n",
       "    </tr>\n",
       "    <tr>\n",
       "      <th>12</th>\n",
       "      <td>[OXH, FU5]</td>\n",
       "      <td>[LPF]</td>\n",
       "      <td>0.016840</td>\n",
       "      <td>0.585253</td>\n",
       "    </tr>\n",
       "    <tr>\n",
       "      <th>13</th>\n",
       "      <td>[8HU, LPF]</td>\n",
       "      <td>[IEV]</td>\n",
       "      <td>0.010254</td>\n",
       "      <td>0.508772</td>\n",
       "    </tr>\n",
       "    <tr>\n",
       "      <th>14</th>\n",
       "      <td>[IEV, FU5]</td>\n",
       "      <td>[LPF]</td>\n",
       "      <td>0.017901</td>\n",
       "      <td>0.506884</td>\n",
       "    </tr>\n",
       "    <tr>\n",
       "      <th>15</th>\n",
       "      <td>[FU5]</td>\n",
       "      <td>[LPF]</td>\n",
       "      <td>0.035315</td>\n",
       "      <td>0.509892</td>\n",
       "    </tr>\n",
       "    <tr>\n",
       "      <th>16</th>\n",
       "      <td>[NTA]</td>\n",
       "      <td>[LPF]</td>\n",
       "      <td>0.014320</td>\n",
       "      <td>0.607880</td>\n",
       "    </tr>\n",
       "    <tr>\n",
       "      <th>17</th>\n",
       "      <td>[9ZX]</td>\n",
       "      <td>[LPF]</td>\n",
       "      <td>0.016751</td>\n",
       "      <td>0.517053</td>\n",
       "    </tr>\n",
       "    <tr>\n",
       "      <th>18</th>\n",
       "      <td>[NTA]</td>\n",
       "      <td>[IEV]</td>\n",
       "      <td>0.014674</td>\n",
       "      <td>0.622889</td>\n",
       "    </tr>\n",
       "  </tbody>\n",
       "</table>\n",
       "</div>"
      ]
     },
     "execution_count": 21,
     "metadata": {},
     "output_type": "execute_result"
    }
   ],
   "execution_count": 21
  },
  {
   "metadata": {
    "ExecuteTime": {
     "end_time": "2024-09-26T02:12:05.851869Z",
     "start_time": "2024-09-26T02:12:05.850037Z"
    }
   },
   "cell_type": "code",
   "source": "",
   "id": "b057308729205c79",
   "outputs": [],
   "execution_count": null
  },
  {
   "metadata": {
    "ExecuteTime": {
     "end_time": "2024-09-26T02:12:05.904469Z",
     "start_time": "2024-09-26T02:12:05.901940Z"
    }
   },
   "cell_type": "code",
   "source": "",
   "id": "4e15dc71d9316a91",
   "outputs": [],
   "execution_count": null
  }
 ],
 "metadata": {
  "kernelspec": {
   "display_name": "Python 3",
   "language": "python",
   "name": "python3"
  },
  "language_info": {
   "codemirror_mode": {
    "name": "ipython",
    "version": 2
   },
   "file_extension": ".py",
   "mimetype": "text/x-python",
   "name": "python",
   "nbconvert_exporter": "python",
   "pygments_lexer": "ipython2",
   "version": "2.7.6"
  }
 },
 "nbformat": 4,
 "nbformat_minor": 5
}
