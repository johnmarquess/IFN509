{
 "cells": [
  {
   "cell_type": "markdown",
   "metadata": {},
   "source": [
    "## 1.  Loading the Pre-processed Dataset <a name=\"resume\"></a>\n",
    "\n",
    "We will reuse the code for data preprocessing developed in previous practicals."
   ]
  },
  {
   "cell_type": "code",
   "metadata": {
    "ExecuteTime": {
     "end_time": "2024-10-17T00:24:50.239115Z",
     "start_time": "2024-10-17T00:24:50.157329Z"
    }
   },
   "source": [
    "import pandas as pd\n",
    "import numpy as np\n",
    "from sklearn.model_selection import train_test_split\n",
    "from sklearn.metrics import classification_report, accuracy_score\n",
    "from sklearn.model_selection import GridSearchCV\n",
    "from dm_tools import data_prep\n",
    "\n",
    "# set the random seed - consistent\n",
    "rs = 10\n",
    "\n",
    "# load the data\n",
    "df,X,y,X_train, X_test, y_train, y_test = data_prep()"
   ],
   "outputs": [
    {
     "name": "stderr",
     "output_type": "stream",
     "text": [
      "C:\\Users\\JohnMarquess\\OneDrive - John Marquess\\Projects\\IFN509\\Tutorials\\Week11\\dm_tools.py:26: FutureWarning: A value is trying to be set on a copy of a DataFrame or Series through chained assignment using an inplace method.\n",
      "The behavior will change in pandas 3.0. This inplace method will never work because the intermediate object on which we are setting values always behaves as a copy.\n",
      "\n",
      "For example, when doing 'df[col].method(value, inplace=True)', try using 'df.method({col: value}, inplace=True)' or df[col] = df[col].method(value) instead, to perform the operation inplace on the original object.\n",
      "\n",
      "\n",
      "  df['DemAge'].fillna(df['DemAge'].mean(), inplace=True)\n",
      "C:\\Users\\JohnMarquess\\OneDrive - John Marquess\\Projects\\IFN509\\Tutorials\\Week11\\dm_tools.py:29: FutureWarning: A value is trying to be set on a copy of a DataFrame or Series through chained assignment using an inplace method.\n",
      "The behavior will change in pandas 3.0. This inplace method will never work because the intermediate object on which we are setting values always behaves as a copy.\n",
      "\n",
      "For example, when doing 'df[col].method(value, inplace=True)', try using 'df.method({col: value}, inplace=True)' or df[col] = df[col].method(value) instead, to perform the operation inplace on the original object.\n",
      "\n",
      "\n",
      "  df['DemMedIncome'].fillna(df['DemMedIncome'].mean(), inplace=True)\n",
      "C:\\Users\\JohnMarquess\\OneDrive - John Marquess\\Projects\\IFN509\\Tutorials\\Week11\\dm_tools.py:32: FutureWarning: A value is trying to be set on a copy of a DataFrame or Series through chained assignment using an inplace method.\n",
      "The behavior will change in pandas 3.0. This inplace method will never work because the intermediate object on which we are setting values always behaves as a copy.\n",
      "\n",
      "For example, when doing 'df[col].method(value, inplace=True)', try using 'df.method({col: value}, inplace=True)' or df[col] = df[col].method(value) instead, to perform the operation inplace on the original object.\n",
      "\n",
      "\n",
      "  df['GiftAvgCard36'].fillna(df['GiftAvgCard36'].mean(), inplace=True)\n"
     ]
    }
   ],
   "execution_count": 2
  },
  {
   "cell_type": "markdown",
   "metadata": {},
   "source": [
    "## 2. Building the first logistic regression model <a name=\"build\"></a>\n",
    "\n",
    "### 2.1. Standardisation\n",
    "\n",
    "Most machine learning/data mining algorithms, including regression models, are\n",
    "sensitive to input variables on different scales. Input variables on different\n",
    "scales make comparison between data points difficult. For \n",
    "example, consider two variables with different scaled values: student grade (in the\n",
    "range of 1-4) and student age (\\~20-65)). In addition, it also adversely affects **gradient descent** (an algorithm used for training models such as regressions, neural networks, Support Vector Machines, etc) by making weights on larger scale inputs to update much faster than smaller scale inputs, resulting in a suboptimal model performance.\n",
    "\n",
    "> To read more about feature scaling, read this excellent blog post from Sebastian Raschka [link](http://sebastianraschka.com/Articles/2014_about_feature_scaling.html)\n",
    "\n",
    "To avoid this problem, it is necessary to perform standardisation on input variables."
   ]
  },
  {
   "metadata": {
    "ExecuteTime": {
     "end_time": "2024-10-17T00:26:42.998172Z",
     "start_time": "2024-10-17T00:26:42.977706Z"
    }
   },
   "cell_type": "code",
   "source": "df",
   "outputs": [
    {
     "data": {
      "text/plain": [
       "      TargetB  GiftCnt36  GiftCntAll  GiftCntCard36  GiftCntCardAll  \\\n",
       "0           0          2           4              1               3   \n",
       "1           0          1           8              0               3   \n",
       "2           1          6          41              3              20   \n",
       "3           1          3          12              3               8   \n",
       "4           0          1           1              1               1   \n",
       "...       ...        ...         ...            ...             ...   \n",
       "9681        1          2           2              2               2   \n",
       "9682        0          3           4              1               1   \n",
       "9683        1          9          14              5               7   \n",
       "9684        0          2           7              0               1   \n",
       "9685        0          8          15              7              10   \n",
       "\n",
       "      GiftAvgLast  GiftAvg36  GiftAvgAll  GiftAvgCard36  GiftTimeLast  ...  \\\n",
       "0            17.0      13.50        9.25      17.000000            21  ...   \n",
       "1            20.0      20.00       15.88      14.224431            26  ...   \n",
       "2             6.0       5.17        3.73       5.000000            18  ...   \n",
       "3            10.0       8.67        8.50       8.670000             9  ...   \n",
       "4            20.0      20.00       20.00      20.000000            21  ...   \n",
       "...           ...        ...         ...            ...           ...  ...   \n",
       "9681         10.0      15.00       15.00      15.000000            17  ...   \n",
       "9682         10.0      13.33       11.50      10.000000            25  ...   \n",
       "9683         10.0       8.78        7.71       8.800000            15  ...   \n",
       "9684          5.0      12.50        7.43      14.224431             6  ...   \n",
       "9685          5.0       4.88        4.53       5.140000            22  ...   \n",
       "\n",
       "      DemCluster_51  DemCluster_52  DemCluster_53  DemCluster_6  DemCluster_7  \\\n",
       "0             False          False          False         False         False   \n",
       "1             False          False          False         False         False   \n",
       "2             False          False          False         False         False   \n",
       "3             False          False          False         False         False   \n",
       "4             False          False          False         False         False   \n",
       "...             ...            ...            ...           ...           ...   \n",
       "9681          False          False          False         False         False   \n",
       "9682          False          False          False         False         False   \n",
       "9683          False          False          False         False         False   \n",
       "9684          False          False          False         False         False   \n",
       "9685          False          False          False         False         False   \n",
       "\n",
       "      DemCluster_8  DemCluster_9  DemGender_F  DemGender_M  DemGender_U  \n",
       "0            False         False         True        False        False  \n",
       "1            False         False         True        False        False  \n",
       "2            False         False        False         True        False  \n",
       "3            False         False        False         True        False  \n",
       "4            False         False        False         True        False  \n",
       "...            ...           ...          ...          ...          ...  \n",
       "9681         False         False        False         True        False  \n",
       "9682         False         False        False        False         True  \n",
       "9683         False         False         True        False        False  \n",
       "9684         False         False        False         True        False  \n",
       "9685         False         False         True        False        False  \n",
       "\n",
       "[9686 rows x 86 columns]"
      ],
      "text/html": [
       "<div>\n",
       "<style scoped>\n",
       "    .dataframe tbody tr th:only-of-type {\n",
       "        vertical-align: middle;\n",
       "    }\n",
       "\n",
       "    .dataframe tbody tr th {\n",
       "        vertical-align: top;\n",
       "    }\n",
       "\n",
       "    .dataframe thead th {\n",
       "        text-align: right;\n",
       "    }\n",
       "</style>\n",
       "<table border=\"1\" class=\"dataframe\">\n",
       "  <thead>\n",
       "    <tr style=\"text-align: right;\">\n",
       "      <th></th>\n",
       "      <th>TargetB</th>\n",
       "      <th>GiftCnt36</th>\n",
       "      <th>GiftCntAll</th>\n",
       "      <th>GiftCntCard36</th>\n",
       "      <th>GiftCntCardAll</th>\n",
       "      <th>GiftAvgLast</th>\n",
       "      <th>GiftAvg36</th>\n",
       "      <th>GiftAvgAll</th>\n",
       "      <th>GiftAvgCard36</th>\n",
       "      <th>GiftTimeLast</th>\n",
       "      <th>...</th>\n",
       "      <th>DemCluster_51</th>\n",
       "      <th>DemCluster_52</th>\n",
       "      <th>DemCluster_53</th>\n",
       "      <th>DemCluster_6</th>\n",
       "      <th>DemCluster_7</th>\n",
       "      <th>DemCluster_8</th>\n",
       "      <th>DemCluster_9</th>\n",
       "      <th>DemGender_F</th>\n",
       "      <th>DemGender_M</th>\n",
       "      <th>DemGender_U</th>\n",
       "    </tr>\n",
       "  </thead>\n",
       "  <tbody>\n",
       "    <tr>\n",
       "      <th>0</th>\n",
       "      <td>0</td>\n",
       "      <td>2</td>\n",
       "      <td>4</td>\n",
       "      <td>1</td>\n",
       "      <td>3</td>\n",
       "      <td>17.0</td>\n",
       "      <td>13.50</td>\n",
       "      <td>9.25</td>\n",
       "      <td>17.000000</td>\n",
       "      <td>21</td>\n",
       "      <td>...</td>\n",
       "      <td>False</td>\n",
       "      <td>False</td>\n",
       "      <td>False</td>\n",
       "      <td>False</td>\n",
       "      <td>False</td>\n",
       "      <td>False</td>\n",
       "      <td>False</td>\n",
       "      <td>True</td>\n",
       "      <td>False</td>\n",
       "      <td>False</td>\n",
       "    </tr>\n",
       "    <tr>\n",
       "      <th>1</th>\n",
       "      <td>0</td>\n",
       "      <td>1</td>\n",
       "      <td>8</td>\n",
       "      <td>0</td>\n",
       "      <td>3</td>\n",
       "      <td>20.0</td>\n",
       "      <td>20.00</td>\n",
       "      <td>15.88</td>\n",
       "      <td>14.224431</td>\n",
       "      <td>26</td>\n",
       "      <td>...</td>\n",
       "      <td>False</td>\n",
       "      <td>False</td>\n",
       "      <td>False</td>\n",
       "      <td>False</td>\n",
       "      <td>False</td>\n",
       "      <td>False</td>\n",
       "      <td>False</td>\n",
       "      <td>True</td>\n",
       "      <td>False</td>\n",
       "      <td>False</td>\n",
       "    </tr>\n",
       "    <tr>\n",
       "      <th>2</th>\n",
       "      <td>1</td>\n",
       "      <td>6</td>\n",
       "      <td>41</td>\n",
       "      <td>3</td>\n",
       "      <td>20</td>\n",
       "      <td>6.0</td>\n",
       "      <td>5.17</td>\n",
       "      <td>3.73</td>\n",
       "      <td>5.000000</td>\n",
       "      <td>18</td>\n",
       "      <td>...</td>\n",
       "      <td>False</td>\n",
       "      <td>False</td>\n",
       "      <td>False</td>\n",
       "      <td>False</td>\n",
       "      <td>False</td>\n",
       "      <td>False</td>\n",
       "      <td>False</td>\n",
       "      <td>False</td>\n",
       "      <td>True</td>\n",
       "      <td>False</td>\n",
       "    </tr>\n",
       "    <tr>\n",
       "      <th>3</th>\n",
       "      <td>1</td>\n",
       "      <td>3</td>\n",
       "      <td>12</td>\n",
       "      <td>3</td>\n",
       "      <td>8</td>\n",
       "      <td>10.0</td>\n",
       "      <td>8.67</td>\n",
       "      <td>8.50</td>\n",
       "      <td>8.670000</td>\n",
       "      <td>9</td>\n",
       "      <td>...</td>\n",
       "      <td>False</td>\n",
       "      <td>False</td>\n",
       "      <td>False</td>\n",
       "      <td>False</td>\n",
       "      <td>False</td>\n",
       "      <td>False</td>\n",
       "      <td>False</td>\n",
       "      <td>False</td>\n",
       "      <td>True</td>\n",
       "      <td>False</td>\n",
       "    </tr>\n",
       "    <tr>\n",
       "      <th>4</th>\n",
       "      <td>0</td>\n",
       "      <td>1</td>\n",
       "      <td>1</td>\n",
       "      <td>1</td>\n",
       "      <td>1</td>\n",
       "      <td>20.0</td>\n",
       "      <td>20.00</td>\n",
       "      <td>20.00</td>\n",
       "      <td>20.000000</td>\n",
       "      <td>21</td>\n",
       "      <td>...</td>\n",
       "      <td>False</td>\n",
       "      <td>False</td>\n",
       "      <td>False</td>\n",
       "      <td>False</td>\n",
       "      <td>False</td>\n",
       "      <td>False</td>\n",
       "      <td>False</td>\n",
       "      <td>False</td>\n",
       "      <td>True</td>\n",
       "      <td>False</td>\n",
       "    </tr>\n",
       "    <tr>\n",
       "      <th>...</th>\n",
       "      <td>...</td>\n",
       "      <td>...</td>\n",
       "      <td>...</td>\n",
       "      <td>...</td>\n",
       "      <td>...</td>\n",
       "      <td>...</td>\n",
       "      <td>...</td>\n",
       "      <td>...</td>\n",
       "      <td>...</td>\n",
       "      <td>...</td>\n",
       "      <td>...</td>\n",
       "      <td>...</td>\n",
       "      <td>...</td>\n",
       "      <td>...</td>\n",
       "      <td>...</td>\n",
       "      <td>...</td>\n",
       "      <td>...</td>\n",
       "      <td>...</td>\n",
       "      <td>...</td>\n",
       "      <td>...</td>\n",
       "      <td>...</td>\n",
       "    </tr>\n",
       "    <tr>\n",
       "      <th>9681</th>\n",
       "      <td>1</td>\n",
       "      <td>2</td>\n",
       "      <td>2</td>\n",
       "      <td>2</td>\n",
       "      <td>2</td>\n",
       "      <td>10.0</td>\n",
       "      <td>15.00</td>\n",
       "      <td>15.00</td>\n",
       "      <td>15.000000</td>\n",
       "      <td>17</td>\n",
       "      <td>...</td>\n",
       "      <td>False</td>\n",
       "      <td>False</td>\n",
       "      <td>False</td>\n",
       "      <td>False</td>\n",
       "      <td>False</td>\n",
       "      <td>False</td>\n",
       "      <td>False</td>\n",
       "      <td>False</td>\n",
       "      <td>True</td>\n",
       "      <td>False</td>\n",
       "    </tr>\n",
       "    <tr>\n",
       "      <th>9682</th>\n",
       "      <td>0</td>\n",
       "      <td>3</td>\n",
       "      <td>4</td>\n",
       "      <td>1</td>\n",
       "      <td>1</td>\n",
       "      <td>10.0</td>\n",
       "      <td>13.33</td>\n",
       "      <td>11.50</td>\n",
       "      <td>10.000000</td>\n",
       "      <td>25</td>\n",
       "      <td>...</td>\n",
       "      <td>False</td>\n",
       "      <td>False</td>\n",
       "      <td>False</td>\n",
       "      <td>False</td>\n",
       "      <td>False</td>\n",
       "      <td>False</td>\n",
       "      <td>False</td>\n",
       "      <td>False</td>\n",
       "      <td>False</td>\n",
       "      <td>True</td>\n",
       "    </tr>\n",
       "    <tr>\n",
       "      <th>9683</th>\n",
       "      <td>1</td>\n",
       "      <td>9</td>\n",
       "      <td>14</td>\n",
       "      <td>5</td>\n",
       "      <td>7</td>\n",
       "      <td>10.0</td>\n",
       "      <td>8.78</td>\n",
       "      <td>7.71</td>\n",
       "      <td>8.800000</td>\n",
       "      <td>15</td>\n",
       "      <td>...</td>\n",
       "      <td>False</td>\n",
       "      <td>False</td>\n",
       "      <td>False</td>\n",
       "      <td>False</td>\n",
       "      <td>False</td>\n",
       "      <td>False</td>\n",
       "      <td>False</td>\n",
       "      <td>True</td>\n",
       "      <td>False</td>\n",
       "      <td>False</td>\n",
       "    </tr>\n",
       "    <tr>\n",
       "      <th>9684</th>\n",
       "      <td>0</td>\n",
       "      <td>2</td>\n",
       "      <td>7</td>\n",
       "      <td>0</td>\n",
       "      <td>1</td>\n",
       "      <td>5.0</td>\n",
       "      <td>12.50</td>\n",
       "      <td>7.43</td>\n",
       "      <td>14.224431</td>\n",
       "      <td>6</td>\n",
       "      <td>...</td>\n",
       "      <td>False</td>\n",
       "      <td>False</td>\n",
       "      <td>False</td>\n",
       "      <td>False</td>\n",
       "      <td>False</td>\n",
       "      <td>False</td>\n",
       "      <td>False</td>\n",
       "      <td>False</td>\n",
       "      <td>True</td>\n",
       "      <td>False</td>\n",
       "    </tr>\n",
       "    <tr>\n",
       "      <th>9685</th>\n",
       "      <td>0</td>\n",
       "      <td>8</td>\n",
       "      <td>15</td>\n",
       "      <td>7</td>\n",
       "      <td>10</td>\n",
       "      <td>5.0</td>\n",
       "      <td>4.88</td>\n",
       "      <td>4.53</td>\n",
       "      <td>5.140000</td>\n",
       "      <td>22</td>\n",
       "      <td>...</td>\n",
       "      <td>False</td>\n",
       "      <td>False</td>\n",
       "      <td>False</td>\n",
       "      <td>False</td>\n",
       "      <td>False</td>\n",
       "      <td>False</td>\n",
       "      <td>False</td>\n",
       "      <td>True</td>\n",
       "      <td>False</td>\n",
       "      <td>False</td>\n",
       "    </tr>\n",
       "  </tbody>\n",
       "</table>\n",
       "<p>9686 rows × 86 columns</p>\n",
       "</div>"
      ]
     },
     "execution_count": 4,
     "metadata": {},
     "output_type": "execute_result"
    }
   ],
   "execution_count": 4
  },
  {
   "cell_type": "code",
   "metadata": {
    "ExecuteTime": {
     "end_time": "2024-10-17T00:24:55.443947Z",
     "start_time": "2024-10-17T00:24:55.367826Z"
    }
   },
   "source": [
    "from sklearn.preprocessing import StandardScaler\n",
    "\n",
    "# initialise a standard scaler object\n",
    "scaler = StandardScaler()\n",
    "\n",
    "# visualise min, max, mean and standard dev of data before scaling\n",
    "print(\"Before scaling\\n-------------\")\n",
    "for i in range(5):\n",
    "    col = X_train[:,i]\n",
    "    print(\"Variable #{}: min {}, max {}, mean {:.2f} and std dev {:.2f}\".\n",
    "          format(i, min(col), max(col), np.mean(col), np.std(col)))\n",
    "\n",
    "# learn the mean and std.dev of variables from training data\n",
    "# then use the learned values to transform training data\n",
    "X_train = scaler.fit_transform(X_train, y_train)\n",
    "\n",
    "print(\"After scaling\\n-------------\")\n",
    "for i in range(5):\n",
    "    col = X_train[:,i]\n",
    "    print(\"Variable #{}: min {}, max {}, mean {:.2f} and std dev {:.2f}\".\n",
    "          format(i, min(col), max(col), np.mean(col), np.std(col)))\n",
    "\n",
    "# use the statistic that you learned from training to transform test data\n",
    "# NEVER learn from test data, this is supposed to be a set of dataset\n",
    "# that the model has never seen before\n",
    "X_test = scaler.transform(X_test)"
   ],
   "outputs": [
    {
     "name": "stdout",
     "output_type": "stream",
     "text": [
      "Before scaling\n",
      "-------------\n",
      "Variable #0: min 0, max 13, mean 3.20 and std dev 2.13\n",
      "Variable #1: min 1, max 89, mean 10.50 and std dev 8.95\n",
      "Variable #2: min 0, max 9, mean 1.86 and std dev 1.59\n",
      "Variable #3: min 0, max 41, mean 5.58 and std dev 4.73\n",
      "Variable #4: min 0.0, max 450.0, mean 15.97 and std dev 12.07\n",
      "After scaling\n",
      "-------------\n",
      "Variable #0: min -1.505311488472091, max 4.600729037733905, mean -0.00 and std dev 1.00\n",
      "Variable #1: min -1.0623391496250907, max 8.7746107562059, mean -0.00 and std dev 1.00\n",
      "Variable #2: min -1.1659811623481273, max 4.487429288703341, mean -0.00 and std dev 1.00\n",
      "Variable #3: min -1.1795617205202689, max 7.485041166941727, mean -0.00 and std dev 1.00\n",
      "Variable #4: min -1.3225650969557856, max 35.95505089608766, mean 0.00 and std dev 1.00\n"
     ]
    }
   ],
   "execution_count": 3
  },
  {
   "cell_type": "markdown",
   "metadata": {},
   "source": [
    "### 2.2. Training logistic regression\n",
    "\n",
    "Once the input variables are scaled, we are ready to build the model. As\n",
    "discussed before, the underlying problem is classification predictive mining,\n",
    "therefore, a logistic regression model will be build for this classification\n",
    "task. In sklearn, logistic regression is implemented in\n",
    "`sklearn.linear_model.LogisticRegression`."
   ]
  },
  {
   "cell_type": "code",
   "execution_count": 3,
   "metadata": {},
   "outputs": [],
   "source": [
    "from sklearn.linear_model import LogisticRegression"
   ]
  },
  {
   "cell_type": "markdown",
   "metadata": {},
   "source": [
    "Similar to decision tree, initiate a model object (with random state to ensure consistent result) and fit it to the training dataset. "
   ]
  },
  {
   "cell_type": "code",
   "execution_count": 4,
   "metadata": {},
   "outputs": [
    {
     "data": {
      "text/plain": [
       "LogisticRegression(C=1.0, class_weight=None, dual=False, fit_intercept=True,\n",
       "                   intercept_scaling=1, l1_ratio=None, max_iter=100,\n",
       "                   multi_class='auto', n_jobs=None, penalty='l2',\n",
       "                   random_state=10, solver='lbfgs', tol=0.0001, verbose=0,\n",
       "                   warm_start=False)"
      ]
     },
     "execution_count": 4,
     "metadata": {},
     "output_type": "execute_result"
    }
   ],
   "source": [
    "model = LogisticRegression(random_state=rs)\n",
    "\n",
    "# fit it to training data\n",
    "model.fit(X_train, y_train)"
   ]
  },
  {
   "cell_type": "code",
   "execution_count": 5,
   "metadata": {},
   "outputs": [
    {
     "name": "stdout",
     "output_type": "stream",
     "text": [
      "Train accuracy: 0.5936578171091446\n",
      "Test accuracy: 0.56194081211287\n",
      "              precision    recall  f1-score   support\n",
      "\n",
      "           0       0.56      0.57      0.57      1453\n",
      "           1       0.56      0.55      0.56      1453\n",
      "\n",
      "    accuracy                           0.56      2906\n",
      "   macro avg       0.56      0.56      0.56      2906\n",
      "weighted avg       0.56      0.56      0.56      2906\n",
      "\n"
     ]
    }
   ],
   "source": [
    "# training and test accuracy\n",
    "print(\"Train accuracy:\", model.score(X_train, y_train))\n",
    "print(\"Test accuracy:\", model.score(X_test, y_test))\n",
    "\n",
    "# classification report on test data\n",
    "y_pred = model.predict(X_test)\n",
    "print(classification_report(y_test, y_pred))"
   ]
  },
  {
   "cell_type": "markdown",
   "metadata": {},
   "source": [
    "The model does not produce an acceptable accuracy score on training data. The training accuracy is slightly higher than the test accuracy which may indicate slight overfitting but that needs to be investigated. We will tune this logistic regression model later using GridSearchCV to imrprove the accuracy.\n",
    "\n",
    "## 3. Understanding the logistic regression model <a name=\"viz\"></a>\n",
    "Once the model is trained, all of its weights are stored in `.coef_` array of the model."
   ]
  },
  {
   "cell_type": "code",
   "execution_count": 6,
   "metadata": {},
   "outputs": [
    {
     "name": "stdout",
     "output_type": "stream",
     "text": [
      "[[ 8.56479317e-02  5.74631371e-02  9.58946027e-02 -7.69919083e-02\n",
      "  -5.02902331e-02 -3.99709024e-02  7.37732317e-02 -5.92560335e-02\n",
      "  -1.68292677e-01  2.80519442e-01 -1.39754466e-01  5.05070065e-02\n",
      "   1.97683503e-01  4.77612140e-02  9.50116479e-02 -4.38436665e-01\n",
      "   1.10063136e-01  5.51064382e-02  2.69872103e-02  1.25814151e-01\n",
      "   4.53440991e-02 -2.50488747e-02 -2.30633992e-02  7.76561114e-02\n",
      "  -2.66603966e-02 -7.16675987e-03  2.82366134e-02  5.92501486e-05\n",
      "   4.95165519e-02  2.50354442e-02 -5.18832419e-02  2.46946960e-02\n",
      "   2.03374611e-03  4.35110123e-03 -1.70204184e-04 -1.34981177e-03\n",
      "  -2.41930044e-02  1.54508038e-02  2.44619453e-02 -5.98428132e-04\n",
      "   9.42231360e-03  1.79364746e-02 -3.78661229e-02 -1.01825582e-02\n",
      "  -1.30017508e-02  1.83649892e-02 -7.88115883e-03  8.93770163e-04\n",
      "  -3.88925245e-04  1.77522198e-02  1.19328388e-02  2.45900873e-02\n",
      "  -5.11924297e-02  1.11579624e-02 -4.77995044e-02 -1.00049707e-02\n",
      "  -3.03188210e-03  3.13878856e-02 -1.14417950e-03 -1.78740259e-02\n",
      "   3.76321854e-02  1.77111033e-02  2.15422673e-02  4.20480033e-02\n",
      "  -3.26692890e-02  4.23645062e-02 -1.14815004e-02 -2.38148921e-02\n",
      "  -4.50369881e-02  4.15033193e-02 -5.28391255e-02 -8.82257230e-03\n",
      "  -2.79028176e-02 -1.95684861e-02  7.06629557e-03 -1.79374750e-02\n",
      "  -3.52771549e-02  2.68346487e-02 -3.67798085e-02  8.25476912e-03\n",
      "  -2.19041951e-02 -2.22344683e-02  5.20549752e-03  1.87470616e-03\n",
      "  -1.53770271e-02]]\n"
     ]
    }
   ],
   "source": [
    "print(model.coef_)"
   ]
  },
  {
   "cell_type": "markdown",
   "metadata": {},
   "source": [
    "Each of these values corresponds to a variable/feature in the dataset. We can print out the feature name associated with each coefficient with this code below."
   ]
  },
  {
   "cell_type": "code",
   "execution_count": 7,
   "metadata": {},
   "outputs": [
    {
     "name": "stdout",
     "output_type": "stream",
     "text": [
      "GiftCnt36 : 0.08564793174330508\n",
      "GiftCntAll : 0.05746313707979046\n",
      "GiftCntCard36 : 0.09589460268134936\n",
      "GiftCntCardAll : -0.07699190828076483\n",
      "GiftAvgLast : -0.05029023311749633\n",
      "GiftAvg36 : -0.03997090240216672\n",
      "GiftAvgAll : 0.07377323168569479\n",
      "GiftAvgCard36 : -0.05925603345643192\n",
      "GiftTimeLast : -0.16829267718061125\n",
      "GiftTimeFirst : 0.28051944167333015\n",
      "PromCnt12 : -0.13975446633584174\n",
      "PromCnt36 : 0.05050700651424271\n",
      "PromCntAll : 0.1976835033755152\n",
      "PromCntCard12 : 0.04776121404026222\n",
      "PromCntCard36 : 0.0950116479196176\n",
      "PromCntCardAll : -0.4384366648540792\n",
      "StatusCatStarAll : 0.11006313623278328\n",
      "DemAge : 0.055106438177314344\n",
      "DemHomeOwner : 0.026987210346360868\n",
      "DemMedHomeValue : 0.1258141510220739\n"
     ]
    }
   ],
   "source": [
    "feature_names = X.columns\n",
    "coef = model.coef_[0]\n",
    "\n",
    "# limit to 20 features, you can comment the following line to print out everything\n",
    "coef = coef[:20]\n",
    "\n",
    "for i in range(len(coef)):\n",
    "    print(feature_names[i], ':', coef[i])"
   ]
  },
  {
   "cell_type": "markdown",
   "metadata": {},
   "source": [
    "Recall again that a linear/logistic regression model assumes a linear correlation between input features and target values. This relationship is reflected in the weight values.\n",
    "* Positive coefficient means positive change in the input feature has positive correlation to the prediction value. **DemAge** has positive coefficients, which means older donors (larger age value) are predicted to be more likely to donate back.\n",
    "\n",
    "* Negative coefficient does the reverse. For example, **GiftTimeLast** has negative coefficient, thus if a donor has not donated for a while, the model predicts it is less likely for them to be a lapsing donor.\n",
    "\n",
    "In addition to understanding positive/negative correlations between features and prediction values, it is important to learn how much a feature impacts the overall prediction value (i.e. feature importance). One way to answer this question is by looking at the absolute value of coefficients. Changes in an important variable (either positive or negative) should correlate to a larger impact to prediction value, thus the coefficient assigned to this variable will have a large absolute value. \n",
    "\n",
    "This method only applies when the features are standard scaled. Without scaling, each feature can be on different range of values, making the larger ranged feature more important by default. For example, in a dataset with **age** and **income**, a **+10** increase in age is significant, but it is meaningless in income. \n",
    "\n",
    "The following code will sort the coefficients by their largest absolute value and print the corresponding feature names."
   ]
  },
  {
   "cell_type": "code",
   "execution_count": 8,
   "metadata": {},
   "outputs": [
    {
     "name": "stdout",
     "output_type": "stream",
     "text": [
      "PromCntCardAll : -0.4384366648540792\n",
      "GiftTimeFirst : 0.28051944167333015\n",
      "PromCntAll : 0.1976835033755152\n",
      "GiftTimeLast : -0.16829267718061125\n",
      "PromCnt12 : -0.13975446633584174\n",
      "DemMedHomeValue : 0.1258141510220739\n",
      "StatusCatStarAll : 0.11006313623278328\n",
      "GiftCntCard36 : 0.09589460268134936\n",
      "PromCntCard36 : 0.0950116479196176\n",
      "GiftCnt36 : 0.08564793174330508\n",
      "StatusCat96NK_E : 0.07765611138128718\n",
      "GiftCntCardAll : -0.07699190828076483\n",
      "GiftAvgAll : 0.07377323168569479\n",
      "GiftAvgCard36 : -0.05925603345643192\n",
      "GiftCntAll : 0.05746313707979046\n",
      "DemAge : 0.055106438177314344\n",
      "DemCluster_47 : -0.05283912552726659\n",
      "DemCluster_10 : -0.05188324186791754\n",
      "DemCluster_30 : -0.051192429695869596\n",
      "PromCnt36 : 0.05050700651424271\n"
     ]
    }
   ],
   "source": [
    "# grab feature importances from the model and feature name from the original X\n",
    "coef = model.coef_[0]\n",
    "feature_names = X.columns\n",
    "\n",
    "# sort them out in descending order\n",
    "indices = np.argsort(np.absolute(coef))\n",
    "indices = np.flip(indices, axis=0)\n",
    "\n",
    "# limit to 20 features, you can leave this out to print out everything\n",
    "indices = indices[:20]\n",
    "\n",
    "for i in indices:\n",
    "    print(feature_names[i], ':', coef[i])"
   ]
  },
  {
   "cell_type": "markdown",
   "metadata": {},
   "source": [
    "Based on this output, the top-3 important variables in this model are PromCntCardAll, GiftTimeFirst, and PromCntAll. The ordering of important variables may differ different between models."
   ]
  },
  {
   "cell_type": "markdown",
   "metadata": {},
   "source": [
    "## 4. Finding optimal hyperparameters with GridSearchCV <a name=\"gridsearch\"></a>\n",
    "\n",
    "This section will guide you to tune the default model to perform better. In this logistic regression model, we will only tune one hyperparameter,  the regularisation strength. Regularisation is a technique used to prevent overfitting in regression models. We will not go in depth to explain how regularisation works, you can find more information here:\n",
    "* [Basic of regularisation](https://www.quora.com/What-is-regularization-in-machine-learning)\n",
    "* [L1 vs L2 regularisation](http://www.chioka.in/differences-between-l1-and-l2-as-loss-function-and-regularization/)\n",
    "\n",
    "In `sklearn` logistic regression, regularisation is implemented via the hyperparameter **C**, which denotes the inverse of regularisation strength. Smaller C means stronger regularisation. Typical values for C range from $10^{-6}$ to $10^{4}$, increasing in logarithmic order, which are the values we will use in this example.\n",
    "\n",
    "**Tips:** `GridSearchCV` can be slow for searching over a large set of possible values. To speed up the searching process, `GridSearchCV` has parallel running capability, where you can specify how many parallel processes run concurrently with `n_jobs` (-1 means GridSearchCV will use as many cores as possible)."
   ]
  },
  {
   "cell_type": "code",
   "execution_count": 9,
   "metadata": {},
   "outputs": [
    {
     "data": {
      "text/plain": [
       "GridSearchCV(cv=10, error_score=nan,\n",
       "             estimator=LogisticRegression(C=1.0, class_weight=None, dual=False,\n",
       "                                          fit_intercept=True,\n",
       "                                          intercept_scaling=1, l1_ratio=None,\n",
       "                                          max_iter=100, multi_class='auto',\n",
       "                                          n_jobs=None, penalty='l2',\n",
       "                                          random_state=10, solver='lbfgs',\n",
       "                                          tol=0.0001, verbose=0,\n",
       "                                          warm_start=False),\n",
       "             iid='deprecated', n_jobs=-1,\n",
       "             param_grid={'C': [1e-06, 1e-05, 0.0001, 0.001, 0.01, 0.1, 1, 10,\n",
       "                               100, 1000]},\n",
       "             pre_dispatch='2*n_jobs', refit=True, return_train_score=True,\n",
       "             scoring=None, verbose=0)"
      ]
     },
     "execution_count": 9,
     "metadata": {},
     "output_type": "execute_result"
    }
   ],
   "source": [
    "# grid search CV\n",
    "params = {'C': [pow(10, x) for x in range(-6, 4)]}\n",
    "\n",
    "# use all cores to tune logistic regression with C parameter\n",
    "cv = GridSearchCV(param_grid=params, estimator=LogisticRegression(random_state=rs),return_train_score=True, cv=10, n_jobs=-1)\n",
    "cv.fit(X_train, y_train)"
   ]
  },
  {
   "cell_type": "code",
   "execution_count": 10,
   "metadata": {},
   "outputs": [
    {
     "name": "stdout",
     "output_type": "stream",
     "text": [
      "{'mean_fit_time': array([0.10142791, 0.07161188, 0.14961674, 0.16470158, 0.3754668 ,\n",
      "       0.55314081, 0.83623943, 0.7572623 , 0.66558859, 0.53418951]), 'std_fit_time': array([0.04945515, 0.01910362, 0.03351158, 0.05139281, 0.13451814,\n",
      "       0.14011479, 0.35983689, 0.25231347, 0.19691503, 0.09289368]), 'mean_score_time': array([0.00292583, 0.00299695, 0.00249174, 0.00279195, 0.00209129,\n",
      "       0.00422626, 0.00276341, 0.00235765, 0.00257745, 0.00296035]), 'std_score_time': array([0.00205444, 0.00285807, 0.0014974 , 0.00203569, 0.00094485,\n",
      "       0.0051413 , 0.0016275 , 0.00117242, 0.00150397, 0.00139077]), 'param_C': masked_array(data=[1e-06, 1e-05, 0.0001, 0.001, 0.01, 0.1, 1, 10, 100,\n",
      "                   1000],\n",
      "             mask=[False, False, False, False, False, False, False, False,\n",
      "                   False, False],\n",
      "       fill_value='?',\n",
      "            dtype=object), 'params': [{'C': 1e-06}, {'C': 1e-05}, {'C': 0.0001}, {'C': 0.001}, {'C': 0.01}, {'C': 0.1}, {'C': 1}, {'C': 10}, {'C': 100}, {'C': 1000}], 'split0_test_score': array([0.57522124, 0.57817109, 0.58702065, 0.59144543, 0.60176991,\n",
      "       0.60324484, 0.59882006, 0.59882006, 0.59882006, 0.59882006]), 'split1_test_score': array([0.5840708 , 0.58554572, 0.59587021, 0.59882006, 0.59439528,\n",
      "       0.59144543, 0.58849558, 0.5899705 , 0.5899705 , 0.5899705 ]), 'split2_test_score': array([0.56489676, 0.57079646, 0.59144543, 0.60914454, 0.60176991,\n",
      "       0.59882006, 0.60176991, 0.60029499, 0.60029499, 0.60029499]), 'split3_test_score': array([0.53097345, 0.52949853, 0.53244838, 0.55014749, 0.55457227,\n",
      "       0.55309735, 0.54867257, 0.54867257, 0.54867257, 0.54867257]), 'split4_test_score': array([0.59292035, 0.58849558, 0.57079646, 0.58259587, 0.5840708 ,\n",
      "       0.58702065, 0.58259587, 0.58702065, 0.58702065, 0.58702065]), 'split5_test_score': array([0.56932153, 0.57669617, 0.58112094, 0.59882006, 0.59144543,\n",
      "       0.58554572, 0.58259587, 0.58259587, 0.58259587, 0.58259587]), 'split6_test_score': array([0.55457227, 0.55457227, 0.55899705, 0.54572271, 0.54424779,\n",
      "       0.55014749, 0.55162242, 0.55162242, 0.55162242, 0.55162242]), 'split7_test_score': array([0.5560472 , 0.56342183, 0.57669617, 0.58702065, 0.57374631,\n",
      "       0.57227139, 0.56784661, 0.56932153, 0.56932153, 0.56784661]), 'split8_test_score': array([0.57522124, 0.57817109, 0.57227139, 0.58702065, 0.56784661,\n",
      "       0.56637168, 0.56932153, 0.56784661, 0.56784661, 0.56784661]), 'split9_test_score': array([0.54277286, 0.54424779, 0.56489676, 0.56784661, 0.56489676,\n",
      "       0.56047198, 0.56047198, 0.56047198, 0.56047198, 0.56047198]), 'mean_test_score': array([0.56460177, 0.56696165, 0.57315634, 0.58185841, 0.57787611,\n",
      "       0.57684366, 0.57522124, 0.57566372, 0.57566372, 0.57551622]), 'std_test_score': array([0.01791656, 0.01804239, 0.01746651, 0.01993334, 0.01896643,\n",
      "       0.01802128, 0.01764988, 0.01778556, 0.01778556, 0.01784356]), 'rank_test_score': array([10,  9,  8,  1,  2,  3,  7,  4,  4,  6]), 'split0_train_score': array([0.5696493 , 0.57194363, 0.58030154, 0.5942314 , 0.59488692,\n",
      "       0.59439528, 0.59488692, 0.59472304, 0.59472304, 0.59472304]), 'split1_train_score': array([0.56948541, 0.57014094, 0.57817109, 0.59062602, 0.59111767,\n",
      "       0.59062602, 0.59062602, 0.59013438, 0.59029826, 0.59029826]), 'split2_train_score': array([0.56866601, 0.57063258, 0.5763684 , 0.59111767, 0.59652573,\n",
      "       0.59095379, 0.59390364, 0.59390364, 0.59373976, 0.59373976]), 'split3_train_score': array([0.57341855, 0.57456572, 0.5806293 , 0.59521468, 0.59652573,\n",
      "       0.5942314 , 0.59292035, 0.59324812, 0.59308423, 0.59308423]), 'split4_train_score': array([0.57030482, 0.57079646, 0.58144871, 0.59554245, 0.59455916,\n",
      "       0.59390364, 0.59537856, 0.59537856, 0.59537856, 0.59521468]), 'split5_train_score': array([0.56817437, 0.56915765, 0.58030154, 0.59144543, 0.59455916,\n",
      "       0.59357588, 0.59357588, 0.59324812, 0.59308423, 0.59324812]), 'split6_train_score': array([0.57227139, 0.57325467, 0.58292363, 0.5984923 , 0.59783677,\n",
      "       0.59816454, 0.60045887, 0.60078663, 0.60078663, 0.60078663]), 'split7_train_score': array([0.57112422, 0.57112422, 0.57686005, 0.59652573, 0.5993117 ,\n",
      "       0.59882006, 0.59914782, 0.59914782, 0.59898394, 0.59898394]), 'split8_train_score': array([0.5712881 , 0.57177974, 0.5798099 , 0.59636185, 0.60078663,\n",
      "       0.59668961, 0.59537856, 0.59554245, 0.59554245, 0.59554245]), 'split9_train_score': array([0.57227139, 0.57456572, 0.58292363, 0.60127827, 0.59898394,\n",
      "       0.59816454, 0.59947558, 0.59980334, 0.59980334, 0.59980334]), 'mean_train_score': array([0.57066536, 0.57179613, 0.57997378, 0.59508358, 0.59650934,\n",
      "       0.59495247, 0.59557522, 0.59559161, 0.59554245, 0.59554245]), 'std_train_score': array([0.00161537, 0.00173195, 0.00214928, 0.00321707, 0.0027082 ,\n",
      "       0.00277748, 0.00301184, 0.00319046, 0.00317861, 0.00316761])}\n"
     ]
    }
   ],
   "source": [
    "result_set = cv.cv_results_\n",
    "print(result_set)"
   ]
  },
  {
   "cell_type": "markdown",
   "metadata": {},
   "source": [
    "In Decision tree, there were three hyperparameters fine-tuned using GridSearchCV. In logistic regression, `C` is the only hyperparameter we will fine-tune. Therefore, the number of models built is equal to the range of values we define for the hyperparameter `C`. \n",
    "\n",
    "Let us plot the train and test score of split0. "
   ]
  },
  {
   "cell_type": "code",
   "execution_count": 11,
   "metadata": {
    "scrolled": true
   },
   "outputs": [
    {
     "name": "stdout",
     "output_type": "stream",
     "text": [
      "Total number of models:  10\n"
     ]
    },
    {
     "data": {
      "image/png": "[encoded data removed]",
      "text/plain": [
       "<Figure size 432x288 with 1 Axes>"
      ]
     },
     "metadata": {
      "needs_background": "light"
     },
     "output_type": "display_data"
    }
   ],
   "source": [
    "import matplotlib.pyplot as plt\n",
    "train_result = result_set['split0_train_score']\n",
    "test_result = result_set['split0_test_score']\n",
    "print(\"Total number of models: \", len(test_result))\n",
    "# plot Hyperparameter C values vs training and test accuracy score\n",
    "plt.plot(range(0, len(train_result)), train_result, 'b', range(0,len(test_result)), test_result, 'r')\n",
    "plt.xlabel('Hyperparameter C\\nBlue = training acc. Red = test acc.')\n",
    "plt.xticks(range(0, len(train_result)),[pow(10, x) for x in range(-6, 4)])\n",
    "plt.ylabel('score')\n",
    "plt.show()"
   ]
  },
  {
   "cell_type": "markdown",
   "metadata": {},
   "source": [
    "From the figure above, the optimal value for `C` is 0.1. However this will not be the final choice as we have 9 more splits to consider. Now, let us plot the mean train and test score for all the splits."
   ]
  },
  {
   "cell_type": "code",
   "execution_count": 12,
   "metadata": {},
   "outputs": [
    {
     "name": "stdout",
     "output_type": "stream",
     "text": [
      "Total number of models:  10\n"
     ]
    },
    {
     "data": {
      "image/png": "[encoded data removed]",
      "text/plain": [
       "<Figure size 432x288 with 1 Axes>"
      ]
     },
     "metadata": {
      "needs_background": "light"
     },
     "output_type": "display_data"
    }
   ],
   "source": [
    "import matplotlib.pyplot as plt\n",
    "\n",
    "train_result = result_set['mean_train_score']\n",
    "test_result = result_set['mean_test_score']\n",
    "print(\"Total number of models: \", len(test_result))\n",
    "# plot Hyperparameter C values vs training and test accuracy score\n",
    "plt.plot(range(0, len(train_result)), train_result, 'b', range(0,len(test_result)), test_result, 'r')\n",
    "plt.xlabel('Hyperparameter C\\nBlue = training acc. Red = test acc.')\n",
    "plt.xticks(range(0, len(train_result)),[pow(10, x) for x in range(-6, 4)])\n",
    "plt.ylabel('score')\n",
    "plt.show()"
   ]
  },
  {
   "cell_type": "markdown",
   "metadata": {},
   "source": [
    "From the above figure it can be noted that the default logistic regression model with parameter `C=1` overfits. This figure ascertains that setting `C > 0.001` causes the model to be overfiting (the test error beyond this point degrades regrardless of slight improvement in training accuracy error)."
   ]
  },
  {
   "cell_type": "markdown",
   "metadata": {},
   "source": [
    "Since the model provides the best test score with `C = 0.001`, it is seleceted as the optimal value."
   ]
  },
  {
   "cell_type": "code",
   "execution_count": 13,
   "metadata": {},
   "outputs": [
    {
     "name": "stdout",
     "output_type": "stream",
     "text": [
      "{'C': 0.001}\n"
     ]
    }
   ],
   "source": [
    "print(cv.best_params_)"
   ]
  },
  {
   "cell_type": "code",
   "execution_count": 14,
   "metadata": {},
   "outputs": [
    {
     "name": "stdout",
     "output_type": "stream",
     "text": [
      "Train accuracy: 0.5949852507374631\n",
      "Test accuracy: 0.5650378527185134\n"
     ]
    }
   ],
   "source": [
    "cv.fit(X_train, y_train)\n",
    "\n",
    "print(\"Train accuracy:\", cv.score(X_train, y_train))\n",
    "print(\"Test accuracy:\", cv.score(X_test, y_test))"
   ]
  },
  {
   "cell_type": "markdown",
   "metadata": {},
   "source": [
    "## 5. Feature selection <a name=\"fselect\"></a>\n",
    "\n",
    "Other than fine-tuning models by performing grid search over the hyperparameters, there are many methods to improve prediction quality of a model. One way is to reduce the size of input set expecting that it will improve model performance, reduce overfitting and enhance visualiation. \n",
    "\n",
    "Dimensionality reduction can bedivided into two processes:\n",
    "* Feature selection: Process of selecting a subset of relevant features (variables) to be used in constructing models.\n",
    "* Feature extraction: Process of transforming the high-dimensional feature space into a lower dimension. Typically performed by finding principle components of the feature space.\n",
    "\n",
    "### 5.1. Feature selection using Recursive Feature Elimination\n",
    "\n",
    "Let us explore the dimensionality reduction technique called recursive feature elimination (RFE). RFE works by first training the model on all features. Each feature is assigned a weight. Features with small weights (less important) are eliminated, making a smaller feature set. This process is repeated a number of times until reaching the optimal performance.\n",
    "\n",
    "In this practical, we will use RFE with cross validation (CV). Cross validation allows RFE to generalise better over a set of training datasets. RFE with CV is implemented in sklearn under `sklearn.feature_selection.RFECV`. Initiate the RFE with a logistic regression estimator and 10-fold CV to start eliminating features."
   ]
  },
  {
   "cell_type": "code",
   "execution_count": 15,
   "metadata": {},
   "outputs": [
    {
     "name": "stdout",
     "output_type": "stream",
     "text": [
      "Original feature set 85\n",
      "Number of features after elimination 40\n"
     ]
    }
   ],
   "source": [
    "from sklearn.feature_selection import RFECV\n",
    "\n",
    "rfe = RFECV(estimator = LogisticRegression(random_state=rs), cv=10)\n",
    "rfe.fit(X_train, y_train) # run the RFECV\n",
    "\n",
    "# comparing how many variables before and after\n",
    "print(\"Original feature set\", X_train.shape[1])\n",
    "print(\"Number of features after elimination\", rfe.n_features_)"
   ]
  },
  {
   "cell_type": "markdown",
   "metadata": {},
   "source": [
    "The RFE+CV process outputs a total of 40 features as the optimal number of features. In other words, the regression model identifies the 40 input variables to be important to make a prediction. We can now .transform() the original input set taking only the important features."
   ]
  },
  {
   "cell_type": "code",
   "execution_count": 16,
   "metadata": {},
   "outputs": [],
   "source": [
    "X_train_sel = rfe.transform(X_train)\n",
    "X_test_sel = rfe.transform(X_test)"
   ]
  },
  {
   "cell_type": "markdown",
   "metadata": {},
   "source": [
    "Let us run another `GridSearchCV` and test if the new input set can improve the model performance. "
   ]
  },
  {
   "cell_type": "code",
   "execution_count": 17,
   "metadata": {},
   "outputs": [
    {
     "name": "stdout",
     "output_type": "stream",
     "text": [
      "Train accuracy: 0.5936578171091446\n",
      "Test accuracy: 0.5688231245698555\n",
      "              precision    recall  f1-score   support\n",
      "\n",
      "           0       0.57      0.58      0.57      1453\n",
      "           1       0.57      0.56      0.56      1453\n",
      "\n",
      "    accuracy                           0.57      2906\n",
      "   macro avg       0.57      0.57      0.57      2906\n",
      "weighted avg       0.57      0.57      0.57      2906\n",
      "\n",
      "{'C': 100}\n"
     ]
    }
   ],
   "source": [
    "# grid search CV\n",
    "params = {'C': [pow(10, x) for x in range(-6, 4)]}\n",
    "\n",
    "rfe_cv = GridSearchCV(param_grid=params, estimator=LogisticRegression(random_state=rs), cv=10, n_jobs=-1)\n",
    "rfe_cv.fit(X_train_sel, y_train)\n",
    "\n",
    "# test the best model\n",
    "print(\"Train accuracy:\", rfe_cv.score(X_train_sel, y_train))\n",
    "print(\"Test accuracy:\", rfe_cv.score(X_test_sel, y_test))\n",
    "\n",
    "y_pred = rfe_cv.predict(X_test_sel)\n",
    "print(classification_report(y_test, y_pred))\n",
    "\n",
    "# print parameters of the best model\n",
    "print(rfe_cv.best_params_)"
   ]
  },
  {
   "cell_type": "markdown",
   "metadata": {},
   "source": [
    "The RFE only managed to improve the accuracy of the model slightly on the test data. More importantly, with the much smaller feature set, the training, testing and prediction process is speed up significantly. Additionally, the smaller model enhances the decision making process of teh model."
   ]
  },
  {
   "cell_type": "markdown",
   "metadata": {},
   "source": [
    "### 5.2. Feature selection using another model\n",
    "\n",
    "We will explore another mdethod of feature selection \"select from model\". A machine learning model with the ability to find feature importance can be used to select features with high importance. Typically, decision tree or support vector machine models are used in this method. Recall from the previous practical that decision trees can compute feature importance internally through the tree structure. Therefore, we will use the best decision tree as \"selecting model\" to use the high quality subset of variables.\n",
    "\n",
    "Tip: You can use `pickle.load` to load the `DT.pickle` that we have build as part of the decision tree practical."
   ]
  },
  {
   "cell_type": "code",
   "execution_count": 18,
   "metadata": {},
   "outputs": [
    {
     "name": "stdout",
     "output_type": "stream",
     "text": [
      "{'criterion': 'entropy', 'max_depth': 5, 'min_samples_leaf': 10}\n"
     ]
    }
   ],
   "source": [
    "import pickle\n",
    "with open('DT.pickle', 'rb') as f:\n",
    "    dt_best,roc_index_dt_cv, fpr_dt_cv, tpr_dt_cv = pickle.load(f)\n",
    "#dt_best.fit(X_train, y_train)\n",
    "\n",
    "print(dt_best.best_params_)"
   ]
  },
  {
   "cell_type": "markdown",
   "metadata": {},
   "source": [
    "We can analyse the feature importance from the trained decision tree model using `analyse_feature_importance()` function (we have written this code in the decison tree mining practical."
   ]
  },
  {
   "cell_type": "code",
   "execution_count": 19,
   "metadata": {},
   "outputs": [
    {
     "name": "stdout",
     "output_type": "stream",
     "text": [
      "GiftCnt36 : 0.2786889679489785\n",
      "DemMedHomeValue : 0.16527761052028647\n",
      "GiftAvgLast : 0.12080196710144986\n",
      "GiftCntAll : 0.06936170003476945\n",
      "GiftTimeLast : 0.06852490725467034\n",
      "StatusCatStarAll : 0.039760012572680054\n",
      "DemAge : 0.0395320434572485\n",
      "PromCnt36 : 0.034873357233237874\n",
      "GiftCntCardAll : 0.030230871689451603\n",
      "GiftTimeFirst : 0.027615727171569734\n",
      "DemPctVeterans : 0.025370100839886917\n",
      "PromCnt12 : 0.021248703587791955\n",
      "DemCluster_21 : 0.016907242527362424\n",
      "PromCntCard36 : 0.016068732710812456\n",
      "PromCntAll : 0.01598797726061107\n",
      "PromCntCard12 : 0.015718616757198205\n",
      "DemMedIncome : 0.014031461331994594\n",
      "DemCluster_48 : 0.0\n",
      "StatusCat96NK_L : 0.0\n",
      "StatusCat96NK_A : 0.0\n"
     ]
    }
   ],
   "source": [
    "from dm_tools import analyse_feature_importance\n",
    "\n",
    "# analyse feature importance from the tuned decision tree\n",
    "analyse_feature_importance(dt_best.best_estimator_, X.columns)"
   ]
  },
  {
   "cell_type": "markdown",
   "metadata": {},
   "source": [
    "The output shows there are only 16 features with importance value more than 0. According to the tuned decision tree, there are only 16 important features in this dataset for prediction. This decision tree can be used to perform feature selection."
   ]
  },
  {
   "cell_type": "markdown",
   "metadata": {},
   "source": [
    "Import `SelectFromModel` module from `sklearn.feature_selection`."
   ]
  },
  {
   "cell_type": "code",
   "execution_count": 20,
   "metadata": {},
   "outputs": [
    {
     "name": "stdout",
     "output_type": "stream",
     "text": [
      "(6780, 17)\n"
     ]
    }
   ],
   "source": [
    "from sklearn.feature_selection import SelectFromModel\n",
    "\n",
    "# use the trained best decision tree from GridSearchCV to select features\n",
    "# supply the prefit=True parameter to stop SelectFromModel to re-train the model\n",
    "selectmodel = SelectFromModel(dt_best.best_estimator_, prefit=True)\n",
    "X_train_sel_model = selectmodel.transform(X_train)\n",
    "X_test_sel_model = selectmodel.transform(X_test)\n",
    "\n",
    "print(X_train_sel_model.shape)"
   ]
  },
  {
   "cell_type": "markdown",
   "metadata": {},
   "source": [
    "The shape of X_train shows that only 17 feature left what the decision tree suggests. Next, train and tune another logistic regression model from this new data set and see if it improves the performance."
   ]
  },
  {
   "cell_type": "code",
   "execution_count": 21,
   "metadata": {},
   "outputs": [
    {
     "name": "stdout",
     "output_type": "stream",
     "text": [
      "Train accuracy: 0.5880530973451328\n",
      "Test accuracy: 0.5660701995870613\n",
      "              precision    recall  f1-score   support\n",
      "\n",
      "           0       0.56      0.58      0.57      1453\n",
      "           1       0.57      0.55      0.56      1453\n",
      "\n",
      "    accuracy                           0.57      2906\n",
      "   macro avg       0.57      0.57      0.57      2906\n",
      "weighted avg       0.57      0.57      0.57      2906\n",
      "\n",
      "{'C': 0.01}\n"
     ]
    }
   ],
   "source": [
    "params = {'C': [pow(10, x) for x in range(-6, 4)]}\n",
    "\n",
    "### For the params given, build a logistic regression model with GridSearch.\n",
    "\n",
    "cv_sel_model = GridSearchCV(param_grid=params, estimator=LogisticRegression(random_state=rs), cv=10, n_jobs=-1)\n",
    "cv_sel_model.fit(X_train_sel_model, y_train)\n",
    "\n",
    "print(\"Train accuracy:\", cv_sel_model.score(X_train_sel_model, y_train))\n",
    "print(\"Test accuracy:\", cv_sel_model.score(X_test_sel_model, y_test))\n",
    "\n",
    "# test the best model\n",
    "y_pred = cv_sel_model.predict(X_test_sel_model)\n",
    "print(classification_report(y_test, y_pred))\n",
    "\n",
    "# print parameters of the best model\n",
    "print(cv_sel_model.best_params_)"
   ]
  },
  {
   "cell_type": "markdown",
   "metadata": {},
   "source": [
    "There is no noticeable improvement in the accuracy performance as compared to the previously build models."
   ]
  },
  {
   "cell_type": "markdown",
   "metadata": {},
   "source": [
    "## 6. Comparision and finding the best performing model<a name=\"compare\"></a>"
   ]
  },
  {
   "cell_type": "markdown",
   "metadata": {},
   "source": [
    "A total of four models has been built:\n",
    "    1. Default logistic regression (`model`)\n",
    "    2. Logistic regression + grid search (`cv`)\n",
    "    3. Logistic regression + feature selection using RFE + grid search (`rfe_cv`)\n",
    "    4. Logistic regression + feature selection using DT + grid search (`cv_sel_model`)\n",
    "    \n",
    "Now, use ROC curve to compare these models along with the best performing decision tree and identify the best performing model."
   ]
  },
  {
   "cell_type": "code",
   "execution_count": 22,
   "metadata": {},
   "outputs": [],
   "source": [
    "### Enter your code \n",
    "#\n",
    "#\n",
    "#"
   ]
  },
  {
   "cell_type": "markdown",
   "metadata": {},
   "source": [
    "Your result:"
   ]
  },
  {
   "cell_type": "markdown",
   "metadata": {},
   "source": [
    "## 7. Save your output <a name=\"save\"></a>\n",
    "\n",
    "Next, save the ROC outputs of the best performing logistic regression model so that we can use it to compare with the Neural Network models."
   ]
  },
  {
   "cell_type": "code",
   "execution_count": 23,
   "metadata": {},
   "outputs": [],
   "source": [
    "### Enter your code\n",
    "#\n",
    "#\n",
    "#"
   ]
  },
  {
   "cell_type": "markdown",
   "metadata": {},
   "source": [
    "## End notes\n",
    "In this practical, we learned how to build and tune logistic regression models. We explored dimensionality reduction to reduce the size of the feature set and improve the performance of models. In addition, we used ROC curves to compare end-to-end performance of all models we have\n",
    "built so far. "
   ]
  }
 ],
 "metadata": {
  "kernelspec": {
   "display_name": "Python 3 (ipykernel)",
   "language": "python",
   "name": "python3"
  },
  "language_info": {
   "codemirror_mode": {
    "name": "ipython",
    "version": 3
   },
   "file_extension": ".py",
   "mimetype": "text/x-python",
   "name": "python",
   "nbconvert_exporter": "python",
   "pygments_lexer": "ipython3",
   "version": "3.9.7"
  }
 },
 "nbformat": 4,
 "nbformat_minor": 4
}
