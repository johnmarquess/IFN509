{
 "cells": [
  {
   "cell_type": "markdown",
   "id": "2d0de09845b5741",
   "metadata": {},
   "source": [
    "### Import the required packages"
   ]
  },
  {
   "cell_type": "code",
   "id": "initial_id",
   "metadata": {
    "ExecuteTime": {
     "end_time": "2024-10-15T01:19:14.962423Z",
     "start_time": "2024-10-15T01:19:14.959238Z"
    }
   },
   "source": [
    "import matplotlib.pyplot as plt\n",
    "import numpy as np\n",
    "import pandas as pd\n",
    "import seaborn as sns"
   ],
   "outputs": [],
   "execution_count": 134
  },
  {
   "cell_type": "markdown",
   "id": "77b5e813e27026e1",
   "metadata": {},
   "source": [
    "### Import scikit-learn modules"
   ]
  },
  {
   "cell_type": "code",
   "id": "3279a3858ab72930",
   "metadata": {
    "ExecuteTime": {
     "end_time": "2024-10-15T01:19:19.013506Z",
     "start_time": "2024-10-15T01:19:19.009643Z"
    }
   },
   "source": [
    "from sklearn.preprocessing import LabelEncoder, MinMaxScaler"
   ],
   "outputs": [],
   "execution_count": 135
  },
  {
   "cell_type": "markdown",
   "id": "3f501d249aaa356",
   "metadata": {},
   "source": [
    "#### Themes and settings"
   ]
  },
  {
   "cell_type": "code",
   "id": "d31b28517e69448e",
   "metadata": {
    "ExecuteTime": {
     "end_time": "2024-10-15T01:19:19.228306Z",
     "start_time": "2024-10-15T01:19:19.225221Z"
    }
   },
   "source": [
    "sns.set_theme(style='ticks', palette='deep')"
   ],
   "outputs": [],
   "execution_count": 136
  },
  {
   "cell_type": "code",
   "id": "b202c201eeeb4e2",
   "metadata": {
    "ExecuteTime": {
     "end_time": "2024-10-15T01:19:19.411750Z",
     "start_time": "2024-10-15T01:19:19.408033Z"
    }
   },
   "source": [
    "pd.options.display.float_format = '{:.2f}'.format"
   ],
   "outputs": [],
   "execution_count": 137
  },
  {
   "cell_type": "markdown",
   "id": "3c49db9582fde345",
   "metadata": {},
   "source": [
    "#### Load and inspect the data"
   ]
  },
  {
   "cell_type": "code",
   "id": "374d410624fae72e",
   "metadata": {
    "ExecuteTime": {
     "end_time": "2024-10-15T01:19:19.546903Z",
     "start_time": "2024-10-15T01:19:19.499662Z"
    }
   },
   "source": "data = pd.read_csv('C:\\\\Users\\\\JohnMarquess\\\\OneDrive - John Marquess\\\\Projects\\\\IFN509\\\\Assignment 2\\\\data\\\\D2.csv', low_memory=False)",
   "outputs": [],
   "execution_count": 138
  },
  {
   "cell_type": "code",
   "id": "818c9a73909f5f6d",
   "metadata": {
    "ExecuteTime": {
     "end_time": "2024-10-15T01:19:19.732270Z",
     "start_time": "2024-10-15T01:19:19.708184Z"
    }
   },
   "source": "data",
   "outputs": [
    {
     "data": {
      "text/plain": [
       "                  race  gender      age  admission_type_id  \\\n",
       "0      AfricanAmerican  Female  [80-90)                  1   \n",
       "1            Caucasian  Female  [70-80)                  1   \n",
       "2            Caucasian  Female  [50-60)                  3   \n",
       "3      AfricanAmerican  Female  [50-60)                  1   \n",
       "4      AfricanAmerican    Male  [80-90)                  1   \n",
       "...                ...     ...      ...                ...   \n",
       "19995  AfricanAmerican    Male  [70-80)                  2   \n",
       "19996        Caucasian    Male  [50-60)                  1   \n",
       "19997        Caucasian    Male  [80-90)                  1   \n",
       "19998         Hispanic    Male  [50-60)                  1   \n",
       "19999        Caucasian  Female  [80-90)                  2   \n",
       "\n",
       "       discharge_disposition_id  admission_source_id  time_in_hospital  \\\n",
       "0                             3                    7                 1   \n",
       "1                             3                    5                 3   \n",
       "2                             1                    1                 3   \n",
       "3                             1                    7                 6   \n",
       "4                             3                    7                 4   \n",
       "...                         ...                  ...               ...   \n",
       "19995                         1                    1                 4   \n",
       "19996                         3                    7                 9   \n",
       "19997                         6                    7                 3   \n",
       "19998                         6                    7                 3   \n",
       "19999                         1                    1                 8   \n",
       "\n",
       "      medical_specialty  num_lab_procedures  num_procedures  ...  \\\n",
       "0               Invalid                  33               0  ...   \n",
       "1               Invalid                  48               2  ...   \n",
       "2           Orthopedics                  25               1  ...   \n",
       "3               Invalid                  41               0  ...   \n",
       "4               Invalid                  22               0  ...   \n",
       "...                 ...                 ...             ...  ...   \n",
       "19995          Oncology                  51               0  ...   \n",
       "19996           Invalid                  57               2  ...   \n",
       "19997           Invalid                  41               0  ...   \n",
       "19998        Cardiology                  49               0  ...   \n",
       "19999           Invalid                  54               5  ...   \n",
       "\n",
       "       chlorpropamide  glimepiride  acetohexamide  glipizide  glyburide  \\\n",
       "0                  No           No             No         No         No   \n",
       "1                  No           No             No         No         No   \n",
       "2                  No           No             No         No         No   \n",
       "3                  No           No             No         No         No   \n",
       "4                  No           No             No         No         No   \n",
       "...               ...          ...            ...        ...        ...   \n",
       "19995              No           No             No         No     Steady   \n",
       "19996              No           No             No         No         No   \n",
       "19997              No       Steady             No         No         No   \n",
       "19998              No           No             No         No         No   \n",
       "19999              No           No             No         No         No   \n",
       "\n",
       "      tolbutamide insulin change diabetesMed readmitted  \n",
       "0              No  Steady  False        True          1  \n",
       "1              No  Steady  False        True          1  \n",
       "2              No  Steady  False        True          0  \n",
       "3              No  Steady  False        True          1  \n",
       "4              No  Steady  False        True          1  \n",
       "...           ...     ...    ...         ...        ...  \n",
       "19995          No  Steady   True        True          1  \n",
       "19996          No      No  False       False          1  \n",
       "19997          No  Steady   True        True          1  \n",
       "19998          No  Steady  False        True          1  \n",
       "19999          No      No  False       False          0  \n",
       "\n",
       "[20000 rows x 30 columns]"
      ],
      "text/html": [
       "<div>\n",
       "<style scoped>\n",
       "    .dataframe tbody tr th:only-of-type {\n",
       "        vertical-align: middle;\n",
       "    }\n",
       "\n",
       "    .dataframe tbody tr th {\n",
       "        vertical-align: top;\n",
       "    }\n",
       "\n",
       "    .dataframe thead th {\n",
       "        text-align: right;\n",
       "    }\n",
       "</style>\n",
       "<table border=\"1\" class=\"dataframe\">\n",
       "  <thead>\n",
       "    <tr style=\"text-align: right;\">\n",
       "      <th></th>\n",
       "      <th>race</th>\n",
       "      <th>gender</th>\n",
       "      <th>age</th>\n",
       "      <th>admission_type_id</th>\n",
       "      <th>discharge_disposition_id</th>\n",
       "      <th>admission_source_id</th>\n",
       "      <th>time_in_hospital</th>\n",
       "      <th>medical_specialty</th>\n",
       "      <th>num_lab_procedures</th>\n",
       "      <th>num_procedures</th>\n",
       "      <th>...</th>\n",
       "      <th>chlorpropamide</th>\n",
       "      <th>glimepiride</th>\n",
       "      <th>acetohexamide</th>\n",
       "      <th>glipizide</th>\n",
       "      <th>glyburide</th>\n",
       "      <th>tolbutamide</th>\n",
       "      <th>insulin</th>\n",
       "      <th>change</th>\n",
       "      <th>diabetesMed</th>\n",
       "      <th>readmitted</th>\n",
       "    </tr>\n",
       "  </thead>\n",
       "  <tbody>\n",
       "    <tr>\n",
       "      <th>0</th>\n",
       "      <td>AfricanAmerican</td>\n",
       "      <td>Female</td>\n",
       "      <td>[80-90)</td>\n",
       "      <td>1</td>\n",
       "      <td>3</td>\n",
       "      <td>7</td>\n",
       "      <td>1</td>\n",
       "      <td>Invalid</td>\n",
       "      <td>33</td>\n",
       "      <td>0</td>\n",
       "      <td>...</td>\n",
       "      <td>No</td>\n",
       "      <td>No</td>\n",
       "      <td>No</td>\n",
       "      <td>No</td>\n",
       "      <td>No</td>\n",
       "      <td>No</td>\n",
       "      <td>Steady</td>\n",
       "      <td>False</td>\n",
       "      <td>True</td>\n",
       "      <td>1</td>\n",
       "    </tr>\n",
       "    <tr>\n",
       "      <th>1</th>\n",
       "      <td>Caucasian</td>\n",
       "      <td>Female</td>\n",
       "      <td>[70-80)</td>\n",
       "      <td>1</td>\n",
       "      <td>3</td>\n",
       "      <td>5</td>\n",
       "      <td>3</td>\n",
       "      <td>Invalid</td>\n",
       "      <td>48</td>\n",
       "      <td>2</td>\n",
       "      <td>...</td>\n",
       "      <td>No</td>\n",
       "      <td>No</td>\n",
       "      <td>No</td>\n",
       "      <td>No</td>\n",
       "      <td>No</td>\n",
       "      <td>No</td>\n",
       "      <td>Steady</td>\n",
       "      <td>False</td>\n",
       "      <td>True</td>\n",
       "      <td>1</td>\n",
       "    </tr>\n",
       "    <tr>\n",
       "      <th>2</th>\n",
       "      <td>Caucasian</td>\n",
       "      <td>Female</td>\n",
       "      <td>[50-60)</td>\n",
       "      <td>3</td>\n",
       "      <td>1</td>\n",
       "      <td>1</td>\n",
       "      <td>3</td>\n",
       "      <td>Orthopedics</td>\n",
       "      <td>25</td>\n",
       "      <td>1</td>\n",
       "      <td>...</td>\n",
       "      <td>No</td>\n",
       "      <td>No</td>\n",
       "      <td>No</td>\n",
       "      <td>No</td>\n",
       "      <td>No</td>\n",
       "      <td>No</td>\n",
       "      <td>Steady</td>\n",
       "      <td>False</td>\n",
       "      <td>True</td>\n",
       "      <td>0</td>\n",
       "    </tr>\n",
       "    <tr>\n",
       "      <th>3</th>\n",
       "      <td>AfricanAmerican</td>\n",
       "      <td>Female</td>\n",
       "      <td>[50-60)</td>\n",
       "      <td>1</td>\n",
       "      <td>1</td>\n",
       "      <td>7</td>\n",
       "      <td>6</td>\n",
       "      <td>Invalid</td>\n",
       "      <td>41</td>\n",
       "      <td>0</td>\n",
       "      <td>...</td>\n",
       "      <td>No</td>\n",
       "      <td>No</td>\n",
       "      <td>No</td>\n",
       "      <td>No</td>\n",
       "      <td>No</td>\n",
       "      <td>No</td>\n",
       "      <td>Steady</td>\n",
       "      <td>False</td>\n",
       "      <td>True</td>\n",
       "      <td>1</td>\n",
       "    </tr>\n",
       "    <tr>\n",
       "      <th>4</th>\n",
       "      <td>AfricanAmerican</td>\n",
       "      <td>Male</td>\n",
       "      <td>[80-90)</td>\n",
       "      <td>1</td>\n",
       "      <td>3</td>\n",
       "      <td>7</td>\n",
       "      <td>4</td>\n",
       "      <td>Invalid</td>\n",
       "      <td>22</td>\n",
       "      <td>0</td>\n",
       "      <td>...</td>\n",
       "      <td>No</td>\n",
       "      <td>No</td>\n",
       "      <td>No</td>\n",
       "      <td>No</td>\n",
       "      <td>No</td>\n",
       "      <td>No</td>\n",
       "      <td>Steady</td>\n",
       "      <td>False</td>\n",
       "      <td>True</td>\n",
       "      <td>1</td>\n",
       "    </tr>\n",
       "    <tr>\n",
       "      <th>...</th>\n",
       "      <td>...</td>\n",
       "      <td>...</td>\n",
       "      <td>...</td>\n",
       "      <td>...</td>\n",
       "      <td>...</td>\n",
       "      <td>...</td>\n",
       "      <td>...</td>\n",
       "      <td>...</td>\n",
       "      <td>...</td>\n",
       "      <td>...</td>\n",
       "      <td>...</td>\n",
       "      <td>...</td>\n",
       "      <td>...</td>\n",
       "      <td>...</td>\n",
       "      <td>...</td>\n",
       "      <td>...</td>\n",
       "      <td>...</td>\n",
       "      <td>...</td>\n",
       "      <td>...</td>\n",
       "      <td>...</td>\n",
       "      <td>...</td>\n",
       "    </tr>\n",
       "    <tr>\n",
       "      <th>19995</th>\n",
       "      <td>AfricanAmerican</td>\n",
       "      <td>Male</td>\n",
       "      <td>[70-80)</td>\n",
       "      <td>2</td>\n",
       "      <td>1</td>\n",
       "      <td>1</td>\n",
       "      <td>4</td>\n",
       "      <td>Oncology</td>\n",
       "      <td>51</td>\n",
       "      <td>0</td>\n",
       "      <td>...</td>\n",
       "      <td>No</td>\n",
       "      <td>No</td>\n",
       "      <td>No</td>\n",
       "      <td>No</td>\n",
       "      <td>Steady</td>\n",
       "      <td>No</td>\n",
       "      <td>Steady</td>\n",
       "      <td>True</td>\n",
       "      <td>True</td>\n",
       "      <td>1</td>\n",
       "    </tr>\n",
       "    <tr>\n",
       "      <th>19996</th>\n",
       "      <td>Caucasian</td>\n",
       "      <td>Male</td>\n",
       "      <td>[50-60)</td>\n",
       "      <td>1</td>\n",
       "      <td>3</td>\n",
       "      <td>7</td>\n",
       "      <td>9</td>\n",
       "      <td>Invalid</td>\n",
       "      <td>57</td>\n",
       "      <td>2</td>\n",
       "      <td>...</td>\n",
       "      <td>No</td>\n",
       "      <td>No</td>\n",
       "      <td>No</td>\n",
       "      <td>No</td>\n",
       "      <td>No</td>\n",
       "      <td>No</td>\n",
       "      <td>No</td>\n",
       "      <td>False</td>\n",
       "      <td>False</td>\n",
       "      <td>1</td>\n",
       "    </tr>\n",
       "    <tr>\n",
       "      <th>19997</th>\n",
       "      <td>Caucasian</td>\n",
       "      <td>Male</td>\n",
       "      <td>[80-90)</td>\n",
       "      <td>1</td>\n",
       "      <td>6</td>\n",
       "      <td>7</td>\n",
       "      <td>3</td>\n",
       "      <td>Invalid</td>\n",
       "      <td>41</td>\n",
       "      <td>0</td>\n",
       "      <td>...</td>\n",
       "      <td>No</td>\n",
       "      <td>Steady</td>\n",
       "      <td>No</td>\n",
       "      <td>No</td>\n",
       "      <td>No</td>\n",
       "      <td>No</td>\n",
       "      <td>Steady</td>\n",
       "      <td>True</td>\n",
       "      <td>True</td>\n",
       "      <td>1</td>\n",
       "    </tr>\n",
       "    <tr>\n",
       "      <th>19998</th>\n",
       "      <td>Hispanic</td>\n",
       "      <td>Male</td>\n",
       "      <td>[50-60)</td>\n",
       "      <td>1</td>\n",
       "      <td>6</td>\n",
       "      <td>7</td>\n",
       "      <td>3</td>\n",
       "      <td>Cardiology</td>\n",
       "      <td>49</td>\n",
       "      <td>0</td>\n",
       "      <td>...</td>\n",
       "      <td>No</td>\n",
       "      <td>No</td>\n",
       "      <td>No</td>\n",
       "      <td>No</td>\n",
       "      <td>No</td>\n",
       "      <td>No</td>\n",
       "      <td>Steady</td>\n",
       "      <td>False</td>\n",
       "      <td>True</td>\n",
       "      <td>1</td>\n",
       "    </tr>\n",
       "    <tr>\n",
       "      <th>19999</th>\n",
       "      <td>Caucasian</td>\n",
       "      <td>Female</td>\n",
       "      <td>[80-90)</td>\n",
       "      <td>2</td>\n",
       "      <td>1</td>\n",
       "      <td>1</td>\n",
       "      <td>8</td>\n",
       "      <td>Invalid</td>\n",
       "      <td>54</td>\n",
       "      <td>5</td>\n",
       "      <td>...</td>\n",
       "      <td>No</td>\n",
       "      <td>No</td>\n",
       "      <td>No</td>\n",
       "      <td>No</td>\n",
       "      <td>No</td>\n",
       "      <td>No</td>\n",
       "      <td>No</td>\n",
       "      <td>False</td>\n",
       "      <td>False</td>\n",
       "      <td>0</td>\n",
       "    </tr>\n",
       "  </tbody>\n",
       "</table>\n",
       "<p>20000 rows × 30 columns</p>\n",
       "</div>"
      ]
     },
     "execution_count": 139,
     "metadata": {},
     "output_type": "execute_result"
    }
   ],
   "execution_count": 139
  },
  {
   "cell_type": "markdown",
   "id": "4d873492b1ea50ae",
   "metadata": {},
   "source": [
    "#### Create a function to convert all object columns to 'string' type\n",
    "\n",
    "This function converts all object columns to string type. "
   ]
  },
  {
   "cell_type": "code",
   "id": "f1e439dfe34f2a3a",
   "metadata": {
    "ExecuteTime": {
     "end_time": "2024-10-15T01:19:19.880131Z",
     "start_time": "2024-10-15T01:19:19.861674Z"
    }
   },
   "source": [
    "def convert_object_to_string(df):\n",
    "    for col in df.select_dtypes(include='object').columns:\n",
    "        df[col] = df[col].astype('string')\n",
    "    return df\n",
    "\n",
    "\n",
    "d1 = convert_object_to_string(data)"
   ],
   "outputs": [],
   "execution_count": 140
  },
  {
   "cell_type": "code",
   "id": "2f0f6d3a728cc2f4",
   "metadata": {
    "ExecuteTime": {
     "end_time": "2024-10-15T01:19:20.113044Z",
     "start_time": "2024-10-15T01:19:20.098148Z"
    }
   },
   "source": [
    "d1.info()"
   ],
   "outputs": [
    {
     "name": "stdout",
     "output_type": "stream",
     "text": [
      "<class 'pandas.core.frame.DataFrame'>\n",
      "RangeIndex: 20000 entries, 0 to 19999\n",
      "Data columns (total 30 columns):\n",
      " #   Column                    Non-Null Count  Dtype \n",
      "---  ------                    --------------  ----- \n",
      " 0   race                      20000 non-null  string\n",
      " 1   gender                    20000 non-null  string\n",
      " 2   age                       20000 non-null  string\n",
      " 3   admission_type_id         20000 non-null  int64 \n",
      " 4   discharge_disposition_id  20000 non-null  int64 \n",
      " 5   admission_source_id       20000 non-null  int64 \n",
      " 6   time_in_hospital          20000 non-null  int64 \n",
      " 7   medical_specialty         20000 non-null  string\n",
      " 8   num_lab_procedures        20000 non-null  int64 \n",
      " 9   num_procedures            20000 non-null  int64 \n",
      " 10  num_medications           20000 non-null  int64 \n",
      " 11  number_outpatient         20000 non-null  int64 \n",
      " 12  number_emergency          20000 non-null  int64 \n",
      " 13  number_inpatient          20000 non-null  int64 \n",
      " 14  number_diagnoses          20000 non-null  int64 \n",
      " 15  max_glu_serum             252 non-null    string\n",
      " 16  A1Cresult                 3567 non-null   string\n",
      " 17  metformin                 20000 non-null  string\n",
      " 18  repaglinide               20000 non-null  string\n",
      " 19  nateglinide               20000 non-null  string\n",
      " 20  chlorpropamide            20000 non-null  string\n",
      " 21  glimepiride               20000 non-null  string\n",
      " 22  acetohexamide             20000 non-null  string\n",
      " 23  glipizide                 20000 non-null  string\n",
      " 24  glyburide                 20000 non-null  string\n",
      " 25  tolbutamide               20000 non-null  string\n",
      " 26  insulin                   20000 non-null  string\n",
      " 27  change                    20000 non-null  bool  \n",
      " 28  diabetesMed               20000 non-null  bool  \n",
      " 29  readmitted                20000 non-null  int64 \n",
      "dtypes: bool(2), int64(12), string(16)\n",
      "memory usage: 4.3 MB\n"
     ]
    }
   ],
   "execution_count": 141
  },
  {
   "cell_type": "markdown",
   "id": "30ee424bda16cc30",
   "metadata": {},
   "source": [
    "#### Inspect all variables in the dataset using the value_counts() method"
   ]
  },
  {
   "cell_type": "code",
   "id": "1190bf0451064d4d",
   "metadata": {
    "ExecuteTime": {
     "end_time": "2024-10-15T01:19:20.350265Z",
     "start_time": "2024-10-15T01:19:20.343707Z"
    }
   },
   "source": [
    "d1.race.value_counts(dropna=False)"
   ],
   "outputs": [
    {
     "data": {
      "text/plain": [
       "race\n",
       "Caucasian          16013\n",
       "AfricanAmerican     3130\n",
       "Hispanic             359\n",
       "Other                349\n",
       "Asian                149\n",
       "Name: count, dtype: Int64"
      ]
     },
     "execution_count": 142,
     "metadata": {},
     "output_type": "execute_result"
    }
   ],
   "execution_count": 142
  },
  {
   "cell_type": "code",
   "id": "6c35c429c28dfb28",
   "metadata": {
    "ExecuteTime": {
     "end_time": "2024-10-15T01:19:20.505112Z",
     "start_time": "2024-10-15T01:19:20.498209Z"
    }
   },
   "source": [
    "d1.gender.value_counts(dropna=False)"
   ],
   "outputs": [
    {
     "data": {
      "text/plain": [
       "gender\n",
       "Female    10774\n",
       "Male       9226\n",
       "Name: count, dtype: Int64"
      ]
     },
     "execution_count": 143,
     "metadata": {},
     "output_type": "execute_result"
    }
   ],
   "execution_count": 143
  },
  {
   "cell_type": "code",
   "id": "83b3fce8c3158765",
   "metadata": {
    "ExecuteTime": {
     "end_time": "2024-10-15T01:19:20.853313Z",
     "start_time": "2024-10-15T01:19:20.847530Z"
    }
   },
   "source": [
    "d1.age.value_counts(dropna=False)"
   ],
   "outputs": [
    {
     "data": {
      "text/plain": [
       "age\n",
       "[70-80)     5043\n",
       "[60-70)     4404\n",
       "[80-90)     3847\n",
       "[50-60)     3253\n",
       "[40-50)     1775\n",
       "[30-40)      678\n",
       "[90-100)     566\n",
       "[20-30)      344\n",
       "[10-20)       81\n",
       "[0-10)         9\n",
       "Name: count, dtype: Int64"
      ]
     },
     "execution_count": 144,
     "metadata": {},
     "output_type": "execute_result"
    }
   ],
   "execution_count": 144
  },
  {
   "metadata": {
    "ExecuteTime": {
     "end_time": "2024-10-15T01:19:21.065172Z",
     "start_time": "2024-10-15T01:19:21.059954Z"
    }
   },
   "cell_type": "code",
   "source": "d1.columns",
   "id": "259321ab5d8715f1",
   "outputs": [
    {
     "data": {
      "text/plain": [
       "Index(['race', 'gender', 'age', 'admission_type_id',\n",
       "       'discharge_disposition_id', 'admission_source_id', 'time_in_hospital',\n",
       "       'medical_specialty', 'num_lab_procedures', 'num_procedures',\n",
       "       'num_medications', 'number_outpatient', 'number_emergency',\n",
       "       'number_inpatient', 'number_diagnoses', 'max_glu_serum', 'A1Cresult',\n",
       "       'metformin', 'repaglinide', 'nateglinide', 'chlorpropamide',\n",
       "       'glimepiride', 'acetohexamide', 'glipizide', 'glyburide', 'tolbutamide',\n",
       "       'insulin', 'change', 'diabetesMed', 'readmitted'],\n",
       "      dtype='object')"
      ]
     },
     "execution_count": 145,
     "metadata": {},
     "output_type": "execute_result"
    }
   ],
   "execution_count": 145
  },
  {
   "cell_type": "code",
   "id": "8736b0544475c227",
   "metadata": {
    "ExecuteTime": {
     "end_time": "2024-10-15T01:19:21.280633Z",
     "start_time": "2024-10-15T01:19:21.274605Z"
    }
   },
   "source": [
    "# Use sort_index() to sort the values by the index, not by frequency\n",
    "\n",
    "d1.time_in_hospital.value_counts(dropna=False).sort_index()"
   ],
   "outputs": [
    {
     "data": {
      "text/plain": [
       "time_in_hospital\n",
       "1     2896\n",
       "2     3449\n",
       "3     3705\n",
       "4     2796\n",
       "5     1958\n",
       "6     1446\n",
       "7     1157\n",
       "8      768\n",
       "9      521\n",
       "10     388\n",
       "11     337\n",
       "12     218\n",
       "13     213\n",
       "14     148\n",
       "Name: count, dtype: int64"
      ]
     },
     "execution_count": 146,
     "metadata": {},
     "output_type": "execute_result"
    }
   ],
   "execution_count": 146
  },
  {
   "cell_type": "code",
   "id": "bd759c550bd217f",
   "metadata": {
    "ExecuteTime": {
     "end_time": "2024-10-15T01:19:21.461915Z",
     "start_time": "2024-10-15T01:19:21.453778Z"
    }
   },
   "source": [
    "d1.medical_specialty.value_counts(dropna=False)"
   ],
   "outputs": [
    {
     "data": {
      "text/plain": [
       "medical_specialty\n",
       "Invalid                              12340\n",
       "Emergency/Trauma                      2177\n",
       "InternalMedicine                      1514\n",
       "Family/GeneralPractice                 753\n",
       "Cardiology                             657\n",
       "Surgery-General                        533\n",
       "Radiologist                            408\n",
       "Orthopedics                            271\n",
       "Nephrology                             180\n",
       "Surgery-Vascular                       133\n",
       "Gastroenterology                       129\n",
       "Orthopedics-Reconstructive             116\n",
       "Psychiatry                              88\n",
       "Pulmonology                             83\n",
       "Urology                                 82\n",
       "ObstetricsandGynecology                 73\n",
       "Oncology                                49\n",
       "Neurology                               45\n",
       "Surgery-Cardiovascular/Thoracic         40\n",
       "Podiatry                                36\n",
       "Surgery-Cardiovascular                  31\n",
       "Surgery-Neuro                           28\n",
       "Hematology                              26\n",
       "Psychology                              23\n",
       "Surgery-Thoracic                        22\n",
       "Pediatrics                              21\n",
       "Hospitalist                             19\n",
       "Gynecology                              17\n",
       "SurgicalSpecialty                       15\n",
       "Otolaryngology                          10\n",
       "Ophthalmology                            9\n",
       "Surgeon                                  8\n",
       "PhysicalMedicineandRehabilitation        8\n",
       "Obstetrics                               6\n",
       "InfectiousDiseases                       6\n",
       "Surgery-Plastic                          5\n",
       "Osteopath                                5\n",
       "Endocrinology-Metabolism                 5\n",
       "OutreachServices                         4\n",
       "Rheumatology                             4\n",
       "Cardiology-Pediatric                     3\n",
       "DCPTEAM                                  3\n",
       "PhysicianNotFound                        3\n",
       "Radiology                                3\n",
       "Endocrinology                            2\n",
       "Pathology                                2\n",
       "Surgery-Maxillofacial                    1\n",
       "Neurophysiology                          1\n",
       "Hematology/Oncology                      1\n",
       "Resident                                 1\n",
       "Perinatology                             1\n",
       "Name: count, dtype: Int64"
      ]
     },
     "execution_count": 147,
     "metadata": {},
     "output_type": "execute_result"
    }
   ],
   "execution_count": 147
  },
  {
   "cell_type": "code",
   "id": "8a057d2b9412c5bd",
   "metadata": {
    "ExecuteTime": {
     "end_time": "2024-10-15T01:19:21.735835Z",
     "start_time": "2024-10-15T01:19:21.730091Z"
    }
   },
   "source": [
    "d1.num_lab_procedures.value_counts(dropna=False).sort_index()"
   ],
   "outputs": [
    {
     "data": {
      "text/plain": [
       "num_lab_procedures\n",
       "1      731\n",
       "2      250\n",
       "3      158\n",
       "4      109\n",
       "5       69\n",
       "      ... \n",
       "103      1\n",
       "108      1\n",
       "109      1\n",
       "111      1\n",
       "118      1\n",
       "Name: count, Length: 107, dtype: int64"
      ]
     },
     "execution_count": 148,
     "metadata": {},
     "output_type": "execute_result"
    }
   ],
   "execution_count": 148
  },
  {
   "cell_type": "code",
   "id": "622fbd7f7a76c6c3",
   "metadata": {
    "ExecuteTime": {
     "end_time": "2024-10-15T01:19:21.952017Z",
     "start_time": "2024-10-15T01:19:21.946657Z"
    }
   },
   "source": [
    "d1.num_procedures.value_counts(dropna=False).sort_index()"
   ],
   "outputs": [
    {
     "data": {
      "text/plain": [
       "num_procedures\n",
       "0    9445\n",
       "1    4048\n",
       "2    2424\n",
       "3    1720\n",
       "4     854\n",
       "5     444\n",
       "6    1065\n",
       "Name: count, dtype: int64"
      ]
     },
     "execution_count": 149,
     "metadata": {},
     "output_type": "execute_result"
    }
   ],
   "execution_count": 149
  },
  {
   "cell_type": "code",
   "id": "de529f144103a8f2",
   "metadata": {
    "ExecuteTime": {
     "end_time": "2024-10-15T01:19:22.240233Z",
     "start_time": "2024-10-15T01:19:22.234319Z"
    }
   },
   "source": [
    "d1.num_medications.value_counts(dropna=False).sort_index()"
   ],
   "outputs": [
    {
     "data": {
      "text/plain": [
       "num_medications\n",
       "1      39\n",
       "2      79\n",
       "3     166\n",
       "4     216\n",
       "5     343\n",
       "     ... \n",
       "65      1\n",
       "66      1\n",
       "67      1\n",
       "68      1\n",
       "72      1\n",
       "Name: count, Length: 69, dtype: int64"
      ]
     },
     "execution_count": 150,
     "metadata": {},
     "output_type": "execute_result"
    }
   ],
   "execution_count": 150
  },
  {
   "cell_type": "code",
   "id": "720eef2942adc3ac",
   "metadata": {
    "ExecuteTime": {
     "end_time": "2024-10-15T01:19:22.374278Z",
     "start_time": "2024-10-15T01:19:22.368563Z"
    }
   },
   "source": [
    "d1.number_outpatient.value_counts(dropna=False)"
   ],
   "outputs": [
    {
     "data": {
      "text/plain": [
       "number_outpatient\n",
       "0     15696\n",
       "1      2081\n",
       "2       970\n",
       "3       538\n",
       "4       291\n",
       "5       126\n",
       "6        91\n",
       "7        57\n",
       "8        31\n",
       "9        24\n",
       "10       20\n",
       "11       14\n",
       "13       12\n",
       "14       11\n",
       "12       10\n",
       "15        6\n",
       "24        3\n",
       "16        2\n",
       "17        2\n",
       "27        2\n",
       "20        2\n",
       "19        2\n",
       "22        2\n",
       "26        1\n",
       "29        1\n",
       "42        1\n",
       "36        1\n",
       "25        1\n",
       "37        1\n",
       "18        1\n",
       "Name: count, dtype: int64"
      ]
     },
     "execution_count": 151,
     "metadata": {},
     "output_type": "execute_result"
    }
   ],
   "execution_count": 151
  },
  {
   "cell_type": "code",
   "id": "b6ab7f49d3509937",
   "metadata": {
    "ExecuteTime": {
     "end_time": "2024-10-15T01:19:22.677409Z",
     "start_time": "2024-10-15T01:19:22.672157Z"
    }
   },
   "source": [
    "d1.number_emergency.value_counts(dropna=False)"
   ],
   "outputs": [
    {
     "data": {
      "text/plain": [
       "number_emergency\n",
       "0     17052\n",
       "1      1921\n",
       "2       559\n",
       "3       200\n",
       "4       107\n",
       "5        54\n",
       "6        26\n",
       "7        14\n",
       "10       13\n",
       "8        11\n",
       "11       11\n",
       "9         7\n",
       "13        5\n",
       "18        4\n",
       "20        2\n",
       "12        2\n",
       "15        2\n",
       "19        2\n",
       "22        1\n",
       "76        1\n",
       "24        1\n",
       "21        1\n",
       "29        1\n",
       "37        1\n",
       "14        1\n",
       "64        1\n",
       "Name: count, dtype: int64"
      ]
     },
     "execution_count": 152,
     "metadata": {},
     "output_type": "execute_result"
    }
   ],
   "execution_count": 152
  },
  {
   "cell_type": "code",
   "id": "12c6f637989474cf",
   "metadata": {
    "ExecuteTime": {
     "end_time": "2024-10-15T01:19:22.877119Z",
     "start_time": "2024-10-15T01:19:22.871332Z"
    }
   },
   "source": [
    "d1.number_inpatient.value_counts(dropna=False)"
   ],
   "outputs": [
    {
     "data": {
      "text/plain": [
       "number_inpatient\n",
       "0     12825\n",
       "1      3979\n",
       "2      1627\n",
       "3       759\n",
       "4       338\n",
       "5       185\n",
       "6       102\n",
       "7        65\n",
       "8        40\n",
       "9        28\n",
       "11       18\n",
       "10       16\n",
       "12       10\n",
       "14        2\n",
       "15        2\n",
       "13        2\n",
       "19        1\n",
       "16        1\n",
       "Name: count, dtype: int64"
      ]
     },
     "execution_count": 153,
     "metadata": {},
     "output_type": "execute_result"
    }
   ],
   "execution_count": 153
  },
  {
   "cell_type": "markdown",
   "id": "6f54366179fbb2f2",
   "metadata": {},
   "source": [
    "The number of inpatient, outpatient, and emergency visits should all be integer variables. However, the '?' values in the dataset are causing them to be read as the string type. This can be fixed by converting them to the 'Int64' type."
   ]
  },
  {
   "cell_type": "code",
   "id": "562514737540968d",
   "metadata": {
    "ExecuteTime": {
     "end_time": "2024-10-15T01:19:23.111428Z",
     "start_time": "2024-10-15T01:19:23.104682Z"
    }
   },
   "source": "d1.A1Cresult.value_counts(dropna=False, normalize=True)",
   "outputs": [
    {
     "data": {
      "text/plain": [
       "A1Cresult\n",
       "<NA>   0.82\n",
       ">8     0.07\n",
       "Norm   0.06\n",
       ">7     0.04\n",
       "Name: proportion, dtype: Float64"
      ]
     },
     "execution_count": 154,
     "metadata": {},
     "output_type": "execute_result"
    }
   ],
   "execution_count": 154
  },
  {
   "cell_type": "code",
   "id": "5b99176905de6cfc",
   "metadata": {
    "ExecuteTime": {
     "end_time": "2024-10-15T01:19:23.320778Z",
     "start_time": "2024-10-15T01:19:23.312991Z"
    }
   },
   "source": "d1.max_glu_serum.value_counts(dropna=False, normalize=True)",
   "outputs": [
    {
     "data": {
      "text/plain": [
       "max_glu_serum\n",
       "<NA>   0.99\n",
       ">300   0.01\n",
       "Norm   0.00\n",
       ">200   0.00\n",
       "Name: proportion, dtype: Float64"
      ]
     },
     "execution_count": 155,
     "metadata": {},
     "output_type": "execute_result"
    }
   ],
   "execution_count": 155
  },
  {
   "cell_type": "markdown",
   "id": "2fea1a5aa4b12cbe",
   "metadata": {},
   "source": [
    "The diagnosis categories have many granular values. These should be recoded into broader categories for analysis. This will be done in a later step."
   ]
  },
  {
   "cell_type": "code",
   "id": "624df52e8a04da75",
   "metadata": {
    "ExecuteTime": {
     "end_time": "2024-10-15T01:19:23.536068Z",
     "start_time": "2024-10-15T01:19:23.529856Z"
    }
   },
   "source": [
    "d1.number_diagnoses.value_counts(dropna=False).sort_index()"
   ],
   "outputs": [
    {
     "data": {
      "text/plain": [
       "number_diagnoses\n",
       "1        15\n",
       "2       102\n",
       "3       314\n",
       "4       696\n",
       "5      1231\n",
       "6      1621\n",
       "7      1815\n",
       "8      1867\n",
       "9     12293\n",
       "10        6\n",
       "11        5\n",
       "12        6\n",
       "13        6\n",
       "14        2\n",
       "15        4\n",
       "16       17\n",
       "Name: count, dtype: int64"
      ]
     },
     "execution_count": 156,
     "metadata": {},
     "output_type": "execute_result"
    }
   ],
   "execution_count": 156
  },
  {
   "cell_type": "code",
   "id": "52002410183a1bf3",
   "metadata": {
    "ExecuteTime": {
     "end_time": "2024-10-15T01:19:23.690368Z",
     "start_time": "2024-10-15T01:19:23.682924Z"
    }
   },
   "source": [
    "d1.max_glu_serum.value_counts(dropna=False)"
   ],
   "outputs": [
    {
     "data": {
      "text/plain": [
       "max_glu_serum\n",
       "<NA>    19748\n",
       ">300      126\n",
       "Norm       86\n",
       ">200       40\n",
       "Name: count, dtype: Int64"
      ]
     },
     "execution_count": 157,
     "metadata": {},
     "output_type": "execute_result"
    }
   ],
   "execution_count": 157
  },
  {
   "cell_type": "code",
   "id": "a9a05b0b5dd19eec",
   "metadata": {
    "ExecuteTime": {
     "end_time": "2024-10-15T01:19:23.951701Z",
     "start_time": "2024-10-15T01:19:23.944978Z"
    }
   },
   "source": [
    "d1.A1Cresult.value_counts(dropna=False)"
   ],
   "outputs": [
    {
     "data": {
      "text/plain": [
       "A1Cresult\n",
       "<NA>    16433\n",
       ">8       1461\n",
       "Norm     1294\n",
       ">7        812\n",
       "Name: count, dtype: Int64"
      ]
     },
     "execution_count": 158,
     "metadata": {},
     "output_type": "execute_result"
    }
   ],
   "execution_count": 158
  },
  {
   "cell_type": "code",
   "id": "359b87fa715d33f",
   "metadata": {
    "ExecuteTime": {
     "end_time": "2024-10-15T01:19:24.113769Z",
     "start_time": "2024-10-15T01:19:24.107161Z"
    }
   },
   "source": [
    "d1.metformin.value_counts(dropna=False)"
   ],
   "outputs": [
    {
     "data": {
      "text/plain": [
       "metformin\n",
       "No        15759\n",
       "Steady     3943\n",
       "Up          196\n",
       "Down        102\n",
       "Name: count, dtype: Int64"
      ]
     },
     "execution_count": 159,
     "metadata": {},
     "output_type": "execute_result"
    }
   ],
   "execution_count": 159
  },
  {
   "cell_type": "code",
   "id": "28f9da86bc0cd69",
   "metadata": {
    "ExecuteTime": {
     "end_time": "2024-10-15T01:19:24.352520Z",
     "start_time": "2024-10-15T01:19:24.346915Z"
    }
   },
   "source": [
    "d1.repaglinide.value_counts(dropna=False)"
   ],
   "outputs": [
    {
     "data": {
      "text/plain": [
       "repaglinide\n",
       "No        19625\n",
       "Steady      340\n",
       "Up           30\n",
       "Down          5\n",
       "Name: count, dtype: Int64"
      ]
     },
     "execution_count": 160,
     "metadata": {},
     "output_type": "execute_result"
    }
   ],
   "execution_count": 160
  },
  {
   "cell_type": "code",
   "id": "f0ee43c426f06cb7",
   "metadata": {
    "ExecuteTime": {
     "end_time": "2024-10-15T01:19:24.557849Z",
     "start_time": "2024-10-15T01:19:24.551554Z"
    }
   },
   "source": [
    "d1.nateglinide.value_counts(dropna=False)"
   ],
   "outputs": [
    {
     "data": {
      "text/plain": [
       "nateglinide\n",
       "No        19833\n",
       "Steady      157\n",
       "Up            5\n",
       "Down          5\n",
       "Name: count, dtype: Int64"
      ]
     },
     "execution_count": 161,
     "metadata": {},
     "output_type": "execute_result"
    }
   ],
   "execution_count": 161
  },
  {
   "cell_type": "code",
   "id": "4484c3369290c4b",
   "metadata": {
    "ExecuteTime": {
     "end_time": "2024-10-15T01:19:24.771589Z",
     "start_time": "2024-10-15T01:19:24.765637Z"
    }
   },
   "source": [
    "d1.chlorpropamide.value_counts(dropna=False)"
   ],
   "outputs": [
    {
     "data": {
      "text/plain": [
       "chlorpropamide\n",
       "No        19994\n",
       "Steady        6\n",
       "Name: count, dtype: Int64"
      ]
     },
     "execution_count": 162,
     "metadata": {},
     "output_type": "execute_result"
    }
   ],
   "execution_count": 162
  },
  {
   "cell_type": "code",
   "id": "43797968a73ce620",
   "metadata": {
    "ExecuteTime": {
     "end_time": "2024-10-15T01:19:24.971947Z",
     "start_time": "2024-10-15T01:19:24.965519Z"
    }
   },
   "source": [
    "d1.glimepiride.value_counts(dropna=False)"
   ],
   "outputs": [
    {
     "data": {
      "text/plain": [
       "glimepiride\n",
       "No        18857\n",
       "Steady     1049\n",
       "Up           62\n",
       "Down         32\n",
       "Name: count, dtype: Int64"
      ]
     },
     "execution_count": 163,
     "metadata": {},
     "output_type": "execute_result"
    }
   ],
   "execution_count": 163
  },
  {
   "cell_type": "code",
   "id": "5a154b2f34590816",
   "metadata": {
    "ExecuteTime": {
     "end_time": "2024-10-15T01:19:25.192746Z",
     "start_time": "2024-10-15T01:19:25.186442Z"
    }
   },
   "source": [
    "d1.acetohexamide.value_counts(dropna=False)"
   ],
   "outputs": [
    {
     "data": {
      "text/plain": [
       "acetohexamide\n",
       "No    20000\n",
       "Name: count, dtype: Int64"
      ]
     },
     "execution_count": 164,
     "metadata": {},
     "output_type": "execute_result"
    }
   ],
   "execution_count": 164
  },
  {
   "cell_type": "code",
   "id": "cb87dea225876f14",
   "metadata": {
    "ExecuteTime": {
     "end_time": "2024-10-15T01:19:25.380584Z",
     "start_time": "2024-10-15T01:19:25.375222Z"
    }
   },
   "source": [
    "d1.glipizide.value_counts(dropna=False)"
   ],
   "outputs": [
    {
     "data": {
      "text/plain": [
       "glipizide\n",
       "No        17553\n",
       "Steady     2215\n",
       "Up          132\n",
       "Down        100\n",
       "Name: count, dtype: Int64"
      ]
     },
     "execution_count": 165,
     "metadata": {},
     "output_type": "execute_result"
    }
   ],
   "execution_count": 165
  },
  {
   "cell_type": "code",
   "id": "1e92fb3afad91c6e",
   "metadata": {
    "ExecuteTime": {
     "end_time": "2024-10-15T01:19:25.585037Z",
     "start_time": "2024-10-15T01:19:25.578845Z"
    }
   },
   "source": [
    "d1.glyburide.value_counts(dropna=False)"
   ],
   "outputs": [
    {
     "data": {
      "text/plain": [
       "glyburide\n",
       "No        18271\n",
       "Steady     1534\n",
       "Up          116\n",
       "Down         79\n",
       "Name: count, dtype: Int64"
      ]
     },
     "execution_count": 166,
     "metadata": {},
     "output_type": "execute_result"
    }
   ],
   "execution_count": 166
  },
  {
   "cell_type": "code",
   "id": "d56fede5121580bd",
   "metadata": {
    "ExecuteTime": {
     "end_time": "2024-10-15T01:19:25.768671Z",
     "start_time": "2024-10-15T01:19:25.762553Z"
    }
   },
   "source": [
    "d1.tolbutamide.value_counts(dropna=False)"
   ],
   "outputs": [
    {
     "data": {
      "text/plain": [
       "tolbutamide\n",
       "No    20000\n",
       "Name: count, dtype: Int64"
      ]
     },
     "execution_count": 167,
     "metadata": {},
     "output_type": "execute_result"
    }
   ],
   "execution_count": 167
  },
  {
   "cell_type": "code",
   "id": "6beae9b4beec04e7",
   "metadata": {
    "ExecuteTime": {
     "end_time": "2024-10-15T01:19:25.952032Z",
     "start_time": "2024-10-15T01:19:25.945969Z"
    }
   },
   "source": [
    "d1.insulin.value_counts(dropna=False)"
   ],
   "outputs": [
    {
     "data": {
      "text/plain": [
       "insulin\n",
       "No        8415\n",
       "Steady    5728\n",
       "Down      2931\n",
       "Up        2926\n",
       "Name: count, dtype: Int64"
      ]
     },
     "execution_count": 168,
     "metadata": {},
     "output_type": "execute_result"
    }
   ],
   "execution_count": 168
  },
  {
   "cell_type": "markdown",
   "id": "bbb993083bc97f4",
   "metadata": {},
   "source": [
    "Tolbutamide and acetohexamide have not been prescibed. These can be dropped from the dataset."
   ]
  },
  {
   "cell_type": "code",
   "id": "b180df53508fabaf",
   "metadata": {
    "ExecuteTime": {
     "end_time": "2024-10-15T01:19:26.152025Z",
     "start_time": "2024-10-15T01:19:26.146702Z"
    }
   },
   "source": [
    "d1.change.value_counts(dropna=False)"
   ],
   "outputs": [
    {
     "data": {
      "text/plain": [
       "change\n",
       "True     10259\n",
       "False     9741\n",
       "Name: count, dtype: int64"
      ]
     },
     "execution_count": 169,
     "metadata": {},
     "output_type": "execute_result"
    }
   ],
   "execution_count": 169
  },
  {
   "cell_type": "code",
   "id": "db24f0fed99c69f",
   "metadata": {
    "ExecuteTime": {
     "end_time": "2024-10-15T01:19:26.377639Z",
     "start_time": "2024-10-15T01:19:26.371894Z"
    }
   },
   "source": [
    "d1.diabetesMed.value_counts(dropna=False)"
   ],
   "outputs": [
    {
     "data": {
      "text/plain": [
       "diabetesMed\n",
       "True     15764\n",
       "False     4236\n",
       "Name: count, dtype: int64"
      ]
     },
     "execution_count": 170,
     "metadata": {},
     "output_type": "execute_result"
    }
   ],
   "execution_count": 170
  },
  {
   "cell_type": "code",
   "id": "479a0af1b3843cba",
   "metadata": {
    "ExecuteTime": {
     "end_time": "2024-10-15T01:19:26.553009Z",
     "start_time": "2024-10-15T01:19:26.547194Z"
    }
   },
   "source": [
    "d1.readmitted.value_counts(dropna=False)"
   ],
   "outputs": [
    {
     "data": {
      "text/plain": [
       "readmitted\n",
       "0    10677\n",
       "1     9323\n",
       "Name: count, dtype: int64"
      ]
     },
     "execution_count": 171,
     "metadata": {},
     "output_type": "execute_result"
    }
   ],
   "execution_count": 171
  },
  {
   "cell_type": "raw",
   "id": "728266ff-faba-4db5-93b7-f1b5691aa3f1",
   "metadata": {},
   "source": [
    "====================================================================================================================================================="
   ]
  },
  {
   "cell_type": "markdown",
   "id": "ae4764ff98183a8a",
   "metadata": {},
   "source": [
    "### Task 2 - Data exploration\n",
    "\n",
    "- Fix the missing values identified in the previous task\n",
    "- Split the numerical data into three groups representing different aspects of the patient's visit history, procedures/medications, and diagnosys/lenght of stay:\n",
    "- Make histograms and boxplots of the numerical variables\n",
    "- Calculate the percentages the frequency of the variables in each group\n",
    "- Comment on the distribution and skewness of the variables\n"
   ]
  },
  {
   "cell_type": "markdown",
   "id": "e9fc3c2e84b6b000",
   "metadata": {},
   "source": [
    "#### Replace the '?' values in the numeric columns with 'NaN'"
   ]
  },
  {
   "cell_type": "code",
   "id": "b607ead2fd8de93d",
   "metadata": {
    "ExecuteTime": {
     "end_time": "2024-10-15T01:19:26.754342Z",
     "start_time": "2024-10-15T01:19:26.749306Z"
    }
   },
   "source": [
    "d1['number_inpatient'] = d1['number_inpatient'].replace('?', np.nan).astype('Int64')\n",
    "d1['number_outpatient'] = d1['number_outpatient'].replace('?', np.nan).astype('Int64')\n",
    "d1['number_emergency'] = d1['number_emergency'].replace('?', np.nan).astype('Int64')\n",
    "\n"
   ],
   "outputs": [],
   "execution_count": 172
  },
  {
   "cell_type": "markdown",
   "id": "31f8f1a610c3770",
   "metadata": {},
   "source": [
    "#### Group 1 variables\n",
    "\n",
    "These relate to the number of visits the patient has had in the year preceding the encounter. "
   ]
  },
  {
   "cell_type": "code",
   "id": "ff079239ae3b8304",
   "metadata": {
    "ExecuteTime": {
     "end_time": "2024-10-15T01:19:27.693393Z",
     "start_time": "2024-10-15T01:19:26.926003Z"
    }
   },
   "source": [
    "# Set up the figure and axes in a 3 row by 2 column grid. Histograms will be on the left and boxplots on the right\n",
    "# Set the width ratio of the two columns as 2.5 and 1 to make the histogram wider than the boxplot\n",
    "fig, axes = plt.subplots(3, 2, figsize=(12, 9), gridspec_kw={'width_ratios': [2.5, 1]})\n",
    "\n",
    "# Histogram and boxplot of the number of inpatient visits \n",
    "sns.histplot(data=d1['number_inpatient'], ax=axes[0, 0], bins=20, color='skyblue', stat='density')\n",
    "axes[0, 0].set_title(f'Histogram of inpatient visits of the patient in the year preceding the encounter', loc='left')\n",
    "axes[0, 0].set_xlabel('Number of prior inpatient visits')\n",
    "axes[0, 0].set_ylabel('Frequency')\n",
    "\n",
    "sns.boxplot(data=d1['number_inpatient'], ax=axes[0, 1], color='skyblue')\n",
    "axes[0, 1].set_title(f'Boxplot of inpatients')\n",
    "axes[0, 1].set_ylabel('Number of admissions')\n",
    "\n",
    "# Histogram and boxplot of the number of outpatient visits\n",
    "sns.histplot(data=d1['number_outpatient'], ax=axes[1, 0], bins=20, color='orange', stat='density')\n",
    "axes[1, 0].set_title(f'Histogram of outpatient visits of the patient in the year preceding the encounter', loc='left')\n",
    "axes[1, 0].set_xlabel('Number of prior outpatient visits')\n",
    "axes[1, 0].set_ylabel('Frequency')\n",
    "\n",
    "sns.boxplot(data=d1['number_outpatient'], ax=axes[1, 1], color='orange')\n",
    "axes[1, 1].set_title(f'Boxplot of outpatients')\n",
    "axes[1, 1].set_ylabel('Number of admissions')\n",
    "\n",
    "# Histogram and boxplot of the number of emergency visits\n",
    "sns.histplot(data=d1['number_emergency'], ax=axes[2, 0], bins=20, color='lightgreen', stat='density')\n",
    "axes[2, 0].set_title(f'Histogram of emergency visits of the patient in the year preceding the encounter', loc='left')\n",
    "axes[2, 0].set_xlabel('Number of prior emergency visits')\n",
    "axes[2, 0].set_ylabel('Frequency')\n",
    "\n",
    "sns.boxplot(data=d1['number_emergency'], ax=axes[2, 1], color='lightgreen')\n",
    "axes[2, 1].set_title(f'Boxplot of emergency')\n",
    "axes[2, 1].set_ylabel('Number of admissions')\n",
    "\n",
    "# Add space between the plots to prevent overlap of titles and labels\n",
    "plt.subplots_adjust(hspace=0.5)\n"
   ],
   "outputs": [
    {
     "data": {
      "text/plain": [
       "<Figure size 1200x900 with 6 Axes>"
      ],
      "image/png": "[encoded data removed]"
     },
     "metadata": {},
     "output_type": "display_data"
    }
   ],
   "execution_count": 173
  },
  {
   "cell_type": "code",
   "id": "5a68bd8610480c82",
   "metadata": {
    "ExecuteTime": {
     "end_time": "2024-10-15T01:19:27.705627Z",
     "start_time": "2024-10-15T01:19:27.694398Z"
    }
   },
   "source": [
    "group1_stats = d1[['number_inpatient', 'number_outpatient', 'number_emergency']].describe()"
   ],
   "outputs": [],
   "execution_count": 174
  },
  {
   "cell_type": "code",
   "id": "41af8e303c3ac0e1",
   "metadata": {
    "ExecuteTime": {
     "end_time": "2024-10-15T01:19:27.712953Z",
     "start_time": "2024-10-15T01:19:27.706762Z"
    }
   },
   "source": [
    "group1_stats"
   ],
   "outputs": [
    {
     "data": {
      "text/plain": [
       "       number_inpatient  number_outpatient  number_emergency\n",
       "count          20000.00           20000.00          20000.00\n",
       "mean               0.70               0.51              0.28\n",
       "std                1.35               1.54              1.25\n",
       "min                0.00               0.00              0.00\n",
       "25%                0.00               0.00              0.00\n",
       "50%                0.00               0.00              0.00\n",
       "75%                1.00               0.00              0.00\n",
       "max               19.00              42.00             76.00"
      ],
      "text/html": [
       "<div>\n",
       "<style scoped>\n",
       "    .dataframe tbody tr th:only-of-type {\n",
       "        vertical-align: middle;\n",
       "    }\n",
       "\n",
       "    .dataframe tbody tr th {\n",
       "        vertical-align: top;\n",
       "    }\n",
       "\n",
       "    .dataframe thead th {\n",
       "        text-align: right;\n",
       "    }\n",
       "</style>\n",
       "<table border=\"1\" class=\"dataframe\">\n",
       "  <thead>\n",
       "    <tr style=\"text-align: right;\">\n",
       "      <th></th>\n",
       "      <th>number_inpatient</th>\n",
       "      <th>number_outpatient</th>\n",
       "      <th>number_emergency</th>\n",
       "    </tr>\n",
       "  </thead>\n",
       "  <tbody>\n",
       "    <tr>\n",
       "      <th>count</th>\n",
       "      <td>20000.00</td>\n",
       "      <td>20000.00</td>\n",
       "      <td>20000.00</td>\n",
       "    </tr>\n",
       "    <tr>\n",
       "      <th>mean</th>\n",
       "      <td>0.70</td>\n",
       "      <td>0.51</td>\n",
       "      <td>0.28</td>\n",
       "    </tr>\n",
       "    <tr>\n",
       "      <th>std</th>\n",
       "      <td>1.35</td>\n",
       "      <td>1.54</td>\n",
       "      <td>1.25</td>\n",
       "    </tr>\n",
       "    <tr>\n",
       "      <th>min</th>\n",
       "      <td>0.00</td>\n",
       "      <td>0.00</td>\n",
       "      <td>0.00</td>\n",
       "    </tr>\n",
       "    <tr>\n",
       "      <th>25%</th>\n",
       "      <td>0.00</td>\n",
       "      <td>0.00</td>\n",
       "      <td>0.00</td>\n",
       "    </tr>\n",
       "    <tr>\n",
       "      <th>50%</th>\n",
       "      <td>0.00</td>\n",
       "      <td>0.00</td>\n",
       "      <td>0.00</td>\n",
       "    </tr>\n",
       "    <tr>\n",
       "      <th>75%</th>\n",
       "      <td>1.00</td>\n",
       "      <td>0.00</td>\n",
       "      <td>0.00</td>\n",
       "    </tr>\n",
       "    <tr>\n",
       "      <th>max</th>\n",
       "      <td>19.00</td>\n",
       "      <td>42.00</td>\n",
       "      <td>76.00</td>\n",
       "    </tr>\n",
       "  </tbody>\n",
       "</table>\n",
       "</div>"
      ]
     },
     "execution_count": 175,
     "metadata": {},
     "output_type": "execute_result"
    }
   ],
   "execution_count": 175
  },
  {
   "cell_type": "markdown",
   "id": "e201164d74fe74cb",
   "metadata": {},
   "source": [
    "The histograms show that the number of inpatient, outpatient, and emergency visits are right-skewed, with most patients having few visits. The boxplots show that there are many outliers in each of the variables. This is expected given the right-skewed distribution of the data.\n",
    "\n",
    "This can be corroborated by calculating the skewness of the variables."
   ]
  },
  {
   "cell_type": "code",
   "id": "b112d099f522d4db",
   "metadata": {
    "ExecuteTime": {
     "end_time": "2024-10-15T01:19:27.721599Z",
     "start_time": "2024-10-15T01:19:27.713959Z"
    }
   },
   "source": [
    "group1_stats.loc['skew'] = d1[['number_inpatient', 'number_outpatient', 'number_emergency']].skew()"
   ],
   "outputs": [],
   "execution_count": 176
  },
  {
   "cell_type": "code",
   "id": "c482566509972b8e",
   "metadata": {
    "ExecuteTime": {
     "end_time": "2024-10-15T01:19:27.729325Z",
     "start_time": "2024-10-15T01:19:27.722609Z"
    }
   },
   "source": [
    "group1_stats.loc['skew'].to_frame()"
   ],
   "outputs": [
    {
     "data": {
      "text/plain": [
       "                   skew\n",
       "number_inpatient   3.47\n",
       "number_outpatient  7.78\n",
       "number_emergency  24.01"
      ],
      "text/html": [
       "<div>\n",
       "<style scoped>\n",
       "    .dataframe tbody tr th:only-of-type {\n",
       "        vertical-align: middle;\n",
       "    }\n",
       "\n",
       "    .dataframe tbody tr th {\n",
       "        vertical-align: top;\n",
       "    }\n",
       "\n",
       "    .dataframe thead th {\n",
       "        text-align: right;\n",
       "    }\n",
       "</style>\n",
       "<table border=\"1\" class=\"dataframe\">\n",
       "  <thead>\n",
       "    <tr style=\"text-align: right;\">\n",
       "      <th></th>\n",
       "      <th>skew</th>\n",
       "    </tr>\n",
       "  </thead>\n",
       "  <tbody>\n",
       "    <tr>\n",
       "      <th>number_inpatient</th>\n",
       "      <td>3.47</td>\n",
       "    </tr>\n",
       "    <tr>\n",
       "      <th>number_outpatient</th>\n",
       "      <td>7.78</td>\n",
       "    </tr>\n",
       "    <tr>\n",
       "      <th>number_emergency</th>\n",
       "      <td>24.01</td>\n",
       "    </tr>\n",
       "  </tbody>\n",
       "</table>\n",
       "</div>"
      ]
     },
     "execution_count": 177,
     "metadata": {},
     "output_type": "execute_result"
    }
   ],
   "execution_count": 177
  },
  {
   "cell_type": "markdown",
   "id": "449db83b673338a6",
   "metadata": {},
   "source": [
    "The skewness values are positive, confirming that the data is right-skewed which is consistent with the histograms and boxplots."
   ]
  },
  {
   "cell_type": "markdown",
   "id": "ec8cbe8f5bdc7454",
   "metadata": {},
   "source": [
    "The outliers can be detected using the Interquartile Range (IQR) method. This method defines an outlier as a value that is below Q1 - 1.5 * IQR or above Q3 + 1.5 * IQR. The percentage of outliers can be calculated as the number of outliers divided by the total number of observations in the column. This function detects outliers in a single column of a DataFrame using this method."
   ]
  },
  {
   "cell_type": "code",
   "id": "aaf2ba76adb83228",
   "metadata": {
    "ExecuteTime": {
     "end_time": "2024-10-15T01:19:27.737711Z",
     "start_time": "2024-10-15T01:19:27.730330Z"
    }
   },
   "source": [
    "def detect_outliers_in_column(column):\n",
    "    \"\"\"\n",
    "    Detects outliers in a single column of a DataFrame using the IQR method based on .describe() output.\n",
    "\n",
    "    \"\"\"\n",
    "    # Use .describe() to get summary statistics\n",
    "    desc = column.describe()\n",
    "\n",
    "    # Calculate IQR\n",
    "    Q1 = desc['25%']\n",
    "    Q3 = desc['75%']\n",
    "    IQR = Q3 - Q1\n",
    "\n",
    "    # Determine outliers\n",
    "    lower_bound = Q1 - 1.5 * IQR\n",
    "    upper_bound = Q3 + 1.5 * IQR\n",
    "    num_outliers = ((column < lower_bound) | (column > upper_bound)).sum()\n",
    "    percentage_outliers = (num_outliers / column.shape[0]) * 100\n",
    "\n",
    "    # Create a DataFrame with the results\n",
    "    outlier_stats_df = pd.DataFrame({\n",
    "        'Number of Outliers': [num_outliers],\n",
    "        'Percentage of Outliers': [percentage_outliers]\n",
    "    }, index=[column.name])\n",
    "\n",
    "    return outlier_stats_df\n"
   ],
   "outputs": [],
   "execution_count": 178
  },
  {
   "cell_type": "code",
   "id": "4bcbd3ecf4b48855",
   "metadata": {
    "ExecuteTime": {
     "end_time": "2024-10-15T01:19:27.802792Z",
     "start_time": "2024-10-15T01:19:27.789780Z"
    }
   },
   "source": [
    "# Apply the function to the number_inpatient column\n",
    "inpatient = detect_outliers_in_column(d1['number_inpatient'])\n",
    "outpatient = detect_outliers_in_column(d1['number_outpatient'])\n",
    "emergency = detect_outliers_in_column(d1['number_emergency'])\n",
    "\n",
    "# Concatenate the results into a single DataFrame\n",
    "group1_outliers = pd.concat([inpatient, outpatient, emergency])\n",
    "group1_outliers"
   ],
   "outputs": [
    {
     "data": {
      "text/plain": [
       "                   Number of Outliers  Percentage of Outliers\n",
       "number_inpatient                 1569                    7.85\n",
       "number_outpatient                4304                   21.52\n",
       "number_emergency                 2948                   14.74"
      ],
      "text/html": [
       "<div>\n",
       "<style scoped>\n",
       "    .dataframe tbody tr th:only-of-type {\n",
       "        vertical-align: middle;\n",
       "    }\n",
       "\n",
       "    .dataframe tbody tr th {\n",
       "        vertical-align: top;\n",
       "    }\n",
       "\n",
       "    .dataframe thead th {\n",
       "        text-align: right;\n",
       "    }\n",
       "</style>\n",
       "<table border=\"1\" class=\"dataframe\">\n",
       "  <thead>\n",
       "    <tr style=\"text-align: right;\">\n",
       "      <th></th>\n",
       "      <th>Number of Outliers</th>\n",
       "      <th>Percentage of Outliers</th>\n",
       "    </tr>\n",
       "  </thead>\n",
       "  <tbody>\n",
       "    <tr>\n",
       "      <th>number_inpatient</th>\n",
       "      <td>1569</td>\n",
       "      <td>7.85</td>\n",
       "    </tr>\n",
       "    <tr>\n",
       "      <th>number_outpatient</th>\n",
       "      <td>4304</td>\n",
       "      <td>21.52</td>\n",
       "    </tr>\n",
       "    <tr>\n",
       "      <th>number_emergency</th>\n",
       "      <td>2948</td>\n",
       "      <td>14.74</td>\n",
       "    </tr>\n",
       "  </tbody>\n",
       "</table>\n",
       "</div>"
      ]
     },
     "execution_count": 179,
     "metadata": {},
     "output_type": "execute_result"
    }
   ],
   "execution_count": 179
  },
  {
   "cell_type": "code",
   "id": "ea2b1c8caee6e96f",
   "metadata": {
    "ExecuteTime": {
     "end_time": "2024-10-15T01:19:27.925209Z",
     "start_time": "2024-10-15T01:19:27.919283Z"
    }
   },
   "source": [
    "d1['number_inpatient'].value_counts(dropna=False)"
   ],
   "outputs": [
    {
     "data": {
      "text/plain": [
       "number_inpatient\n",
       "0     12825\n",
       "1      3979\n",
       "2      1627\n",
       "3       759\n",
       "4       338\n",
       "5       185\n",
       "6       102\n",
       "7        65\n",
       "8        40\n",
       "9        28\n",
       "11       18\n",
       "10       16\n",
       "12       10\n",
       "14        2\n",
       "15        2\n",
       "13        2\n",
       "19        1\n",
       "16        1\n",
       "Name: count, dtype: Int64"
      ]
     },
     "execution_count": 180,
     "metadata": {},
     "output_type": "execute_result"
    }
   ],
   "execution_count": 180
  },
  {
   "cell_type": "code",
   "id": "eb3ea5d491528dba",
   "metadata": {
    "ExecuteTime": {
     "end_time": "2024-10-15T01:19:28.533330Z",
     "start_time": "2024-10-15T01:19:28.516970Z"
    }
   },
   "source": [
    "# calculate the percentages of each of the variables. These can be grouped into a table as they all have similar distributions\n",
    "inpatient_percentage = d1['number_inpatient'].value_counts(normalize=True, dropna='False').rename('Inpatients %') * 100\n",
    "outpatient_percentage = d1['number_outpatient'].value_counts(normalize=True, dropna='False').rename(\n",
    "    'Outpatients %') * 100\n",
    "emergency_percentage = d1['number_emergency'].value_counts(normalize=True, dropna='False').rename('Emergency %') * 100\n",
    "\n",
    "# Combine them into one df\n",
    "group1_percentages_table = pd.concat([inpatient_percentage, outpatient_percentage, emergency_percentage], axis=1)\n",
    "\n",
    "# Give the axis a meaningful name\n",
    "group1_percentages_table.index.name = 'Number of visits'\n",
    "group1_percentages_table"
   ],
   "outputs": [
    {
     "data": {
      "text/plain": [
       "                  Inpatients %  Outpatients %  Emergency %\n",
       "Number of visits                                          \n",
       "0                        64.12          78.48        85.26\n",
       "1                        19.89          10.41         9.61\n",
       "2                         8.13           4.85         2.79\n",
       "3                         3.79           2.69         1.00\n",
       "4                         1.69           1.46         0.53\n",
       "5                         0.92           0.63         0.27\n",
       "6                         0.51           0.46         0.13\n",
       "7                         0.33           0.29         0.07\n",
       "8                         0.20           0.15         0.06\n",
       "9                         0.14           0.12         0.03\n",
       "11                        0.09           0.07         0.06\n",
       "10                        0.08           0.10         0.07\n",
       "12                        0.05           0.05         0.01\n",
       "14                        0.01           0.06         0.01\n",
       "15                        0.01           0.03         0.01\n",
       "13                        0.01           0.06         0.03\n",
       "19                        0.01           0.01         0.01\n",
       "16                        0.01           0.01         <NA>\n",
       "24                        <NA>           0.01         0.01\n",
       "17                        <NA>           0.01         <NA>\n",
       "27                        <NA>           0.01         <NA>\n",
       "20                        <NA>           0.01         0.01\n",
       "22                        <NA>           0.01         0.01\n",
       "26                        <NA>           0.01         <NA>\n",
       "29                        <NA>           0.01         0.01\n",
       "42                        <NA>           0.01         <NA>\n",
       "36                        <NA>           0.01         <NA>\n",
       "25                        <NA>           0.01         <NA>\n",
       "37                        <NA>           0.01         0.01\n",
       "18                        <NA>           0.01         0.02\n",
       "76                        <NA>           <NA>         0.01\n",
       "21                        <NA>           <NA>         0.01\n",
       "64                        <NA>           <NA>         0.01"
      ],
      "text/html": [
       "<div>\n",
       "<style scoped>\n",
       "    .dataframe tbody tr th:only-of-type {\n",
       "        vertical-align: middle;\n",
       "    }\n",
       "\n",
       "    .dataframe tbody tr th {\n",
       "        vertical-align: top;\n",
       "    }\n",
       "\n",
       "    .dataframe thead th {\n",
       "        text-align: right;\n",
       "    }\n",
       "</style>\n",
       "<table border=\"1\" class=\"dataframe\">\n",
       "  <thead>\n",
       "    <tr style=\"text-align: right;\">\n",
       "      <th></th>\n",
       "      <th>Inpatients %</th>\n",
       "      <th>Outpatients %</th>\n",
       "      <th>Emergency %</th>\n",
       "    </tr>\n",
       "    <tr>\n",
       "      <th>Number of visits</th>\n",
       "      <th></th>\n",
       "      <th></th>\n",
       "      <th></th>\n",
       "    </tr>\n",
       "  </thead>\n",
       "  <tbody>\n",
       "    <tr>\n",
       "      <th>0</th>\n",
       "      <td>64.12</td>\n",
       "      <td>78.48</td>\n",
       "      <td>85.26</td>\n",
       "    </tr>\n",
       "    <tr>\n",
       "      <th>1</th>\n",
       "      <td>19.89</td>\n",
       "      <td>10.41</td>\n",
       "      <td>9.61</td>\n",
       "    </tr>\n",
       "    <tr>\n",
       "      <th>2</th>\n",
       "      <td>8.13</td>\n",
       "      <td>4.85</td>\n",
       "      <td>2.79</td>\n",
       "    </tr>\n",
       "    <tr>\n",
       "      <th>3</th>\n",
       "      <td>3.79</td>\n",
       "      <td>2.69</td>\n",
       "      <td>1.00</td>\n",
       "    </tr>\n",
       "    <tr>\n",
       "      <th>4</th>\n",
       "      <td>1.69</td>\n",
       "      <td>1.46</td>\n",
       "      <td>0.53</td>\n",
       "    </tr>\n",
       "    <tr>\n",
       "      <th>5</th>\n",
       "      <td>0.92</td>\n",
       "      <td>0.63</td>\n",
       "      <td>0.27</td>\n",
       "    </tr>\n",
       "    <tr>\n",
       "      <th>6</th>\n",
       "      <td>0.51</td>\n",
       "      <td>0.46</td>\n",
       "      <td>0.13</td>\n",
       "    </tr>\n",
       "    <tr>\n",
       "      <th>7</th>\n",
       "      <td>0.33</td>\n",
       "      <td>0.29</td>\n",
       "      <td>0.07</td>\n",
       "    </tr>\n",
       "    <tr>\n",
       "      <th>8</th>\n",
       "      <td>0.20</td>\n",
       "      <td>0.15</td>\n",
       "      <td>0.06</td>\n",
       "    </tr>\n",
       "    <tr>\n",
       "      <th>9</th>\n",
       "      <td>0.14</td>\n",
       "      <td>0.12</td>\n",
       "      <td>0.03</td>\n",
       "    </tr>\n",
       "    <tr>\n",
       "      <th>11</th>\n",
       "      <td>0.09</td>\n",
       "      <td>0.07</td>\n",
       "      <td>0.06</td>\n",
       "    </tr>\n",
       "    <tr>\n",
       "      <th>10</th>\n",
       "      <td>0.08</td>\n",
       "      <td>0.10</td>\n",
       "      <td>0.07</td>\n",
       "    </tr>\n",
       "    <tr>\n",
       "      <th>12</th>\n",
       "      <td>0.05</td>\n",
       "      <td>0.05</td>\n",
       "      <td>0.01</td>\n",
       "    </tr>\n",
       "    <tr>\n",
       "      <th>14</th>\n",
       "      <td>0.01</td>\n",
       "      <td>0.06</td>\n",
       "      <td>0.01</td>\n",
       "    </tr>\n",
       "    <tr>\n",
       "      <th>15</th>\n",
       "      <td>0.01</td>\n",
       "      <td>0.03</td>\n",
       "      <td>0.01</td>\n",
       "    </tr>\n",
       "    <tr>\n",
       "      <th>13</th>\n",
       "      <td>0.01</td>\n",
       "      <td>0.06</td>\n",
       "      <td>0.03</td>\n",
       "    </tr>\n",
       "    <tr>\n",
       "      <th>19</th>\n",
       "      <td>0.01</td>\n",
       "      <td>0.01</td>\n",
       "      <td>0.01</td>\n",
       "    </tr>\n",
       "    <tr>\n",
       "      <th>16</th>\n",
       "      <td>0.01</td>\n",
       "      <td>0.01</td>\n",
       "      <td>&lt;NA&gt;</td>\n",
       "    </tr>\n",
       "    <tr>\n",
       "      <th>24</th>\n",
       "      <td>&lt;NA&gt;</td>\n",
       "      <td>0.01</td>\n",
       "      <td>0.01</td>\n",
       "    </tr>\n",
       "    <tr>\n",
       "      <th>17</th>\n",
       "      <td>&lt;NA&gt;</td>\n",
       "      <td>0.01</td>\n",
       "      <td>&lt;NA&gt;</td>\n",
       "    </tr>\n",
       "    <tr>\n",
       "      <th>27</th>\n",
       "      <td>&lt;NA&gt;</td>\n",
       "      <td>0.01</td>\n",
       "      <td>&lt;NA&gt;</td>\n",
       "    </tr>\n",
       "    <tr>\n",
       "      <th>20</th>\n",
       "      <td>&lt;NA&gt;</td>\n",
       "      <td>0.01</td>\n",
       "      <td>0.01</td>\n",
       "    </tr>\n",
       "    <tr>\n",
       "      <th>22</th>\n",
       "      <td>&lt;NA&gt;</td>\n",
       "      <td>0.01</td>\n",
       "      <td>0.01</td>\n",
       "    </tr>\n",
       "    <tr>\n",
       "      <th>26</th>\n",
       "      <td>&lt;NA&gt;</td>\n",
       "      <td>0.01</td>\n",
       "      <td>&lt;NA&gt;</td>\n",
       "    </tr>\n",
       "    <tr>\n",
       "      <th>29</th>\n",
       "      <td>&lt;NA&gt;</td>\n",
       "      <td>0.01</td>\n",
       "      <td>0.01</td>\n",
       "    </tr>\n",
       "    <tr>\n",
       "      <th>42</th>\n",
       "      <td>&lt;NA&gt;</td>\n",
       "      <td>0.01</td>\n",
       "      <td>&lt;NA&gt;</td>\n",
       "    </tr>\n",
       "    <tr>\n",
       "      <th>36</th>\n",
       "      <td>&lt;NA&gt;</td>\n",
       "      <td>0.01</td>\n",
       "      <td>&lt;NA&gt;</td>\n",
       "    </tr>\n",
       "    <tr>\n",
       "      <th>25</th>\n",
       "      <td>&lt;NA&gt;</td>\n",
       "      <td>0.01</td>\n",
       "      <td>&lt;NA&gt;</td>\n",
       "    </tr>\n",
       "    <tr>\n",
       "      <th>37</th>\n",
       "      <td>&lt;NA&gt;</td>\n",
       "      <td>0.01</td>\n",
       "      <td>0.01</td>\n",
       "    </tr>\n",
       "    <tr>\n",
       "      <th>18</th>\n",
       "      <td>&lt;NA&gt;</td>\n",
       "      <td>0.01</td>\n",
       "      <td>0.02</td>\n",
       "    </tr>\n",
       "    <tr>\n",
       "      <th>76</th>\n",
       "      <td>&lt;NA&gt;</td>\n",
       "      <td>&lt;NA&gt;</td>\n",
       "      <td>0.01</td>\n",
       "    </tr>\n",
       "    <tr>\n",
       "      <th>21</th>\n",
       "      <td>&lt;NA&gt;</td>\n",
       "      <td>&lt;NA&gt;</td>\n",
       "      <td>0.01</td>\n",
       "    </tr>\n",
       "    <tr>\n",
       "      <th>64</th>\n",
       "      <td>&lt;NA&gt;</td>\n",
       "      <td>&lt;NA&gt;</td>\n",
       "      <td>0.01</td>\n",
       "    </tr>\n",
       "  </tbody>\n",
       "</table>\n",
       "</div>"
      ]
     },
     "execution_count": 181,
     "metadata": {},
     "output_type": "execute_result"
    }
   ],
   "execution_count": 181
  },
  {
   "cell_type": "markdown",
   "id": "fe72558e04ae9b23",
   "metadata": {},
   "source": [
    "#### Group 2 variables"
   ]
  },
  {
   "cell_type": "code",
   "id": "1a935b6643ac2a59",
   "metadata": {
    "ExecuteTime": {
     "end_time": "2024-10-15T01:19:29.608039Z",
     "start_time": "2024-10-15T01:19:28.844684Z"
    }
   },
   "source": [
    "# Set up the figure and axes in a 3 rows, 2 columns grid, as was used for the group 1 variables\n",
    "\n",
    "fig, axes = plt.subplots(3, 2, figsize=(12, 9), gridspec_kw={'width_ratios': [2.5, 1]})\n",
    "\n",
    "# Histogram and boxplot of the number of procedures\n",
    "sns.histplot(data=d1['num_procedures'], ax=axes[0, 0], bins=6, color='skyblue', stat='density')\n",
    "axes[0, 0].set_title('Histogram of procedures (other than lab tests) performed during the encounter', loc='left')\n",
    "axes[0, 0].set_xlabel('Number of procedures')\n",
    "axes[0, 0].set_ylabel('Frequency')\n",
    "\n",
    "# Boxplot of the number of procedures\n",
    "sns.boxplot(data=d1['num_procedures'], ax=axes[0, 1], color='skyblue')\n",
    "axes[0, 1].set_title(f'Boxplot of procedures')\n",
    "axes[0, 1].set_ylabel('Number of procedures')\n",
    "\n",
    "# Histogram and boxplot of the number of lab procedures\n",
    "sns.histplot(data=d1['num_lab_procedures'], ax=axes[1, 0], bins=30, color='orange', stat='density')\n",
    "axes[1, 0].set_title('Histogram of lab tests performed during the encounter', loc='left')\n",
    "axes[1, 0].set_xlabel('Number of lab procedures')\n",
    "axes[1, 0].set_ylabel('Frequency')\n",
    "\n",
    "# Boxplot of the number of lab procedures\n",
    "sns.boxplot(data=d1['num_lab_procedures'], ax=axes[1, 1], color='orange')\n",
    "axes[1, 1].set_title(f'Boxplot of lab procedures')\n",
    "axes[1, 1].set_ylabel('Number of lab procedures')\n",
    "\n",
    "# Histogram and boxplot of the number of medications\n",
    "sns.histplot(data=d1['num_medications'], ax=axes[2, 0], bins=15, color='lightgreen', stat='density')\n",
    "axes[2, 0].set_title('Histogram of distinct medication names administered during the encounter', loc='left')\n",
    "axes[2, 0].set_xlabel('Number of medications')\n",
    "axes[2, 0].set_ylabel('Frequency')\n",
    "\n",
    "# Boxplot of the number of medications\n",
    "sns.boxplot(data=d1['num_medications'], ax=axes[2, 1], color='lightgreen')\n",
    "axes[2, 1].set_title(f'Boxplot of medications')\n",
    "axes[2, 1].set_ylabel('Number of medications')\n",
    "\n",
    "# Add space between the plots to prevent overlap of titles and labels\n",
    "plt.subplots_adjust(hspace=0.5)"
   ],
   "outputs": [
    {
     "data": {
      "text/plain": [
       "<Figure size 1200x900 with 6 Axes>"
      ],
      "image/png": "[encoded data removed]"
     },
     "metadata": {},
     "output_type": "display_data"
    }
   ],
   "execution_count": 182
  },
  {
   "cell_type": "code",
   "id": "e6ac5b63322c760e",
   "metadata": {
    "ExecuteTime": {
     "end_time": "2024-10-15T01:19:29.617725Z",
     "start_time": "2024-10-15T01:19:29.609044Z"
    }
   },
   "source": [
    "group2_stats = d1[['num_procedures', 'num_lab_procedures', 'num_medications']].describe()"
   ],
   "outputs": [],
   "execution_count": 183
  },
  {
   "cell_type": "code",
   "id": "8ba43330831840e5",
   "metadata": {
    "ExecuteTime": {
     "end_time": "2024-10-15T01:19:29.630017Z",
     "start_time": "2024-10-15T01:19:29.618730Z"
    }
   },
   "source": [
    "procedures = detect_outliers_in_column(d1['num_procedures'])\n",
    "lab_procedures = detect_outliers_in_column(d1['num_lab_procedures'])\n",
    "medications = detect_outliers_in_column(d1['num_medications'])\n",
    "\n",
    "# Concatenate the results into a single DataFrame\n",
    "group2_outliers = pd.concat([procedures, lab_procedures, medications])\n",
    "group2_outliers"
   ],
   "outputs": [
    {
     "data": {
      "text/plain": [
       "                    Number of Outliers  Percentage of Outliers\n",
       "num_procedures                    1065                    5.33\n",
       "num_lab_procedures                  36                    0.18\n",
       "num_medications                    418                    2.09"
      ],
      "text/html": [
       "<div>\n",
       "<style scoped>\n",
       "    .dataframe tbody tr th:only-of-type {\n",
       "        vertical-align: middle;\n",
       "    }\n",
       "\n",
       "    .dataframe tbody tr th {\n",
       "        vertical-align: top;\n",
       "    }\n",
       "\n",
       "    .dataframe thead th {\n",
       "        text-align: right;\n",
       "    }\n",
       "</style>\n",
       "<table border=\"1\" class=\"dataframe\">\n",
       "  <thead>\n",
       "    <tr style=\"text-align: right;\">\n",
       "      <th></th>\n",
       "      <th>Number of Outliers</th>\n",
       "      <th>Percentage of Outliers</th>\n",
       "    </tr>\n",
       "  </thead>\n",
       "  <tbody>\n",
       "    <tr>\n",
       "      <th>num_procedures</th>\n",
       "      <td>1065</td>\n",
       "      <td>5.33</td>\n",
       "    </tr>\n",
       "    <tr>\n",
       "      <th>num_lab_procedures</th>\n",
       "      <td>36</td>\n",
       "      <td>0.18</td>\n",
       "    </tr>\n",
       "    <tr>\n",
       "      <th>num_medications</th>\n",
       "      <td>418</td>\n",
       "      <td>2.09</td>\n",
       "    </tr>\n",
       "  </tbody>\n",
       "</table>\n",
       "</div>"
      ]
     },
     "execution_count": 184,
     "metadata": {},
     "output_type": "execute_result"
    }
   ],
   "execution_count": 184
  },
  {
   "cell_type": "code",
   "id": "b3964fb985aea02",
   "metadata": {
    "ExecuteTime": {
     "end_time": "2024-10-15T01:19:29.818760Z",
     "start_time": "2024-10-15T01:19:29.812423Z"
    }
   },
   "source": [
    "group2_stats"
   ],
   "outputs": [
    {
     "data": {
      "text/plain": [
       "       num_procedures  num_lab_procedures  num_medications\n",
       "count        20000.00            20000.00         20000.00\n",
       "mean             1.30               43.74            16.70\n",
       "std              1.71               19.95             8.05\n",
       "min              0.00                1.00             1.00\n",
       "25%              0.00               33.00            11.00\n",
       "50%              1.00               45.00            15.00\n",
       "75%              2.00               58.00            21.00\n",
       "max              6.00              118.00            72.00"
      ],
      "text/html": [
       "<div>\n",
       "<style scoped>\n",
       "    .dataframe tbody tr th:only-of-type {\n",
       "        vertical-align: middle;\n",
       "    }\n",
       "\n",
       "    .dataframe tbody tr th {\n",
       "        vertical-align: top;\n",
       "    }\n",
       "\n",
       "    .dataframe thead th {\n",
       "        text-align: right;\n",
       "    }\n",
       "</style>\n",
       "<table border=\"1\" class=\"dataframe\">\n",
       "  <thead>\n",
       "    <tr style=\"text-align: right;\">\n",
       "      <th></th>\n",
       "      <th>num_procedures</th>\n",
       "      <th>num_lab_procedures</th>\n",
       "      <th>num_medications</th>\n",
       "    </tr>\n",
       "  </thead>\n",
       "  <tbody>\n",
       "    <tr>\n",
       "      <th>count</th>\n",
       "      <td>20000.00</td>\n",
       "      <td>20000.00</td>\n",
       "      <td>20000.00</td>\n",
       "    </tr>\n",
       "    <tr>\n",
       "      <th>mean</th>\n",
       "      <td>1.30</td>\n",
       "      <td>43.74</td>\n",
       "      <td>16.70</td>\n",
       "    </tr>\n",
       "    <tr>\n",
       "      <th>std</th>\n",
       "      <td>1.71</td>\n",
       "      <td>19.95</td>\n",
       "      <td>8.05</td>\n",
       "    </tr>\n",
       "    <tr>\n",
       "      <th>min</th>\n",
       "      <td>0.00</td>\n",
       "      <td>1.00</td>\n",
       "      <td>1.00</td>\n",
       "    </tr>\n",
       "    <tr>\n",
       "      <th>25%</th>\n",
       "      <td>0.00</td>\n",
       "      <td>33.00</td>\n",
       "      <td>11.00</td>\n",
       "    </tr>\n",
       "    <tr>\n",
       "      <th>50%</th>\n",
       "      <td>1.00</td>\n",
       "      <td>45.00</td>\n",
       "      <td>15.00</td>\n",
       "    </tr>\n",
       "    <tr>\n",
       "      <th>75%</th>\n",
       "      <td>2.00</td>\n",
       "      <td>58.00</td>\n",
       "      <td>21.00</td>\n",
       "    </tr>\n",
       "    <tr>\n",
       "      <th>max</th>\n",
       "      <td>6.00</td>\n",
       "      <td>118.00</td>\n",
       "      <td>72.00</td>\n",
       "    </tr>\n",
       "  </tbody>\n",
       "</table>\n",
       "</div>"
      ]
     },
     "execution_count": 185,
     "metadata": {},
     "output_type": "execute_result"
    }
   ],
   "execution_count": 185
  },
  {
   "cell_type": "code",
   "id": "28bcfaa466aeb21a",
   "metadata": {
    "ExecuteTime": {
     "end_time": "2024-10-15T01:19:29.914496Z",
     "start_time": "2024-10-15T01:19:29.909207Z"
    }
   },
   "source": [
    "group2_stats.loc['skew'] = d1[['num_procedures', 'num_lab_procedures', 'num_medications']].skew()"
   ],
   "outputs": [],
   "execution_count": 186
  },
  {
   "cell_type": "code",
   "id": "70a85e1ec02f408b",
   "metadata": {
    "ExecuteTime": {
     "end_time": "2024-10-15T01:19:30.271089Z",
     "start_time": "2024-10-15T01:19:30.266306Z"
    }
   },
   "source": [
    "group2_stats.loc['skew']"
   ],
   "outputs": [
    {
     "data": {
      "text/plain": [
       "num_procedures        1.38\n",
       "num_lab_procedures   -0.34\n",
       "num_medications       1.17\n",
       "Name: skew, dtype: float64"
      ]
     },
     "execution_count": 187,
     "metadata": {},
     "output_type": "execute_result"
    }
   ],
   "execution_count": 187
  },
  {
   "cell_type": "markdown",
   "id": "99ca5505e3c7e578",
   "metadata": {},
   "source": [
    "The histograms show that the number of procedures and medications are positively skewed. With a smaller number of patients having large numbers of proceduresand medications.\n",
    "\n",
    "The number of lab procedures is more evenly interesting because it shows what appears to be a long tail, in the presence of a large number of zero values. The skewness variable indicates that this variable is in fact slightly negatively skewed.\n",
    "\n",
    "The boxplots show that there are many outliers in each of the variables. This needs to be interpreted in the context of the data. For example, the number of procedures and medications, while exceeding the IQR, may not be considered outliers in a medical context. \n",
    "\n",
    "Also, the number of outliers in the lab procedures is comparatively low, but this is due to the large number of zero values in the data. This is likely due to the fact that not all patients require lab procedures during their encounter."
   ]
  },
  {
   "cell_type": "markdown",
   "id": "9700035966486a58",
   "metadata": {},
   "source": [
    "#### Group 3 variables\n"
   ]
  },
  {
   "cell_type": "code",
   "id": "83e090dcc530365e",
   "metadata": {
    "ExecuteTime": {
     "end_time": "2024-10-15T01:19:31.148152Z",
     "start_time": "2024-10-15T01:19:30.574232Z"
    }
   },
   "source": [
    "# Set up the figure and axes in a 2 rows, 2 columns grid. Histograms will be on the left and boxplots on the right\n",
    "fig, axes = plt.subplots(2, 2, figsize=(12, 9), gridspec_kw={'width_ratios': [2.5, 1]})\n",
    "\n",
    "# Histogram and boxplot of the number of diagnoses\n",
    "sns.histplot(data=d1['number_diagnoses'], ax=axes[0, 0], bins=5, color='skyblue')\n",
    "axes[0, 0].set_title('Histogram of number of diagnoses entered into the EHR system', loc='left')\n",
    "axes[0, 0].set_xlabel('Number of diagnoses')\n",
    "axes[0, 0].set_ylabel('Frequency')\n",
    "\n",
    "# Boxplot of the number of diagnoses\n",
    "sns.boxplot(data=d1['number_diagnoses'], ax=axes[0, 1], color='skyblue')\n",
    "axes[0, 1].set_title(f'Boxplot of diagnoses')\n",
    "axes[0, 1].set_ylabel('Number of diagnoses')\n",
    "\n",
    "# Histogram and boxplot of the length of stay\n",
    "sns.histplot(data=d1['time_in_hospital'], ax=axes[1, 0], bins=10, color='orange')\n",
    "axes[1, 0].set_title('Histogram of number of days between admission and discharge', loc='left')\n",
    "axes[1, 0].set_xlabel('Length of stay (days)')\n",
    "axes[1, 0].set_ylabel('Frequency')\n",
    "\n",
    "# Boxplot of the length of stay\n",
    "sns.boxplot(data=d1['time_in_hospital'], ax=axes[1, 1], color='orange')\n",
    "axes[1, 1].set_title(f'Boxplot of length of stay')\n",
    "axes[1, 1].set_ylabel('Length of stay (days)')\n",
    "\n",
    "plt.subplots_adjust(hspace=0.5)"
   ],
   "outputs": [
    {
     "data": {
      "text/plain": [
       "<Figure size 1200x900 with 4 Axes>"
      ],
      "image/png": "[encoded data removed]"
     },
     "metadata": {},
     "output_type": "display_data"
    }
   ],
   "execution_count": 188
  },
  {
   "cell_type": "code",
   "id": "9f685594513eb053",
   "metadata": {
    "ExecuteTime": {
     "end_time": "2024-10-15T01:19:31.156699Z",
     "start_time": "2024-10-15T01:19:31.149157Z"
    }
   },
   "source": "group3_stats = d1[['number_diagnoses', 'time_in_hospital']].describe()",
   "outputs": [],
   "execution_count": 189
  },
  {
   "cell_type": "code",
   "id": "1a3ba6a7d48c763b",
   "metadata": {
    "ExecuteTime": {
     "end_time": "2024-10-15T01:19:31.167033Z",
     "start_time": "2024-10-15T01:19:31.157707Z"
    }
   },
   "source": [
    "diagnoses = detect_outliers_in_column(d1['number_diagnoses'])\n",
    "length_of_stay = detect_outliers_in_column(d1['time_in_hospital'])\n",
    "\n",
    "# Concatenate the results into a single DataFrame\n",
    "group3_outliers = pd.concat([diagnoses, length_of_stay])\n",
    "group3_outliers"
   ],
   "outputs": [
    {
     "data": {
      "text/plain": [
       "                  Number of Outliers  Percentage of Outliers\n",
       "number_diagnoses                 460                    2.30\n",
       "time_in_hospital                 361                    1.80"
      ],
      "text/html": [
       "<div>\n",
       "<style scoped>\n",
       "    .dataframe tbody tr th:only-of-type {\n",
       "        vertical-align: middle;\n",
       "    }\n",
       "\n",
       "    .dataframe tbody tr th {\n",
       "        vertical-align: top;\n",
       "    }\n",
       "\n",
       "    .dataframe thead th {\n",
       "        text-align: right;\n",
       "    }\n",
       "</style>\n",
       "<table border=\"1\" class=\"dataframe\">\n",
       "  <thead>\n",
       "    <tr style=\"text-align: right;\">\n",
       "      <th></th>\n",
       "      <th>Number of Outliers</th>\n",
       "      <th>Percentage of Outliers</th>\n",
       "    </tr>\n",
       "  </thead>\n",
       "  <tbody>\n",
       "    <tr>\n",
       "      <th>number_diagnoses</th>\n",
       "      <td>460</td>\n",
       "      <td>2.30</td>\n",
       "    </tr>\n",
       "    <tr>\n",
       "      <th>time_in_hospital</th>\n",
       "      <td>361</td>\n",
       "      <td>1.80</td>\n",
       "    </tr>\n",
       "  </tbody>\n",
       "</table>\n",
       "</div>"
      ]
     },
     "execution_count": 190,
     "metadata": {},
     "output_type": "execute_result"
    }
   ],
   "execution_count": 190
  },
  {
   "cell_type": "code",
   "id": "e1d4c835d54d3612",
   "metadata": {
    "ExecuteTime": {
     "end_time": "2024-10-15T01:19:31.268287Z",
     "start_time": "2024-10-15T01:19:31.263173Z"
    }
   },
   "source": "group3_stats.loc['skew'] = d1[['number_diagnoses', 'time_in_hospital']].skew()",
   "outputs": [],
   "execution_count": 191
  },
  {
   "cell_type": "code",
   "id": "ad388e507d9d4b6a",
   "metadata": {
    "ExecuteTime": {
     "end_time": "2024-10-15T01:19:31.364969Z",
     "start_time": "2024-10-15T01:19:31.359271Z"
    }
   },
   "source": [
    "group3_stats.loc['skew'].to_frame()"
   ],
   "outputs": [
    {
     "data": {
      "text/plain": [
       "                  skew\n",
       "number_diagnoses -1.30\n",
       "time_in_hospital  1.19"
      ],
      "text/html": [
       "<div>\n",
       "<style scoped>\n",
       "    .dataframe tbody tr th:only-of-type {\n",
       "        vertical-align: middle;\n",
       "    }\n",
       "\n",
       "    .dataframe tbody tr th {\n",
       "        vertical-align: top;\n",
       "    }\n",
       "\n",
       "    .dataframe thead th {\n",
       "        text-align: right;\n",
       "    }\n",
       "</style>\n",
       "<table border=\"1\" class=\"dataframe\">\n",
       "  <thead>\n",
       "    <tr style=\"text-align: right;\">\n",
       "      <th></th>\n",
       "      <th>skew</th>\n",
       "    </tr>\n",
       "  </thead>\n",
       "  <tbody>\n",
       "    <tr>\n",
       "      <th>number_diagnoses</th>\n",
       "      <td>-1.30</td>\n",
       "    </tr>\n",
       "    <tr>\n",
       "      <th>time_in_hospital</th>\n",
       "      <td>1.19</td>\n",
       "    </tr>\n",
       "  </tbody>\n",
       "</table>\n",
       "</div>"
      ]
     },
     "execution_count": 192,
     "metadata": {},
     "output_type": "execute_result"
    }
   ],
   "execution_count": 192
  },
  {
   "cell_type": "markdown",
   "id": "3e654f1e7c296f2f",
   "metadata": {},
   "source": [
    "The histograms show that the number of diagnoses are negatively skewed whereas the length of stay is positively skewed. The boxplots show that there are no outliers for he number of diagnoses, but there are many outliers for the length of stay.\n",
    "\n",
    "These are corroborated by the skewness values which are negative for the number of diagnoses and positive for the length of stay."
   ]
  },
  {
   "cell_type": "markdown",
   "id": "650dd319e896e208",
   "metadata": {},
   "source": [
    "#### Identify and show variables with missing data"
   ]
  },
  {
   "cell_type": "markdown",
   "id": "5114b6bf6160809b",
   "metadata": {},
   "source": [
    "Missing data are represented by '?' in the dataset. For integer values that have already been replaced with 'NaN'.  This code allows us to detect them using the isna() method for NaNs, and the isin() method to search for '?' characters in qualitative variables."
   ]
  },
  {
   "cell_type": "markdown",
   "id": "f6c0880583e4ad64",
   "metadata": {},
   "source": [
    "\n",
    "The data in the admission_type_id, discharge_disposition_id, and admission_source_id columns are coded using reference codes. The missing values are represented by codes that are not in the reference list. These codes need to be identified and mapped to the correct missing value code."
   ]
  },
  {
   "cell_type": "code",
   "id": "8bf492428f074f55",
   "metadata": {
    "ExecuteTime": {
     "end_time": "2024-10-15T01:19:31.810366Z",
     "start_time": "2024-10-15T01:19:31.780252Z"
    }
   },
   "source": [
    "# Count the number of NA in each column\n",
    "na_counts = d1.isna().sum()\n",
    "# Count the number of '?' in each column\n",
    "q_mark_counts = d1.isin(['?']).sum()"
   ],
   "outputs": [],
   "execution_count": 193
  },
  {
   "cell_type": "code",
   "id": "fabd21ea90c3b746",
   "metadata": {
    "ExecuteTime": {
     "end_time": "2024-10-15T01:19:31.966567Z",
     "start_time": "2024-10-15T01:19:31.959171Z"
    }
   },
   "source": [
    "# Map the missing codes for the admission_type_id, discharge_disposition_id, and admission_source_id columns\n",
    "\n",
    "# Admission_type_id missing reference codes are 'Not Available', 'NULL', 'Not Mapped', represented by 5, 6, 8\n",
    "# Discharge_disposition_id missing reference codes are 'NULL', 'Not Mapped', and 'Unknown/Invalid' represented by 18, 25, 26\n",
    "# Admission_source_id missing reference codes are 'Not Available', 'NULL', 'Not Mapped', represented by 9, 15, 17, 20, and 21\n",
    "\n",
    "# counts the missing values in the columns\n",
    "missing_admission_type_id = d1['admission_type_id'].isin([5, 6, 8]).sum()\n",
    "missing_discharge_disposition_id = d1['discharge_disposition_id'].isin([7, 18, 25, 26]).sum()\n",
    "missing_admission_source_id = d1['admission_source_id'].isin([9, 15, 17, 20, 21]).sum()\n",
    "\n",
    "# Create a DataFrame with the results\n",
    "missing_references = pd.DataFrame({\n",
    "    'Missing admission_type_id': [missing_admission_type_id],\n",
    "    'Missing discharge_disposition_id': [missing_discharge_disposition_id],\n",
    "    'Missing admission_source_id': [missing_admission_source_id]\n",
    "}).T\n",
    "\n",
    "# Note - transposed data frame to make it the same shape as the other missing data frames"
   ],
   "outputs": [],
   "execution_count": 194
  },
  {
   "cell_type": "markdown",
   "id": "802f9e60f0f728b5",
   "metadata": {},
   "source": [
    "Combine into a single DataFrame and present as a nice table"
   ]
  },
  {
   "cell_type": "code",
   "id": "9065206fb51c45ee",
   "metadata": {
    "ExecuteTime": {
     "end_time": "2024-10-15T01:19:32.432202Z",
     "start_time": "2024-10-15T01:19:32.421176Z"
    }
   },
   "source": [
    "# Combine into a single DataFrame\n",
    "missing_data = pd.DataFrame({\n",
    "    'NaN Count': na_counts,\n",
    "    '? Count': q_mark_counts,\n",
    "    'Missing references': missing_references[0]\n",
    "})\n",
    "\n",
    "# Convert all the NaNs to 0 and change the data type to integer\n",
    "missing_data = missing_data.fillna(0).astype('int64')\n",
    "\n",
    "# Calculate the total number of missing values and the percentage of missing values\n",
    "missing_data['Total Missing'] = missing_data['NaN Count'] + missing_data['? Count'] + missing_data['Missing references']\n",
    "missing_data['Percentage Missing'] = (missing_data['Total Missing'] / len(d1)) * 100\n",
    "missing_data = missing_data[missing_data['Total Missing'] > 0]\n",
    "# \n",
    "missing_data"
   ],
   "outputs": [
    {
     "data": {
      "text/plain": [
       "                                  NaN Count  ? Count  Missing references  \\\n",
       "A1Cresult                             16433        0                   0   \n",
       "Missing admission_source_id               0        0                 280   \n",
       "Missing admission_type_id                 0        0                1084   \n",
       "Missing discharge_disposition_id          0        0                 142   \n",
       "max_glu_serum                         19748        0                   0   \n",
       "\n",
       "                                  Total Missing  Percentage Missing  \n",
       "A1Cresult                                 16433               82.16  \n",
       "Missing admission_source_id                 280                1.40  \n",
       "Missing admission_type_id                  1084                5.42  \n",
       "Missing discharge_disposition_id            142                0.71  \n",
       "max_glu_serum                             19748               98.74  "
      ],
      "text/html": [
       "<div>\n",
       "<style scoped>\n",
       "    .dataframe tbody tr th:only-of-type {\n",
       "        vertical-align: middle;\n",
       "    }\n",
       "\n",
       "    .dataframe tbody tr th {\n",
       "        vertical-align: top;\n",
       "    }\n",
       "\n",
       "    .dataframe thead th {\n",
       "        text-align: right;\n",
       "    }\n",
       "</style>\n",
       "<table border=\"1\" class=\"dataframe\">\n",
       "  <thead>\n",
       "    <tr style=\"text-align: right;\">\n",
       "      <th></th>\n",
       "      <th>NaN Count</th>\n",
       "      <th>? Count</th>\n",
       "      <th>Missing references</th>\n",
       "      <th>Total Missing</th>\n",
       "      <th>Percentage Missing</th>\n",
       "    </tr>\n",
       "  </thead>\n",
       "  <tbody>\n",
       "    <tr>\n",
       "      <th>A1Cresult</th>\n",
       "      <td>16433</td>\n",
       "      <td>0</td>\n",
       "      <td>0</td>\n",
       "      <td>16433</td>\n",
       "      <td>82.16</td>\n",
       "    </tr>\n",
       "    <tr>\n",
       "      <th>Missing admission_source_id</th>\n",
       "      <td>0</td>\n",
       "      <td>0</td>\n",
       "      <td>280</td>\n",
       "      <td>280</td>\n",
       "      <td>1.40</td>\n",
       "    </tr>\n",
       "    <tr>\n",
       "      <th>Missing admission_type_id</th>\n",
       "      <td>0</td>\n",
       "      <td>0</td>\n",
       "      <td>1084</td>\n",
       "      <td>1084</td>\n",
       "      <td>5.42</td>\n",
       "    </tr>\n",
       "    <tr>\n",
       "      <th>Missing discharge_disposition_id</th>\n",
       "      <td>0</td>\n",
       "      <td>0</td>\n",
       "      <td>142</td>\n",
       "      <td>142</td>\n",
       "      <td>0.71</td>\n",
       "    </tr>\n",
       "    <tr>\n",
       "      <th>max_glu_serum</th>\n",
       "      <td>19748</td>\n",
       "      <td>0</td>\n",
       "      <td>0</td>\n",
       "      <td>19748</td>\n",
       "      <td>98.74</td>\n",
       "    </tr>\n",
       "  </tbody>\n",
       "</table>\n",
       "</div>"
      ]
     },
     "execution_count": 195,
     "metadata": {},
     "output_type": "execute_result"
    }
   ],
   "execution_count": 195
  },
  {
   "cell_type": "markdown",
   "id": "5c3537614a4b1188",
   "metadata": {},
   "source": [
    "#### Convert the age variable to an ordered category\n",
    "\n",
    "Age loaded as strings with no ordering. This can be converted to ordered categories in case the ordering needs to be preserved for the modelling stage. \n",
    "\n",
    "Weight is also a string but there is no point ordering it as most of the data are missing and this variable will be dropped."
   ]
  },
  {
   "cell_type": "code",
   "id": "795a19a316ae89b2",
   "metadata": {
    "ExecuteTime": {
     "end_time": "2024-10-15T01:19:32.672914Z",
     "start_time": "2024-10-15T01:19:32.669446Z"
    }
   },
   "source": [
    "age_categories = ['[0-10)', '[10-20)', '[20-30)', '[30-40)', '[40-50)', '[50-60)', '[60-70)', '[70-80)', '[80-90)',\n",
    "                  '[90-100)']"
   ],
   "outputs": [],
   "execution_count": 196
  },
  {
   "cell_type": "code",
   "id": "f8fcc580f059fd29",
   "metadata": {
    "ExecuteTime": {
     "end_time": "2024-10-15T01:19:33.033759Z",
     "start_time": "2024-10-15T01:19:33.029084Z"
    }
   },
   "source": [
    "d1['age'] = pd.Categorical(d1['age'], categories=age_categories, ordered=True)"
   ],
   "outputs": [],
   "execution_count": 197
  },
  {
   "cell_type": "code",
   "id": "3c26fe81ea780232",
   "metadata": {
    "ExecuteTime": {
     "end_time": "2024-10-15T01:19:33.245025Z",
     "start_time": "2024-10-15T01:19:33.238449Z"
    }
   },
   "source": [
    "d1['age'].value_counts(dropna=False).sort_index()"
   ],
   "outputs": [
    {
     "data": {
      "text/plain": [
       "age\n",
       "[0-10)         9\n",
       "[10-20)       81\n",
       "[20-30)      344\n",
       "[30-40)      678\n",
       "[40-50)     1775\n",
       "[50-60)     3253\n",
       "[60-70)     4404\n",
       "[70-80)     5043\n",
       "[80-90)     3847\n",
       "[90-100)     566\n",
       "Name: count, dtype: int64"
      ]
     },
     "execution_count": 198,
     "metadata": {},
     "output_type": "execute_result"
    }
   ],
   "execution_count": 198
  },
  {
   "cell_type": "markdown",
   "id": "f862060a7cb2405d",
   "metadata": {},
   "source": [
    "### Fixing the missing values"
   ]
  },
  {
   "cell_type": "markdown",
   "id": "b3ec2acc3a9d42e6",
   "metadata": {},
   "source": [
    "The missing values will need to be corrected as follows\n",
    "- The race will need to be imputed it has 2.5% missing values. This can be done by replacing the missing values with the mode of the variable\n",
    "- The weight variable will be dropped as it has a large number of missing values\n",
    "- The payer_code variable will be dropped as it has a large number of missing values and is unlikley to be useful in the analysis\n"
   ]
  },
  {
   "cell_type": "markdown",
   "id": "4c3dd0a47782c0f7",
   "metadata": {},
   "source": [
    "There are a couple of options for this. Either impute based on the mode of the variable, or use a random sampling approach. All methods have their pros and cons. \n",
    " \n",
    " Given that the missing values represent 2.5% of the data, and that the variable has an 'other' category, it is not safe to assume that the missing data are due to the absence of a category that people belong to. Therefore, reduce the chance of introducing bias by recoding based on mode imputation, the imputation will use random sampling reflecting the underlying distribution.\n",
    " \n",
    " The steps are:\n",
    " - Replace the '?' with None\n",
    " - Calculate the proportions of each value category\n",
    " - Replace the missing values with a random sample from the value categories based on the proportions by applying the lambda function to the column\n",
    " \n"
   ]
  },
  {
   "cell_type": "code",
   "id": "a36bea5995418498",
   "metadata": {
    "ExecuteTime": {
     "end_time": "2024-10-15T01:19:33.549887Z",
     "start_time": "2024-10-15T01:19:33.544632Z"
    }
   },
   "source": [
    "# Convert the ? to None so it can be treated as a missing value\n",
    "d1['race'] = d1['race'].replace('?', None)"
   ],
   "outputs": [],
   "execution_count": 199
  },
  {
   "cell_type": "code",
   "id": "f3c89b4e49613e69",
   "metadata": {
    "ExecuteTime": {
     "end_time": "2024-10-15T01:19:33.693479Z",
     "start_time": "2024-10-15T01:19:33.689239Z"
    }
   },
   "source": [
    "race_proportions = d1.race.value_counts(normalize=True)"
   ],
   "outputs": [],
   "execution_count": 200
  },
  {
   "cell_type": "code",
   "id": "da8533b5dd261c01",
   "metadata": {
    "ExecuteTime": {
     "end_time": "2024-10-15T01:19:33.941106Z",
     "start_time": "2024-10-15T01:19:33.934401Z"
    }
   },
   "source": [
    "race_proportions.to_frame()"
   ],
   "outputs": [
    {
     "data": {
      "text/plain": [
       "                 proportion\n",
       "race                       \n",
       "Caucasian              0.80\n",
       "AfricanAmerican        0.16\n",
       "Hispanic               0.02\n",
       "Other                  0.02\n",
       "Asian                  0.01"
      ],
      "text/html": [
       "<div>\n",
       "<style scoped>\n",
       "    .dataframe tbody tr th:only-of-type {\n",
       "        vertical-align: middle;\n",
       "    }\n",
       "\n",
       "    .dataframe tbody tr th {\n",
       "        vertical-align: top;\n",
       "    }\n",
       "\n",
       "    .dataframe thead th {\n",
       "        text-align: right;\n",
       "    }\n",
       "</style>\n",
       "<table border=\"1\" class=\"dataframe\">\n",
       "  <thead>\n",
       "    <tr style=\"text-align: right;\">\n",
       "      <th></th>\n",
       "      <th>proportion</th>\n",
       "    </tr>\n",
       "    <tr>\n",
       "      <th>race</th>\n",
       "      <th></th>\n",
       "    </tr>\n",
       "  </thead>\n",
       "  <tbody>\n",
       "    <tr>\n",
       "      <th>Caucasian</th>\n",
       "      <td>0.80</td>\n",
       "    </tr>\n",
       "    <tr>\n",
       "      <th>AfricanAmerican</th>\n",
       "      <td>0.16</td>\n",
       "    </tr>\n",
       "    <tr>\n",
       "      <th>Hispanic</th>\n",
       "      <td>0.02</td>\n",
       "    </tr>\n",
       "    <tr>\n",
       "      <th>Other</th>\n",
       "      <td>0.02</td>\n",
       "    </tr>\n",
       "    <tr>\n",
       "      <th>Asian</th>\n",
       "      <td>0.01</td>\n",
       "    </tr>\n",
       "  </tbody>\n",
       "</table>\n",
       "</div>"
      ]
     },
     "execution_count": 201,
     "metadata": {},
     "output_type": "execute_result"
    }
   ],
   "execution_count": 201
  },
  {
   "cell_type": "code",
   "id": "4d9337fe831fc570",
   "metadata": {
    "ExecuteTime": {
     "end_time": "2024-10-15T01:19:34.082398Z",
     "start_time": "2024-10-15T01:19:34.072556Z"
    }
   },
   "source": [
    "d1['race'] = d1['race'].apply(lambda x: np.random.choice(race_proportions.index, p=race_proportions.values) if pd.isnull(x) else x)"
   ],
   "outputs": [],
   "execution_count": 202
  },
  {
   "cell_type": "code",
   "id": "7f317d6b3cff7d75",
   "metadata": {
    "ExecuteTime": {
     "end_time": "2024-10-15T01:19:34.326352Z",
     "start_time": "2024-10-15T01:19:34.319871Z"
    }
   },
   "source": [
    "d1['race'].value_counts(dropna=False).to_frame()"
   ],
   "outputs": [
    {
     "data": {
      "text/plain": [
       "                 count\n",
       "race                  \n",
       "Caucasian        16013\n",
       "AfricanAmerican   3130\n",
       "Hispanic           359\n",
       "Other              349\n",
       "Asian              149"
      ],
      "text/html": [
       "<div>\n",
       "<style scoped>\n",
       "    .dataframe tbody tr th:only-of-type {\n",
       "        vertical-align: middle;\n",
       "    }\n",
       "\n",
       "    .dataframe tbody tr th {\n",
       "        vertical-align: top;\n",
       "    }\n",
       "\n",
       "    .dataframe thead th {\n",
       "        text-align: right;\n",
       "    }\n",
       "</style>\n",
       "<table border=\"1\" class=\"dataframe\">\n",
       "  <thead>\n",
       "    <tr style=\"text-align: right;\">\n",
       "      <th></th>\n",
       "      <th>count</th>\n",
       "    </tr>\n",
       "    <tr>\n",
       "      <th>race</th>\n",
       "      <th></th>\n",
       "    </tr>\n",
       "  </thead>\n",
       "  <tbody>\n",
       "    <tr>\n",
       "      <th>Caucasian</th>\n",
       "      <td>16013</td>\n",
       "    </tr>\n",
       "    <tr>\n",
       "      <th>AfricanAmerican</th>\n",
       "      <td>3130</td>\n",
       "    </tr>\n",
       "    <tr>\n",
       "      <th>Hispanic</th>\n",
       "      <td>359</td>\n",
       "    </tr>\n",
       "    <tr>\n",
       "      <th>Other</th>\n",
       "      <td>349</td>\n",
       "    </tr>\n",
       "    <tr>\n",
       "      <th>Asian</th>\n",
       "      <td>149</td>\n",
       "    </tr>\n",
       "  </tbody>\n",
       "</table>\n",
       "</div>"
      ]
     },
     "execution_count": 203,
     "metadata": {},
     "output_type": "execute_result"
    }
   ],
   "execution_count": 203
  },
  {
   "cell_type": "markdown",
   "id": "44882d6c051e8f56",
   "metadata": {},
   "source": []
  },
  {
   "cell_type": "markdown",
   "id": "721cbe4daebbd39",
   "metadata": {},
   "source": [
    "#### Fixing missing values in the numeric columns (number_inpatient, number_outpatient, number_emergency)\n",
    "\n",
    "The missing values in the number_inpatient, number_outpatient, and number_emergency columns were replaced with the median of the respective columns. This was done to preserve the distribution of the data and avoid introducing bias. \n",
    "\n"
   ]
  },
  {
   "cell_type": "code",
   "id": "6fdb053f06cdb8dd",
   "metadata": {
    "ExecuteTime": {
     "end_time": "2024-10-15T01:19:34.532481Z",
     "start_time": "2024-10-15T01:19:34.527741Z"
    }
   },
   "source": [
    "# Replace the missing values in the numeric columns with the median\n",
    "d1['number_inpatient'] = d1['number_inpatient'].fillna(d1['number_inpatient'].median())\n",
    "d1['number_outpatient'] = d1['number_outpatient'].fillna(d1['number_outpatient'].median())\n",
    "d1['number_emergency'] = d1['number_emergency'].fillna(d1['number_emergency'].median())\n"
   ],
   "outputs": [],
   "execution_count": 204
  },
  {
   "cell_type": "code",
   "id": "25db6557d33b6b1f",
   "metadata": {
    "ExecuteTime": {
     "end_time": "2024-10-15T01:19:34.888616Z",
     "start_time": "2024-10-15T01:19:34.881231Z"
    }
   },
   "source": [
    "d1['number_outpatient'].value_counts(dropna=False).to_frame()"
   ],
   "outputs": [
    {
     "data": {
      "text/plain": [
       "                   count\n",
       "number_outpatient       \n",
       "0                  15696\n",
       "1                   2081\n",
       "2                    970\n",
       "3                    538\n",
       "4                    291\n",
       "5                    126\n",
       "6                     91\n",
       "7                     57\n",
       "8                     31\n",
       "9                     24\n",
       "10                    20\n",
       "11                    14\n",
       "13                    12\n",
       "14                    11\n",
       "12                    10\n",
       "15                     6\n",
       "24                     3\n",
       "16                     2\n",
       "17                     2\n",
       "27                     2\n",
       "20                     2\n",
       "19                     2\n",
       "22                     2\n",
       "26                     1\n",
       "29                     1\n",
       "42                     1\n",
       "36                     1\n",
       "25                     1\n",
       "37                     1\n",
       "18                     1"
      ],
      "text/html": [
       "<div>\n",
       "<style scoped>\n",
       "    .dataframe tbody tr th:only-of-type {\n",
       "        vertical-align: middle;\n",
       "    }\n",
       "\n",
       "    .dataframe tbody tr th {\n",
       "        vertical-align: top;\n",
       "    }\n",
       "\n",
       "    .dataframe thead th {\n",
       "        text-align: right;\n",
       "    }\n",
       "</style>\n",
       "<table border=\"1\" class=\"dataframe\">\n",
       "  <thead>\n",
       "    <tr style=\"text-align: right;\">\n",
       "      <th></th>\n",
       "      <th>count</th>\n",
       "    </tr>\n",
       "    <tr>\n",
       "      <th>number_outpatient</th>\n",
       "      <th></th>\n",
       "    </tr>\n",
       "  </thead>\n",
       "  <tbody>\n",
       "    <tr>\n",
       "      <th>0</th>\n",
       "      <td>15696</td>\n",
       "    </tr>\n",
       "    <tr>\n",
       "      <th>1</th>\n",
       "      <td>2081</td>\n",
       "    </tr>\n",
       "    <tr>\n",
       "      <th>2</th>\n",
       "      <td>970</td>\n",
       "    </tr>\n",
       "    <tr>\n",
       "      <th>3</th>\n",
       "      <td>538</td>\n",
       "    </tr>\n",
       "    <tr>\n",
       "      <th>4</th>\n",
       "      <td>291</td>\n",
       "    </tr>\n",
       "    <tr>\n",
       "      <th>5</th>\n",
       "      <td>126</td>\n",
       "    </tr>\n",
       "    <tr>\n",
       "      <th>6</th>\n",
       "      <td>91</td>\n",
       "    </tr>\n",
       "    <tr>\n",
       "      <th>7</th>\n",
       "      <td>57</td>\n",
       "    </tr>\n",
       "    <tr>\n",
       "      <th>8</th>\n",
       "      <td>31</td>\n",
       "    </tr>\n",
       "    <tr>\n",
       "      <th>9</th>\n",
       "      <td>24</td>\n",
       "    </tr>\n",
       "    <tr>\n",
       "      <th>10</th>\n",
       "      <td>20</td>\n",
       "    </tr>\n",
       "    <tr>\n",
       "      <th>11</th>\n",
       "      <td>14</td>\n",
       "    </tr>\n",
       "    <tr>\n",
       "      <th>13</th>\n",
       "      <td>12</td>\n",
       "    </tr>\n",
       "    <tr>\n",
       "      <th>14</th>\n",
       "      <td>11</td>\n",
       "    </tr>\n",
       "    <tr>\n",
       "      <th>12</th>\n",
       "      <td>10</td>\n",
       "    </tr>\n",
       "    <tr>\n",
       "      <th>15</th>\n",
       "      <td>6</td>\n",
       "    </tr>\n",
       "    <tr>\n",
       "      <th>24</th>\n",
       "      <td>3</td>\n",
       "    </tr>\n",
       "    <tr>\n",
       "      <th>16</th>\n",
       "      <td>2</td>\n",
       "    </tr>\n",
       "    <tr>\n",
       "      <th>17</th>\n",
       "      <td>2</td>\n",
       "    </tr>\n",
       "    <tr>\n",
       "      <th>27</th>\n",
       "      <td>2</td>\n",
       "    </tr>\n",
       "    <tr>\n",
       "      <th>20</th>\n",
       "      <td>2</td>\n",
       "    </tr>\n",
       "    <tr>\n",
       "      <th>19</th>\n",
       "      <td>2</td>\n",
       "    </tr>\n",
       "    <tr>\n",
       "      <th>22</th>\n",
       "      <td>2</td>\n",
       "    </tr>\n",
       "    <tr>\n",
       "      <th>26</th>\n",
       "      <td>1</td>\n",
       "    </tr>\n",
       "    <tr>\n",
       "      <th>29</th>\n",
       "      <td>1</td>\n",
       "    </tr>\n",
       "    <tr>\n",
       "      <th>42</th>\n",
       "      <td>1</td>\n",
       "    </tr>\n",
       "    <tr>\n",
       "      <th>36</th>\n",
       "      <td>1</td>\n",
       "    </tr>\n",
       "    <tr>\n",
       "      <th>25</th>\n",
       "      <td>1</td>\n",
       "    </tr>\n",
       "    <tr>\n",
       "      <th>37</th>\n",
       "      <td>1</td>\n",
       "    </tr>\n",
       "    <tr>\n",
       "      <th>18</th>\n",
       "      <td>1</td>\n",
       "    </tr>\n",
       "  </tbody>\n",
       "</table>\n",
       "</div>"
      ]
     },
     "execution_count": 205,
     "metadata": {},
     "output_type": "execute_result"
    }
   ],
   "execution_count": 205
  },
  {
   "cell_type": "markdown",
   "id": "3aa656d6101dd49d",
   "metadata": {},
   "source": [
    "#### Fixing missing values in the medical_specialty column\n",
    "\n",
    "The medical_specialty column has a large number of missing values and a large number of distinct value categories. Therefore a different approach was taken, instead of imputation. The values were recoded into broader categories based on the text in the column to limit the amount of features created furing one-hot encoding. The categories were based on the following:\n",
    "- Surgical - based on the presence of 'Surg' or 'Anesth' in the text\n",
    "- Paediatric - based on the presence of 'Pedia' in the text\n",
    "- General Practice - based on the presence of 'Family' in the text\n",
    "- Mental Health - based on the presence of 'Psyc', 'Neur' in the text\n",
    "- Orthopedic - based on the presence of 'Ortho' in the text\n",
    "- OBGYN - based on the presence of 'Obs' or 'Gyn' in the text\n",
    "- Internal Medicine - based on the presence of 'Internal', 'Neph', 'Urol', 'Cardi', 'nfect', 'Pulmo', 'Endoc', 'Gastro' in the text. These are related to internal medicine diciplines as they are all related to internal organ systems.\n",
    "- Oncology - based on the presence of 'Hem' or 'Onc' in the text\n",
    "- Emergency - based on the presence of 'Emerg' or 'Trauma' in the text\n",
    "- Diagnostic - based on the presence of 'Pathol' or 'Radio' in the text\n",
    "- Other - for all other values\n",
    "\n",
    "The missing identifer '?' was replaced with 'Unknown' as it was not possible to determine the category based on the text.\n",
    "\n",
    "The remaining values were replaced with 'Other' as they did not fit into any of the categories above.\n"
   ]
  },
  {
   "cell_type": "markdown",
   "id": "2c0c4c18c3abc962",
   "metadata": {},
   "source": [
    "Use `numpy.select()` to assign values to ids using conditions and choices. The conditions are defined by `str.contains()` lookups. This is a vectorized approach that is more efficient than using loops or `apply()`. "
   ]
  },
  {
   "cell_type": "code",
   "id": "6254645fb9deb0ad",
   "metadata": {
    "ExecuteTime": {
     "end_time": "2024-10-15T01:19:35.114637Z",
     "start_time": "2024-10-15T01:19:35.110553Z"
    }
   },
   "source": [
    "# Make a copy of the medical_specialty column\n",
    "specialty = d1['medical_specialty'].copy()"
   ],
   "outputs": [],
   "execution_count": 206
  },
  {
   "cell_type": "code",
   "id": "7e44ba21ac998021",
   "metadata": {
    "ExecuteTime": {
     "end_time": "2024-10-15T01:19:35.539844Z",
     "start_time": "2024-10-15T01:19:35.445663Z"
    }
   },
   "source": [
    "# Set the condtions\n",
    "conditions = [\n",
    "    specialty.str.contains('Surg|Anesth', case=False, regex=True),\n",
    "    specialty.str.contains('Pedia', case=False, regex=True),\n",
    "    specialty.str.contains('Family', case=False, regex=True),\n",
    "    specialty.str.contains('Psyc|Neur', case=False, regex=True),\n",
    "    specialty.str.contains('Ortho', case=False, regex=True),\n",
    "    specialty.str.contains('Obs|Gyn', case=False, regex=True),\n",
    "    specialty.str.contains('Internal|Neph|Urol|Cardi|nfect|Pulmo|Endoc|Gastro', case=False, regex=True),\n",
    "    specialty.str.contains('Hem|Onc', case=False, regex=True),\n",
    "    specialty.str.contains('Emerg|Trauma', case=False, regex=True),\n",
    "    specialty.str.contains('Pathol|Radio', case=False, regex=True),\n",
    "    specialty == '?'\n",
    "]\n",
    "\n",
    "# Set the choices\n",
    "choices = ['Surgical', 'Paediatric', 'General Practice', 'Mental Health', 'Orthopedic', 'OBGYN', 'Internal Medicine',\n",
    "           'Oncology', 'Emergency', 'Diagnostic', 'Unknown']\n",
    "\n",
    "    "
   ],
   "outputs": [],
   "execution_count": 207
  },
  {
   "cell_type": "code",
   "id": "71cfe83222c28b68",
   "metadata": {
    "ExecuteTime": {
     "end_time": "2024-10-15T01:19:35.721539Z",
     "start_time": "2024-10-15T01:19:35.713999Z"
    }
   },
   "source": [
    "d1['medical_specialty'] = np.select(conditions, choices, default='Other')"
   ],
   "outputs": [],
   "execution_count": 208
  },
  {
   "cell_type": "code",
   "id": "287cf07c74a8fd34",
   "metadata": {
    "ExecuteTime": {
     "end_time": "2024-10-15T01:19:35.952055Z",
     "start_time": "2024-10-15T01:19:35.944896Z"
    }
   },
   "source": [
    "d1['medical_specialty'].value_counts(dropna=False).to_frame()"
   ],
   "outputs": [
    {
     "data": {
      "text/plain": [
       "                   count\n",
       "medical_specialty       \n",
       "Other              12443\n",
       "Internal Medicine   2658\n",
       "Emergency           2177\n",
       "Surgical             816\n",
       "General Practice     753\n",
       "Diagnostic           413\n",
       "Orthopedic           387\n",
       "Mental Health        157\n",
       "OBGYN                 96\n",
       "Oncology              76\n",
       "Paediatric            24"
      ],
      "text/html": [
       "<div>\n",
       "<style scoped>\n",
       "    .dataframe tbody tr th:only-of-type {\n",
       "        vertical-align: middle;\n",
       "    }\n",
       "\n",
       "    .dataframe tbody tr th {\n",
       "        vertical-align: top;\n",
       "    }\n",
       "\n",
       "    .dataframe thead th {\n",
       "        text-align: right;\n",
       "    }\n",
       "</style>\n",
       "<table border=\"1\" class=\"dataframe\">\n",
       "  <thead>\n",
       "    <tr style=\"text-align: right;\">\n",
       "      <th></th>\n",
       "      <th>count</th>\n",
       "    </tr>\n",
       "    <tr>\n",
       "      <th>medical_specialty</th>\n",
       "      <th></th>\n",
       "    </tr>\n",
       "  </thead>\n",
       "  <tbody>\n",
       "    <tr>\n",
       "      <th>Other</th>\n",
       "      <td>12443</td>\n",
       "    </tr>\n",
       "    <tr>\n",
       "      <th>Internal Medicine</th>\n",
       "      <td>2658</td>\n",
       "    </tr>\n",
       "    <tr>\n",
       "      <th>Emergency</th>\n",
       "      <td>2177</td>\n",
       "    </tr>\n",
       "    <tr>\n",
       "      <th>Surgical</th>\n",
       "      <td>816</td>\n",
       "    </tr>\n",
       "    <tr>\n",
       "      <th>General Practice</th>\n",
       "      <td>753</td>\n",
       "    </tr>\n",
       "    <tr>\n",
       "      <th>Diagnostic</th>\n",
       "      <td>413</td>\n",
       "    </tr>\n",
       "    <tr>\n",
       "      <th>Orthopedic</th>\n",
       "      <td>387</td>\n",
       "    </tr>\n",
       "    <tr>\n",
       "      <th>Mental Health</th>\n",
       "      <td>157</td>\n",
       "    </tr>\n",
       "    <tr>\n",
       "      <th>OBGYN</th>\n",
       "      <td>96</td>\n",
       "    </tr>\n",
       "    <tr>\n",
       "      <th>Oncology</th>\n",
       "      <td>76</td>\n",
       "    </tr>\n",
       "    <tr>\n",
       "      <th>Paediatric</th>\n",
       "      <td>24</td>\n",
       "    </tr>\n",
       "  </tbody>\n",
       "</table>\n",
       "</div>"
      ]
     },
     "execution_count": 209,
     "metadata": {},
     "output_type": "execute_result"
    }
   ],
   "execution_count": 209
  },
  {
   "cell_type": "markdown",
   "id": "beba3eaf81e2199a",
   "metadata": {},
   "source": [
    "#### Missing values in the diag_1, diag_2, and diag_3 columns\n",
    "\n",
    "Similar to the medical_specialty column, the diag_1, diag_2, and diag_3 columns have missing values represented by '?'. These will be replaced with 'Unknown' as it is not possible to determine the category based on the text.\n",
    "\n",
    "The remaining values were recoded into broader categories based on the ICD9 codes. The categories were sources from the following link: https://icd.codes/icd9cm\n",
    "\n",
    "A function was used to conditonally assign the categories based on the ICD9 codes. The function was then applied to the diag_1, diag_2, and diag_3 columns to create new columns with the categories."
   ]
  },
  {
   "cell_type": "code",
   "id": "4d2258e1be9d2007",
   "metadata": {
    "ExecuteTime": {
     "end_time": "2024-10-15T01:19:36.175643Z",
     "start_time": "2024-10-15T01:19:36.169202Z"
    }
   },
   "source": [
    "def categorize_diagnosis(code):\n",
    "    code_str = str(code)\n",
    "\n",
    "    # Check for specific prefixes 'V' and 'E'. These are supplementary factors\n",
    "    if 'V' in code_str or 'E' in code_str:\n",
    "        return 'Supplementary factors'\n",
    "\n",
    "    # Handle the missing values\n",
    "    if code_str == '?':\n",
    "        return 'Unknown'\n",
    "\n",
    "    # Convert the code to a numeric value for the lookup\n",
    "    try:\n",
    "        code_num = int(float(code_str))\n",
    "    except ValueError:\n",
    "        return 'Unknown'\n",
    "\n",
    "    # Categorize based on the numeric value\n",
    "    if 1 <= code_num <= 139:\n",
    "        return 'Infectious'\n",
    "    elif 140 <= code_num <= 239:\n",
    "        return 'Neoplasms'\n",
    "    elif 240 <= code_num <= 279:\n",
    "        return 'Endocrine'\n",
    "    elif 280 <= code_num <= 289:\n",
    "        return 'Blood disorders'\n",
    "    elif 290 <= code_num <= 319:\n",
    "        return 'mental health'\n",
    "    elif 320 <= code_num <= 389:\n",
    "        return 'Nervous system'\n",
    "    elif 390 <= code_num <= 459:\n",
    "        return 'Circulatory system'\n",
    "    elif 460 <= code_num <= 519:\n",
    "        return 'Respiratory system'\n",
    "    elif 520 <= code_num <= 579:\n",
    "        return 'Digestive system'\n",
    "    elif 580 <= code_num <= 629:\n",
    "        return 'Genitourinary system'\n",
    "    elif 630 <= code_num <= 679:\n",
    "        return 'Pregnancy/Childbirth'\n",
    "    elif 680 <= code_num <= 709:\n",
    "        return 'Skin conditions'\n",
    "    elif 710 <= code_num <= 739:\n",
    "        return 'Musculoskeletal system'\n",
    "    elif 740 <= code_num <= 759:\n",
    "        return 'Congenital anomalies'\n",
    "    elif 760 <= code_num <= 779:\n",
    "        return 'Perinatal conditions'\n",
    "    elif 780 <= code_num <= 799:\n",
    "        return 'Ill-defined conditions'\n",
    "    elif 800 <= code_num <= 999:\n",
    "        return 'Injury/Poisoning'\n",
    "    else:\n",
    "        return 'Other'\n"
   ],
   "outputs": [],
   "execution_count": 210
  },
  {
   "cell_type": "code",
   "id": "79603ff04c858e33",
   "metadata": {
    "ExecuteTime": {
     "end_time": "2024-10-15T01:19:36.302449Z",
     "start_time": "2024-10-15T01:19:36.255178Z"
    }
   },
   "source": [
    "# Apply the function to the 'diag_1' column in the DataFrame\n",
    "d1['diag_1_icd'] = d1['diag_1'].apply(categorize_diagnosis)\n",
    "d1['diag_2_icd'] = d1['diag_2'].apply(categorize_diagnosis)\n",
    "d1['diag_3_icd'] = d1['diag_3'].apply(categorize_diagnosis)"
   ],
   "outputs": [
    {
     "ename": "KeyError",
     "evalue": "'diag_1'",
     "output_type": "error",
     "traceback": [
      "\u001B[1;31m---------------------------------------------------------------------------\u001B[0m",
      "\u001B[1;31mKeyError\u001B[0m                                  Traceback (most recent call last)",
      "File \u001B[1;32m~\\miniconda3\\envs\\IFN509\\Lib\\site-packages\\pandas\\core\\indexes\\base.py:3805\u001B[0m, in \u001B[0;36mIndex.get_loc\u001B[1;34m(self, key)\u001B[0m\n\u001B[0;32m   3804\u001B[0m \u001B[38;5;28;01mtry\u001B[39;00m:\n\u001B[1;32m-> 3805\u001B[0m     \u001B[38;5;28;01mreturn\u001B[39;00m \u001B[38;5;28mself\u001B[39m\u001B[38;5;241m.\u001B[39m_engine\u001B[38;5;241m.\u001B[39mget_loc(casted_key)\n\u001B[0;32m   3806\u001B[0m \u001B[38;5;28;01mexcept\u001B[39;00m \u001B[38;5;167;01mKeyError\u001B[39;00m \u001B[38;5;28;01mas\u001B[39;00m err:\n",
      "File \u001B[1;32mindex.pyx:167\u001B[0m, in \u001B[0;36mpandas._libs.index.IndexEngine.get_loc\u001B[1;34m()\u001B[0m\n",
      "File \u001B[1;32mindex.pyx:196\u001B[0m, in \u001B[0;36mpandas._libs.index.IndexEngine.get_loc\u001B[1;34m()\u001B[0m\n",
      "File \u001B[1;32mpandas\\\\_libs\\\\hashtable_class_helper.pxi:7081\u001B[0m, in \u001B[0;36mpandas._libs.hashtable.PyObjectHashTable.get_item\u001B[1;34m()\u001B[0m\n",
      "File \u001B[1;32mpandas\\\\_libs\\\\hashtable_class_helper.pxi:7089\u001B[0m, in \u001B[0;36mpandas._libs.hashtable.PyObjectHashTable.get_item\u001B[1;34m()\u001B[0m\n",
      "\u001B[1;31mKeyError\u001B[0m: 'diag_1'",
      "\nThe above exception was the direct cause of the following exception:\n",
      "\u001B[1;31mKeyError\u001B[0m                                  Traceback (most recent call last)",
      "Cell \u001B[1;32mIn[211], line 2\u001B[0m\n\u001B[0;32m      1\u001B[0m \u001B[38;5;66;03m# Apply the function to the 'diag_1' column in the DataFrame\u001B[39;00m\n\u001B[1;32m----> 2\u001B[0m d1[\u001B[38;5;124m'\u001B[39m\u001B[38;5;124mdiag_1_icd\u001B[39m\u001B[38;5;124m'\u001B[39m] \u001B[38;5;241m=\u001B[39m d1[\u001B[38;5;124m'\u001B[39m\u001B[38;5;124mdiag_1\u001B[39m\u001B[38;5;124m'\u001B[39m]\u001B[38;5;241m.\u001B[39mapply(categorize_diagnosis)\n\u001B[0;32m      3\u001B[0m d1[\u001B[38;5;124m'\u001B[39m\u001B[38;5;124mdiag_2_icd\u001B[39m\u001B[38;5;124m'\u001B[39m] \u001B[38;5;241m=\u001B[39m d1[\u001B[38;5;124m'\u001B[39m\u001B[38;5;124mdiag_2\u001B[39m\u001B[38;5;124m'\u001B[39m]\u001B[38;5;241m.\u001B[39mapply(categorize_diagnosis)\n\u001B[0;32m      4\u001B[0m d1[\u001B[38;5;124m'\u001B[39m\u001B[38;5;124mdiag_3_icd\u001B[39m\u001B[38;5;124m'\u001B[39m] \u001B[38;5;241m=\u001B[39m d1[\u001B[38;5;124m'\u001B[39m\u001B[38;5;124mdiag_3\u001B[39m\u001B[38;5;124m'\u001B[39m]\u001B[38;5;241m.\u001B[39mapply(categorize_diagnosis)\n",
      "File \u001B[1;32m~\\miniconda3\\envs\\IFN509\\Lib\\site-packages\\pandas\\core\\frame.py:4102\u001B[0m, in \u001B[0;36mDataFrame.__getitem__\u001B[1;34m(self, key)\u001B[0m\n\u001B[0;32m   4100\u001B[0m \u001B[38;5;28;01mif\u001B[39;00m \u001B[38;5;28mself\u001B[39m\u001B[38;5;241m.\u001B[39mcolumns\u001B[38;5;241m.\u001B[39mnlevels \u001B[38;5;241m>\u001B[39m \u001B[38;5;241m1\u001B[39m:\n\u001B[0;32m   4101\u001B[0m     \u001B[38;5;28;01mreturn\u001B[39;00m \u001B[38;5;28mself\u001B[39m\u001B[38;5;241m.\u001B[39m_getitem_multilevel(key)\n\u001B[1;32m-> 4102\u001B[0m indexer \u001B[38;5;241m=\u001B[39m \u001B[38;5;28mself\u001B[39m\u001B[38;5;241m.\u001B[39mcolumns\u001B[38;5;241m.\u001B[39mget_loc(key)\n\u001B[0;32m   4103\u001B[0m \u001B[38;5;28;01mif\u001B[39;00m is_integer(indexer):\n\u001B[0;32m   4104\u001B[0m     indexer \u001B[38;5;241m=\u001B[39m [indexer]\n",
      "File \u001B[1;32m~\\miniconda3\\envs\\IFN509\\Lib\\site-packages\\pandas\\core\\indexes\\base.py:3812\u001B[0m, in \u001B[0;36mIndex.get_loc\u001B[1;34m(self, key)\u001B[0m\n\u001B[0;32m   3807\u001B[0m     \u001B[38;5;28;01mif\u001B[39;00m \u001B[38;5;28misinstance\u001B[39m(casted_key, \u001B[38;5;28mslice\u001B[39m) \u001B[38;5;129;01mor\u001B[39;00m (\n\u001B[0;32m   3808\u001B[0m         \u001B[38;5;28misinstance\u001B[39m(casted_key, abc\u001B[38;5;241m.\u001B[39mIterable)\n\u001B[0;32m   3809\u001B[0m         \u001B[38;5;129;01mand\u001B[39;00m \u001B[38;5;28many\u001B[39m(\u001B[38;5;28misinstance\u001B[39m(x, \u001B[38;5;28mslice\u001B[39m) \u001B[38;5;28;01mfor\u001B[39;00m x \u001B[38;5;129;01min\u001B[39;00m casted_key)\n\u001B[0;32m   3810\u001B[0m     ):\n\u001B[0;32m   3811\u001B[0m         \u001B[38;5;28;01mraise\u001B[39;00m InvalidIndexError(key)\n\u001B[1;32m-> 3812\u001B[0m     \u001B[38;5;28;01mraise\u001B[39;00m \u001B[38;5;167;01mKeyError\u001B[39;00m(key) \u001B[38;5;28;01mfrom\u001B[39;00m \u001B[38;5;21;01merr\u001B[39;00m\n\u001B[0;32m   3813\u001B[0m \u001B[38;5;28;01mexcept\u001B[39;00m \u001B[38;5;167;01mTypeError\u001B[39;00m:\n\u001B[0;32m   3814\u001B[0m     \u001B[38;5;66;03m# If we have a listlike key, _check_indexing_error will raise\u001B[39;00m\n\u001B[0;32m   3815\u001B[0m     \u001B[38;5;66;03m#  InvalidIndexError. Otherwise we fall through and re-raise\u001B[39;00m\n\u001B[0;32m   3816\u001B[0m     \u001B[38;5;66;03m#  the TypeError.\u001B[39;00m\n\u001B[0;32m   3817\u001B[0m     \u001B[38;5;28mself\u001B[39m\u001B[38;5;241m.\u001B[39m_check_indexing_error(key)\n",
      "\u001B[1;31mKeyError\u001B[0m: 'diag_1'"
     ]
    }
   ],
   "execution_count": 211
  },
  {
   "cell_type": "markdown",
   "id": "4ffed5404fb1cb68",
   "metadata": {},
   "source": [
    "### Rationale to drop diag_2 and diag_3 variables\n",
    "\n",
    "Closer inspection of the diag_1, diag_2, and diag_3 columns revealed that there are many values the same  in corresponding records. Given that each variable would produce 18 dummy variables each with one-hot encoding. This would result in 54 new features. This would be a large number of features to add to the dataset. That, taken intoo consideration with the duplicate values it seems sensible to focus on diag_1 only.\n",
    "\n",
    "\n",
    "The unknown values in diag_1_icd will be filled with their corresponding values from diag_2_icd "
   ]
  },
  {
   "cell_type": "code",
   "id": "2eba57506aa9ac94",
   "metadata": {
    "ExecuteTime": {
     "end_time": "2024-10-15T01:19:36.545239Z",
     "start_time": "2024-10-15T01:19:36.501074Z"
    }
   },
   "source": [
    "(d1['diag_1_icd'] == d1['diag_2_icd']).sum()"
   ],
   "outputs": [
    {
     "ename": "KeyError",
     "evalue": "'diag_1_icd'",
     "output_type": "error",
     "traceback": [
      "\u001B[1;31m---------------------------------------------------------------------------\u001B[0m",
      "\u001B[1;31mKeyError\u001B[0m                                  Traceback (most recent call last)",
      "File \u001B[1;32m~\\miniconda3\\envs\\IFN509\\Lib\\site-packages\\pandas\\core\\indexes\\base.py:3805\u001B[0m, in \u001B[0;36mIndex.get_loc\u001B[1;34m(self, key)\u001B[0m\n\u001B[0;32m   3804\u001B[0m \u001B[38;5;28;01mtry\u001B[39;00m:\n\u001B[1;32m-> 3805\u001B[0m     \u001B[38;5;28;01mreturn\u001B[39;00m \u001B[38;5;28mself\u001B[39m\u001B[38;5;241m.\u001B[39m_engine\u001B[38;5;241m.\u001B[39mget_loc(casted_key)\n\u001B[0;32m   3806\u001B[0m \u001B[38;5;28;01mexcept\u001B[39;00m \u001B[38;5;167;01mKeyError\u001B[39;00m \u001B[38;5;28;01mas\u001B[39;00m err:\n",
      "File \u001B[1;32mindex.pyx:167\u001B[0m, in \u001B[0;36mpandas._libs.index.IndexEngine.get_loc\u001B[1;34m()\u001B[0m\n",
      "File \u001B[1;32mindex.pyx:196\u001B[0m, in \u001B[0;36mpandas._libs.index.IndexEngine.get_loc\u001B[1;34m()\u001B[0m\n",
      "File \u001B[1;32mpandas\\\\_libs\\\\hashtable_class_helper.pxi:7081\u001B[0m, in \u001B[0;36mpandas._libs.hashtable.PyObjectHashTable.get_item\u001B[1;34m()\u001B[0m\n",
      "File \u001B[1;32mpandas\\\\_libs\\\\hashtable_class_helper.pxi:7089\u001B[0m, in \u001B[0;36mpandas._libs.hashtable.PyObjectHashTable.get_item\u001B[1;34m()\u001B[0m\n",
      "\u001B[1;31mKeyError\u001B[0m: 'diag_1_icd'",
      "\nThe above exception was the direct cause of the following exception:\n",
      "\u001B[1;31mKeyError\u001B[0m                                  Traceback (most recent call last)",
      "Cell \u001B[1;32mIn[212], line 1\u001B[0m\n\u001B[1;32m----> 1\u001B[0m (d1[\u001B[38;5;124m'\u001B[39m\u001B[38;5;124mdiag_1_icd\u001B[39m\u001B[38;5;124m'\u001B[39m] \u001B[38;5;241m==\u001B[39m d1[\u001B[38;5;124m'\u001B[39m\u001B[38;5;124mdiag_2_icd\u001B[39m\u001B[38;5;124m'\u001B[39m])\u001B[38;5;241m.\u001B[39msum()\n",
      "File \u001B[1;32m~\\miniconda3\\envs\\IFN509\\Lib\\site-packages\\pandas\\core\\frame.py:4102\u001B[0m, in \u001B[0;36mDataFrame.__getitem__\u001B[1;34m(self, key)\u001B[0m\n\u001B[0;32m   4100\u001B[0m \u001B[38;5;28;01mif\u001B[39;00m \u001B[38;5;28mself\u001B[39m\u001B[38;5;241m.\u001B[39mcolumns\u001B[38;5;241m.\u001B[39mnlevels \u001B[38;5;241m>\u001B[39m \u001B[38;5;241m1\u001B[39m:\n\u001B[0;32m   4101\u001B[0m     \u001B[38;5;28;01mreturn\u001B[39;00m \u001B[38;5;28mself\u001B[39m\u001B[38;5;241m.\u001B[39m_getitem_multilevel(key)\n\u001B[1;32m-> 4102\u001B[0m indexer \u001B[38;5;241m=\u001B[39m \u001B[38;5;28mself\u001B[39m\u001B[38;5;241m.\u001B[39mcolumns\u001B[38;5;241m.\u001B[39mget_loc(key)\n\u001B[0;32m   4103\u001B[0m \u001B[38;5;28;01mif\u001B[39;00m is_integer(indexer):\n\u001B[0;32m   4104\u001B[0m     indexer \u001B[38;5;241m=\u001B[39m [indexer]\n",
      "File \u001B[1;32m~\\miniconda3\\envs\\IFN509\\Lib\\site-packages\\pandas\\core\\indexes\\base.py:3812\u001B[0m, in \u001B[0;36mIndex.get_loc\u001B[1;34m(self, key)\u001B[0m\n\u001B[0;32m   3807\u001B[0m     \u001B[38;5;28;01mif\u001B[39;00m \u001B[38;5;28misinstance\u001B[39m(casted_key, \u001B[38;5;28mslice\u001B[39m) \u001B[38;5;129;01mor\u001B[39;00m (\n\u001B[0;32m   3808\u001B[0m         \u001B[38;5;28misinstance\u001B[39m(casted_key, abc\u001B[38;5;241m.\u001B[39mIterable)\n\u001B[0;32m   3809\u001B[0m         \u001B[38;5;129;01mand\u001B[39;00m \u001B[38;5;28many\u001B[39m(\u001B[38;5;28misinstance\u001B[39m(x, \u001B[38;5;28mslice\u001B[39m) \u001B[38;5;28;01mfor\u001B[39;00m x \u001B[38;5;129;01min\u001B[39;00m casted_key)\n\u001B[0;32m   3810\u001B[0m     ):\n\u001B[0;32m   3811\u001B[0m         \u001B[38;5;28;01mraise\u001B[39;00m InvalidIndexError(key)\n\u001B[1;32m-> 3812\u001B[0m     \u001B[38;5;28;01mraise\u001B[39;00m \u001B[38;5;167;01mKeyError\u001B[39;00m(key) \u001B[38;5;28;01mfrom\u001B[39;00m \u001B[38;5;21;01merr\u001B[39;00m\n\u001B[0;32m   3813\u001B[0m \u001B[38;5;28;01mexcept\u001B[39;00m \u001B[38;5;167;01mTypeError\u001B[39;00m:\n\u001B[0;32m   3814\u001B[0m     \u001B[38;5;66;03m# If we have a listlike key, _check_indexing_error will raise\u001B[39;00m\n\u001B[0;32m   3815\u001B[0m     \u001B[38;5;66;03m#  InvalidIndexError. Otherwise we fall through and re-raise\u001B[39;00m\n\u001B[0;32m   3816\u001B[0m     \u001B[38;5;66;03m#  the TypeError.\u001B[39;00m\n\u001B[0;32m   3817\u001B[0m     \u001B[38;5;28mself\u001B[39m\u001B[38;5;241m.\u001B[39m_check_indexing_error(key)\n",
      "\u001B[1;31mKeyError\u001B[0m: 'diag_1_icd'"
     ]
    }
   ],
   "execution_count": 212
  },
  {
   "cell_type": "code",
   "id": "8d194bd860afab1f",
   "metadata": {
    "ExecuteTime": {
     "end_time": "2024-10-15T01:19:36.734438Z",
     "start_time": "2024-10-15T01:19:36.685994Z"
    }
   },
   "source": [
    "(d1['diag_1_icd'] == d1['diag_3_icd']).sum()"
   ],
   "outputs": [
    {
     "ename": "KeyError",
     "evalue": "'diag_1_icd'",
     "output_type": "error",
     "traceback": [
      "\u001B[1;31m---------------------------------------------------------------------------\u001B[0m",
      "\u001B[1;31mKeyError\u001B[0m                                  Traceback (most recent call last)",
      "File \u001B[1;32m~\\miniconda3\\envs\\IFN509\\Lib\\site-packages\\pandas\\core\\indexes\\base.py:3805\u001B[0m, in \u001B[0;36mIndex.get_loc\u001B[1;34m(self, key)\u001B[0m\n\u001B[0;32m   3804\u001B[0m \u001B[38;5;28;01mtry\u001B[39;00m:\n\u001B[1;32m-> 3805\u001B[0m     \u001B[38;5;28;01mreturn\u001B[39;00m \u001B[38;5;28mself\u001B[39m\u001B[38;5;241m.\u001B[39m_engine\u001B[38;5;241m.\u001B[39mget_loc(casted_key)\n\u001B[0;32m   3806\u001B[0m \u001B[38;5;28;01mexcept\u001B[39;00m \u001B[38;5;167;01mKeyError\u001B[39;00m \u001B[38;5;28;01mas\u001B[39;00m err:\n",
      "File \u001B[1;32mindex.pyx:167\u001B[0m, in \u001B[0;36mpandas._libs.index.IndexEngine.get_loc\u001B[1;34m()\u001B[0m\n",
      "File \u001B[1;32mindex.pyx:196\u001B[0m, in \u001B[0;36mpandas._libs.index.IndexEngine.get_loc\u001B[1;34m()\u001B[0m\n",
      "File \u001B[1;32mpandas\\\\_libs\\\\hashtable_class_helper.pxi:7081\u001B[0m, in \u001B[0;36mpandas._libs.hashtable.PyObjectHashTable.get_item\u001B[1;34m()\u001B[0m\n",
      "File \u001B[1;32mpandas\\\\_libs\\\\hashtable_class_helper.pxi:7089\u001B[0m, in \u001B[0;36mpandas._libs.hashtable.PyObjectHashTable.get_item\u001B[1;34m()\u001B[0m\n",
      "\u001B[1;31mKeyError\u001B[0m: 'diag_1_icd'",
      "\nThe above exception was the direct cause of the following exception:\n",
      "\u001B[1;31mKeyError\u001B[0m                                  Traceback (most recent call last)",
      "Cell \u001B[1;32mIn[213], line 1\u001B[0m\n\u001B[1;32m----> 1\u001B[0m (d1[\u001B[38;5;124m'\u001B[39m\u001B[38;5;124mdiag_1_icd\u001B[39m\u001B[38;5;124m'\u001B[39m] \u001B[38;5;241m==\u001B[39m d1[\u001B[38;5;124m'\u001B[39m\u001B[38;5;124mdiag_3_icd\u001B[39m\u001B[38;5;124m'\u001B[39m])\u001B[38;5;241m.\u001B[39msum()\n",
      "File \u001B[1;32m~\\miniconda3\\envs\\IFN509\\Lib\\site-packages\\pandas\\core\\frame.py:4102\u001B[0m, in \u001B[0;36mDataFrame.__getitem__\u001B[1;34m(self, key)\u001B[0m\n\u001B[0;32m   4100\u001B[0m \u001B[38;5;28;01mif\u001B[39;00m \u001B[38;5;28mself\u001B[39m\u001B[38;5;241m.\u001B[39mcolumns\u001B[38;5;241m.\u001B[39mnlevels \u001B[38;5;241m>\u001B[39m \u001B[38;5;241m1\u001B[39m:\n\u001B[0;32m   4101\u001B[0m     \u001B[38;5;28;01mreturn\u001B[39;00m \u001B[38;5;28mself\u001B[39m\u001B[38;5;241m.\u001B[39m_getitem_multilevel(key)\n\u001B[1;32m-> 4102\u001B[0m indexer \u001B[38;5;241m=\u001B[39m \u001B[38;5;28mself\u001B[39m\u001B[38;5;241m.\u001B[39mcolumns\u001B[38;5;241m.\u001B[39mget_loc(key)\n\u001B[0;32m   4103\u001B[0m \u001B[38;5;28;01mif\u001B[39;00m is_integer(indexer):\n\u001B[0;32m   4104\u001B[0m     indexer \u001B[38;5;241m=\u001B[39m [indexer]\n",
      "File \u001B[1;32m~\\miniconda3\\envs\\IFN509\\Lib\\site-packages\\pandas\\core\\indexes\\base.py:3812\u001B[0m, in \u001B[0;36mIndex.get_loc\u001B[1;34m(self, key)\u001B[0m\n\u001B[0;32m   3807\u001B[0m     \u001B[38;5;28;01mif\u001B[39;00m \u001B[38;5;28misinstance\u001B[39m(casted_key, \u001B[38;5;28mslice\u001B[39m) \u001B[38;5;129;01mor\u001B[39;00m (\n\u001B[0;32m   3808\u001B[0m         \u001B[38;5;28misinstance\u001B[39m(casted_key, abc\u001B[38;5;241m.\u001B[39mIterable)\n\u001B[0;32m   3809\u001B[0m         \u001B[38;5;129;01mand\u001B[39;00m \u001B[38;5;28many\u001B[39m(\u001B[38;5;28misinstance\u001B[39m(x, \u001B[38;5;28mslice\u001B[39m) \u001B[38;5;28;01mfor\u001B[39;00m x \u001B[38;5;129;01min\u001B[39;00m casted_key)\n\u001B[0;32m   3810\u001B[0m     ):\n\u001B[0;32m   3811\u001B[0m         \u001B[38;5;28;01mraise\u001B[39;00m InvalidIndexError(key)\n\u001B[1;32m-> 3812\u001B[0m     \u001B[38;5;28;01mraise\u001B[39;00m \u001B[38;5;167;01mKeyError\u001B[39;00m(key) \u001B[38;5;28;01mfrom\u001B[39;00m \u001B[38;5;21;01merr\u001B[39;00m\n\u001B[0;32m   3813\u001B[0m \u001B[38;5;28;01mexcept\u001B[39;00m \u001B[38;5;167;01mTypeError\u001B[39;00m:\n\u001B[0;32m   3814\u001B[0m     \u001B[38;5;66;03m# If we have a listlike key, _check_indexing_error will raise\u001B[39;00m\n\u001B[0;32m   3815\u001B[0m     \u001B[38;5;66;03m#  InvalidIndexError. Otherwise we fall through and re-raise\u001B[39;00m\n\u001B[0;32m   3816\u001B[0m     \u001B[38;5;66;03m#  the TypeError.\u001B[39;00m\n\u001B[0;32m   3817\u001B[0m     \u001B[38;5;28mself\u001B[39m\u001B[38;5;241m.\u001B[39m_check_indexing_error(key)\n",
      "\u001B[1;31mKeyError\u001B[0m: 'diag_1_icd'"
     ]
    }
   ],
   "execution_count": 213
  },
  {
   "cell_type": "code",
   "id": "1e8e44675b838d14",
   "metadata": {
    "ExecuteTime": {
     "end_time": "2024-10-15T01:19:38.660394Z",
     "start_time": "2024-10-15T01:19:38.615945Z"
    }
   },
   "source": [
    "d1['diag_1_icd'] = d1['diag_1_icd'].fillna(d1['diag_2_icd'])"
   ],
   "outputs": [
    {
     "ename": "KeyError",
     "evalue": "'diag_1_icd'",
     "output_type": "error",
     "traceback": [
      "\u001B[1;31m---------------------------------------------------------------------------\u001B[0m",
      "\u001B[1;31mKeyError\u001B[0m                                  Traceback (most recent call last)",
      "File \u001B[1;32m~\\miniconda3\\envs\\IFN509\\Lib\\site-packages\\pandas\\core\\indexes\\base.py:3805\u001B[0m, in \u001B[0;36mIndex.get_loc\u001B[1;34m(self, key)\u001B[0m\n\u001B[0;32m   3804\u001B[0m \u001B[38;5;28;01mtry\u001B[39;00m:\n\u001B[1;32m-> 3805\u001B[0m     \u001B[38;5;28;01mreturn\u001B[39;00m \u001B[38;5;28mself\u001B[39m\u001B[38;5;241m.\u001B[39m_engine\u001B[38;5;241m.\u001B[39mget_loc(casted_key)\n\u001B[0;32m   3806\u001B[0m \u001B[38;5;28;01mexcept\u001B[39;00m \u001B[38;5;167;01mKeyError\u001B[39;00m \u001B[38;5;28;01mas\u001B[39;00m err:\n",
      "File \u001B[1;32mindex.pyx:167\u001B[0m, in \u001B[0;36mpandas._libs.index.IndexEngine.get_loc\u001B[1;34m()\u001B[0m\n",
      "File \u001B[1;32mindex.pyx:196\u001B[0m, in \u001B[0;36mpandas._libs.index.IndexEngine.get_loc\u001B[1;34m()\u001B[0m\n",
      "File \u001B[1;32mpandas\\\\_libs\\\\hashtable_class_helper.pxi:7081\u001B[0m, in \u001B[0;36mpandas._libs.hashtable.PyObjectHashTable.get_item\u001B[1;34m()\u001B[0m\n",
      "File \u001B[1;32mpandas\\\\_libs\\\\hashtable_class_helper.pxi:7089\u001B[0m, in \u001B[0;36mpandas._libs.hashtable.PyObjectHashTable.get_item\u001B[1;34m()\u001B[0m\n",
      "\u001B[1;31mKeyError\u001B[0m: 'diag_1_icd'",
      "\nThe above exception was the direct cause of the following exception:\n",
      "\u001B[1;31mKeyError\u001B[0m                                  Traceback (most recent call last)",
      "Cell \u001B[1;32mIn[214], line 1\u001B[0m\n\u001B[1;32m----> 1\u001B[0m d1[\u001B[38;5;124m'\u001B[39m\u001B[38;5;124mdiag_1_icd\u001B[39m\u001B[38;5;124m'\u001B[39m] \u001B[38;5;241m=\u001B[39m d1[\u001B[38;5;124m'\u001B[39m\u001B[38;5;124mdiag_1_icd\u001B[39m\u001B[38;5;124m'\u001B[39m]\u001B[38;5;241m.\u001B[39mfillna(d1[\u001B[38;5;124m'\u001B[39m\u001B[38;5;124mdiag_2_icd\u001B[39m\u001B[38;5;124m'\u001B[39m])\n",
      "File \u001B[1;32m~\\miniconda3\\envs\\IFN509\\Lib\\site-packages\\pandas\\core\\frame.py:4102\u001B[0m, in \u001B[0;36mDataFrame.__getitem__\u001B[1;34m(self, key)\u001B[0m\n\u001B[0;32m   4100\u001B[0m \u001B[38;5;28;01mif\u001B[39;00m \u001B[38;5;28mself\u001B[39m\u001B[38;5;241m.\u001B[39mcolumns\u001B[38;5;241m.\u001B[39mnlevels \u001B[38;5;241m>\u001B[39m \u001B[38;5;241m1\u001B[39m:\n\u001B[0;32m   4101\u001B[0m     \u001B[38;5;28;01mreturn\u001B[39;00m \u001B[38;5;28mself\u001B[39m\u001B[38;5;241m.\u001B[39m_getitem_multilevel(key)\n\u001B[1;32m-> 4102\u001B[0m indexer \u001B[38;5;241m=\u001B[39m \u001B[38;5;28mself\u001B[39m\u001B[38;5;241m.\u001B[39mcolumns\u001B[38;5;241m.\u001B[39mget_loc(key)\n\u001B[0;32m   4103\u001B[0m \u001B[38;5;28;01mif\u001B[39;00m is_integer(indexer):\n\u001B[0;32m   4104\u001B[0m     indexer \u001B[38;5;241m=\u001B[39m [indexer]\n",
      "File \u001B[1;32m~\\miniconda3\\envs\\IFN509\\Lib\\site-packages\\pandas\\core\\indexes\\base.py:3812\u001B[0m, in \u001B[0;36mIndex.get_loc\u001B[1;34m(self, key)\u001B[0m\n\u001B[0;32m   3807\u001B[0m     \u001B[38;5;28;01mif\u001B[39;00m \u001B[38;5;28misinstance\u001B[39m(casted_key, \u001B[38;5;28mslice\u001B[39m) \u001B[38;5;129;01mor\u001B[39;00m (\n\u001B[0;32m   3808\u001B[0m         \u001B[38;5;28misinstance\u001B[39m(casted_key, abc\u001B[38;5;241m.\u001B[39mIterable)\n\u001B[0;32m   3809\u001B[0m         \u001B[38;5;129;01mand\u001B[39;00m \u001B[38;5;28many\u001B[39m(\u001B[38;5;28misinstance\u001B[39m(x, \u001B[38;5;28mslice\u001B[39m) \u001B[38;5;28;01mfor\u001B[39;00m x \u001B[38;5;129;01min\u001B[39;00m casted_key)\n\u001B[0;32m   3810\u001B[0m     ):\n\u001B[0;32m   3811\u001B[0m         \u001B[38;5;28;01mraise\u001B[39;00m InvalidIndexError(key)\n\u001B[1;32m-> 3812\u001B[0m     \u001B[38;5;28;01mraise\u001B[39;00m \u001B[38;5;167;01mKeyError\u001B[39;00m(key) \u001B[38;5;28;01mfrom\u001B[39;00m \u001B[38;5;21;01merr\u001B[39;00m\n\u001B[0;32m   3813\u001B[0m \u001B[38;5;28;01mexcept\u001B[39;00m \u001B[38;5;167;01mTypeError\u001B[39;00m:\n\u001B[0;32m   3814\u001B[0m     \u001B[38;5;66;03m# If we have a listlike key, _check_indexing_error will raise\u001B[39;00m\n\u001B[0;32m   3815\u001B[0m     \u001B[38;5;66;03m#  InvalidIndexError. Otherwise we fall through and re-raise\u001B[39;00m\n\u001B[0;32m   3816\u001B[0m     \u001B[38;5;66;03m#  the TypeError.\u001B[39;00m\n\u001B[0;32m   3817\u001B[0m     \u001B[38;5;28mself\u001B[39m\u001B[38;5;241m.\u001B[39m_check_indexing_error(key)\n",
      "\u001B[1;31mKeyError\u001B[0m: 'diag_1_icd'"
     ]
    }
   ],
   "execution_count": 214
  },
  {
   "cell_type": "markdown",
   "id": "1fd9ee342a15a52f",
   "metadata": {},
   "source": [
    "#### Missing values in the admission_type_id, discharge_disposition_id, and admission_source_id columns\n",
    "\n",
    "The same process was applied to the admission_type_id, discharge_disposition_id, and admission_source_id columns. The variables were transformed to reduce the number of categories and therefore limit the number of features created during one-hot encoding. These variables had a broder range of missing or unknown values that need to be recoded.\n",
    "\n"
   ]
  },
  {
   "cell_type": "markdown",
   "id": "b0a988bc2f788d0b",
   "metadata": {},
   "source": [
    "The admission_type_id were condensed to fewer categories as follows:\n",
    "- Emergency, urgent, and trauma center can be combined into the Emergency category based on their acuity\n",
    "- Not Available, NULL, and Not Mapped can be combined into the Not available category based on the lack of mapping, or unavailability\n",
    "- Newborn can be left as a separate category\n",
    "\n",
    "The discharge_disposition_id can be condensed to four distinct categories as the cover discharged home, transferred for additional care, deceased, or unknown.\n",
    "- Discharged to home can be categorised as 'Discharged home'\n",
    "- Discharged/transferred to another short term hospital, SNF, ICF etc can be categorised as 'Ongong care'. This is because they are all forms of additional care in this or other facility.\n",
    "- Any variable with Expired will be recoded to 'Deceased'\n",
    "- All Not mapped, NULL, Unknown will be recoded to 'Unknown'\n",
    "\n",
    "The admission_source_id can be condensed to fewer categories as follows:\n",
    "- Referral\n",
    "- Transfer\n",
    "- Emergency\n",
    "- Not Available\n",
    "\n",
    "On inspection of the variables, there were a small number that were related to childbirth/newborns and some that were court order. Given the small number (less than 10) these were considered as a referral.\n",
    "\n"
   ]
  },
  {
   "cell_type": "markdown",
   "id": "1cc3d9e16a143ba2",
   "metadata": {},
   "source": [
    "Use `numpy.select()` again to assign values to ids using conditions and choices "
   ]
  },
  {
   "cell_type": "code",
   "id": "c3630b1821c2a9ea",
   "metadata": {
    "ExecuteTime": {
     "end_time": "2024-10-15T01:19:38.888883Z",
     "start_time": "2024-10-15T01:19:38.880601Z"
    }
   },
   "source": [
    "# Set conditions based on admission_type_id\n",
    "conditions = [\n",
    "    d1['admission_type_id'].isin([1, 2, 7]),\n",
    "    d1['admission_type_id'].isin([3,4]),\n",
    "    d1['admission_type_id'].isin([5, 6, 8])\n",
    "]\n",
    "\n",
    "# Set the choices\n",
    "choices = [\n",
    "    'Emergency',\n",
    "    'Elective',\n",
    "    'Not Available'\n",
    "]\n",
    "d1['admission_type'] = np.select(conditions, choices, default='Not available')"
   ],
   "outputs": [],
   "execution_count": 215
  },
  {
   "cell_type": "code",
   "id": "cb8f7ba5c9ea10f7",
   "metadata": {
    "ExecuteTime": {
     "end_time": "2024-10-15T01:19:39.046583Z",
     "start_time": "2024-10-15T01:19:39.040184Z"
    }
   },
   "source": [
    "d1['admission_type'] = np.select(conditions, choices, default='Not available')"
   ],
   "outputs": [],
   "execution_count": 216
  },
  {
   "cell_type": "code",
   "id": "d36fcaea20968e58",
   "metadata": {
    "ExecuteTime": {
     "end_time": "2024-10-15T01:19:39.269769Z",
     "start_time": "2024-10-15T01:19:39.261198Z"
    }
   },
   "source": [
    "# Define conditions and choices\n",
    "conditions = [\n",
    "    d1['discharge_disposition_id'].isin([2, 3, 4, 5, 6, 8, 9, 10, 12, 13, 14, 15, 16, 17, 22, 23, 24, 27, 28, 29, 30]),\n",
    "    d1['discharge_disposition_id'].isin([1]),\n",
    "    d1['discharge_disposition_id'].isin([7, 18, 25, 26]),\n",
    "    d1['discharge_disposition_id'].isin([11, 19, 20, 21])\n",
    "]\n",
    "\n",
    "choices = [\n",
    "    'Additional care',\n",
    "    'Discharged home',\n",
    "    'Unknown',\n",
    "    'Deceased'\n",
    "]\n",
    "d1['discharge_disposition'] = np.select(conditions, choices, default='Unknown')\n",
    "\n"
   ],
   "outputs": [],
   "execution_count": 217
  },
  {
   "cell_type": "code",
   "id": "83e60dbb3a8755dc",
   "metadata": {
    "ExecuteTime": {
     "end_time": "2024-10-15T01:19:39.359037Z",
     "start_time": "2024-10-15T01:19:39.352893Z"
    }
   },
   "source": [
    "# Apply the conditions to create the new column\n",
    "d1['discharge_disposition'] = np.select(conditions, choices, default='Unknown')"
   ],
   "outputs": [],
   "execution_count": 218
  },
  {
   "cell_type": "code",
   "id": "2241db9befaf27af",
   "metadata": {
    "ExecuteTime": {
     "end_time": "2024-10-15T01:19:39.553786Z",
     "start_time": "2024-10-15T01:19:39.548319Z"
    }
   },
   "source": [
    "d1['discharge_disposition'].value_counts(dropna=False)"
   ],
   "outputs": [
    {
     "data": {
      "text/plain": [
       "discharge_disposition\n",
       "Discharged home    11867\n",
       "Additional care     7671\n",
       "Deceased             320\n",
       "Unknown              142\n",
       "Name: count, dtype: int64"
      ]
     },
     "execution_count": 219,
     "metadata": {},
     "output_type": "execute_result"
    }
   ],
   "execution_count": 219
  },
  {
   "cell_type": "code",
   "id": "5c347a65157da27c",
   "metadata": {
    "ExecuteTime": {
     "end_time": "2024-10-15T01:19:39.655141Z",
     "start_time": "2024-10-15T01:19:39.653063Z"
    }
   },
   "source": [],
   "outputs": [],
   "execution_count": 219
  },
  {
   "cell_type": "code",
   "id": "b85001c47fc1d5da",
   "metadata": {
    "ExecuteTime": {
     "end_time": "2024-10-15T01:19:39.841252Z",
     "start_time": "2024-10-15T01:19:39.836199Z"
    }
   },
   "source": [
    "# Define conditions and choices\n",
    "conditions = [\n",
    "    d1['admission_source_id'].isin([1, 2, 3]),\n",
    "    d1['admission_source_id'].isin([4, 5, 6, 10, 22, 25]),\n",
    "    d1['admission_source_id'].isin([7, 8]),\n",
    "    d1['admission_source_id'].isin([9, 15, 17, 20, 21])\n",
    "]\n",
    "\n",
    "choices = [\n",
    "    'Referral',\n",
    "    'Transfer',\n",
    "    'Emergency',\n",
    "    'Not Available'\n",
    "]"
   ],
   "outputs": [],
   "execution_count": 220
  },
  {
   "cell_type": "code",
   "id": "255b9ff98f12a4ee",
   "metadata": {
    "ExecuteTime": {
     "end_time": "2024-10-15T01:19:39.972497Z",
     "start_time": "2024-10-15T01:19:39.967103Z"
    }
   },
   "source": [
    "# Apply the conditions to create the new column\n",
    "d1['admission_source'] = np.select(conditions, choices, default='Not Available')"
   ],
   "outputs": [],
   "execution_count": 221
  },
  {
   "cell_type": "code",
   "id": "2aa2be6187db3f9c",
   "metadata": {
    "ExecuteTime": {
     "end_time": "2024-10-15T01:19:40.157235Z",
     "start_time": "2024-10-15T01:19:40.150236Z"
    }
   },
   "source": [
    "d1['admission_source'].value_counts(dropna=False).to_frame()"
   ],
   "outputs": [
    {
     "data": {
      "text/plain": [
       "                  count\n",
       "admission_source       \n",
       "Emergency         12986\n",
       "Referral           6261\n",
       "Transfer            473\n",
       "Not Available       280"
      ],
      "text/html": [
       "<div>\n",
       "<style scoped>\n",
       "    .dataframe tbody tr th:only-of-type {\n",
       "        vertical-align: middle;\n",
       "    }\n",
       "\n",
       "    .dataframe tbody tr th {\n",
       "        vertical-align: top;\n",
       "    }\n",
       "\n",
       "    .dataframe thead th {\n",
       "        text-align: right;\n",
       "    }\n",
       "</style>\n",
       "<table border=\"1\" class=\"dataframe\">\n",
       "  <thead>\n",
       "    <tr style=\"text-align: right;\">\n",
       "      <th></th>\n",
       "      <th>count</th>\n",
       "    </tr>\n",
       "    <tr>\n",
       "      <th>admission_source</th>\n",
       "      <th></th>\n",
       "    </tr>\n",
       "  </thead>\n",
       "  <tbody>\n",
       "    <tr>\n",
       "      <th>Emergency</th>\n",
       "      <td>12986</td>\n",
       "    </tr>\n",
       "    <tr>\n",
       "      <th>Referral</th>\n",
       "      <td>6261</td>\n",
       "    </tr>\n",
       "    <tr>\n",
       "      <th>Transfer</th>\n",
       "      <td>473</td>\n",
       "    </tr>\n",
       "    <tr>\n",
       "      <th>Not Available</th>\n",
       "      <td>280</td>\n",
       "    </tr>\n",
       "  </tbody>\n",
       "</table>\n",
       "</div>"
      ]
     },
     "execution_count": 222,
     "metadata": {},
     "output_type": "execute_result"
    }
   ],
   "execution_count": 222
  },
  {
   "cell_type": "markdown",
   "id": "7c60a97f5fcd54a7",
   "metadata": {},
   "source": [
    "#### Other missing values\n",
    "\n",
    " - max_glu_serum and A1Cresult were 91% and 85% missing repsectively. These will be dropped as they are unlikely to be useful in the analysis.\n",
    " - The single missing chlorpropamide value will be replaced with 'No' as it is the most common value in the column.\n",
    " \n",
    " - The other anomaly in the data was in the gender variable. There was one value that was 'Unknown/Invalid'. This will be replaced with 'Male' as it the model value in the column.\n",
    "\n"
   ]
  },
  {
   "cell_type": "markdown",
   "id": "e486045d20fe4665",
   "metadata": {},
   "source": [
    "### Task 3 - data preparation"
   ]
  },
  {
   "cell_type": "markdown",
   "id": "229254cdd7823235",
   "metadata": {},
   "source": []
  },
  {
   "cell_type": "markdown",
   "id": "15a8db466e86f7cd",
   "metadata": {},
   "source": []
  },
  {
   "cell_type": "code",
   "id": "b8310635ebcc46e8",
   "metadata": {
    "ExecuteTime": {
     "end_time": "2024-10-15T01:19:40.246103Z",
     "start_time": "2024-10-15T01:19:40.243826Z"
    }
   },
   "source": [],
   "outputs": [],
   "execution_count": 222
  },
  {
   "cell_type": "code",
   "id": "b2e366f938dd12d3",
   "metadata": {
    "ExecuteTime": {
     "end_time": "2024-10-15T01:19:40.446617Z",
     "start_time": "2024-10-15T01:19:40.441110Z"
    }
   },
   "source": [
    "d1['chlorpropamide'] = d1['chlorpropamide'].replace('?', 'No')"
   ],
   "outputs": [],
   "execution_count": 223
  },
  {
   "cell_type": "code",
   "id": "a8758b3a5e61497b",
   "metadata": {
    "ExecuteTime": {
     "end_time": "2024-10-15T01:19:40.652753Z",
     "start_time": "2024-10-15T01:19:40.647634Z"
    }
   },
   "source": [
    "d1['gender'] = d1['gender'].replace('Unknown/Invalid', 'Female')"
   ],
   "outputs": [],
   "execution_count": 224
  },
  {
   "cell_type": "code",
   "id": "8ab48e7cbba4ec73",
   "metadata": {
    "ExecuteTime": {
     "end_time": "2024-10-15T01:19:40.920485Z",
     "start_time": "2024-10-15T01:19:40.914208Z"
    }
   },
   "source": [
    "d1.number_inpatient.value_counts(dropna=False)"
   ],
   "outputs": [
    {
     "data": {
      "text/plain": [
       "number_inpatient\n",
       "0     12825\n",
       "1      3979\n",
       "2      1627\n",
       "3       759\n",
       "4       338\n",
       "5       185\n",
       "6       102\n",
       "7        65\n",
       "8        40\n",
       "9        28\n",
       "11       18\n",
       "10       16\n",
       "12       10\n",
       "14        2\n",
       "15        2\n",
       "13        2\n",
       "19        1\n",
       "16        1\n",
       "Name: count, dtype: Int64"
      ]
     },
     "execution_count": 225,
     "metadata": {},
     "output_type": "execute_result"
    }
   ],
   "execution_count": 225
  },
  {
   "cell_type": "code",
   "id": "10db850cee4d6163",
   "metadata": {
    "ExecuteTime": {
     "end_time": "2024-10-15T01:19:41.042373Z",
     "start_time": "2024-10-15T01:19:41.036505Z"
    }
   },
   "source": [
    "d1['metformin'].value_counts(dropna=False)"
   ],
   "outputs": [
    {
     "data": {
      "text/plain": [
       "metformin\n",
       "No        15759\n",
       "Steady     3943\n",
       "Up          196\n",
       "Down        102\n",
       "Name: count, dtype: Int64"
      ]
     },
     "execution_count": 226,
     "metadata": {},
     "output_type": "execute_result"
    }
   ],
   "execution_count": 226
  },
  {
   "cell_type": "markdown",
   "id": "b047521b8f199ec4",
   "metadata": {},
   "source": [
    "### Change binary categorical variables to numeric\n",
    "\n",
    "The binary categorical variables, 'change' and 'diabetesMed', 'gender', 'readmitted', 'diabetes', 'single_day_admission' were converted to numeric variables by mapping 'No' to 0 and 'Ch' to 1. This will allow the variables to be used in the analysis and modelling stages.\n",
    " "
   ]
  },
  {
   "cell_type": "code",
   "id": "c02891eef299686a",
   "metadata": {
    "ExecuteTime": {
     "end_time": "2024-10-15T01:19:41.207583Z",
     "start_time": "2024-10-15T01:19:41.203484Z"
    }
   },
   "source": [
    "# convert change to 1 and 0\n",
    "d1['change'] = d1['change'].map({'No': 0, 'Ch': 1})"
   ],
   "outputs": [],
   "execution_count": 227
  },
  {
   "cell_type": "code",
   "id": "59b78f1a6ad32b03",
   "metadata": {
    "ExecuteTime": {
     "end_time": "2024-10-15T01:19:41.371871Z",
     "start_time": "2024-10-15T01:19:41.366177Z"
    }
   },
   "source": [
    "# convert diabetesMed to 1 and 0\n",
    "d1['diabetesMed'] = d1['diabetesMed'].map({'No': 0, 'Yes': 1})"
   ],
   "outputs": [],
   "execution_count": 228
  },
  {
   "cell_type": "code",
   "id": "a0b3c8a51333205",
   "metadata": {
    "ExecuteTime": {
     "end_time": "2024-10-15T01:19:41.573102Z",
     "start_time": "2024-10-15T01:19:41.568327Z"
    }
   },
   "source": [
    "# convert gender to 1 for female and 0 for male\n",
    "d1['gender'] = d1['gender'].map({'Male': 0, 'Female': 1})"
   ],
   "outputs": [],
   "execution_count": 229
  },
  {
   "cell_type": "code",
   "id": "b30492b46d55a252",
   "metadata": {
    "ExecuteTime": {
     "end_time": "2024-10-15T01:19:41.675112Z",
     "start_time": "2024-10-15T01:19:41.668646Z"
    }
   },
   "source": [
    "# Convert readmitted to binary, 0 for NO else 1\n",
    "d1['readmitted'] = d1['readmitted'].map({'NO': 0, '>30': 1, '<30': 1})"
   ],
   "outputs": [],
   "execution_count": 230
  },
  {
   "cell_type": "code",
   "id": "ded8e0a5c43d1e46",
   "metadata": {
    "ExecuteTime": {
     "end_time": "2024-10-15T01:19:41.892345Z",
     "start_time": "2024-10-15T01:19:41.844854Z"
    }
   },
   "source": [
    "d1['diabetes'] = d1['diabetes'].map({'No': 0, 'Yes': 1})"
   ],
   "outputs": [
    {
     "ename": "KeyError",
     "evalue": "'diabetes'",
     "output_type": "error",
     "traceback": [
      "\u001B[1;31m---------------------------------------------------------------------------\u001B[0m",
      "\u001B[1;31mKeyError\u001B[0m                                  Traceback (most recent call last)",
      "File \u001B[1;32m~\\miniconda3\\envs\\IFN509\\Lib\\site-packages\\pandas\\core\\indexes\\base.py:3805\u001B[0m, in \u001B[0;36mIndex.get_loc\u001B[1;34m(self, key)\u001B[0m\n\u001B[0;32m   3804\u001B[0m \u001B[38;5;28;01mtry\u001B[39;00m:\n\u001B[1;32m-> 3805\u001B[0m     \u001B[38;5;28;01mreturn\u001B[39;00m \u001B[38;5;28mself\u001B[39m\u001B[38;5;241m.\u001B[39m_engine\u001B[38;5;241m.\u001B[39mget_loc(casted_key)\n\u001B[0;32m   3806\u001B[0m \u001B[38;5;28;01mexcept\u001B[39;00m \u001B[38;5;167;01mKeyError\u001B[39;00m \u001B[38;5;28;01mas\u001B[39;00m err:\n",
      "File \u001B[1;32mindex.pyx:167\u001B[0m, in \u001B[0;36mpandas._libs.index.IndexEngine.get_loc\u001B[1;34m()\u001B[0m\n",
      "File \u001B[1;32mindex.pyx:196\u001B[0m, in \u001B[0;36mpandas._libs.index.IndexEngine.get_loc\u001B[1;34m()\u001B[0m\n",
      "File \u001B[1;32mpandas\\\\_libs\\\\hashtable_class_helper.pxi:7081\u001B[0m, in \u001B[0;36mpandas._libs.hashtable.PyObjectHashTable.get_item\u001B[1;34m()\u001B[0m\n",
      "File \u001B[1;32mpandas\\\\_libs\\\\hashtable_class_helper.pxi:7089\u001B[0m, in \u001B[0;36mpandas._libs.hashtable.PyObjectHashTable.get_item\u001B[1;34m()\u001B[0m\n",
      "\u001B[1;31mKeyError\u001B[0m: 'diabetes'",
      "\nThe above exception was the direct cause of the following exception:\n",
      "\u001B[1;31mKeyError\u001B[0m                                  Traceback (most recent call last)",
      "Cell \u001B[1;32mIn[231], line 1\u001B[0m\n\u001B[1;32m----> 1\u001B[0m d1[\u001B[38;5;124m'\u001B[39m\u001B[38;5;124mdiabetes\u001B[39m\u001B[38;5;124m'\u001B[39m] \u001B[38;5;241m=\u001B[39m d1[\u001B[38;5;124m'\u001B[39m\u001B[38;5;124mdiabetes\u001B[39m\u001B[38;5;124m'\u001B[39m]\u001B[38;5;241m.\u001B[39mmap({\u001B[38;5;124m'\u001B[39m\u001B[38;5;124mNo\u001B[39m\u001B[38;5;124m'\u001B[39m: \u001B[38;5;241m0\u001B[39m, \u001B[38;5;124m'\u001B[39m\u001B[38;5;124mYes\u001B[39m\u001B[38;5;124m'\u001B[39m: \u001B[38;5;241m1\u001B[39m})\n",
      "File \u001B[1;32m~\\miniconda3\\envs\\IFN509\\Lib\\site-packages\\pandas\\core\\frame.py:4102\u001B[0m, in \u001B[0;36mDataFrame.__getitem__\u001B[1;34m(self, key)\u001B[0m\n\u001B[0;32m   4100\u001B[0m \u001B[38;5;28;01mif\u001B[39;00m \u001B[38;5;28mself\u001B[39m\u001B[38;5;241m.\u001B[39mcolumns\u001B[38;5;241m.\u001B[39mnlevels \u001B[38;5;241m>\u001B[39m \u001B[38;5;241m1\u001B[39m:\n\u001B[0;32m   4101\u001B[0m     \u001B[38;5;28;01mreturn\u001B[39;00m \u001B[38;5;28mself\u001B[39m\u001B[38;5;241m.\u001B[39m_getitem_multilevel(key)\n\u001B[1;32m-> 4102\u001B[0m indexer \u001B[38;5;241m=\u001B[39m \u001B[38;5;28mself\u001B[39m\u001B[38;5;241m.\u001B[39mcolumns\u001B[38;5;241m.\u001B[39mget_loc(key)\n\u001B[0;32m   4103\u001B[0m \u001B[38;5;28;01mif\u001B[39;00m is_integer(indexer):\n\u001B[0;32m   4104\u001B[0m     indexer \u001B[38;5;241m=\u001B[39m [indexer]\n",
      "File \u001B[1;32m~\\miniconda3\\envs\\IFN509\\Lib\\site-packages\\pandas\\core\\indexes\\base.py:3812\u001B[0m, in \u001B[0;36mIndex.get_loc\u001B[1;34m(self, key)\u001B[0m\n\u001B[0;32m   3807\u001B[0m     \u001B[38;5;28;01mif\u001B[39;00m \u001B[38;5;28misinstance\u001B[39m(casted_key, \u001B[38;5;28mslice\u001B[39m) \u001B[38;5;129;01mor\u001B[39;00m (\n\u001B[0;32m   3808\u001B[0m         \u001B[38;5;28misinstance\u001B[39m(casted_key, abc\u001B[38;5;241m.\u001B[39mIterable)\n\u001B[0;32m   3809\u001B[0m         \u001B[38;5;129;01mand\u001B[39;00m \u001B[38;5;28many\u001B[39m(\u001B[38;5;28misinstance\u001B[39m(x, \u001B[38;5;28mslice\u001B[39m) \u001B[38;5;28;01mfor\u001B[39;00m x \u001B[38;5;129;01min\u001B[39;00m casted_key)\n\u001B[0;32m   3810\u001B[0m     ):\n\u001B[0;32m   3811\u001B[0m         \u001B[38;5;28;01mraise\u001B[39;00m InvalidIndexError(key)\n\u001B[1;32m-> 3812\u001B[0m     \u001B[38;5;28;01mraise\u001B[39;00m \u001B[38;5;167;01mKeyError\u001B[39;00m(key) \u001B[38;5;28;01mfrom\u001B[39;00m \u001B[38;5;21;01merr\u001B[39;00m\n\u001B[0;32m   3813\u001B[0m \u001B[38;5;28;01mexcept\u001B[39;00m \u001B[38;5;167;01mTypeError\u001B[39;00m:\n\u001B[0;32m   3814\u001B[0m     \u001B[38;5;66;03m# If we have a listlike key, _check_indexing_error will raise\u001B[39;00m\n\u001B[0;32m   3815\u001B[0m     \u001B[38;5;66;03m#  InvalidIndexError. Otherwise we fall through and re-raise\u001B[39;00m\n\u001B[0;32m   3816\u001B[0m     \u001B[38;5;66;03m#  the TypeError.\u001B[39;00m\n\u001B[0;32m   3817\u001B[0m     \u001B[38;5;28mself\u001B[39m\u001B[38;5;241m.\u001B[39m_check_indexing_error(key)\n",
      "\u001B[1;31mKeyError\u001B[0m: 'diabetes'"
     ]
    }
   ],
   "execution_count": 231
  },
  {
   "cell_type": "code",
   "id": "451a4825bb9b4ef0",
   "metadata": {
    "ExecuteTime": {
     "end_time": "2024-10-15T01:19:42.006733Z",
     "start_time": "2024-10-15T01:19:41.960893Z"
    }
   },
   "source": [
    "d1['single_day_admission'] = d1['single_day_admission'].map({'No': 0, 'Yes': 1})"
   ],
   "outputs": [
    {
     "ename": "KeyError",
     "evalue": "'single_day_admission'",
     "output_type": "error",
     "traceback": [
      "\u001B[1;31m---------------------------------------------------------------------------\u001B[0m",
      "\u001B[1;31mKeyError\u001B[0m                                  Traceback (most recent call last)",
      "File \u001B[1;32m~\\miniconda3\\envs\\IFN509\\Lib\\site-packages\\pandas\\core\\indexes\\base.py:3805\u001B[0m, in \u001B[0;36mIndex.get_loc\u001B[1;34m(self, key)\u001B[0m\n\u001B[0;32m   3804\u001B[0m \u001B[38;5;28;01mtry\u001B[39;00m:\n\u001B[1;32m-> 3805\u001B[0m     \u001B[38;5;28;01mreturn\u001B[39;00m \u001B[38;5;28mself\u001B[39m\u001B[38;5;241m.\u001B[39m_engine\u001B[38;5;241m.\u001B[39mget_loc(casted_key)\n\u001B[0;32m   3806\u001B[0m \u001B[38;5;28;01mexcept\u001B[39;00m \u001B[38;5;167;01mKeyError\u001B[39;00m \u001B[38;5;28;01mas\u001B[39;00m err:\n",
      "File \u001B[1;32mindex.pyx:167\u001B[0m, in \u001B[0;36mpandas._libs.index.IndexEngine.get_loc\u001B[1;34m()\u001B[0m\n",
      "File \u001B[1;32mindex.pyx:196\u001B[0m, in \u001B[0;36mpandas._libs.index.IndexEngine.get_loc\u001B[1;34m()\u001B[0m\n",
      "File \u001B[1;32mpandas\\\\_libs\\\\hashtable_class_helper.pxi:7081\u001B[0m, in \u001B[0;36mpandas._libs.hashtable.PyObjectHashTable.get_item\u001B[1;34m()\u001B[0m\n",
      "File \u001B[1;32mpandas\\\\_libs\\\\hashtable_class_helper.pxi:7089\u001B[0m, in \u001B[0;36mpandas._libs.hashtable.PyObjectHashTable.get_item\u001B[1;34m()\u001B[0m\n",
      "\u001B[1;31mKeyError\u001B[0m: 'single_day_admission'",
      "\nThe above exception was the direct cause of the following exception:\n",
      "\u001B[1;31mKeyError\u001B[0m                                  Traceback (most recent call last)",
      "Cell \u001B[1;32mIn[232], line 1\u001B[0m\n\u001B[1;32m----> 1\u001B[0m d1[\u001B[38;5;124m'\u001B[39m\u001B[38;5;124msingle_day_admission\u001B[39m\u001B[38;5;124m'\u001B[39m] \u001B[38;5;241m=\u001B[39m d1[\u001B[38;5;124m'\u001B[39m\u001B[38;5;124msingle_day_admission\u001B[39m\u001B[38;5;124m'\u001B[39m]\u001B[38;5;241m.\u001B[39mmap({\u001B[38;5;124m'\u001B[39m\u001B[38;5;124mNo\u001B[39m\u001B[38;5;124m'\u001B[39m: \u001B[38;5;241m0\u001B[39m, \u001B[38;5;124m'\u001B[39m\u001B[38;5;124mYes\u001B[39m\u001B[38;5;124m'\u001B[39m: \u001B[38;5;241m1\u001B[39m})\n",
      "File \u001B[1;32m~\\miniconda3\\envs\\IFN509\\Lib\\site-packages\\pandas\\core\\frame.py:4102\u001B[0m, in \u001B[0;36mDataFrame.__getitem__\u001B[1;34m(self, key)\u001B[0m\n\u001B[0;32m   4100\u001B[0m \u001B[38;5;28;01mif\u001B[39;00m \u001B[38;5;28mself\u001B[39m\u001B[38;5;241m.\u001B[39mcolumns\u001B[38;5;241m.\u001B[39mnlevels \u001B[38;5;241m>\u001B[39m \u001B[38;5;241m1\u001B[39m:\n\u001B[0;32m   4101\u001B[0m     \u001B[38;5;28;01mreturn\u001B[39;00m \u001B[38;5;28mself\u001B[39m\u001B[38;5;241m.\u001B[39m_getitem_multilevel(key)\n\u001B[1;32m-> 4102\u001B[0m indexer \u001B[38;5;241m=\u001B[39m \u001B[38;5;28mself\u001B[39m\u001B[38;5;241m.\u001B[39mcolumns\u001B[38;5;241m.\u001B[39mget_loc(key)\n\u001B[0;32m   4103\u001B[0m \u001B[38;5;28;01mif\u001B[39;00m is_integer(indexer):\n\u001B[0;32m   4104\u001B[0m     indexer \u001B[38;5;241m=\u001B[39m [indexer]\n",
      "File \u001B[1;32m~\\miniconda3\\envs\\IFN509\\Lib\\site-packages\\pandas\\core\\indexes\\base.py:3812\u001B[0m, in \u001B[0;36mIndex.get_loc\u001B[1;34m(self, key)\u001B[0m\n\u001B[0;32m   3807\u001B[0m     \u001B[38;5;28;01mif\u001B[39;00m \u001B[38;5;28misinstance\u001B[39m(casted_key, \u001B[38;5;28mslice\u001B[39m) \u001B[38;5;129;01mor\u001B[39;00m (\n\u001B[0;32m   3808\u001B[0m         \u001B[38;5;28misinstance\u001B[39m(casted_key, abc\u001B[38;5;241m.\u001B[39mIterable)\n\u001B[0;32m   3809\u001B[0m         \u001B[38;5;129;01mand\u001B[39;00m \u001B[38;5;28many\u001B[39m(\u001B[38;5;28misinstance\u001B[39m(x, \u001B[38;5;28mslice\u001B[39m) \u001B[38;5;28;01mfor\u001B[39;00m x \u001B[38;5;129;01min\u001B[39;00m casted_key)\n\u001B[0;32m   3810\u001B[0m     ):\n\u001B[0;32m   3811\u001B[0m         \u001B[38;5;28;01mraise\u001B[39;00m InvalidIndexError(key)\n\u001B[1;32m-> 3812\u001B[0m     \u001B[38;5;28;01mraise\u001B[39;00m \u001B[38;5;167;01mKeyError\u001B[39;00m(key) \u001B[38;5;28;01mfrom\u001B[39;00m \u001B[38;5;21;01merr\u001B[39;00m\n\u001B[0;32m   3813\u001B[0m \u001B[38;5;28;01mexcept\u001B[39;00m \u001B[38;5;167;01mTypeError\u001B[39;00m:\n\u001B[0;32m   3814\u001B[0m     \u001B[38;5;66;03m# If we have a listlike key, _check_indexing_error will raise\u001B[39;00m\n\u001B[0;32m   3815\u001B[0m     \u001B[38;5;66;03m#  InvalidIndexError. Otherwise we fall through and re-raise\u001B[39;00m\n\u001B[0;32m   3816\u001B[0m     \u001B[38;5;66;03m#  the TypeError.\u001B[39;00m\n\u001B[0;32m   3817\u001B[0m     \u001B[38;5;28mself\u001B[39m\u001B[38;5;241m.\u001B[39m_check_indexing_error(key)\n",
      "\u001B[1;31mKeyError\u001B[0m: 'single_day_admission'"
     ]
    }
   ],
   "execution_count": 232
  },
  {
   "cell_type": "code",
   "id": "5e1360942451fe64",
   "metadata": {
    "ExecuteTime": {
     "end_time": "2024-10-15T01:19:42.195783Z",
     "start_time": "2024-10-15T01:19:42.158870Z"
    }
   },
   "source": [
    "d1"
   ],
   "outputs": [
    {
     "data": {
      "text/plain": [
       "                  race  gender      age  admission_type_id  \\\n",
       "0      AfricanAmerican       1  [80-90)                  1   \n",
       "1            Caucasian       1  [70-80)                  1   \n",
       "2            Caucasian       1  [50-60)                  3   \n",
       "3      AfricanAmerican       1  [50-60)                  1   \n",
       "4      AfricanAmerican       0  [80-90)                  1   \n",
       "...                ...     ...      ...                ...   \n",
       "19995  AfricanAmerican       0  [70-80)                  2   \n",
       "19996        Caucasian       0  [50-60)                  1   \n",
       "19997        Caucasian       0  [80-90)                  1   \n",
       "19998         Hispanic       0  [50-60)                  1   \n",
       "19999        Caucasian       1  [80-90)                  2   \n",
       "\n",
       "       discharge_disposition_id  admission_source_id  time_in_hospital  \\\n",
       "0                             3                    7                 1   \n",
       "1                             3                    5                 3   \n",
       "2                             1                    1                 3   \n",
       "3                             1                    7                 6   \n",
       "4                             3                    7                 4   \n",
       "...                         ...                  ...               ...   \n",
       "19995                         1                    1                 4   \n",
       "19996                         3                    7                 9   \n",
       "19997                         6                    7                 3   \n",
       "19998                         6                    7                 3   \n",
       "19999                         1                    1                 8   \n",
       "\n",
       "       medical_specialty  num_lab_procedures  num_procedures  ...  glipizide  \\\n",
       "0                  Other                  33               0  ...         No   \n",
       "1                  Other                  48               2  ...         No   \n",
       "2             Orthopedic                  25               1  ...         No   \n",
       "3                  Other                  41               0  ...         No   \n",
       "4                  Other                  22               0  ...         No   \n",
       "...                  ...                 ...             ...  ...        ...   \n",
       "19995           Oncology                  51               0  ...         No   \n",
       "19996              Other                  57               2  ...         No   \n",
       "19997              Other                  41               0  ...         No   \n",
       "19998  Internal Medicine                  49               0  ...         No   \n",
       "19999              Other                  54               5  ...         No   \n",
       "\n",
       "       glyburide  tolbutamide  insulin  change diabetesMed readmitted  \\\n",
       "0             No           No   Steady     NaN         NaN        NaN   \n",
       "1             No           No   Steady     NaN         NaN        NaN   \n",
       "2             No           No   Steady     NaN         NaN        NaN   \n",
       "3             No           No   Steady     NaN         NaN        NaN   \n",
       "4             No           No   Steady     NaN         NaN        NaN   \n",
       "...          ...          ...      ...     ...         ...        ...   \n",
       "19995     Steady           No   Steady     NaN         NaN        NaN   \n",
       "19996         No           No       No     NaN         NaN        NaN   \n",
       "19997         No           No   Steady     NaN         NaN        NaN   \n",
       "19998         No           No   Steady     NaN         NaN        NaN   \n",
       "19999         No           No       No     NaN         NaN        NaN   \n",
       "\n",
       "      admission_type discharge_disposition admission_source  \n",
       "0          Emergency       Additional care        Emergency  \n",
       "1          Emergency       Additional care         Transfer  \n",
       "2           Elective       Discharged home         Referral  \n",
       "3          Emergency       Discharged home        Emergency  \n",
       "4          Emergency       Additional care        Emergency  \n",
       "...              ...                   ...              ...  \n",
       "19995      Emergency       Discharged home         Referral  \n",
       "19996      Emergency       Additional care        Emergency  \n",
       "19997      Emergency       Additional care        Emergency  \n",
       "19998      Emergency       Additional care        Emergency  \n",
       "19999      Emergency       Discharged home         Referral  \n",
       "\n",
       "[20000 rows x 33 columns]"
      ],
      "text/html": [
       "<div>\n",
       "<style scoped>\n",
       "    .dataframe tbody tr th:only-of-type {\n",
       "        vertical-align: middle;\n",
       "    }\n",
       "\n",
       "    .dataframe tbody tr th {\n",
       "        vertical-align: top;\n",
       "    }\n",
       "\n",
       "    .dataframe thead th {\n",
       "        text-align: right;\n",
       "    }\n",
       "</style>\n",
       "<table border=\"1\" class=\"dataframe\">\n",
       "  <thead>\n",
       "    <tr style=\"text-align: right;\">\n",
       "      <th></th>\n",
       "      <th>race</th>\n",
       "      <th>gender</th>\n",
       "      <th>age</th>\n",
       "      <th>admission_type_id</th>\n",
       "      <th>discharge_disposition_id</th>\n",
       "      <th>admission_source_id</th>\n",
       "      <th>time_in_hospital</th>\n",
       "      <th>medical_specialty</th>\n",
       "      <th>num_lab_procedures</th>\n",
       "      <th>num_procedures</th>\n",
       "      <th>...</th>\n",
       "      <th>glipizide</th>\n",
       "      <th>glyburide</th>\n",
       "      <th>tolbutamide</th>\n",
       "      <th>insulin</th>\n",
       "      <th>change</th>\n",
       "      <th>diabetesMed</th>\n",
       "      <th>readmitted</th>\n",
       "      <th>admission_type</th>\n",
       "      <th>discharge_disposition</th>\n",
       "      <th>admission_source</th>\n",
       "    </tr>\n",
       "  </thead>\n",
       "  <tbody>\n",
       "    <tr>\n",
       "      <th>0</th>\n",
       "      <td>AfricanAmerican</td>\n",
       "      <td>1</td>\n",
       "      <td>[80-90)</td>\n",
       "      <td>1</td>\n",
       "      <td>3</td>\n",
       "      <td>7</td>\n",
       "      <td>1</td>\n",
       "      <td>Other</td>\n",
       "      <td>33</td>\n",
       "      <td>0</td>\n",
       "      <td>...</td>\n",
       "      <td>No</td>\n",
       "      <td>No</td>\n",
       "      <td>No</td>\n",
       "      <td>Steady</td>\n",
       "      <td>NaN</td>\n",
       "      <td>NaN</td>\n",
       "      <td>NaN</td>\n",
       "      <td>Emergency</td>\n",
       "      <td>Additional care</td>\n",
       "      <td>Emergency</td>\n",
       "    </tr>\n",
       "    <tr>\n",
       "      <th>1</th>\n",
       "      <td>Caucasian</td>\n",
       "      <td>1</td>\n",
       "      <td>[70-80)</td>\n",
       "      <td>1</td>\n",
       "      <td>3</td>\n",
       "      <td>5</td>\n",
       "      <td>3</td>\n",
       "      <td>Other</td>\n",
       "      <td>48</td>\n",
       "      <td>2</td>\n",
       "      <td>...</td>\n",
       "      <td>No</td>\n",
       "      <td>No</td>\n",
       "      <td>No</td>\n",
       "      <td>Steady</td>\n",
       "      <td>NaN</td>\n",
       "      <td>NaN</td>\n",
       "      <td>NaN</td>\n",
       "      <td>Emergency</td>\n",
       "      <td>Additional care</td>\n",
       "      <td>Transfer</td>\n",
       "    </tr>\n",
       "    <tr>\n",
       "      <th>2</th>\n",
       "      <td>Caucasian</td>\n",
       "      <td>1</td>\n",
       "      <td>[50-60)</td>\n",
       "      <td>3</td>\n",
       "      <td>1</td>\n",
       "      <td>1</td>\n",
       "      <td>3</td>\n",
       "      <td>Orthopedic</td>\n",
       "      <td>25</td>\n",
       "      <td>1</td>\n",
       "      <td>...</td>\n",
       "      <td>No</td>\n",
       "      <td>No</td>\n",
       "      <td>No</td>\n",
       "      <td>Steady</td>\n",
       "      <td>NaN</td>\n",
       "      <td>NaN</td>\n",
       "      <td>NaN</td>\n",
       "      <td>Elective</td>\n",
       "      <td>Discharged home</td>\n",
       "      <td>Referral</td>\n",
       "    </tr>\n",
       "    <tr>\n",
       "      <th>3</th>\n",
       "      <td>AfricanAmerican</td>\n",
       "      <td>1</td>\n",
       "      <td>[50-60)</td>\n",
       "      <td>1</td>\n",
       "      <td>1</td>\n",
       "      <td>7</td>\n",
       "      <td>6</td>\n",
       "      <td>Other</td>\n",
       "      <td>41</td>\n",
       "      <td>0</td>\n",
       "      <td>...</td>\n",
       "      <td>No</td>\n",
       "      <td>No</td>\n",
       "      <td>No</td>\n",
       "      <td>Steady</td>\n",
       "      <td>NaN</td>\n",
       "      <td>NaN</td>\n",
       "      <td>NaN</td>\n",
       "      <td>Emergency</td>\n",
       "      <td>Discharged home</td>\n",
       "      <td>Emergency</td>\n",
       "    </tr>\n",
       "    <tr>\n",
       "      <th>4</th>\n",
       "      <td>AfricanAmerican</td>\n",
       "      <td>0</td>\n",
       "      <td>[80-90)</td>\n",
       "      <td>1</td>\n",
       "      <td>3</td>\n",
       "      <td>7</td>\n",
       "      <td>4</td>\n",
       "      <td>Other</td>\n",
       "      <td>22</td>\n",
       "      <td>0</td>\n",
       "      <td>...</td>\n",
       "      <td>No</td>\n",
       "      <td>No</td>\n",
       "      <td>No</td>\n",
       "      <td>Steady</td>\n",
       "      <td>NaN</td>\n",
       "      <td>NaN</td>\n",
       "      <td>NaN</td>\n",
       "      <td>Emergency</td>\n",
       "      <td>Additional care</td>\n",
       "      <td>Emergency</td>\n",
       "    </tr>\n",
       "    <tr>\n",
       "      <th>...</th>\n",
       "      <td>...</td>\n",
       "      <td>...</td>\n",
       "      <td>...</td>\n",
       "      <td>...</td>\n",
       "      <td>...</td>\n",
       "      <td>...</td>\n",
       "      <td>...</td>\n",
       "      <td>...</td>\n",
       "      <td>...</td>\n",
       "      <td>...</td>\n",
       "      <td>...</td>\n",
       "      <td>...</td>\n",
       "      <td>...</td>\n",
       "      <td>...</td>\n",
       "      <td>...</td>\n",
       "      <td>...</td>\n",
       "      <td>...</td>\n",
       "      <td>...</td>\n",
       "      <td>...</td>\n",
       "      <td>...</td>\n",
       "      <td>...</td>\n",
       "    </tr>\n",
       "    <tr>\n",
       "      <th>19995</th>\n",
       "      <td>AfricanAmerican</td>\n",
       "      <td>0</td>\n",
       "      <td>[70-80)</td>\n",
       "      <td>2</td>\n",
       "      <td>1</td>\n",
       "      <td>1</td>\n",
       "      <td>4</td>\n",
       "      <td>Oncology</td>\n",
       "      <td>51</td>\n",
       "      <td>0</td>\n",
       "      <td>...</td>\n",
       "      <td>No</td>\n",
       "      <td>Steady</td>\n",
       "      <td>No</td>\n",
       "      <td>Steady</td>\n",
       "      <td>NaN</td>\n",
       "      <td>NaN</td>\n",
       "      <td>NaN</td>\n",
       "      <td>Emergency</td>\n",
       "      <td>Discharged home</td>\n",
       "      <td>Referral</td>\n",
       "    </tr>\n",
       "    <tr>\n",
       "      <th>19996</th>\n",
       "      <td>Caucasian</td>\n",
       "      <td>0</td>\n",
       "      <td>[50-60)</td>\n",
       "      <td>1</td>\n",
       "      <td>3</td>\n",
       "      <td>7</td>\n",
       "      <td>9</td>\n",
       "      <td>Other</td>\n",
       "      <td>57</td>\n",
       "      <td>2</td>\n",
       "      <td>...</td>\n",
       "      <td>No</td>\n",
       "      <td>No</td>\n",
       "      <td>No</td>\n",
       "      <td>No</td>\n",
       "      <td>NaN</td>\n",
       "      <td>NaN</td>\n",
       "      <td>NaN</td>\n",
       "      <td>Emergency</td>\n",
       "      <td>Additional care</td>\n",
       "      <td>Emergency</td>\n",
       "    </tr>\n",
       "    <tr>\n",
       "      <th>19997</th>\n",
       "      <td>Caucasian</td>\n",
       "      <td>0</td>\n",
       "      <td>[80-90)</td>\n",
       "      <td>1</td>\n",
       "      <td>6</td>\n",
       "      <td>7</td>\n",
       "      <td>3</td>\n",
       "      <td>Other</td>\n",
       "      <td>41</td>\n",
       "      <td>0</td>\n",
       "      <td>...</td>\n",
       "      <td>No</td>\n",
       "      <td>No</td>\n",
       "      <td>No</td>\n",
       "      <td>Steady</td>\n",
       "      <td>NaN</td>\n",
       "      <td>NaN</td>\n",
       "      <td>NaN</td>\n",
       "      <td>Emergency</td>\n",
       "      <td>Additional care</td>\n",
       "      <td>Emergency</td>\n",
       "    </tr>\n",
       "    <tr>\n",
       "      <th>19998</th>\n",
       "      <td>Hispanic</td>\n",
       "      <td>0</td>\n",
       "      <td>[50-60)</td>\n",
       "      <td>1</td>\n",
       "      <td>6</td>\n",
       "      <td>7</td>\n",
       "      <td>3</td>\n",
       "      <td>Internal Medicine</td>\n",
       "      <td>49</td>\n",
       "      <td>0</td>\n",
       "      <td>...</td>\n",
       "      <td>No</td>\n",
       "      <td>No</td>\n",
       "      <td>No</td>\n",
       "      <td>Steady</td>\n",
       "      <td>NaN</td>\n",
       "      <td>NaN</td>\n",
       "      <td>NaN</td>\n",
       "      <td>Emergency</td>\n",
       "      <td>Additional care</td>\n",
       "      <td>Emergency</td>\n",
       "    </tr>\n",
       "    <tr>\n",
       "      <th>19999</th>\n",
       "      <td>Caucasian</td>\n",
       "      <td>1</td>\n",
       "      <td>[80-90)</td>\n",
       "      <td>2</td>\n",
       "      <td>1</td>\n",
       "      <td>1</td>\n",
       "      <td>8</td>\n",
       "      <td>Other</td>\n",
       "      <td>54</td>\n",
       "      <td>5</td>\n",
       "      <td>...</td>\n",
       "      <td>No</td>\n",
       "      <td>No</td>\n",
       "      <td>No</td>\n",
       "      <td>No</td>\n",
       "      <td>NaN</td>\n",
       "      <td>NaN</td>\n",
       "      <td>NaN</td>\n",
       "      <td>Emergency</td>\n",
       "      <td>Discharged home</td>\n",
       "      <td>Referral</td>\n",
       "    </tr>\n",
       "  </tbody>\n",
       "</table>\n",
       "<p>20000 rows × 33 columns</p>\n",
       "</div>"
      ]
     },
     "execution_count": 233,
     "metadata": {},
     "output_type": "execute_result"
    }
   ],
   "execution_count": 233
  },
  {
   "cell_type": "markdown",
   "id": "e1564395ee04c1e0",
   "metadata": {},
   "source": [
    "#### Convert age variable to fewer levels\n",
    "\n",
    "The age vaiariable is binned into 10 discrete groups. This will be converted to 3 groups to reduce the number of features created during one-hot encoding. The groups will be reactored and converted to an integer representation as follows:\n",
    "- 0-30 representing children and younger adults, with 0 as the group\n",
    "- 30-60 representing adults to middle aged+, with 1 as the group\n",
    "- 60-100 representing older persons, with 2 as the group\n"
   ]
  },
  {
   "cell_type": "code",
   "id": "cbe0607b4202e7d8",
   "metadata": {
    "ExecuteTime": {
     "end_time": "2024-10-15T01:19:42.462493Z",
     "start_time": "2024-10-15T01:19:42.459073Z"
    }
   },
   "source": [
    "# function to convert age bins\n",
    "\n",
    "def convert_age_groups(age):\n",
    "    if age in ['[0-10)', '[10-20)', '[20-30)']:\n",
    "        return 0\n",
    "    elif age in ['[30-40)', '[40-50)', '[50-60)']:\n",
    "        return 1\n",
    "    else:\n",
    "        return 2\n"
   ],
   "outputs": [],
   "execution_count": 234
  },
  {
   "cell_type": "code",
   "id": "760ac3fe1647319d",
   "metadata": {
    "ExecuteTime": {
     "end_time": "2024-10-15T01:19:42.615022Z",
     "start_time": "2024-10-15T01:19:42.610562Z"
    }
   },
   "source": [
    "d1['age'] = d1['age'].apply(convert_age_groups)"
   ],
   "outputs": [],
   "execution_count": 235
  },
  {
   "cell_type": "code",
   "id": "d67f288cdc17844e",
   "metadata": {
    "ExecuteTime": {
     "end_time": "2024-10-15T01:19:42.860619Z",
     "start_time": "2024-10-15T01:19:42.853899Z"
    }
   },
   "source": [
    "d1['age'].value_counts(dropna=False).to_frame().sort_index()"
   ],
   "outputs": [
    {
     "data": {
      "text/plain": [
       "     count\n",
       "age       \n",
       "0      434\n",
       "1     5706\n",
       "2    13860"
      ],
      "text/html": [
       "<div>\n",
       "<style scoped>\n",
       "    .dataframe tbody tr th:only-of-type {\n",
       "        vertical-align: middle;\n",
       "    }\n",
       "\n",
       "    .dataframe tbody tr th {\n",
       "        vertical-align: top;\n",
       "    }\n",
       "\n",
       "    .dataframe thead th {\n",
       "        text-align: right;\n",
       "    }\n",
       "</style>\n",
       "<table border=\"1\" class=\"dataframe\">\n",
       "  <thead>\n",
       "    <tr style=\"text-align: right;\">\n",
       "      <th></th>\n",
       "      <th>count</th>\n",
       "    </tr>\n",
       "    <tr>\n",
       "      <th>age</th>\n",
       "      <th></th>\n",
       "    </tr>\n",
       "  </thead>\n",
       "  <tbody>\n",
       "    <tr>\n",
       "      <th>0</th>\n",
       "      <td>434</td>\n",
       "    </tr>\n",
       "    <tr>\n",
       "      <th>1</th>\n",
       "      <td>5706</td>\n",
       "    </tr>\n",
       "    <tr>\n",
       "      <th>2</th>\n",
       "      <td>13860</td>\n",
       "    </tr>\n",
       "  </tbody>\n",
       "</table>\n",
       "</div>"
      ]
     },
     "execution_count": 236,
     "metadata": {},
     "output_type": "execute_result"
    }
   ],
   "execution_count": 236
  },
  {
   "cell_type": "markdown",
   "id": "511481b6fe082f9c",
   "metadata": {},
   "source": [
    "#### The drug columns should be changed to numeric variables for future modelling."
   ]
  },
  {
   "cell_type": "code",
   "id": "807a3d45a5809518",
   "metadata": {
    "scrolled": true,
    "ExecuteTime": {
     "end_time": "2024-10-15T01:19:43.056206Z",
     "start_time": "2024-10-15T01:19:43.044013Z"
    }
   },
   "source": [
    "# select the drug columns only\n",
    "d1[['metformin', 'repaglinide', 'nateglinide', 'chlorpropamide', 'glimepiride', 'glipizide','glyburide','insulin']]"
   ],
   "outputs": [
    {
     "data": {
      "text/plain": [
       "      metformin repaglinide nateglinide chlorpropamide glimepiride glipizide  \\\n",
       "0            No          No          No             No          No        No   \n",
       "1            No          No          No             No          No        No   \n",
       "2            No          No          No             No          No        No   \n",
       "3            No          No          No             No          No        No   \n",
       "4            No          No          No             No          No        No   \n",
       "...         ...         ...         ...            ...         ...       ...   \n",
       "19995        No          No          No             No          No        No   \n",
       "19996        No          No          No             No          No        No   \n",
       "19997        No          No          No             No      Steady        No   \n",
       "19998        No          No          No             No          No        No   \n",
       "19999        No          No          No             No          No        No   \n",
       "\n",
       "      glyburide insulin  \n",
       "0            No  Steady  \n",
       "1            No  Steady  \n",
       "2            No  Steady  \n",
       "3            No  Steady  \n",
       "4            No  Steady  \n",
       "...         ...     ...  \n",
       "19995    Steady  Steady  \n",
       "19996        No      No  \n",
       "19997        No  Steady  \n",
       "19998        No  Steady  \n",
       "19999        No      No  \n",
       "\n",
       "[20000 rows x 8 columns]"
      ],
      "text/html": [
       "<div>\n",
       "<style scoped>\n",
       "    .dataframe tbody tr th:only-of-type {\n",
       "        vertical-align: middle;\n",
       "    }\n",
       "\n",
       "    .dataframe tbody tr th {\n",
       "        vertical-align: top;\n",
       "    }\n",
       "\n",
       "    .dataframe thead th {\n",
       "        text-align: right;\n",
       "    }\n",
       "</style>\n",
       "<table border=\"1\" class=\"dataframe\">\n",
       "  <thead>\n",
       "    <tr style=\"text-align: right;\">\n",
       "      <th></th>\n",
       "      <th>metformin</th>\n",
       "      <th>repaglinide</th>\n",
       "      <th>nateglinide</th>\n",
       "      <th>chlorpropamide</th>\n",
       "      <th>glimepiride</th>\n",
       "      <th>glipizide</th>\n",
       "      <th>glyburide</th>\n",
       "      <th>insulin</th>\n",
       "    </tr>\n",
       "  </thead>\n",
       "  <tbody>\n",
       "    <tr>\n",
       "      <th>0</th>\n",
       "      <td>No</td>\n",
       "      <td>No</td>\n",
       "      <td>No</td>\n",
       "      <td>No</td>\n",
       "      <td>No</td>\n",
       "      <td>No</td>\n",
       "      <td>No</td>\n",
       "      <td>Steady</td>\n",
       "    </tr>\n",
       "    <tr>\n",
       "      <th>1</th>\n",
       "      <td>No</td>\n",
       "      <td>No</td>\n",
       "      <td>No</td>\n",
       "      <td>No</td>\n",
       "      <td>No</td>\n",
       "      <td>No</td>\n",
       "      <td>No</td>\n",
       "      <td>Steady</td>\n",
       "    </tr>\n",
       "    <tr>\n",
       "      <th>2</th>\n",
       "      <td>No</td>\n",
       "      <td>No</td>\n",
       "      <td>No</td>\n",
       "      <td>No</td>\n",
       "      <td>No</td>\n",
       "      <td>No</td>\n",
       "      <td>No</td>\n",
       "      <td>Steady</td>\n",
       "    </tr>\n",
       "    <tr>\n",
       "      <th>3</th>\n",
       "      <td>No</td>\n",
       "      <td>No</td>\n",
       "      <td>No</td>\n",
       "      <td>No</td>\n",
       "      <td>No</td>\n",
       "      <td>No</td>\n",
       "      <td>No</td>\n",
       "      <td>Steady</td>\n",
       "    </tr>\n",
       "    <tr>\n",
       "      <th>4</th>\n",
       "      <td>No</td>\n",
       "      <td>No</td>\n",
       "      <td>No</td>\n",
       "      <td>No</td>\n",
       "      <td>No</td>\n",
       "      <td>No</td>\n",
       "      <td>No</td>\n",
       "      <td>Steady</td>\n",
       "    </tr>\n",
       "    <tr>\n",
       "      <th>...</th>\n",
       "      <td>...</td>\n",
       "      <td>...</td>\n",
       "      <td>...</td>\n",
       "      <td>...</td>\n",
       "      <td>...</td>\n",
       "      <td>...</td>\n",
       "      <td>...</td>\n",
       "      <td>...</td>\n",
       "    </tr>\n",
       "    <tr>\n",
       "      <th>19995</th>\n",
       "      <td>No</td>\n",
       "      <td>No</td>\n",
       "      <td>No</td>\n",
       "      <td>No</td>\n",
       "      <td>No</td>\n",
       "      <td>No</td>\n",
       "      <td>Steady</td>\n",
       "      <td>Steady</td>\n",
       "    </tr>\n",
       "    <tr>\n",
       "      <th>19996</th>\n",
       "      <td>No</td>\n",
       "      <td>No</td>\n",
       "      <td>No</td>\n",
       "      <td>No</td>\n",
       "      <td>No</td>\n",
       "      <td>No</td>\n",
       "      <td>No</td>\n",
       "      <td>No</td>\n",
       "    </tr>\n",
       "    <tr>\n",
       "      <th>19997</th>\n",
       "      <td>No</td>\n",
       "      <td>No</td>\n",
       "      <td>No</td>\n",
       "      <td>No</td>\n",
       "      <td>Steady</td>\n",
       "      <td>No</td>\n",
       "      <td>No</td>\n",
       "      <td>Steady</td>\n",
       "    </tr>\n",
       "    <tr>\n",
       "      <th>19998</th>\n",
       "      <td>No</td>\n",
       "      <td>No</td>\n",
       "      <td>No</td>\n",
       "      <td>No</td>\n",
       "      <td>No</td>\n",
       "      <td>No</td>\n",
       "      <td>No</td>\n",
       "      <td>Steady</td>\n",
       "    </tr>\n",
       "    <tr>\n",
       "      <th>19999</th>\n",
       "      <td>No</td>\n",
       "      <td>No</td>\n",
       "      <td>No</td>\n",
       "      <td>No</td>\n",
       "      <td>No</td>\n",
       "      <td>No</td>\n",
       "      <td>No</td>\n",
       "      <td>No</td>\n",
       "    </tr>\n",
       "  </tbody>\n",
       "</table>\n",
       "<p>20000 rows × 8 columns</p>\n",
       "</div>"
      ]
     },
     "execution_count": 237,
     "metadata": {},
     "output_type": "execute_result"
    }
   ],
   "execution_count": 237
  },
  {
   "cell_type": "code",
   "id": "680964c153dfbc0c",
   "metadata": {
    "ExecuteTime": {
     "end_time": "2024-10-15T01:19:43.412411Z",
     "start_time": "2024-10-15T01:19:43.391600Z"
    }
   },
   "source": [
    "# Map the values to numeric values to test variance\n",
    "# This will is done as a separate dataframe so that the drug mapping can be changed later to a more amenable format\n",
    "drug_mapping = {'No': 0, 'Steady': 1, 'Up': 3, 'Down': 2}\n",
    "\n",
    "def map_drug_changes_to_values(df, drug_columns):\n",
    "    for col in drug_columns:\n",
    "        df[col] = df[col].map(drug_mapping)\n",
    "    return df\n",
    "\n",
    "drug_columns = ['metformin', 'repaglinide', 'nateglinide', 'chlorpropamide',\n",
    "                'glimepiride', 'glipizide', 'glyburide', 'insulin']\n",
    "d1_drug_changes = d1.copy(deep=True)\n",
    "d1_drug_changes = map_drug_changes_to_values(d1_drug_changes, drug_columns)\n",
    "\n"
   ],
   "outputs": [],
   "execution_count": 238
  },
  {
   "cell_type": "code",
   "id": "5c685898340df9cd",
   "metadata": {
    "ExecuteTime": {
     "end_time": "2024-10-15T01:19:43.582036Z",
     "start_time": "2024-10-15T01:19:43.562199Z"
    }
   },
   "source": [
    "d1_drug_changes[drug_columns].describe()"
   ],
   "outputs": [
    {
     "data": {
      "text/plain": [
       "       metformin  repaglinide  nateglinide  chlorpropamide  glimepiride  \\\n",
       "count   20000.00     20000.00     20000.00        20000.00     20000.00   \n",
       "mean        0.24         0.02         0.01            0.00         0.06   \n",
       "std         0.50         0.18         0.10            0.02         0.29   \n",
       "min         0.00         0.00         0.00            0.00         0.00   \n",
       "25%         0.00         0.00         0.00            0.00         0.00   \n",
       "50%         0.00         0.00         0.00            0.00         0.00   \n",
       "75%         0.00         0.00         0.00            0.00         0.00   \n",
       "max         3.00         3.00         3.00            1.00         3.00   \n",
       "\n",
       "       glipizide  glyburide  insulin  \n",
       "count   20000.00   20000.00 20000.00  \n",
       "mean        0.14       0.10     1.02  \n",
       "std         0.41       0.37     1.07  \n",
       "min         0.00       0.00     0.00  \n",
       "25%         0.00       0.00     0.00  \n",
       "50%         0.00       0.00     1.00  \n",
       "75%         0.00       0.00     2.00  \n",
       "max         3.00       3.00     3.00  "
      ],
      "text/html": [
       "<div>\n",
       "<style scoped>\n",
       "    .dataframe tbody tr th:only-of-type {\n",
       "        vertical-align: middle;\n",
       "    }\n",
       "\n",
       "    .dataframe tbody tr th {\n",
       "        vertical-align: top;\n",
       "    }\n",
       "\n",
       "    .dataframe thead th {\n",
       "        text-align: right;\n",
       "    }\n",
       "</style>\n",
       "<table border=\"1\" class=\"dataframe\">\n",
       "  <thead>\n",
       "    <tr style=\"text-align: right;\">\n",
       "      <th></th>\n",
       "      <th>metformin</th>\n",
       "      <th>repaglinide</th>\n",
       "      <th>nateglinide</th>\n",
       "      <th>chlorpropamide</th>\n",
       "      <th>glimepiride</th>\n",
       "      <th>glipizide</th>\n",
       "      <th>glyburide</th>\n",
       "      <th>insulin</th>\n",
       "    </tr>\n",
       "  </thead>\n",
       "  <tbody>\n",
       "    <tr>\n",
       "      <th>count</th>\n",
       "      <td>20000.00</td>\n",
       "      <td>20000.00</td>\n",
       "      <td>20000.00</td>\n",
       "      <td>20000.00</td>\n",
       "      <td>20000.00</td>\n",
       "      <td>20000.00</td>\n",
       "      <td>20000.00</td>\n",
       "      <td>20000.00</td>\n",
       "    </tr>\n",
       "    <tr>\n",
       "      <th>mean</th>\n",
       "      <td>0.24</td>\n",
       "      <td>0.02</td>\n",
       "      <td>0.01</td>\n",
       "      <td>0.00</td>\n",
       "      <td>0.06</td>\n",
       "      <td>0.14</td>\n",
       "      <td>0.10</td>\n",
       "      <td>1.02</td>\n",
       "    </tr>\n",
       "    <tr>\n",
       "      <th>std</th>\n",
       "      <td>0.50</td>\n",
       "      <td>0.18</td>\n",
       "      <td>0.10</td>\n",
       "      <td>0.02</td>\n",
       "      <td>0.29</td>\n",
       "      <td>0.41</td>\n",
       "      <td>0.37</td>\n",
       "      <td>1.07</td>\n",
       "    </tr>\n",
       "    <tr>\n",
       "      <th>min</th>\n",
       "      <td>0.00</td>\n",
       "      <td>0.00</td>\n",
       "      <td>0.00</td>\n",
       "      <td>0.00</td>\n",
       "      <td>0.00</td>\n",
       "      <td>0.00</td>\n",
       "      <td>0.00</td>\n",
       "      <td>0.00</td>\n",
       "    </tr>\n",
       "    <tr>\n",
       "      <th>25%</th>\n",
       "      <td>0.00</td>\n",
       "      <td>0.00</td>\n",
       "      <td>0.00</td>\n",
       "      <td>0.00</td>\n",
       "      <td>0.00</td>\n",
       "      <td>0.00</td>\n",
       "      <td>0.00</td>\n",
       "      <td>0.00</td>\n",
       "    </tr>\n",
       "    <tr>\n",
       "      <th>50%</th>\n",
       "      <td>0.00</td>\n",
       "      <td>0.00</td>\n",
       "      <td>0.00</td>\n",
       "      <td>0.00</td>\n",
       "      <td>0.00</td>\n",
       "      <td>0.00</td>\n",
       "      <td>0.00</td>\n",
       "      <td>1.00</td>\n",
       "    </tr>\n",
       "    <tr>\n",
       "      <th>75%</th>\n",
       "      <td>0.00</td>\n",
       "      <td>0.00</td>\n",
       "      <td>0.00</td>\n",
       "      <td>0.00</td>\n",
       "      <td>0.00</td>\n",
       "      <td>0.00</td>\n",
       "      <td>0.00</td>\n",
       "      <td>2.00</td>\n",
       "    </tr>\n",
       "    <tr>\n",
       "      <th>max</th>\n",
       "      <td>3.00</td>\n",
       "      <td>3.00</td>\n",
       "      <td>3.00</td>\n",
       "      <td>1.00</td>\n",
       "      <td>3.00</td>\n",
       "      <td>3.00</td>\n",
       "      <td>3.00</td>\n",
       "      <td>3.00</td>\n",
       "    </tr>\n",
       "  </tbody>\n",
       "</table>\n",
       "</div>"
      ]
     },
     "execution_count": 239,
     "metadata": {},
     "output_type": "execute_result"
    }
   ],
   "execution_count": 239
  },
  {
   "cell_type": "code",
   "id": "c6a90f44f1e04cf9",
   "metadata": {
    "ExecuteTime": {
     "end_time": "2024-10-15T01:19:43.918884Z",
     "start_time": "2024-10-15T01:19:43.911920Z"
    }
   },
   "source": [
    "np.var(d1_drug_changes[drug_columns], axis=0)"
   ],
   "outputs": [
    {
     "data": {
      "text/plain": [
       "metformin        0.25\n",
       "repaglinide      0.03\n",
       "nateglinide      0.01\n",
       "chlorpropamide   0.00\n",
       "glimepiride      0.08\n",
       "glipizide        0.17\n",
       "glyburide        0.13\n",
       "insulin          1.15\n",
       "dtype: float64"
      ]
     },
     "execution_count": 240,
     "metadata": {},
     "output_type": "execute_result"
    }
   ],
   "execution_count": 240
  },
  {
   "cell_type": "markdown",
   "id": "aef10916570b1e0f",
   "metadata": {},
   "source": [
    "#### Combine the drug columns into a single variable\n",
    "\n",
    "- The new column, 'sum_drug_changes', will be created by summing the values of the drug columns for each patient. This will give a single variable that represents the total number of changes in medication for each patient.\n",
    "- This is more meaningful than having multiple drug columns with individual change, and more quantitatiev than a binary changes column.\n",
    "- The principle is that the higher the number, given none and steady sum to zero, then more amendments that will have been made to the diabetes drugs"
   ]
  },
  {
   "cell_type": "code",
   "id": "6092d1ed79f72ae5",
   "metadata": {
    "ExecuteTime": {
     "end_time": "2024-10-15T01:19:44.179510Z",
     "start_time": "2024-10-15T01:19:44.165030Z"
    }
   },
   "source": [
    "# drug mapping to refactor the drug columns for the sum_drug_changes variable\n",
    "# The mapping represents 0 for No drug or steady, and 1 for a change in dose (up or down)\n",
    "drug_mapping = {'No': 0, 'Steady': 0, 'Up': 1, 'Down': 1}\n",
    "\n",
    "d1 = map_drug_changes_to_values(d1, drug_columns)"
   ],
   "outputs": [],
   "execution_count": 241
  },
  {
   "cell_type": "code",
   "id": "eb1d753e702e33fc",
   "metadata": {
    "ExecuteTime": {
     "end_time": "2024-10-15T01:19:44.469045Z",
     "start_time": "2024-10-15T01:19:44.462116Z"
    }
   },
   "source": [
    "d1['sum_drug_changes'] = d1[drug_columns].sum(axis=1)"
   ],
   "outputs": [],
   "execution_count": 242
  },
  {
   "cell_type": "code",
   "id": "4d23fff2dd86beee",
   "metadata": {
    "ExecuteTime": {
     "end_time": "2024-10-15T01:19:44.831160Z",
     "start_time": "2024-10-15T01:19:44.825059Z"
    }
   },
   "source": [
    "d1['sum_drug_changes'].value_counts(dropna=False).astype('Int64').to_frame()"
   ],
   "outputs": [
    {
     "data": {
      "text/plain": [
       "                  count\n",
       "sum_drug_changes       \n",
       "0                 13610\n",
       "1                  6085\n",
       "2                   279\n",
       "3                    26"
      ],
      "text/html": [
       "<div>\n",
       "<style scoped>\n",
       "    .dataframe tbody tr th:only-of-type {\n",
       "        vertical-align: middle;\n",
       "    }\n",
       "\n",
       "    .dataframe tbody tr th {\n",
       "        vertical-align: top;\n",
       "    }\n",
       "\n",
       "    .dataframe thead th {\n",
       "        text-align: right;\n",
       "    }\n",
       "</style>\n",
       "<table border=\"1\" class=\"dataframe\">\n",
       "  <thead>\n",
       "    <tr style=\"text-align: right;\">\n",
       "      <th></th>\n",
       "      <th>count</th>\n",
       "    </tr>\n",
       "    <tr>\n",
       "      <th>sum_drug_changes</th>\n",
       "      <th></th>\n",
       "    </tr>\n",
       "  </thead>\n",
       "  <tbody>\n",
       "    <tr>\n",
       "      <th>0</th>\n",
       "      <td>13610</td>\n",
       "    </tr>\n",
       "    <tr>\n",
       "      <th>1</th>\n",
       "      <td>6085</td>\n",
       "    </tr>\n",
       "    <tr>\n",
       "      <th>2</th>\n",
       "      <td>279</td>\n",
       "    </tr>\n",
       "    <tr>\n",
       "      <th>3</th>\n",
       "      <td>26</td>\n",
       "    </tr>\n",
       "  </tbody>\n",
       "</table>\n",
       "</div>"
      ]
     },
     "execution_count": 243,
     "metadata": {},
     "output_type": "execute_result"
    }
   ],
   "execution_count": 243
  },
  {
   "cell_type": "markdown",
   "id": "eb032c69d0022dcd",
   "metadata": {},
   "source": [
    "#### Drop the unused variables"
   ]
  },
  {
   "cell_type": "markdown",
   "id": "f1ddafd8c004325b",
   "metadata": {},
   "source": [
    "### Data transformations using normalization and encoding"
   ]
  },
  {
   "cell_type": "code",
   "id": "f1916c1c-612c-471b-ad63-689347c109f8",
   "metadata": {
    "ExecuteTime": {
     "end_time": "2024-10-15T01:19:44.967739Z",
     "start_time": "2024-10-15T01:19:44.964083Z"
    }
   },
   "source": [
    "from sklearn.preprocessing import MinMaxScaler"
   ],
   "outputs": [],
   "execution_count": 244
  },
  {
   "cell_type": "code",
   "id": "d84dcc24d6edbed1",
   "metadata": {
    "ExecuteTime": {
     "end_time": "2024-10-15T01:19:45.173685Z",
     "start_time": "2024-10-15T01:19:45.170142Z"
    }
   },
   "source": [
    "columns_to_normalize = ['number_outpatient', 'number_inpatient', 'number_emergency', \n",
    "                        'num_lab_procedures', 'num_procedures']"
   ],
   "outputs": [],
   "execution_count": 245
  },
  {
   "cell_type": "code",
   "id": "93bffd7b52fd1310",
   "metadata": {
    "ExecuteTime": {
     "end_time": "2024-10-15T01:19:45.350519Z",
     "start_time": "2024-10-15T01:19:45.347662Z"
    }
   },
   "source": [
    "scaler = MinMaxScaler()"
   ],
   "outputs": [],
   "execution_count": 246
  },
  {
   "cell_type": "code",
   "id": "c8499dc5c352f0ae",
   "metadata": {
    "ExecuteTime": {
     "end_time": "2024-10-15T01:19:45.636376Z",
     "start_time": "2024-10-15T01:19:45.628135Z"
    }
   },
   "source": [
    "# Apply Min-Max Normalization\n",
    "d1[columns_to_normalize] = scaler.fit_transform(d1[columns_to_normalize])"
   ],
   "outputs": [],
   "execution_count": 247
  },
  {
   "cell_type": "code",
   "id": "87bd04c7cb67e40a",
   "metadata": {
    "ExecuteTime": {
     "end_time": "2024-10-15T01:19:45.759489Z",
     "start_time": "2024-10-15T01:19:45.744320Z"
    }
   },
   "source": [
    "d1[columns_to_normalize].describe()"
   ],
   "outputs": [
    {
     "data": {
      "text/plain": [
       "       number_outpatient  number_inpatient  number_emergency  \\\n",
       "count           20000.00          20000.00          20000.00   \n",
       "mean                0.01              0.04              0.00   \n",
       "std                 0.04              0.07              0.02   \n",
       "min                 0.00              0.00              0.00   \n",
       "25%                 0.00              0.00              0.00   \n",
       "50%                 0.00              0.00              0.00   \n",
       "75%                 0.00              0.05              0.00   \n",
       "max                 1.00              1.00              1.00   \n",
       "\n",
       "       num_lab_procedures  num_procedures  \n",
       "count            20000.00        20000.00  \n",
       "mean                 0.37            0.22  \n",
       "std                  0.17            0.28  \n",
       "min                  0.00            0.00  \n",
       "25%                  0.27            0.00  \n",
       "50%                  0.38            0.17  \n",
       "75%                  0.49            0.33  \n",
       "max                  1.00            1.00  "
      ],
      "text/html": [
       "<div>\n",
       "<style scoped>\n",
       "    .dataframe tbody tr th:only-of-type {\n",
       "        vertical-align: middle;\n",
       "    }\n",
       "\n",
       "    .dataframe tbody tr th {\n",
       "        vertical-align: top;\n",
       "    }\n",
       "\n",
       "    .dataframe thead th {\n",
       "        text-align: right;\n",
       "    }\n",
       "</style>\n",
       "<table border=\"1\" class=\"dataframe\">\n",
       "  <thead>\n",
       "    <tr style=\"text-align: right;\">\n",
       "      <th></th>\n",
       "      <th>number_outpatient</th>\n",
       "      <th>number_inpatient</th>\n",
       "      <th>number_emergency</th>\n",
       "      <th>num_lab_procedures</th>\n",
       "      <th>num_procedures</th>\n",
       "    </tr>\n",
       "  </thead>\n",
       "  <tbody>\n",
       "    <tr>\n",
       "      <th>count</th>\n",
       "      <td>20000.00</td>\n",
       "      <td>20000.00</td>\n",
       "      <td>20000.00</td>\n",
       "      <td>20000.00</td>\n",
       "      <td>20000.00</td>\n",
       "    </tr>\n",
       "    <tr>\n",
       "      <th>mean</th>\n",
       "      <td>0.01</td>\n",
       "      <td>0.04</td>\n",
       "      <td>0.00</td>\n",
       "      <td>0.37</td>\n",
       "      <td>0.22</td>\n",
       "    </tr>\n",
       "    <tr>\n",
       "      <th>std</th>\n",
       "      <td>0.04</td>\n",
       "      <td>0.07</td>\n",
       "      <td>0.02</td>\n",
       "      <td>0.17</td>\n",
       "      <td>0.28</td>\n",
       "    </tr>\n",
       "    <tr>\n",
       "      <th>min</th>\n",
       "      <td>0.00</td>\n",
       "      <td>0.00</td>\n",
       "      <td>0.00</td>\n",
       "      <td>0.00</td>\n",
       "      <td>0.00</td>\n",
       "    </tr>\n",
       "    <tr>\n",
       "      <th>25%</th>\n",
       "      <td>0.00</td>\n",
       "      <td>0.00</td>\n",
       "      <td>0.00</td>\n",
       "      <td>0.27</td>\n",
       "      <td>0.00</td>\n",
       "    </tr>\n",
       "    <tr>\n",
       "      <th>50%</th>\n",
       "      <td>0.00</td>\n",
       "      <td>0.00</td>\n",
       "      <td>0.00</td>\n",
       "      <td>0.38</td>\n",
       "      <td>0.17</td>\n",
       "    </tr>\n",
       "    <tr>\n",
       "      <th>75%</th>\n",
       "      <td>0.00</td>\n",
       "      <td>0.05</td>\n",
       "      <td>0.00</td>\n",
       "      <td>0.49</td>\n",
       "      <td>0.33</td>\n",
       "    </tr>\n",
       "    <tr>\n",
       "      <th>max</th>\n",
       "      <td>1.00</td>\n",
       "      <td>1.00</td>\n",
       "      <td>1.00</td>\n",
       "      <td>1.00</td>\n",
       "      <td>1.00</td>\n",
       "    </tr>\n",
       "  </tbody>\n",
       "</table>\n",
       "</div>"
      ]
     },
     "execution_count": 248,
     "metadata": {},
     "output_type": "execute_result"
    }
   ],
   "execution_count": 248
  },
  {
   "cell_type": "code",
   "id": "08434ca1-2ca7-4e3a-a4ab-53dbe6b9d57e",
   "metadata": {
    "ExecuteTime": {
     "end_time": "2024-10-15T01:19:45.965050Z",
     "start_time": "2024-10-15T01:19:45.961694Z"
    }
   },
   "source": [
    "from sklearn.preprocessing import LabelEncoder"
   ],
   "outputs": [],
   "execution_count": 249
  },
  {
   "cell_type": "code",
   "id": "36828a86a3093be",
   "metadata": {
    "ExecuteTime": {
     "end_time": "2024-10-15T01:19:46.056697Z",
     "start_time": "2024-10-15T01:19:46.053467Z"
    }
   },
   "source": [
    "categorical_vars = ['race', 'medical_specialty', 'admission_type', 'discharge_disposition', 'admission_source',\n",
    "                    'diag_1_icd']"
   ],
   "outputs": [],
   "execution_count": 250
  },
  {
   "cell_type": "code",
   "id": "ff0aca537dac5cfa",
   "metadata": {
    "ExecuteTime": {
     "end_time": "2024-10-15T01:19:46.350807Z",
     "start_time": "2024-10-15T01:19:46.287233Z"
    }
   },
   "source": [
    "le = LabelEncoder()\n",
    "for var in categorical_vars:\n",
    "    d1[var] = le.fit_transform(d1[var])"
   ],
   "outputs": [
    {
     "ename": "KeyError",
     "evalue": "'diag_1_icd'",
     "output_type": "error",
     "traceback": [
      "\u001B[1;31m---------------------------------------------------------------------------\u001B[0m",
      "\u001B[1;31mKeyError\u001B[0m                                  Traceback (most recent call last)",
      "File \u001B[1;32m~\\miniconda3\\envs\\IFN509\\Lib\\site-packages\\pandas\\core\\indexes\\base.py:3805\u001B[0m, in \u001B[0;36mIndex.get_loc\u001B[1;34m(self, key)\u001B[0m\n\u001B[0;32m   3804\u001B[0m \u001B[38;5;28;01mtry\u001B[39;00m:\n\u001B[1;32m-> 3805\u001B[0m     \u001B[38;5;28;01mreturn\u001B[39;00m \u001B[38;5;28mself\u001B[39m\u001B[38;5;241m.\u001B[39m_engine\u001B[38;5;241m.\u001B[39mget_loc(casted_key)\n\u001B[0;32m   3806\u001B[0m \u001B[38;5;28;01mexcept\u001B[39;00m \u001B[38;5;167;01mKeyError\u001B[39;00m \u001B[38;5;28;01mas\u001B[39;00m err:\n",
      "File \u001B[1;32mindex.pyx:167\u001B[0m, in \u001B[0;36mpandas._libs.index.IndexEngine.get_loc\u001B[1;34m()\u001B[0m\n",
      "File \u001B[1;32mindex.pyx:196\u001B[0m, in \u001B[0;36mpandas._libs.index.IndexEngine.get_loc\u001B[1;34m()\u001B[0m\n",
      "File \u001B[1;32mpandas\\\\_libs\\\\hashtable_class_helper.pxi:7081\u001B[0m, in \u001B[0;36mpandas._libs.hashtable.PyObjectHashTable.get_item\u001B[1;34m()\u001B[0m\n",
      "File \u001B[1;32mpandas\\\\_libs\\\\hashtable_class_helper.pxi:7089\u001B[0m, in \u001B[0;36mpandas._libs.hashtable.PyObjectHashTable.get_item\u001B[1;34m()\u001B[0m\n",
      "\u001B[1;31mKeyError\u001B[0m: 'diag_1_icd'",
      "\nThe above exception was the direct cause of the following exception:\n",
      "\u001B[1;31mKeyError\u001B[0m                                  Traceback (most recent call last)",
      "Cell \u001B[1;32mIn[251], line 3\u001B[0m\n\u001B[0;32m      1\u001B[0m le \u001B[38;5;241m=\u001B[39m LabelEncoder()\n\u001B[0;32m      2\u001B[0m \u001B[38;5;28;01mfor\u001B[39;00m var \u001B[38;5;129;01min\u001B[39;00m categorical_vars:\n\u001B[1;32m----> 3\u001B[0m     d1[var] \u001B[38;5;241m=\u001B[39m le\u001B[38;5;241m.\u001B[39mfit_transform(d1[var])\n",
      "File \u001B[1;32m~\\miniconda3\\envs\\IFN509\\Lib\\site-packages\\pandas\\core\\frame.py:4102\u001B[0m, in \u001B[0;36mDataFrame.__getitem__\u001B[1;34m(self, key)\u001B[0m\n\u001B[0;32m   4100\u001B[0m \u001B[38;5;28;01mif\u001B[39;00m \u001B[38;5;28mself\u001B[39m\u001B[38;5;241m.\u001B[39mcolumns\u001B[38;5;241m.\u001B[39mnlevels \u001B[38;5;241m>\u001B[39m \u001B[38;5;241m1\u001B[39m:\n\u001B[0;32m   4101\u001B[0m     \u001B[38;5;28;01mreturn\u001B[39;00m \u001B[38;5;28mself\u001B[39m\u001B[38;5;241m.\u001B[39m_getitem_multilevel(key)\n\u001B[1;32m-> 4102\u001B[0m indexer \u001B[38;5;241m=\u001B[39m \u001B[38;5;28mself\u001B[39m\u001B[38;5;241m.\u001B[39mcolumns\u001B[38;5;241m.\u001B[39mget_loc(key)\n\u001B[0;32m   4103\u001B[0m \u001B[38;5;28;01mif\u001B[39;00m is_integer(indexer):\n\u001B[0;32m   4104\u001B[0m     indexer \u001B[38;5;241m=\u001B[39m [indexer]\n",
      "File \u001B[1;32m~\\miniconda3\\envs\\IFN509\\Lib\\site-packages\\pandas\\core\\indexes\\base.py:3812\u001B[0m, in \u001B[0;36mIndex.get_loc\u001B[1;34m(self, key)\u001B[0m\n\u001B[0;32m   3807\u001B[0m     \u001B[38;5;28;01mif\u001B[39;00m \u001B[38;5;28misinstance\u001B[39m(casted_key, \u001B[38;5;28mslice\u001B[39m) \u001B[38;5;129;01mor\u001B[39;00m (\n\u001B[0;32m   3808\u001B[0m         \u001B[38;5;28misinstance\u001B[39m(casted_key, abc\u001B[38;5;241m.\u001B[39mIterable)\n\u001B[0;32m   3809\u001B[0m         \u001B[38;5;129;01mand\u001B[39;00m \u001B[38;5;28many\u001B[39m(\u001B[38;5;28misinstance\u001B[39m(x, \u001B[38;5;28mslice\u001B[39m) \u001B[38;5;28;01mfor\u001B[39;00m x \u001B[38;5;129;01min\u001B[39;00m casted_key)\n\u001B[0;32m   3810\u001B[0m     ):\n\u001B[0;32m   3811\u001B[0m         \u001B[38;5;28;01mraise\u001B[39;00m InvalidIndexError(key)\n\u001B[1;32m-> 3812\u001B[0m     \u001B[38;5;28;01mraise\u001B[39;00m \u001B[38;5;167;01mKeyError\u001B[39;00m(key) \u001B[38;5;28;01mfrom\u001B[39;00m \u001B[38;5;21;01merr\u001B[39;00m\n\u001B[0;32m   3813\u001B[0m \u001B[38;5;28;01mexcept\u001B[39;00m \u001B[38;5;167;01mTypeError\u001B[39;00m:\n\u001B[0;32m   3814\u001B[0m     \u001B[38;5;66;03m# If we have a listlike key, _check_indexing_error will raise\u001B[39;00m\n\u001B[0;32m   3815\u001B[0m     \u001B[38;5;66;03m#  InvalidIndexError. Otherwise we fall through and re-raise\u001B[39;00m\n\u001B[0;32m   3816\u001B[0m     \u001B[38;5;66;03m#  the TypeError.\u001B[39;00m\n\u001B[0;32m   3817\u001B[0m     \u001B[38;5;28mself\u001B[39m\u001B[38;5;241m.\u001B[39m_check_indexing_error(key)\n",
      "\u001B[1;31mKeyError\u001B[0m: 'diag_1_icd'"
     ]
    }
   ],
   "execution_count": 251
  },
  {
   "cell_type": "code",
   "id": "ec3394d490633993",
   "metadata": {
    "ExecuteTime": {
     "end_time": "2024-10-15T01:19:46.441134Z",
     "start_time": "2024-10-15T01:19:46.438520Z"
    }
   },
   "source": [],
   "outputs": [],
   "execution_count": 251
  },
  {
   "cell_type": "code",
   "id": "bbccc938bf996cfe",
   "metadata": {
    "ExecuteTime": {
     "end_time": "2024-10-15T01:19:46.752533Z",
     "start_time": "2024-10-15T01:19:46.702062Z"
    }
   },
   "source": [
    "columns_to_drop = ['encounter_id', 'patient_nbr','max_glu_serum', 'A1Cresult', 'acetohexamide', \n",
    "                   'tolbutamide', 'payer_code', 'weight', 'diag_1', 'diag_2', 'diag_3', 'diag_2_icd', 'diag_3_icd', \n",
    "                   'metformin', 'repaglinide', 'nateglinide', 'chlorpropamide','glimepiride', 'glipizide', \n",
    "                   'glyburide', 'insulin', 'admission_type_id', 'discharge_disposition_id', 'admission_source_id']\n",
    "d1 = d1.drop(columns_to_drop, axis=1)"
   ],
   "outputs": [
    {
     "ename": "KeyError",
     "evalue": "\"['encounter_id', 'patient_nbr', 'payer_code', 'weight', 'diag_1', 'diag_2', 'diag_3', 'diag_2_icd', 'diag_3_icd'] not found in axis\"",
     "output_type": "error",
     "traceback": [
      "\u001B[1;31m---------------------------------------------------------------------------\u001B[0m",
      "\u001B[1;31mKeyError\u001B[0m                                  Traceback (most recent call last)",
      "Cell \u001B[1;32mIn[252], line 5\u001B[0m\n\u001B[0;32m      1\u001B[0m columns_to_drop \u001B[38;5;241m=\u001B[39m [\u001B[38;5;124m'\u001B[39m\u001B[38;5;124mencounter_id\u001B[39m\u001B[38;5;124m'\u001B[39m, \u001B[38;5;124m'\u001B[39m\u001B[38;5;124mpatient_nbr\u001B[39m\u001B[38;5;124m'\u001B[39m,\u001B[38;5;124m'\u001B[39m\u001B[38;5;124mmax_glu_serum\u001B[39m\u001B[38;5;124m'\u001B[39m, \u001B[38;5;124m'\u001B[39m\u001B[38;5;124mA1Cresult\u001B[39m\u001B[38;5;124m'\u001B[39m, \u001B[38;5;124m'\u001B[39m\u001B[38;5;124macetohexamide\u001B[39m\u001B[38;5;124m'\u001B[39m, \n\u001B[0;32m      2\u001B[0m                    \u001B[38;5;124m'\u001B[39m\u001B[38;5;124mtolbutamide\u001B[39m\u001B[38;5;124m'\u001B[39m, \u001B[38;5;124m'\u001B[39m\u001B[38;5;124mpayer_code\u001B[39m\u001B[38;5;124m'\u001B[39m, \u001B[38;5;124m'\u001B[39m\u001B[38;5;124mweight\u001B[39m\u001B[38;5;124m'\u001B[39m, \u001B[38;5;124m'\u001B[39m\u001B[38;5;124mdiag_1\u001B[39m\u001B[38;5;124m'\u001B[39m, \u001B[38;5;124m'\u001B[39m\u001B[38;5;124mdiag_2\u001B[39m\u001B[38;5;124m'\u001B[39m, \u001B[38;5;124m'\u001B[39m\u001B[38;5;124mdiag_3\u001B[39m\u001B[38;5;124m'\u001B[39m, \u001B[38;5;124m'\u001B[39m\u001B[38;5;124mdiag_2_icd\u001B[39m\u001B[38;5;124m'\u001B[39m, \u001B[38;5;124m'\u001B[39m\u001B[38;5;124mdiag_3_icd\u001B[39m\u001B[38;5;124m'\u001B[39m, \n\u001B[0;32m      3\u001B[0m                    \u001B[38;5;124m'\u001B[39m\u001B[38;5;124mmetformin\u001B[39m\u001B[38;5;124m'\u001B[39m, \u001B[38;5;124m'\u001B[39m\u001B[38;5;124mrepaglinide\u001B[39m\u001B[38;5;124m'\u001B[39m, \u001B[38;5;124m'\u001B[39m\u001B[38;5;124mnateglinide\u001B[39m\u001B[38;5;124m'\u001B[39m, \u001B[38;5;124m'\u001B[39m\u001B[38;5;124mchlorpropamide\u001B[39m\u001B[38;5;124m'\u001B[39m,\u001B[38;5;124m'\u001B[39m\u001B[38;5;124mglimepiride\u001B[39m\u001B[38;5;124m'\u001B[39m, \u001B[38;5;124m'\u001B[39m\u001B[38;5;124mglipizide\u001B[39m\u001B[38;5;124m'\u001B[39m, \n\u001B[0;32m      4\u001B[0m                    \u001B[38;5;124m'\u001B[39m\u001B[38;5;124mglyburide\u001B[39m\u001B[38;5;124m'\u001B[39m, \u001B[38;5;124m'\u001B[39m\u001B[38;5;124minsulin\u001B[39m\u001B[38;5;124m'\u001B[39m, \u001B[38;5;124m'\u001B[39m\u001B[38;5;124madmission_type_id\u001B[39m\u001B[38;5;124m'\u001B[39m, \u001B[38;5;124m'\u001B[39m\u001B[38;5;124mdischarge_disposition_id\u001B[39m\u001B[38;5;124m'\u001B[39m, \u001B[38;5;124m'\u001B[39m\u001B[38;5;124madmission_source_id\u001B[39m\u001B[38;5;124m'\u001B[39m]\n\u001B[1;32m----> 5\u001B[0m d1 \u001B[38;5;241m=\u001B[39m d1\u001B[38;5;241m.\u001B[39mdrop(columns_to_drop, axis\u001B[38;5;241m=\u001B[39m\u001B[38;5;241m1\u001B[39m)\n",
      "File \u001B[1;32m~\\miniconda3\\envs\\IFN509\\Lib\\site-packages\\pandas\\core\\frame.py:5581\u001B[0m, in \u001B[0;36mDataFrame.drop\u001B[1;34m(self, labels, axis, index, columns, level, inplace, errors)\u001B[0m\n\u001B[0;32m   5433\u001B[0m \u001B[38;5;28;01mdef\u001B[39;00m \u001B[38;5;21mdrop\u001B[39m(\n\u001B[0;32m   5434\u001B[0m     \u001B[38;5;28mself\u001B[39m,\n\u001B[0;32m   5435\u001B[0m     labels: IndexLabel \u001B[38;5;241m|\u001B[39m \u001B[38;5;28;01mNone\u001B[39;00m \u001B[38;5;241m=\u001B[39m \u001B[38;5;28;01mNone\u001B[39;00m,\n\u001B[1;32m   (...)\u001B[0m\n\u001B[0;32m   5442\u001B[0m     errors: IgnoreRaise \u001B[38;5;241m=\u001B[39m \u001B[38;5;124m\"\u001B[39m\u001B[38;5;124mraise\u001B[39m\u001B[38;5;124m\"\u001B[39m,\n\u001B[0;32m   5443\u001B[0m ) \u001B[38;5;241m-\u001B[39m\u001B[38;5;241m>\u001B[39m DataFrame \u001B[38;5;241m|\u001B[39m \u001B[38;5;28;01mNone\u001B[39;00m:\n\u001B[0;32m   5444\u001B[0m \u001B[38;5;250m    \u001B[39m\u001B[38;5;124;03m\"\"\"\u001B[39;00m\n\u001B[0;32m   5445\u001B[0m \u001B[38;5;124;03m    Drop specified labels from rows or columns.\u001B[39;00m\n\u001B[0;32m   5446\u001B[0m \n\u001B[1;32m   (...)\u001B[0m\n\u001B[0;32m   5579\u001B[0m \u001B[38;5;124;03m            weight  1.0     0.8\u001B[39;00m\n\u001B[0;32m   5580\u001B[0m \u001B[38;5;124;03m    \"\"\"\u001B[39;00m\n\u001B[1;32m-> 5581\u001B[0m     \u001B[38;5;28;01mreturn\u001B[39;00m \u001B[38;5;28msuper\u001B[39m()\u001B[38;5;241m.\u001B[39mdrop(\n\u001B[0;32m   5582\u001B[0m         labels\u001B[38;5;241m=\u001B[39mlabels,\n\u001B[0;32m   5583\u001B[0m         axis\u001B[38;5;241m=\u001B[39maxis,\n\u001B[0;32m   5584\u001B[0m         index\u001B[38;5;241m=\u001B[39mindex,\n\u001B[0;32m   5585\u001B[0m         columns\u001B[38;5;241m=\u001B[39mcolumns,\n\u001B[0;32m   5586\u001B[0m         level\u001B[38;5;241m=\u001B[39mlevel,\n\u001B[0;32m   5587\u001B[0m         inplace\u001B[38;5;241m=\u001B[39minplace,\n\u001B[0;32m   5588\u001B[0m         errors\u001B[38;5;241m=\u001B[39merrors,\n\u001B[0;32m   5589\u001B[0m     )\n",
      "File \u001B[1;32m~\\miniconda3\\envs\\IFN509\\Lib\\site-packages\\pandas\\core\\generic.py:4788\u001B[0m, in \u001B[0;36mNDFrame.drop\u001B[1;34m(self, labels, axis, index, columns, level, inplace, errors)\u001B[0m\n\u001B[0;32m   4786\u001B[0m \u001B[38;5;28;01mfor\u001B[39;00m axis, labels \u001B[38;5;129;01min\u001B[39;00m axes\u001B[38;5;241m.\u001B[39mitems():\n\u001B[0;32m   4787\u001B[0m     \u001B[38;5;28;01mif\u001B[39;00m labels \u001B[38;5;129;01mis\u001B[39;00m \u001B[38;5;129;01mnot\u001B[39;00m \u001B[38;5;28;01mNone\u001B[39;00m:\n\u001B[1;32m-> 4788\u001B[0m         obj \u001B[38;5;241m=\u001B[39m obj\u001B[38;5;241m.\u001B[39m_drop_axis(labels, axis, level\u001B[38;5;241m=\u001B[39mlevel, errors\u001B[38;5;241m=\u001B[39merrors)\n\u001B[0;32m   4790\u001B[0m \u001B[38;5;28;01mif\u001B[39;00m inplace:\n\u001B[0;32m   4791\u001B[0m     \u001B[38;5;28mself\u001B[39m\u001B[38;5;241m.\u001B[39m_update_inplace(obj)\n",
      "File \u001B[1;32m~\\miniconda3\\envs\\IFN509\\Lib\\site-packages\\pandas\\core\\generic.py:4830\u001B[0m, in \u001B[0;36mNDFrame._drop_axis\u001B[1;34m(self, labels, axis, level, errors, only_slice)\u001B[0m\n\u001B[0;32m   4828\u001B[0m         new_axis \u001B[38;5;241m=\u001B[39m axis\u001B[38;5;241m.\u001B[39mdrop(labels, level\u001B[38;5;241m=\u001B[39mlevel, errors\u001B[38;5;241m=\u001B[39merrors)\n\u001B[0;32m   4829\u001B[0m     \u001B[38;5;28;01melse\u001B[39;00m:\n\u001B[1;32m-> 4830\u001B[0m         new_axis \u001B[38;5;241m=\u001B[39m axis\u001B[38;5;241m.\u001B[39mdrop(labels, errors\u001B[38;5;241m=\u001B[39merrors)\n\u001B[0;32m   4831\u001B[0m     indexer \u001B[38;5;241m=\u001B[39m axis\u001B[38;5;241m.\u001B[39mget_indexer(new_axis)\n\u001B[0;32m   4833\u001B[0m \u001B[38;5;66;03m# Case for non-unique axis\u001B[39;00m\n\u001B[0;32m   4834\u001B[0m \u001B[38;5;28;01melse\u001B[39;00m:\n",
      "File \u001B[1;32m~\\miniconda3\\envs\\IFN509\\Lib\\site-packages\\pandas\\core\\indexes\\base.py:7070\u001B[0m, in \u001B[0;36mIndex.drop\u001B[1;34m(self, labels, errors)\u001B[0m\n\u001B[0;32m   7068\u001B[0m \u001B[38;5;28;01mif\u001B[39;00m mask\u001B[38;5;241m.\u001B[39many():\n\u001B[0;32m   7069\u001B[0m     \u001B[38;5;28;01mif\u001B[39;00m errors \u001B[38;5;241m!=\u001B[39m \u001B[38;5;124m\"\u001B[39m\u001B[38;5;124mignore\u001B[39m\u001B[38;5;124m\"\u001B[39m:\n\u001B[1;32m-> 7070\u001B[0m         \u001B[38;5;28;01mraise\u001B[39;00m \u001B[38;5;167;01mKeyError\u001B[39;00m(\u001B[38;5;124mf\u001B[39m\u001B[38;5;124m\"\u001B[39m\u001B[38;5;132;01m{\u001B[39;00mlabels[mask]\u001B[38;5;241m.\u001B[39mtolist()\u001B[38;5;132;01m}\u001B[39;00m\u001B[38;5;124m not found in axis\u001B[39m\u001B[38;5;124m\"\u001B[39m)\n\u001B[0;32m   7071\u001B[0m     indexer \u001B[38;5;241m=\u001B[39m indexer[\u001B[38;5;241m~\u001B[39mmask]\n\u001B[0;32m   7072\u001B[0m \u001B[38;5;28;01mreturn\u001B[39;00m \u001B[38;5;28mself\u001B[39m\u001B[38;5;241m.\u001B[39mdelete(indexer)\n",
      "\u001B[1;31mKeyError\u001B[0m: \"['encounter_id', 'patient_nbr', 'payer_code', 'weight', 'diag_1', 'diag_2', 'diag_3', 'diag_2_icd', 'diag_3_icd'] not found in axis\""
     ]
    }
   ],
   "execution_count": 252
  },
  {
   "cell_type": "code",
   "id": "def31711233867c7",
   "metadata": {
    "ExecuteTime": {
     "end_time": "2024-10-15T01:19:47.005031Z",
     "start_time": "2024-10-15T01:19:46.994101Z"
    }
   },
   "source": [
    "d1.info()"
   ],
   "outputs": [
    {
     "name": "stdout",
     "output_type": "stream",
     "text": [
      "<class 'pandas.core.frame.DataFrame'>\n",
      "RangeIndex: 20000 entries, 0 to 19999\n",
      "Data columns (total 34 columns):\n",
      " #   Column                    Non-Null Count  Dtype  \n",
      "---  ------                    --------------  -----  \n",
      " 0   race                      20000 non-null  int32  \n",
      " 1   gender                    20000 non-null  int64  \n",
      " 2   age                       20000 non-null  int64  \n",
      " 3   admission_type_id         20000 non-null  int64  \n",
      " 4   discharge_disposition_id  20000 non-null  int64  \n",
      " 5   admission_source_id       20000 non-null  int64  \n",
      " 6   time_in_hospital          20000 non-null  int64  \n",
      " 7   medical_specialty         20000 non-null  int32  \n",
      " 8   num_lab_procedures        20000 non-null  float64\n",
      " 9   num_procedures            20000 non-null  float64\n",
      " 10  num_medications           20000 non-null  int64  \n",
      " 11  number_outpatient         20000 non-null  float64\n",
      " 12  number_emergency          20000 non-null  float64\n",
      " 13  number_inpatient          20000 non-null  float64\n",
      " 14  number_diagnoses          20000 non-null  int64  \n",
      " 15  max_glu_serum             252 non-null    string \n",
      " 16  A1Cresult                 3567 non-null   string \n",
      " 17  metformin                 20000 non-null  int64  \n",
      " 18  repaglinide               20000 non-null  int64  \n",
      " 19  nateglinide               20000 non-null  int64  \n",
      " 20  chlorpropamide            20000 non-null  int64  \n",
      " 21  glimepiride               20000 non-null  int64  \n",
      " 22  acetohexamide             20000 non-null  string \n",
      " 23  glipizide                 20000 non-null  int64  \n",
      " 24  glyburide                 20000 non-null  int64  \n",
      " 25  tolbutamide               20000 non-null  string \n",
      " 26  insulin                   20000 non-null  int64  \n",
      " 27  change                    0 non-null      float64\n",
      " 28  diabetesMed               0 non-null      float64\n",
      " 29  readmitted                0 non-null      float64\n",
      " 30  admission_type            20000 non-null  int32  \n",
      " 31  discharge_disposition     20000 non-null  int32  \n",
      " 32  admission_source          20000 non-null  int32  \n",
      " 33  sum_drug_changes          20000 non-null  int64  \n",
      "dtypes: float64(8), int32(5), int64(17), string(4)\n",
      "memory usage: 4.8 MB\n"
     ]
    }
   ],
   "execution_count": 253
  },
  {
   "cell_type": "markdown",
   "id": "82ab36f2d6c3a3b9",
   "metadata": {},
   "source": [
    "### Create dummy variables\n",
    "\n",
    "The qualitative variables were converted to dummy variables using the get_dummies() function. This will allow the variables to be used in the analysis and modelling stages."
   ]
  },
  {
   "cell_type": "code",
   "id": "79730ae61e85a90f",
   "metadata": {
    "ExecuteTime": {
     "end_time": "2024-10-15T01:19:47.169775Z",
     "start_time": "2024-10-15T01:19:47.132839Z"
    }
   },
   "source": [
    "# select non-object columns\n",
    "correlation_vars = d1[['gender', 'age', 'length_of_stay', 'num_lab_procedures', 'num_procedures', 'num_medications', 'number_outpatient', 'number_emergency', 'number_inpatient', 'number_diagnoses', 'change', 'diabetesMed', 'readmitted', 'diabetes', 'single_day_admission', 'sum_drug_changes']]"
   ],
   "outputs": [
    {
     "ename": "KeyError",
     "evalue": "\"['length_of_stay', 'diabetes', 'single_day_admission'] not in index\"",
     "output_type": "error",
     "traceback": [
      "\u001B[1;31m---------------------------------------------------------------------------\u001B[0m",
      "\u001B[1;31mKeyError\u001B[0m                                  Traceback (most recent call last)",
      "Cell \u001B[1;32mIn[254], line 2\u001B[0m\n\u001B[0;32m      1\u001B[0m \u001B[38;5;66;03m# select non-object columns\u001B[39;00m\n\u001B[1;32m----> 2\u001B[0m correlation_vars \u001B[38;5;241m=\u001B[39m d1[[\u001B[38;5;124m'\u001B[39m\u001B[38;5;124mgender\u001B[39m\u001B[38;5;124m'\u001B[39m, \u001B[38;5;124m'\u001B[39m\u001B[38;5;124mage\u001B[39m\u001B[38;5;124m'\u001B[39m, \u001B[38;5;124m'\u001B[39m\u001B[38;5;124mlength_of_stay\u001B[39m\u001B[38;5;124m'\u001B[39m, \u001B[38;5;124m'\u001B[39m\u001B[38;5;124mnum_lab_procedures\u001B[39m\u001B[38;5;124m'\u001B[39m, \u001B[38;5;124m'\u001B[39m\u001B[38;5;124mnum_procedures\u001B[39m\u001B[38;5;124m'\u001B[39m, \u001B[38;5;124m'\u001B[39m\u001B[38;5;124mnum_medications\u001B[39m\u001B[38;5;124m'\u001B[39m, \u001B[38;5;124m'\u001B[39m\u001B[38;5;124mnumber_outpatient\u001B[39m\u001B[38;5;124m'\u001B[39m, \u001B[38;5;124m'\u001B[39m\u001B[38;5;124mnumber_emergency\u001B[39m\u001B[38;5;124m'\u001B[39m, \u001B[38;5;124m'\u001B[39m\u001B[38;5;124mnumber_inpatient\u001B[39m\u001B[38;5;124m'\u001B[39m, \u001B[38;5;124m'\u001B[39m\u001B[38;5;124mnumber_diagnoses\u001B[39m\u001B[38;5;124m'\u001B[39m, \u001B[38;5;124m'\u001B[39m\u001B[38;5;124mchange\u001B[39m\u001B[38;5;124m'\u001B[39m, \u001B[38;5;124m'\u001B[39m\u001B[38;5;124mdiabetesMed\u001B[39m\u001B[38;5;124m'\u001B[39m, \u001B[38;5;124m'\u001B[39m\u001B[38;5;124mreadmitted\u001B[39m\u001B[38;5;124m'\u001B[39m, \u001B[38;5;124m'\u001B[39m\u001B[38;5;124mdiabetes\u001B[39m\u001B[38;5;124m'\u001B[39m, \u001B[38;5;124m'\u001B[39m\u001B[38;5;124msingle_day_admission\u001B[39m\u001B[38;5;124m'\u001B[39m, \u001B[38;5;124m'\u001B[39m\u001B[38;5;124msum_drug_changes\u001B[39m\u001B[38;5;124m'\u001B[39m]]\n",
      "File \u001B[1;32m~\\miniconda3\\envs\\IFN509\\Lib\\site-packages\\pandas\\core\\frame.py:4108\u001B[0m, in \u001B[0;36mDataFrame.__getitem__\u001B[1;34m(self, key)\u001B[0m\n\u001B[0;32m   4106\u001B[0m     \u001B[38;5;28;01mif\u001B[39;00m is_iterator(key):\n\u001B[0;32m   4107\u001B[0m         key \u001B[38;5;241m=\u001B[39m \u001B[38;5;28mlist\u001B[39m(key)\n\u001B[1;32m-> 4108\u001B[0m     indexer \u001B[38;5;241m=\u001B[39m \u001B[38;5;28mself\u001B[39m\u001B[38;5;241m.\u001B[39mcolumns\u001B[38;5;241m.\u001B[39m_get_indexer_strict(key, \u001B[38;5;124m\"\u001B[39m\u001B[38;5;124mcolumns\u001B[39m\u001B[38;5;124m\"\u001B[39m)[\u001B[38;5;241m1\u001B[39m]\n\u001B[0;32m   4110\u001B[0m \u001B[38;5;66;03m# take() does not accept boolean indexers\u001B[39;00m\n\u001B[0;32m   4111\u001B[0m \u001B[38;5;28;01mif\u001B[39;00m \u001B[38;5;28mgetattr\u001B[39m(indexer, \u001B[38;5;124m\"\u001B[39m\u001B[38;5;124mdtype\u001B[39m\u001B[38;5;124m\"\u001B[39m, \u001B[38;5;28;01mNone\u001B[39;00m) \u001B[38;5;241m==\u001B[39m \u001B[38;5;28mbool\u001B[39m:\n",
      "File \u001B[1;32m~\\miniconda3\\envs\\IFN509\\Lib\\site-packages\\pandas\\core\\indexes\\base.py:6200\u001B[0m, in \u001B[0;36mIndex._get_indexer_strict\u001B[1;34m(self, key, axis_name)\u001B[0m\n\u001B[0;32m   6197\u001B[0m \u001B[38;5;28;01melse\u001B[39;00m:\n\u001B[0;32m   6198\u001B[0m     keyarr, indexer, new_indexer \u001B[38;5;241m=\u001B[39m \u001B[38;5;28mself\u001B[39m\u001B[38;5;241m.\u001B[39m_reindex_non_unique(keyarr)\n\u001B[1;32m-> 6200\u001B[0m \u001B[38;5;28mself\u001B[39m\u001B[38;5;241m.\u001B[39m_raise_if_missing(keyarr, indexer, axis_name)\n\u001B[0;32m   6202\u001B[0m keyarr \u001B[38;5;241m=\u001B[39m \u001B[38;5;28mself\u001B[39m\u001B[38;5;241m.\u001B[39mtake(indexer)\n\u001B[0;32m   6203\u001B[0m \u001B[38;5;28;01mif\u001B[39;00m \u001B[38;5;28misinstance\u001B[39m(key, Index):\n\u001B[0;32m   6204\u001B[0m     \u001B[38;5;66;03m# GH 42790 - Preserve name from an Index\u001B[39;00m\n",
      "File \u001B[1;32m~\\miniconda3\\envs\\IFN509\\Lib\\site-packages\\pandas\\core\\indexes\\base.py:6252\u001B[0m, in \u001B[0;36mIndex._raise_if_missing\u001B[1;34m(self, key, indexer, axis_name)\u001B[0m\n\u001B[0;32m   6249\u001B[0m     \u001B[38;5;28;01mraise\u001B[39;00m \u001B[38;5;167;01mKeyError\u001B[39;00m(\u001B[38;5;124mf\u001B[39m\u001B[38;5;124m\"\u001B[39m\u001B[38;5;124mNone of [\u001B[39m\u001B[38;5;132;01m{\u001B[39;00mkey\u001B[38;5;132;01m}\u001B[39;00m\u001B[38;5;124m] are in the [\u001B[39m\u001B[38;5;132;01m{\u001B[39;00maxis_name\u001B[38;5;132;01m}\u001B[39;00m\u001B[38;5;124m]\u001B[39m\u001B[38;5;124m\"\u001B[39m)\n\u001B[0;32m   6251\u001B[0m not_found \u001B[38;5;241m=\u001B[39m \u001B[38;5;28mlist\u001B[39m(ensure_index(key)[missing_mask\u001B[38;5;241m.\u001B[39mnonzero()[\u001B[38;5;241m0\u001B[39m]]\u001B[38;5;241m.\u001B[39munique())\n\u001B[1;32m-> 6252\u001B[0m \u001B[38;5;28;01mraise\u001B[39;00m \u001B[38;5;167;01mKeyError\u001B[39;00m(\u001B[38;5;124mf\u001B[39m\u001B[38;5;124m\"\u001B[39m\u001B[38;5;132;01m{\u001B[39;00mnot_found\u001B[38;5;132;01m}\u001B[39;00m\u001B[38;5;124m not in index\u001B[39m\u001B[38;5;124m\"\u001B[39m)\n",
      "\u001B[1;31mKeyError\u001B[0m: \"['length_of_stay', 'diabetes', 'single_day_admission'] not in index\""
     ]
    }
   ],
   "execution_count": 254
  },
  {
   "cell_type": "code",
   "id": "8eac12c011a7bf3",
   "metadata": {
    "ExecuteTime": {
     "end_time": "2024-10-15T01:19:47.393971Z",
     "start_time": "2024-10-15T01:19:47.341133Z"
    }
   },
   "source": [
    "correlation_matrix = d1.corr()"
   ],
   "outputs": [
    {
     "ename": "ValueError",
     "evalue": "could not convert string to float: '>300'",
     "output_type": "error",
     "traceback": [
      "\u001B[1;31m---------------------------------------------------------------------------\u001B[0m",
      "\u001B[1;31mValueError\u001B[0m                                Traceback (most recent call last)",
      "Cell \u001B[1;32mIn[255], line 1\u001B[0m\n\u001B[1;32m----> 1\u001B[0m correlation_matrix \u001B[38;5;241m=\u001B[39m d1\u001B[38;5;241m.\u001B[39mcorr()\n",
      "File \u001B[1;32m~\\miniconda3\\envs\\IFN509\\Lib\\site-packages\\pandas\\core\\frame.py:11049\u001B[0m, in \u001B[0;36mDataFrame.corr\u001B[1;34m(self, method, min_periods, numeric_only)\u001B[0m\n\u001B[0;32m  11047\u001B[0m cols \u001B[38;5;241m=\u001B[39m data\u001B[38;5;241m.\u001B[39mcolumns\n\u001B[0;32m  11048\u001B[0m idx \u001B[38;5;241m=\u001B[39m cols\u001B[38;5;241m.\u001B[39mcopy()\n\u001B[1;32m> 11049\u001B[0m mat \u001B[38;5;241m=\u001B[39m data\u001B[38;5;241m.\u001B[39mto_numpy(dtype\u001B[38;5;241m=\u001B[39m\u001B[38;5;28mfloat\u001B[39m, na_value\u001B[38;5;241m=\u001B[39mnp\u001B[38;5;241m.\u001B[39mnan, copy\u001B[38;5;241m=\u001B[39m\u001B[38;5;28;01mFalse\u001B[39;00m)\n\u001B[0;32m  11051\u001B[0m \u001B[38;5;28;01mif\u001B[39;00m method \u001B[38;5;241m==\u001B[39m \u001B[38;5;124m\"\u001B[39m\u001B[38;5;124mpearson\u001B[39m\u001B[38;5;124m\"\u001B[39m:\n\u001B[0;32m  11052\u001B[0m     correl \u001B[38;5;241m=\u001B[39m libalgos\u001B[38;5;241m.\u001B[39mnancorr(mat, minp\u001B[38;5;241m=\u001B[39mmin_periods)\n",
      "File \u001B[1;32m~\\miniconda3\\envs\\IFN509\\Lib\\site-packages\\pandas\\core\\frame.py:1993\u001B[0m, in \u001B[0;36mDataFrame.to_numpy\u001B[1;34m(self, dtype, copy, na_value)\u001B[0m\n\u001B[0;32m   1991\u001B[0m \u001B[38;5;28;01mif\u001B[39;00m dtype \u001B[38;5;129;01mis\u001B[39;00m \u001B[38;5;129;01mnot\u001B[39;00m \u001B[38;5;28;01mNone\u001B[39;00m:\n\u001B[0;32m   1992\u001B[0m     dtype \u001B[38;5;241m=\u001B[39m np\u001B[38;5;241m.\u001B[39mdtype(dtype)\n\u001B[1;32m-> 1993\u001B[0m result \u001B[38;5;241m=\u001B[39m \u001B[38;5;28mself\u001B[39m\u001B[38;5;241m.\u001B[39m_mgr\u001B[38;5;241m.\u001B[39mas_array(dtype\u001B[38;5;241m=\u001B[39mdtype, copy\u001B[38;5;241m=\u001B[39mcopy, na_value\u001B[38;5;241m=\u001B[39mna_value)\n\u001B[0;32m   1994\u001B[0m \u001B[38;5;28;01mif\u001B[39;00m result\u001B[38;5;241m.\u001B[39mdtype \u001B[38;5;129;01mis\u001B[39;00m \u001B[38;5;129;01mnot\u001B[39;00m dtype:\n\u001B[0;32m   1995\u001B[0m     result \u001B[38;5;241m=\u001B[39m np\u001B[38;5;241m.\u001B[39masarray(result, dtype\u001B[38;5;241m=\u001B[39mdtype)\n",
      "File \u001B[1;32m~\\miniconda3\\envs\\IFN509\\Lib\\site-packages\\pandas\\core\\internals\\managers.py:1694\u001B[0m, in \u001B[0;36mBlockManager.as_array\u001B[1;34m(self, dtype, copy, na_value)\u001B[0m\n\u001B[0;32m   1692\u001B[0m         arr\u001B[38;5;241m.\u001B[39mflags\u001B[38;5;241m.\u001B[39mwriteable \u001B[38;5;241m=\u001B[39m \u001B[38;5;28;01mFalse\u001B[39;00m\n\u001B[0;32m   1693\u001B[0m \u001B[38;5;28;01melse\u001B[39;00m:\n\u001B[1;32m-> 1694\u001B[0m     arr \u001B[38;5;241m=\u001B[39m \u001B[38;5;28mself\u001B[39m\u001B[38;5;241m.\u001B[39m_interleave(dtype\u001B[38;5;241m=\u001B[39mdtype, na_value\u001B[38;5;241m=\u001B[39mna_value)\n\u001B[0;32m   1695\u001B[0m     \u001B[38;5;66;03m# The underlying data was copied within _interleave, so no need\u001B[39;00m\n\u001B[0;32m   1696\u001B[0m     \u001B[38;5;66;03m# to further copy if copy=True or setting na_value\u001B[39;00m\n\u001B[0;32m   1698\u001B[0m \u001B[38;5;28;01mif\u001B[39;00m na_value \u001B[38;5;129;01mis\u001B[39;00m lib\u001B[38;5;241m.\u001B[39mno_default:\n",
      "File \u001B[1;32m~\\miniconda3\\envs\\IFN509\\Lib\\site-packages\\pandas\\core\\internals\\managers.py:1747\u001B[0m, in \u001B[0;36mBlockManager._interleave\u001B[1;34m(self, dtype, na_value)\u001B[0m\n\u001B[0;32m   1741\u001B[0m rl \u001B[38;5;241m=\u001B[39m blk\u001B[38;5;241m.\u001B[39mmgr_locs\n\u001B[0;32m   1742\u001B[0m \u001B[38;5;28;01mif\u001B[39;00m blk\u001B[38;5;241m.\u001B[39mis_extension:\n\u001B[0;32m   1743\u001B[0m     \u001B[38;5;66;03m# Avoid implicit conversion of extension blocks to object\u001B[39;00m\n\u001B[0;32m   1744\u001B[0m \n\u001B[0;32m   1745\u001B[0m     \u001B[38;5;66;03m# error: Item \"ndarray\" of \"Union[ndarray, ExtensionArray]\" has no\u001B[39;00m\n\u001B[0;32m   1746\u001B[0m     \u001B[38;5;66;03m# attribute \"to_numpy\"\u001B[39;00m\n\u001B[1;32m-> 1747\u001B[0m     arr \u001B[38;5;241m=\u001B[39m blk\u001B[38;5;241m.\u001B[39mvalues\u001B[38;5;241m.\u001B[39mto_numpy(  \u001B[38;5;66;03m# type: ignore[union-attr]\u001B[39;00m\n\u001B[0;32m   1748\u001B[0m         dtype\u001B[38;5;241m=\u001B[39mdtype,\n\u001B[0;32m   1749\u001B[0m         na_value\u001B[38;5;241m=\u001B[39mna_value,\n\u001B[0;32m   1750\u001B[0m     )\n\u001B[0;32m   1751\u001B[0m \u001B[38;5;28;01melse\u001B[39;00m:\n\u001B[0;32m   1752\u001B[0m     arr \u001B[38;5;241m=\u001B[39m blk\u001B[38;5;241m.\u001B[39mget_values(dtype)\n",
      "File \u001B[1;32m~\\miniconda3\\envs\\IFN509\\Lib\\site-packages\\pandas\\core\\arrays\\numpy_.py:505\u001B[0m, in \u001B[0;36mNumpyExtensionArray.to_numpy\u001B[1;34m(self, dtype, copy, na_value)\u001B[0m\n\u001B[0;32m    502\u001B[0m \u001B[38;5;28;01melse\u001B[39;00m:\n\u001B[0;32m    503\u001B[0m     result \u001B[38;5;241m=\u001B[39m \u001B[38;5;28mself\u001B[39m\u001B[38;5;241m.\u001B[39m_ndarray\n\u001B[1;32m--> 505\u001B[0m result \u001B[38;5;241m=\u001B[39m np\u001B[38;5;241m.\u001B[39masarray(result, dtype\u001B[38;5;241m=\u001B[39mdtype)\n\u001B[0;32m    507\u001B[0m \u001B[38;5;28;01mif\u001B[39;00m copy \u001B[38;5;129;01mand\u001B[39;00m result \u001B[38;5;129;01mis\u001B[39;00m \u001B[38;5;28mself\u001B[39m\u001B[38;5;241m.\u001B[39m_ndarray:\n\u001B[0;32m    508\u001B[0m     result \u001B[38;5;241m=\u001B[39m result\u001B[38;5;241m.\u001B[39mcopy()\n",
      "\u001B[1;31mValueError\u001B[0m: could not convert string to float: '>300'"
     ]
    }
   ],
   "execution_count": 255
  },
  {
   "cell_type": "code",
   "id": "17e189dd1e45ce77",
   "metadata": {
    "ExecuteTime": {
     "end_time": "2024-10-15T01:19:47.565456Z",
     "start_time": "2024-10-15T01:19:47.546572Z"
    }
   },
   "source": [
    "plt.figure(figsize=(14, 10))\n",
    "sns.heatmap(correlation_matrix, annot=True, fmt=\".2f\", cmap='RdYlGn_r', linewidths=0.5)"
   ],
   "outputs": [
    {
     "ename": "NameError",
     "evalue": "name 'correlation_matrix' is not defined",
     "output_type": "error",
     "traceback": [
      "\u001B[1;31m---------------------------------------------------------------------------\u001B[0m",
      "\u001B[1;31mNameError\u001B[0m                                 Traceback (most recent call last)",
      "Cell \u001B[1;32mIn[256], line 2\u001B[0m\n\u001B[0;32m      1\u001B[0m plt\u001B[38;5;241m.\u001B[39mfigure(figsize\u001B[38;5;241m=\u001B[39m(\u001B[38;5;241m14\u001B[39m, \u001B[38;5;241m10\u001B[39m))\n\u001B[1;32m----> 2\u001B[0m sns\u001B[38;5;241m.\u001B[39mheatmap(correlation_matrix, annot\u001B[38;5;241m=\u001B[39m\u001B[38;5;28;01mTrue\u001B[39;00m, fmt\u001B[38;5;241m=\u001B[39m\u001B[38;5;124m\"\u001B[39m\u001B[38;5;124m.2f\u001B[39m\u001B[38;5;124m\"\u001B[39m, cmap\u001B[38;5;241m=\u001B[39m\u001B[38;5;124m'\u001B[39m\u001B[38;5;124mRdYlGn_r\u001B[39m\u001B[38;5;124m'\u001B[39m, linewidths\u001B[38;5;241m=\u001B[39m\u001B[38;5;241m0.5\u001B[39m)\n",
      "\u001B[1;31mNameError\u001B[0m: name 'correlation_matrix' is not defined"
     ]
    },
    {
     "data": {
      "text/plain": [
       "<Figure size 1400x1000 with 0 Axes>"
      ]
     },
     "metadata": {},
     "output_type": "display_data"
    }
   ],
   "execution_count": 256
  },
  {
   "cell_type": "code",
   "id": "590f370e191ac0d2",
   "metadata": {
    "ExecuteTime": {
     "end_time": "2024-10-15T01:19:47.826Z",
     "start_time": "2024-10-15T01:19:47.820349Z"
    }
   },
   "source": [
    "d1.readmitted.value_counts(dropna=False, normalize=True)"
   ],
   "outputs": [
    {
     "data": {
      "text/plain": [
       "readmitted\n",
       "NaN   1.00\n",
       "Name: proportion, dtype: float64"
      ]
     },
     "execution_count": 257,
     "metadata": {},
     "output_type": "execute_result"
    }
   ],
   "execution_count": 257
  },
  {
   "cell_type": "code",
   "id": "62847ef715ca96ec",
   "metadata": {
    "ExecuteTime": {
     "end_time": "2024-10-15T01:19:48.031218Z",
     "start_time": "2024-10-15T01:19:48.027226Z"
    }
   },
   "source": [
    "d1.columns"
   ],
   "outputs": [
    {
     "data": {
      "text/plain": [
       "Index(['race', 'gender', 'age', 'admission_type_id',\n",
       "       'discharge_disposition_id', 'admission_source_id', 'time_in_hospital',\n",
       "       'medical_specialty', 'num_lab_procedures', 'num_procedures',\n",
       "       'num_medications', 'number_outpatient', 'number_emergency',\n",
       "       'number_inpatient', 'number_diagnoses', 'max_glu_serum', 'A1Cresult',\n",
       "       'metformin', 'repaglinide', 'nateglinide', 'chlorpropamide',\n",
       "       'glimepiride', 'acetohexamide', 'glipizide', 'glyburide', 'tolbutamide',\n",
       "       'insulin', 'change', 'diabetesMed', 'readmitted', 'admission_type',\n",
       "       'discharge_disposition', 'admission_source', 'sum_drug_changes'],\n",
       "      dtype='object')"
      ]
     },
     "execution_count": 258,
     "metadata": {},
     "output_type": "execute_result"
    }
   ],
   "execution_count": 258
  },
  {
   "cell_type": "code",
   "id": "6243ede7c3439970",
   "metadata": {
    "ExecuteTime": {
     "end_time": "2024-10-15T01:19:48.367387Z",
     "start_time": "2024-10-15T01:19:48.202332Z"
    }
   },
   "source": "d1.to_csv('diabetes_data_cleaned.csv', index=False)",
   "outputs": [],
   "execution_count": 259
  },
  {
   "metadata": {
    "ExecuteTime": {
     "end_time": "2024-10-15T01:19:48.375127Z",
     "start_time": "2024-10-15T01:19:48.372391Z"
    }
   },
   "cell_type": "code",
   "source": "",
   "id": "93e2698a1e1c6340",
   "outputs": [],
   "execution_count": 259
  }
 ],
 "metadata": {
  "kernelspec": {
   "display_name": "Python 3 (ipykernel)",
   "language": "python",
   "name": "python3"
  },
  "language_info": {
   "codemirror_mode": {
    "name": "ipython",
    "version": 3
   },
   "file_extension": ".py",
   "mimetype": "text/x-python",
   "name": "python",
   "nbconvert_exporter": "python",
   "pygments_lexer": "ipython3",
   "version": "3.11.9"
  }
 },
 "nbformat": 4,
 "nbformat_minor": 5
}
